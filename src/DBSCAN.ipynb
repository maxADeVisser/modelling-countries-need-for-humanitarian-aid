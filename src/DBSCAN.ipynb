{
 "cells": [
  {
   "cell_type": "code",
   "execution_count": 18,
   "metadata": {},
   "outputs": [
    {
     "data": {
      "image/png": "[encoded data removed]",
      "text/plain": [
       "<Figure size 600x500 with 1 Axes>"
      ]
     },
     "metadata": {},
     "output_type": "display_data"
    }
   ],
   "source": [
    "import pandas as pd  \n",
    "import matplotlib.pyplot as plt\n",
    "import seaborn as sns\n",
    "import numpy as np\n",
    "from scripts import *\n",
    "from sklearn.neighbors import NearestNeighbors\n",
    "from sklearn.cluster import DBSCAN\n",
    " \n",
    "pd.set_option('display.max_columns', None) # display all columns\n",
    "pd.set_option(\"max_colwidth\", 40) # sets a maximum column width\n",
    "pd.set_option(\"display.precision\", 7) # sets the number of decimals shown\n",
    "# pd.set_option(\"styler.format.precision\", 3) # rounds floats\n",
    "\n",
    "raw_df = pd.read_csv('../data/country-data.csv')\n",
    "numerical_features = raw_df.columns[1:]\n",
    "countries = raw_df['country']\n",
    "\n",
    "countries, df_pca, explained_variance = pre_process_data(raw_df, \n",
    "                                                         scaler = 'minmax', \n",
    "                                                         pca = True,\n",
    "                                                         biplot = False, \n",
    "                                                         plot_scree_plot = True, \n",
    "                                                         pca_components = 3)"
   ]
  },
  {
   "cell_type": "code",
   "execution_count": 20,
   "metadata": {},
   "outputs": [
    {
     "data": {
      "application/vnd.plotly.v1+json": {
       "config": {
        "plotlyServerURL": "https://plot.ly"
       },
       "data": [
        {
         "hovertemplate": "<b>%{hovertext}</b><br><br>PC1=%{x}<br>PC3=%{y}<br>cluster=%{marker.color}<extra></extra>",
         "hovertext": [
          "Afghanistan",
          "Albania",
          "Algeria",
          "Angola",
          "Antigua and Barbuda",
          "Argentina",
          "Armenia",
          "Australia",
          "Austria",
          "Azerbaijan",
          "Bahamas",
          "Bahrain",
          "Bangladesh",
          "Barbados",
          "Belarus",
          "Belgium",
          "Belize",
          "Benin",
          "Bhutan",
          "Bolivia",
          "Bosnia and Herzegovina",
          "Botswana",
          "Brazil",
          "Brunei",
          "Bulgaria",
          "Burkina Faso",
          "Burundi",
          "Cambodia",
          "Cameroon",
          "Canada",
          "Cape Verde",
          "Central African Republic",
          "Chad",
          "Chile",
          "China",
          "Colombia",
          "Comoros",
          "Congo, Dem. Rep.",
          "Congo, Rep.",
          "Costa Rica",
          "Cote d'Ivoire",
          "Croatia",
          "Cyprus",
          "Czech Republic",
          "Denmark",
          "Dominican Republic",
          "Ecuador",
          "Egypt",
          "El Salvador",
          "Equatorial Guinea",
          "Eritrea",
          "Estonia",
          "Fiji",
          "Finland",
          "France",
          "Gabon",
          "Gambia",
          "Georgia",
          "Germany",
          "Ghana",
          "Greece",
          "Grenada",
          "Guatemala",
          "Guinea",
          "Guinea-Bissau",
          "Guyana",
          "Haiti",
          "Hungary",
          "Iceland",
          "India",
          "Indonesia",
          "Iran",
          "Iraq",
          "Ireland",
          "Israel",
          "Italy",
          "Jamaica",
          "Japan",
          "Jordan",
          "Kazakhstan",
          "Kenya",
          "Kiribati",
          "Kuwait",
          "Kyrgyz Republic",
          "Lao",
          "Latvia",
          "Lebanon",
          "Lesotho",
          "Liberia",
          "Libya",
          "Lithuania",
          "Luxembourg",
          "Macedonia, FYR",
          "Madagascar",
          "Malawi",
          "Malaysia",
          "Maldives",
          "Mali",
          "Malta",
          "Mauritania",
          "Mauritius",
          "Micronesia, Fed. Sts.",
          "Moldova",
          "Mongolia",
          "Montenegro",
          "Morocco",
          "Mozambique",
          "Myanmar",
          "Namibia",
          "Nepal",
          "Netherlands",
          "New Zealand",
          "Niger",
          "Nigeria",
          "Norway",
          "Oman",
          "Pakistan",
          "Panama",
          "Paraguay",
          "Peru",
          "Philippines",
          "Poland",
          "Portugal",
          "Qatar",
          "Romania",
          "Russia",
          "Rwanda",
          "Samoa",
          "Saudi Arabia",
          "Senegal",
          "Serbia",
          "Seychelles",
          "Sierra Leone",
          "Singapore",
          "Slovak Republic",
          "Slovenia",
          "Solomon Islands",
          "South Africa",
          "South Korea",
          "Spain",
          "Sri Lanka",
          "St. Vincent and the Grenadines",
          "Sudan",
          "Suriname",
          "Sweden",
          "Switzerland",
          "Tajikistan",
          "Tanzania",
          "Thailand",
          "Timor-Leste",
          "Togo",
          "Tonga",
          "Tunisia",
          "Turkey",
          "Turkmenistan",
          "Uganda",
          "Ukraine",
          "United Arab Emirates",
          "United Kingdom",
          "United States",
          "Uruguay",
          "Uzbekistan",
          "Vanuatu",
          "Venezuela",
          "Vietnam",
          "Yemen",
          "Zambia"
         ],
         "legendgroup": "",
         "marker": {
          "color": [
           0,
           0,
           0,
           -1,
           0,
           0,
           0,
           1,
           1,
           0,
           0,
           0,
           0,
           0,
           0,
           -1,
           0,
           0,
           0,
           0,
           0,
           0,
           0,
           -1,
           0,
           0,
           -1,
           0,
           0,
           1,
           0,
           2,
           2,
           0,
           0,
           0,
           0,
           2,
           -1,
           0,
           0,
           0,
           0,
           0,
           1,
           0,
           0,
           0,
           0,
           -1,
           0,
           0,
           0,
           1,
           1,
           0,
           0,
           0,
           1,
           0,
           1,
           0,
           0,
           0,
           0,
           0,
           2,
           0,
           1,
           0,
           0,
           0,
           0,
           -1,
           0,
           1,
           0,
           1,
           0,
           0,
           0,
           -1,
           -1,
           0,
           0,
           0,
           0,
           0,
           -1,
           0,
           0,
           -1,
           0,
           0,
           0,
           0,
           0,
           2,
           -1,
           -1,
           0,
           -1,
           0,
           0,
           0,
           0,
           0,
           0,
           0,
           0,
           1,
           1,
           2,
           0,
           -1,
           0,
           0,
           0,
           0,
           0,
           0,
           0,
           1,
           -1,
           0,
           0,
           -1,
           0,
           0,
           0,
           0,
           -1,
           -1,
           -1,
           0,
           0,
           0,
           0,
           0,
           1,
           0,
           0,
           0,
           0,
           1,
           -1,
           0,
           0,
           0,
           -1,
           0,
           0,
           0,
           0,
           0,
           0,
           0,
           -1,
           1,
           -1,
           0,
           0,
           0,
           0,
           0,
           0,
           0
          ],
          "coloraxis": "coloraxis",
          "symbol": "circle"
         },
         "mode": "markers",
         "name": "",
         "orientation": "v",
         "showlegend": false,
         "type": "scatter",
         "x": [
          -0.599077640893392,
          0.15847429673261326,
          0.0036855177352031546,
          -0.6502349912467081,
          0.2007112426159628,
          0.11253400135451533,
          0.0874861233299794,
          0.4407835862385438,
          0.5205263926665186,
          0.038809145454632474,
          0.2533050412996837,
          0.2800487536378106,
          -0.10721303971102705,
          0.23240595477558437,
          0.18238382723518137,
          0.49552528689341724,
          0.03439589776107492,
          -0.5721153282550092,
          -0.007218397155775274,
          -0.12086722580429864,
          0.2599988414217383,
          -0.1537206138089997,
          0.13962489412562157,
          0.42041601787540894,
          0.20775215796331273,
          -0.6538925108450018,
          -0.6097543899838294,
          -0.1091355979386027,
          -0.5745202803834537,
          0.47654775027969154,
          -0.00755443297336144,
          -0.785831664481772,
          -0.8034838893582711,
          0.23936517643219535,
          0.12443896375920942,
          0.11600645235384678,
          -0.429680592897202,
          -0.6939619357067802,
          -0.3921384313651637,
          0.23640676125592816,
          -0.5739691560831598,
          0.26501444323551504,
          0.4048801378198108,
          0.3626856019519436,
          0.5105399799986363,
          0.009573694302030731,
          0.05395995149678731,
          -0.0986543110866529,
          0.07092179321796024,
          -0.387988396154401,
          -0.42124556726533624,
          0.29067168111833264,
          -0.031107783787834842,
          0.437760202105635,
          0.41641464151826457,
          -0.2761303010673889,
          -0.4897316895219251,
          0.12798263729298606,
          0.49096510196033816,
          -0.3760888557221316,
          0.37809965319758554,
          0.0764414986002061,
          -0.10013496920566023,
          -0.5962174429893379,
          -0.5779248168494963,
          -0.059872865926018176,
          -0.8363862705231494,
          0.3309635777501881,
          0.4240775777017765,
          -0.17037830303188467,
          -0.0720036204663898,
          0.11973000346143768,
          -0.20952202578426685,
          0.5274460071080211,
          0.248233055696994,
          0.4325744825044993,
          0.07650104644178078,
          0.4633584620428896,
          -0.003560026446418148,
          0.01119959532095218,
          -0.35904273531133574,
          -0.2596553927519397,
          0.3957758163902334,
          -0.06689228935256035,
          -0.2635517224628559,
          0.25274437574135655,
          0.256384872299577,
          -0.3857155015584068,
          -0.4212670584114021,
          0.16163536885430832,
          0.2700386913197652,
          0.9412939924726451,
          0.19607231760085755,
          -0.4063568179312002,
          -0.5854689657395731,
          0.2027980159087453,
          0.18814022366874375,
          -0.7560836209347951,
          0.5147457120770221,
          -0.4260122796391238,
          0.19700164353745986,
          -0.09390392690392121,
          0.174820994206852,
          -0.06437252358612189,
          0.2275715304644921,
          -0.007829789180748014,
          -0.6162775735223198,
          -0.2117298849563045,
          -0.23024123155896917,
          -0.13663045679082597,
          0.5394099826515575,
          0.347166478655184,
          -0.8088184692474698,
          -0.7407228826991709,
          0.62474828270234,
          0.1801426090382313,
          -0.3973298833393518,
          0.16685378525522016,
          0.033739648988346166,
          0.06103863446371324,
          -0.11467801783145012,
          0.2785837877848748,
          0.37896253067980545,
          0.6386728672340583,
          0.1789618640065628,
          0.1439296848008897,
          -0.32574345563428286,
          -0.13750602491724206,
          0.1511910084961846,
          -0.4080563416353285,
          0.23444950847699872,
          0.20499346713000124,
          -0.676021988091447,
          0.7668282160875248,
          0.34875375900775796,
          0.3978660221374691,
          -0.203551497042937,
          -0.17039397451706384,
          0.38683718231213166,
          0.41748839329320825,
          0.03586661233015061,
          0.06481523981896563,
          -0.4154588211655208,
          0.05478632945158537,
          0.48006929261333364,
          0.664756188479567,
          -0.1955356650101127,
          -0.5070289186149549,
          0.20256840955468988,
          -0.45369893973635805,
          -0.45534359491453047,
          -0.13345911250920817,
          0.13881161533109557,
          0.14686767405707782,
          -0.11434334945248635,
          -0.5931654277624745,
          0.15093361076806278,
          0.3951364032922985,
          0.3908949123765816,
          0.4836120747474234,
          0.17969874017239815,
          -0.05658193011274115,
          -0.16007838094623023,
          0.06113318568400306,
          0.115512278006558,
          -0.3329682454570162,
          -0.5738966875202651
         ],
         "xaxis": "x",
         "y": [
          0.15755380875668878,
          -0.06418900181211148,
          -0.13418203164386888,
          -0.14267249313038272,
          -0.10071548869889764,
          0.1189418093846684,
          -0.15356622668418507,
          0.26919877426556305,
          0.24351973265735605,
          -0.07862790089153292,
          0.08019007956722621,
          -0.1512638398815153,
          -0.12289117629530635,
          0.02500207939738368,
          -0.1904068975197653,
          0.13560605134912354,
          -0.17336680640886656,
          -0.021577412258330392,
          -0.17276864261686042,
          -0.10254255555339388,
          0.1379302339417807,
          0.04029735422254943,
          0.18004357815716718,
          -0.1585580718688617,
          -0.09221132667167693,
          0.14094936376409933,
          0.3760401676248103,
          -0.14367346126079905,
          0.041858607749797806,
          0.33576263282712754,
          -0.18599421871760544,
          0.02478396467584719,
          0.012611871638339876,
          0.04731193476678198,
          -0.09000889934616017,
          0.08177126457706582,
          -0.04168589218929514,
          0.13008407775187134,
          -0.2886890316249397,
          0.17842177411326204,
          -0.030104344965409043,
          0.021306077048369794,
          -0.0699331300157696,
          -0.049144784931793466,
          0.31544586561670057,
          -0.004474581985713232,
          0.06943505988835695,
          -0.06439253314792708,
          -0.026767993661254624,
          -0.11312680175481438,
          -0.08477023310560092,
          -0.18094486794389233,
          -0.20367561283683405,
          0.19410305032586397,
          0.36360020636273094,
          -0.12046673346586931,
          0.03892638000455218,
          0.0869567260464833,
          0.2908460267786553,
          -0.047071077926315576,
          0.23023712561795828,
          -0.0635325539994939,
          0.02634973726913397,
          -0.015190365195746137,
          0.2031070171566742,
          -0.1897318615625843,
          0.06749486170153406,
          -0.16186452317845115,
          0.17024147179294807,
          -0.10602110476606648,
          -0.18221110005921534,
          -0.04311966102165775,
          0.11424271286628244,
          0.012797005658740715,
          0.12554469906551505,
          0.22316487848595598,
          -0.14423263091654728,
          0.28933514057104226,
          -0.01294997971527544,
          -0.13335758435120748,
          -0.02822876739099169,
          0.2106726962110439,
          -0.15166542826031063,
          -0.15710291485008698,
          -0.1256531675816999,
          -0.1034709046184339,
          -0.060083132199747306,
          0.11218165655492399,
          0.2409548108984619,
          -0.20579056275884522,
          -0.12472812078561164,
          -0.11754276250605282,
          -0.08244769536502419,
          -0.10035153645746486,
          0.08544699202130002,
          -0.29455595740756296,
          -0.17638282729683266,
          0.06995900145738515,
          -0.34125534110564226,
          -0.12431753152327077,
          -0.14674340447493847,
          0.3126875086882659,
          0.08687887766228328,
          -0.16217221081774996,
          0.028056889797981082,
          -0.09859982699992463,
          -0.003888612377723464,
          -0.11894776221486995,
          -0.03960884795687634,
          -0.05039773321985084,
          0.2404171471500556,
          0.2498874121472118,
          0.07381980501387891,
          0.03151574734493243,
          0.36821756695397917,
          -0.21806407264378627,
          -0.11619554276036319,
          -0.07815465358804684,
          -0.12697475617499043,
          -0.06334917550054896,
          -0.15952853259000152,
          -0.010904944827085728,
          0.22096529539510143,
          -0.05238759827340909,
          -0.09072882262736158,
          -0.07496297614495885,
          0.27719480835259075,
          -0.006618408438185687,
          -0.09581057871288434,
          0.017638061887774472,
          0.10771810998284373,
          -0.4062296813415437,
          0.4425666692378071,
          -0.6016968545344257,
          -0.06391599881815613,
          0.04102159088193264,
          -0.004575235731484572,
          0.13784952660875138,
          -0.03525456209898649,
          0.20419030435334937,
          -0.18720404028263568,
          -0.1587205251653972,
          0.09301287251213856,
          -0.03186980618424741,
          0.22882072191358538,
          0.3249174037869765,
          -0.03444314933625741,
          0.07338396401068156,
          -0.28882939461127743,
          0.2777201881484144,
          0.05854853958345101,
          -0.06816898960912807,
          -0.12157826070879828,
          0.038046184248675535,
          -0.29269578598269663,
          0.24573722661139497,
          -0.0672556980886212,
          -0.21230773055550572,
          0.23793784808247376,
          0.7328871925888819,
          0.10274376550103131,
          -0.06239806228759794,
          -0.12190951118482102,
          -0.05858604147584398,
          -0.19524300706979364,
          -0.029989028279535278,
          0.032552320344114
         ],
         "yaxis": "y"
        }
       ],
       "layout": {
        "coloraxis": {
         "colorbar": {
          "title": {
           "text": "cluster"
          }
         },
         "colorscale": [
          [
           0,
           "#0d0887"
          ],
          [
           0.1111111111111111,
           "#46039f"
          ],
          [
           0.2222222222222222,
           "#7201a8"
          ],
          [
           0.3333333333333333,
           "#9c179e"
          ],
          [
           0.4444444444444444,
           "#bd3786"
          ],
          [
           0.5555555555555556,
           "#d8576b"
          ],
          [
           0.6666666666666666,
           "#ed7953"
          ],
          [
           0.7777777777777778,
           "#fb9f3a"
          ],
          [
           0.8888888888888888,
           "#fdca26"
          ],
          [
           1,
           "#f0f921"
          ]
         ]
        },
        "height": 500,
        "legend": {
         "tracegroupgap": 0
        },
        "margin": {
         "t": 60
        },
        "template": {
         "data": {
          "bar": [
           {
            "error_x": {
             "color": "#2a3f5f"
            },
            "error_y": {
             "color": "#2a3f5f"
            },
            "marker": {
             "line": {
              "color": "#E5ECF6",
              "width": 0.5
             },
             "pattern": {
              "fillmode": "overlay",
              "size": 10,
              "solidity": 0.2
             }
            },
            "type": "bar"
           }
          ],
          "barpolar": [
           {
            "marker": {
             "line": {
              "color": "#E5ECF6",
              "width": 0.5
             },
             "pattern": {
              "fillmode": "overlay",
              "size": 10,
              "solidity": 0.2
             }
            },
            "type": "barpolar"
           }
          ],
          "carpet": [
           {
            "aaxis": {
             "endlinecolor": "#2a3f5f",
             "gridcolor": "white",
             "linecolor": "white",
             "minorgridcolor": "white",
             "startlinecolor": "#2a3f5f"
            },
            "baxis": {
             "endlinecolor": "#2a3f5f",
             "gridcolor": "white",
             "linecolor": "white",
             "minorgridcolor": "white",
             "startlinecolor": "#2a3f5f"
            },
            "type": "carpet"
           }
          ],
          "choropleth": [
           {
            "colorbar": {
             "outlinewidth": 0,
             "ticks": ""
            },
            "type": "choropleth"
           }
          ],
          "contour": [
           {
            "colorbar": {
             "outlinewidth": 0,
             "ticks": ""
            },
            "colorscale": [
             [
              0,
              "#0d0887"
             ],
             [
              0.1111111111111111,
              "#46039f"
             ],
             [
              0.2222222222222222,
              "#7201a8"
             ],
             [
              0.3333333333333333,
              "#9c179e"
             ],
             [
              0.4444444444444444,
              "#bd3786"
             ],
             [
              0.5555555555555556,
              "#d8576b"
             ],
             [
              0.6666666666666666,
              "#ed7953"
             ],
             [
              0.7777777777777778,
              "#fb9f3a"
             ],
             [
              0.8888888888888888,
              "#fdca26"
             ],
             [
              1,
              "#f0f921"
             ]
            ],
            "type": "contour"
           }
          ],
          "contourcarpet": [
           {
            "colorbar": {
             "outlinewidth": 0,
             "ticks": ""
            },
            "type": "contourcarpet"
           }
          ],
          "heatmap": [
           {
            "colorbar": {
             "outlinewidth": 0,
             "ticks": ""
            },
            "colorscale": [
             [
              0,
              "#0d0887"
             ],
             [
              0.1111111111111111,
              "#46039f"
             ],
             [
              0.2222222222222222,
              "#7201a8"
             ],
             [
              0.3333333333333333,
              "#9c179e"
             ],
             [
              0.4444444444444444,
              "#bd3786"
             ],
             [
              0.5555555555555556,
              "#d8576b"
             ],
             [
              0.6666666666666666,
              "#ed7953"
             ],
             [
              0.7777777777777778,
              "#fb9f3a"
             ],
             [
              0.8888888888888888,
              "#fdca26"
             ],
             [
              1,
              "#f0f921"
             ]
            ],
            "type": "heatmap"
           }
          ],
          "heatmapgl": [
           {
            "colorbar": {
             "outlinewidth": 0,
             "ticks": ""
            },
            "colorscale": [
             [
              0,
              "#0d0887"
             ],
             [
              0.1111111111111111,
              "#46039f"
             ],
             [
              0.2222222222222222,
              "#7201a8"
             ],
             [
              0.3333333333333333,
              "#9c179e"
             ],
             [
              0.4444444444444444,
              "#bd3786"
             ],
             [
              0.5555555555555556,
              "#d8576b"
             ],
             [
              0.6666666666666666,
              "#ed7953"
             ],
             [
              0.7777777777777778,
              "#fb9f3a"
             ],
             [
              0.8888888888888888,
              "#fdca26"
             ],
             [
              1,
              "#f0f921"
             ]
            ],
            "type": "heatmapgl"
           }
          ],
          "histogram": [
           {
            "marker": {
             "pattern": {
              "fillmode": "overlay",
              "size": 10,
              "solidity": 0.2
             }
            },
            "type": "histogram"
           }
          ],
          "histogram2d": [
           {
            "colorbar": {
             "outlinewidth": 0,
             "ticks": ""
            },
            "colorscale": [
             [
              0,
              "#0d0887"
             ],
             [
              0.1111111111111111,
              "#46039f"
             ],
             [
              0.2222222222222222,
              "#7201a8"
             ],
             [
              0.3333333333333333,
              "#9c179e"
             ],
             [
              0.4444444444444444,
              "#bd3786"
             ],
             [
              0.5555555555555556,
              "#d8576b"
             ],
             [
              0.6666666666666666,
              "#ed7953"
             ],
             [
              0.7777777777777778,
              "#fb9f3a"
             ],
             [
              0.8888888888888888,
              "#fdca26"
             ],
             [
              1,
              "#f0f921"
             ]
            ],
            "type": "histogram2d"
           }
          ],
          "histogram2dcontour": [
           {
            "colorbar": {
             "outlinewidth": 0,
             "ticks": ""
            },
            "colorscale": [
             [
              0,
              "#0d0887"
             ],
             [
              0.1111111111111111,
              "#46039f"
             ],
             [
              0.2222222222222222,
              "#7201a8"
             ],
             [
              0.3333333333333333,
              "#9c179e"
             ],
             [
              0.4444444444444444,
              "#bd3786"
             ],
             [
              0.5555555555555556,
              "#d8576b"
             ],
             [
              0.6666666666666666,
              "#ed7953"
             ],
             [
              0.7777777777777778,
              "#fb9f3a"
             ],
             [
              0.8888888888888888,
              "#fdca26"
             ],
             [
              1,
              "#f0f921"
             ]
            ],
            "type": "histogram2dcontour"
           }
          ],
          "mesh3d": [
           {
            "colorbar": {
             "outlinewidth": 0,
             "ticks": ""
            },
            "type": "mesh3d"
           }
          ],
          "parcoords": [
           {
            "line": {
             "colorbar": {
              "outlinewidth": 0,
              "ticks": ""
             }
            },
            "type": "parcoords"
           }
          ],
          "pie": [
           {
            "automargin": true,
            "type": "pie"
           }
          ],
          "scatter": [
           {
            "fillpattern": {
             "fillmode": "overlay",
             "size": 10,
             "solidity": 0.2
            },
            "type": "scatter"
           }
          ],
          "scatter3d": [
           {
            "line": {
             "colorbar": {
              "outlinewidth": 0,
              "ticks": ""
             }
            },
            "marker": {
             "colorbar": {
              "outlinewidth": 0,
              "ticks": ""
             }
            },
            "type": "scatter3d"
           }
          ],
          "scattercarpet": [
           {
            "marker": {
             "colorbar": {
              "outlinewidth": 0,
              "ticks": ""
             }
            },
            "type": "scattercarpet"
           }
          ],
          "scattergeo": [
           {
            "marker": {
             "colorbar": {
              "outlinewidth": 0,
              "ticks": ""
             }
            },
            "type": "scattergeo"
           }
          ],
          "scattergl": [
           {
            "marker": {
             "colorbar": {
              "outlinewidth": 0,
              "ticks": ""
             }
            },
            "type": "scattergl"
           }
          ],
          "scattermapbox": [
           {
            "marker": {
             "colorbar": {
              "outlinewidth": 0,
              "ticks": ""
             }
            },
            "type": "scattermapbox"
           }
          ],
          "scatterpolar": [
           {
            "marker": {
             "colorbar": {
              "outlinewidth": 0,
              "ticks": ""
             }
            },
            "type": "scatterpolar"
           }
          ],
          "scatterpolargl": [
           {
            "marker": {
             "colorbar": {
              "outlinewidth": 0,
              "ticks": ""
             }
            },
            "type": "scatterpolargl"
           }
          ],
          "scatterternary": [
           {
            "marker": {
             "colorbar": {
              "outlinewidth": 0,
              "ticks": ""
             }
            },
            "type": "scatterternary"
           }
          ],
          "surface": [
           {
            "colorbar": {
             "outlinewidth": 0,
             "ticks": ""
            },
            "colorscale": [
             [
              0,
              "#0d0887"
             ],
             [
              0.1111111111111111,
              "#46039f"
             ],
             [
              0.2222222222222222,
              "#7201a8"
             ],
             [
              0.3333333333333333,
              "#9c179e"
             ],
             [
              0.4444444444444444,
              "#bd3786"
             ],
             [
              0.5555555555555556,
              "#d8576b"
             ],
             [
              0.6666666666666666,
              "#ed7953"
             ],
             [
              0.7777777777777778,
              "#fb9f3a"
             ],
             [
              0.8888888888888888,
              "#fdca26"
             ],
             [
              1,
              "#f0f921"
             ]
            ],
            "type": "surface"
           }
          ],
          "table": [
           {
            "cells": {
             "fill": {
              "color": "#EBF0F8"
             },
             "line": {
              "color": "white"
             }
            },
            "header": {
             "fill": {
              "color": "#C8D4E3"
             },
             "line": {
              "color": "white"
             }
            },
            "type": "table"
           }
          ]
         },
         "layout": {
          "annotationdefaults": {
           "arrowcolor": "#2a3f5f",
           "arrowhead": 0,
           "arrowwidth": 1
          },
          "autotypenumbers": "strict",
          "coloraxis": {
           "colorbar": {
            "outlinewidth": 0,
            "ticks": ""
           }
          },
          "colorscale": {
           "diverging": [
            [
             0,
             "#8e0152"
            ],
            [
             0.1,
             "#c51b7d"
            ],
            [
             0.2,
             "#de77ae"
            ],
            [
             0.3,
             "#f1b6da"
            ],
            [
             0.4,
             "#fde0ef"
            ],
            [
             0.5,
             "#f7f7f7"
            ],
            [
             0.6,
             "#e6f5d0"
            ],
            [
             0.7,
             "#b8e186"
            ],
            [
             0.8,
             "#7fbc41"
            ],
            [
             0.9,
             "#4d9221"
            ],
            [
             1,
             "#276419"
            ]
           ],
           "sequential": [
            [
             0,
             "#0d0887"
            ],
            [
             0.1111111111111111,
             "#46039f"
            ],
            [
             0.2222222222222222,
             "#7201a8"
            ],
            [
             0.3333333333333333,
             "#9c179e"
            ],
            [
             0.4444444444444444,
             "#bd3786"
            ],
            [
             0.5555555555555556,
             "#d8576b"
            ],
            [
             0.6666666666666666,
             "#ed7953"
            ],
            [
             0.7777777777777778,
             "#fb9f3a"
            ],
            [
             0.8888888888888888,
             "#fdca26"
            ],
            [
             1,
             "#f0f921"
            ]
           ],
           "sequentialminus": [
            [
             0,
             "#0d0887"
            ],
            [
             0.1111111111111111,
             "#46039f"
            ],
            [
             0.2222222222222222,
             "#7201a8"
            ],
            [
             0.3333333333333333,
             "#9c179e"
            ],
            [
             0.4444444444444444,
             "#bd3786"
            ],
            [
             0.5555555555555556,
             "#d8576b"
            ],
            [
             0.6666666666666666,
             "#ed7953"
            ],
            [
             0.7777777777777778,
             "#fb9f3a"
            ],
            [
             0.8888888888888888,
             "#fdca26"
            ],
            [
             1,
             "#f0f921"
            ]
           ]
          },
          "colorway": [
           "#636efa",
           "#EF553B",
           "#00cc96",
           "#ab63fa",
           "#FFA15A",
           "#19d3f3",
           "#FF6692",
           "#B6E880",
           "#FF97FF",
           "#FECB52"
          ],
          "font": {
           "color": "#2a3f5f"
          },
          "geo": {
           "bgcolor": "white",
           "lakecolor": "white",
           "landcolor": "#E5ECF6",
           "showlakes": true,
           "showland": true,
           "subunitcolor": "white"
          },
          "hoverlabel": {
           "align": "left"
          },
          "hovermode": "closest",
          "mapbox": {
           "style": "light"
          },
          "paper_bgcolor": "white",
          "plot_bgcolor": "#E5ECF6",
          "polar": {
           "angularaxis": {
            "gridcolor": "white",
            "linecolor": "white",
            "ticks": ""
           },
           "bgcolor": "#E5ECF6",
           "radialaxis": {
            "gridcolor": "white",
            "linecolor": "white",
            "ticks": ""
           }
          },
          "scene": {
           "xaxis": {
            "backgroundcolor": "#E5ECF6",
            "gridcolor": "white",
            "gridwidth": 2,
            "linecolor": "white",
            "showbackground": true,
            "ticks": "",
            "zerolinecolor": "white"
           },
           "yaxis": {
            "backgroundcolor": "#E5ECF6",
            "gridcolor": "white",
            "gridwidth": 2,
            "linecolor": "white",
            "showbackground": true,
            "ticks": "",
            "zerolinecolor": "white"
           },
           "zaxis": {
            "backgroundcolor": "#E5ECF6",
            "gridcolor": "white",
            "gridwidth": 2,
            "linecolor": "white",
            "showbackground": true,
            "ticks": "",
            "zerolinecolor": "white"
           }
          },
          "shapedefaults": {
           "line": {
            "color": "#2a3f5f"
           }
          },
          "ternary": {
           "aaxis": {
            "gridcolor": "white",
            "linecolor": "white",
            "ticks": ""
           },
           "baxis": {
            "gridcolor": "white",
            "linecolor": "white",
            "ticks": ""
           },
           "bgcolor": "#E5ECF6",
           "caxis": {
            "gridcolor": "white",
            "linecolor": "white",
            "ticks": ""
           }
          },
          "title": {
           "x": 0.05
          },
          "xaxis": {
           "automargin": true,
           "gridcolor": "white",
           "linecolor": "white",
           "ticks": "",
           "title": {
            "standoff": 15
           },
           "zerolinecolor": "white",
           "zerolinewidth": 2
          },
          "yaxis": {
           "automargin": true,
           "gridcolor": "white",
           "linecolor": "white",
           "ticks": "",
           "title": {
            "standoff": 15
           },
           "zerolinecolor": "white",
           "zerolinewidth": 2
          }
         }
        },
        "width": 600,
        "xaxis": {
         "anchor": "y",
         "domain": [
          0,
          1
         ],
         "title": {
          "text": "PC1"
         }
        },
        "yaxis": {
         "anchor": "x",
         "domain": [
          0,
          1
         ],
         "title": {
          "text": "PC3"
         }
        }
       }
      }
     },
     "metadata": {},
     "output_type": "display_data"
    },
    {
     "name": "stderr",
     "output_type": "stream",
     "text": [
      "/Users/maxvisser/Documents/ITU/statistics_multivariate_calculus/modelling-countries-need-for-humanitarian-aid/src/scripts.py:178: FutureWarning:\n",
      "\n",
      "The default value of numeric_only in DataFrameGroupBy.mean is deprecated. In a future version, numeric_only will default to False. Either specify numeric_only or select only columns which should be valid for the function.\n",
      "\n"
     ]
    },
    {
     "data": {
      "text/html": [
       "<div>\n",
       "<style scoped>\n",
       "    .dataframe tbody tr th:only-of-type {\n",
       "        vertical-align: middle;\n",
       "    }\n",
       "\n",
       "    .dataframe tbody tr th {\n",
       "        vertical-align: top;\n",
       "    }\n",
       "\n",
       "    .dataframe thead th {\n",
       "        text-align: right;\n",
       "    }\n",
       "</style>\n",
       "<table border=\"1\" class=\"dataframe\">\n",
       "  <thead>\n",
       "    <tr style=\"text-align: right;\">\n",
       "      <th></th>\n",
       "      <th>child_mort</th>\n",
       "      <th>exports</th>\n",
       "      <th>health</th>\n",
       "      <th>imports</th>\n",
       "      <th>income</th>\n",
       "      <th>inflation</th>\n",
       "      <th>life_expec</th>\n",
       "      <th>total_fer</th>\n",
       "      <th>gdpp</th>\n",
       "    </tr>\n",
       "    <tr>\n",
       "      <th>cluster</th>\n",
       "      <th></th>\n",
       "      <th></th>\n",
       "      <th></th>\n",
       "      <th></th>\n",
       "      <th></th>\n",
       "      <th></th>\n",
       "      <th></th>\n",
       "      <th></th>\n",
       "      <th></th>\n",
       "    </tr>\n",
       "  </thead>\n",
       "  <tbody>\n",
       "    <tr>\n",
       "      <th>-1</th>\n",
       "      <td>43.8541667</td>\n",
       "      <td>65.4633333</td>\n",
       "      <td>7.8879167</td>\n",
       "      <td>66.0541667</td>\n",
       "      <td>35998.5000000</td>\n",
       "      <td>8.8758750</td>\n",
       "      <td>71.5083333</td>\n",
       "      <td>3.3095833</td>\n",
       "      <td>29189.1666667</td>\n",
       "    </tr>\n",
       "    <tr>\n",
       "      <th>0</th>\n",
       "      <td>36.5425000</td>\n",
       "      <td>37.8148250</td>\n",
       "      <td>6.1669167</td>\n",
       "      <td>44.9072158</td>\n",
       "      <td>11242.4000000</td>\n",
       "      <td>8.5182417</td>\n",
       "      <td>69.8158333</td>\n",
       "      <td>2.8988333</td>\n",
       "      <td>6258.1583333</td>\n",
       "    </tr>\n",
       "    <tr>\n",
       "      <th>1</th>\n",
       "      <td>4.1470588</td>\n",
       "      <td>35.6647059</td>\n",
       "      <td>10.3182353</td>\n",
       "      <td>34.5882353</td>\n",
       "      <td>37794.1176471</td>\n",
       "      <td>1.3403529</td>\n",
       "      <td>80.9882353</td>\n",
       "      <td>1.7241176</td>\n",
       "      <td>41770.5882353</td>\n",
       "    </tr>\n",
       "    <tr>\n",
       "      <th>2</th>\n",
       "      <td>147.1666667</td>\n",
       "      <td>25.0000000</td>\n",
       "      <td>5.5783333</td>\n",
       "      <td>44.7500000</td>\n",
       "      <td>1268.5000000</td>\n",
       "      <td>6.9283333</td>\n",
       "      <td>51.9833333</td>\n",
       "      <td>5.9516667</td>\n",
       "      <td>565.8333333</td>\n",
       "    </tr>\n",
       "  </tbody>\n",
       "</table>\n",
       "</div>"
      ],
      "text/plain": [
       "          child_mort     exports      health     imports         income  \\\n",
       "cluster                                                                   \n",
       "-1        43.8541667  65.4633333   7.8879167  66.0541667  35998.5000000   \n",
       " 0        36.5425000  37.8148250   6.1669167  44.9072158  11242.4000000   \n",
       " 1         4.1470588  35.6647059  10.3182353  34.5882353  37794.1176471   \n",
       " 2       147.1666667  25.0000000   5.5783333  44.7500000   1268.5000000   \n",
       "\n",
       "         inflation  life_expec  total_fer           gdpp  \n",
       "cluster                                                   \n",
       "-1       8.8758750  71.5083333  3.3095833  29189.1666667  \n",
       " 0       8.5182417  69.8158333  2.8988333   6258.1583333  \n",
       " 1       1.3403529  80.9882353  1.7241176  41770.5882353  \n",
       " 2       6.9283333  51.9833333  5.9516667    565.8333333  "
      ]
     },
     "execution_count": 20,
     "metadata": {},
     "output_type": "execute_result"
    }
   ],
   "source": [
    "\n",
    "\n",
    "# k = 2 * df_pca.shape[-1] - 1\n",
    "# neigh = NearestNeighbors(n_neighbors=k) # instanciate NearestNeighbors object\n",
    "# nbrs = neigh.fit(df_pca) # fit the object to the data\n",
    "# distances, indices = nbrs.kneighbors(df_pca)\n",
    "# distances = np.sort(distances, axis=0)[:,1] # sort the distances and keep only the second column\n",
    "\n",
    "# plt.figure(figsize=(8,8))\n",
    "# plt.plot(distances)\n",
    "# plt.xlabel('Points/Objects in the dataset', fontsize=12)\n",
    "# # plt.axhline(y=0.14, linewidth=1, linestyle='dashed', color='k')\n",
    "# plt.ylabel('Sorted {}-nearest neighbor distance'.format(k), fontsize=12)\n",
    "# plt.grid()\n",
    "\n",
    "\n",
    "dbscan = DBSCAN(eps=0.14, min_samples=df_pca.shape[-1] * 2)\n",
    "dbscan.fit_predict(df_pca)\n",
    "df_pca['cluster'] = dbscan.labels_\n",
    "\n",
    "scatter_plot_data(df_pca, ['PC1','PC3'], countries)\n",
    "display_clusters(df_pca, raw_df)"
   ]
  },
  {
   "cell_type": "markdown",
   "metadata": {},
   "source": [
    "# DBSCAN Clustering algorithm"
   ]
  },
  {
   "attachments": {},
   "cell_type": "markdown",
   "metadata": {},
   "source": [
    "DBSCAN works as following:\n",
    "- For each instance in the data, the algorithm counts how many instances are located within a small distance $\\epsilon$ (epsilon) from it. So, in 3-dimensional space, that would be the radius a sphere.\n",
    "- If an instance has at least `min_samples` instances in its $\\epsilon$-neighborhood (including itself), then it is considered a *core instance*. In other words; core instances are those that are located in dense regions.\n",
    "- All instances in the neighborhood of a core instance belong to the same cluster. This neighborhood may include other core instances; therefore, a long sequence of neighboring core instances forms a single cluster.\n",
    "- Any instance that is not a core instance and does not have one in its neighborhood is considered an anomaly.\n",
    "  "
   ]
  },
  {
   "attachments": {},
   "cell_type": "markdown",
   "metadata": {},
   "source": [
    "# Determine the optimal value for $\\epsilon$"
   ]
  },
  {
   "attachments": {},
   "cell_type": "markdown",
   "metadata": {},
   "source": [
    "## Nereast neighbours approach"
   ]
  },
  {
   "attachments": {},
   "cell_type": "markdown",
   "metadata": {},
   "source": [
    "Source:\n",
    "https://towardsdatascience.com/machine-learning-clustering-dbscan-determine-the-optimal-value-for-epsilon-eps-python-example-3100091cfbc\n",
    "\n",
    "To determine a a good value for $\\epsilon$, we find a suitable value for $\\epsilon$ by calculating the distance to the nearest $n$ points for each point, sorting and plotting the results. Then we look to see where the change is most pronounced and select that as $\\epsilon$.\n",
    "\n",
    "we can calculate the distance from each point to its closest neighbour using the `NearestNeighbors`. The point itself is included in `n_neighbors`. The `kneighbors` method returns two arrays, one which contains the distance to the closest `n_neighbors` points and the other which contains the index for each of those points."
   ]
  },
  {
   "cell_type": "code",
   "execution_count": 12,
   "metadata": {},
   "outputs": [
    {
     "data": {
      "image/png": "[encoded data removed]",
      "text/plain": [
       "<Figure size 800x800 with 1 Axes>"
      ]
     },
     "metadata": {},
     "output_type": "display_data"
    }
   ],
   "source": [
    "k = 5\n",
    "neigh = NearestNeighbors(n_neighbors=5) # instanciate NearestNeighbors object\n",
    "nbrs = neigh.fit(df_pca) # fit the object to the data\n",
    "distances, indices = nbrs.kneighbors(df_pca)\n",
    "distances = np.sort(distances, axis=0)[:,1] # sort the distances and keep only the second column\n",
    "\n",
    "plt.figure(figsize=(8,8))\n",
    "plt.plot(distances)\n",
    "plt.xlabel('Points/Objects in the dataset', fontsize=12)\n",
    "# plt.axhline(y=0.14, linewidth=1, linestyle='dashed', color='k')\n",
    "plt.ylabel('Sorted {}-nearest neighbor distance'.format(k), fontsize=12)\n",
    "\n",
    "plt.grid()"
   ]
  },
  {
   "attachments": {},
   "cell_type": "markdown",
   "metadata": {},
   "source": [
    "Source: https://stackoverflow.com/questions/15050389/estimating-choosing-optimal-hyperparameters-for-dbscan?rq=1\n",
    "\n",
    "eps hyperparameter\n",
    "\n",
    "In order to determine the best value of eps for your dataset, use the K-Nearest Neighbours approach as explained in these two papers: Sander et al. 1998 and Schubert et al. 2017 (both papers from the original DBSCAN authors).\n",
    "\n",
    "Here's a condensed version of their approach: If you have N-dimensional data to begin, then choose n_neighbors in sklearn.neighbors.NearestNeighbors to be equal to 2xN - 1, and find out distances of the K-nearest neighbors (K being 2xN - 1) for each point in your dataset. Sort these distances out and plot them to find the \"elbow\" which separates noisy points (with high K-nearest neighbor distance) from points (with relatively low K-nearest neighbor distance) which will most likely fall into a cluster. The distance at which this \"elbow\" occurs is your point of optimal eps.\n",
    "\n",
    "Here's some python code to illustrate how to do this:"
   ]
  },
  {
   "cell_type": "code",
   "execution_count": 13,
   "metadata": {},
   "outputs": [],
   "source": [
    "# def get_kdist_plot(X=None, k=None, radius_nbrs=1.0):\n",
    "\n",
    "#     nbrs = NearestNeighbors(n_neighbors=k, radius=radius_nbrs).fit(X)\n",
    "\n",
    "#     # For each point, compute distances to its k-nearest neighbors\n",
    "#     distances, indices = nbrs.kneighbors(X) \n",
    "                                       \n",
    "#     distances = np.sort(distances, axis=0)\n",
    "#     distances = distances[:, k-1]\n",
    "\n",
    "#     # Plot the sorted K-nearest neighbor distance for each point in the dataset\n",
    "#     plt.figure(figsize=(8,8))\n",
    "#     plt.plot(distances)\n",
    "#     plt.xlabel('Points/Objects in the dataset', fontsize=12)\n",
    "#     plt.ylabel('Sorted {}-nearest neighbor distance'.format(k), fontsize=12)\n",
    "#     plt.grid(True, linestyle=\"--\", color='black', alpha=0.4)\n",
    "#     # plt.axhline(y=0.2, linewidth=1, linestyle='dashed', color='k')\n",
    "#     plt.show()\n",
    "#     plt.close()\n",
    "\n",
    "\n",
    "# k = 2 * df_pca.shape[-1] - 1 # k=2*{dim(dataset)} - 1\n",
    "# # print(k)\n",
    "# get_kdist_plot(X=df_pca, k=k)\n"
   ]
  },
  {
   "cell_type": "code",
   "execution_count": 24,
   "metadata": {},
   "outputs": [
    {
     "data": {
      "application/vnd.plotly.v1+json": {
       "config": {
        "plotlyServerURL": "https://plot.ly"
       },
       "data": [
        {
         "hovertemplate": "<b>%{hovertext}</b><br><br>PC1=%{x}<br>PC2=%{y}<br>cluster=%{marker.color}<extra></extra>",
         "hovertext": [
          "Afghanistan",
          "Albania",
          "Algeria",
          "Angola",
          "Antigua and Barbuda",
          "Argentina",
          "Armenia",
          "Australia",
          "Austria",
          "Azerbaijan",
          "Bahamas",
          "Bahrain",
          "Bangladesh",
          "Barbados",
          "Belarus",
          "Belgium",
          "Belize",
          "Benin",
          "Bhutan",
          "Bolivia",
          "Bosnia and Herzegovina",
          "Botswana",
          "Brazil",
          "Brunei",
          "Bulgaria",
          "Burkina Faso",
          "Burundi",
          "Cambodia",
          "Cameroon",
          "Canada",
          "Cape Verde",
          "Central African Republic",
          "Chad",
          "Chile",
          "China",
          "Colombia",
          "Comoros",
          "Congo, Dem. Rep.",
          "Congo, Rep.",
          "Costa Rica",
          "Cote d'Ivoire",
          "Croatia",
          "Cyprus",
          "Czech Republic",
          "Denmark",
          "Dominican Republic",
          "Ecuador",
          "Egypt",
          "El Salvador",
          "Equatorial Guinea",
          "Eritrea",
          "Estonia",
          "Fiji",
          "Finland",
          "France",
          "Gabon",
          "Gambia",
          "Georgia",
          "Germany",
          "Ghana",
          "Greece",
          "Grenada",
          "Guatemala",
          "Guinea",
          "Guinea-Bissau",
          "Guyana",
          "Haiti",
          "Hungary",
          "Iceland",
          "India",
          "Indonesia",
          "Iran",
          "Iraq",
          "Ireland",
          "Israel",
          "Italy",
          "Jamaica",
          "Japan",
          "Jordan",
          "Kazakhstan",
          "Kenya",
          "Kiribati",
          "Kuwait",
          "Kyrgyz Republic",
          "Lao",
          "Latvia",
          "Lebanon",
          "Lesotho",
          "Liberia",
          "Libya",
          "Lithuania",
          "Luxembourg",
          "Macedonia, FYR",
          "Madagascar",
          "Malawi",
          "Malaysia",
          "Maldives",
          "Mali",
          "Malta",
          "Mauritania",
          "Mauritius",
          "Micronesia, Fed. Sts.",
          "Moldova",
          "Mongolia",
          "Montenegro",
          "Morocco",
          "Mozambique",
          "Myanmar",
          "Namibia",
          "Nepal",
          "Netherlands",
          "New Zealand",
          "Niger",
          "Nigeria",
          "Norway",
          "Oman",
          "Pakistan",
          "Panama",
          "Paraguay",
          "Peru",
          "Philippines",
          "Poland",
          "Portugal",
          "Qatar",
          "Romania",
          "Russia",
          "Rwanda",
          "Samoa",
          "Saudi Arabia",
          "Senegal",
          "Serbia",
          "Seychelles",
          "Sierra Leone",
          "Singapore",
          "Slovak Republic",
          "Slovenia",
          "Solomon Islands",
          "South Africa",
          "South Korea",
          "Spain",
          "Sri Lanka",
          "St. Vincent and the Grenadines",
          "Sudan",
          "Suriname",
          "Sweden",
          "Switzerland",
          "Tajikistan",
          "Tanzania",
          "Thailand",
          "Timor-Leste",
          "Togo",
          "Tonga",
          "Tunisia",
          "Turkey",
          "Turkmenistan",
          "Uganda",
          "Ukraine",
          "United Arab Emirates",
          "United Kingdom",
          "United States",
          "Uruguay",
          "Uzbekistan",
          "Vanuatu",
          "Venezuela",
          "Vietnam",
          "Yemen",
          "Zambia"
         ],
         "legendgroup": "",
         "marker": {
          "color": [
           0,
           0,
           0,
           0,
           0,
           0,
           0,
           0,
           0,
           0,
           0,
           0,
           0,
           0,
           0,
           0,
           0,
           0,
           0,
           0,
           0,
           0,
           0,
           0,
           0,
           0,
           0,
           0,
           0,
           0,
           0,
           0,
           0,
           0,
           0,
           0,
           0,
           0,
           0,
           0,
           0,
           0,
           0,
           0,
           0,
           0,
           0,
           0,
           0,
           -1,
           0,
           0,
           0,
           0,
           0,
           0,
           0,
           0,
           0,
           0,
           0,
           0,
           0,
           0,
           0,
           0,
           0,
           0,
           0,
           0,
           0,
           0,
           0,
           0,
           0,
           0,
           0,
           0,
           0,
           0,
           0,
           0,
           0,
           0,
           0,
           0,
           0,
           0,
           0,
           0,
           0,
           -1,
           0,
           0,
           0,
           0,
           0,
           0,
           -1,
           0,
           0,
           -1,
           0,
           0,
           0,
           0,
           0,
           0,
           0,
           0,
           0,
           0,
           0,
           0,
           0,
           0,
           0,
           0,
           0,
           0,
           0,
           0,
           0,
           -1,
           0,
           0,
           0,
           0,
           0,
           0,
           0,
           0,
           -1,
           -1,
           0,
           0,
           0,
           0,
           0,
           0,
           0,
           0,
           0,
           0,
           0,
           0,
           0,
           0,
           0,
           0,
           0,
           0,
           0,
           0,
           0,
           0,
           0,
           0,
           0,
           -1,
           0,
           0,
           0,
           0,
           0,
           0,
           0
          ],
          "coloraxis": "coloraxis",
          "symbol": "circle"
         },
         "mode": "markers",
         "name": "",
         "orientation": "v",
         "showlegend": false,
         "type": "scatter",
         "x": [
          -0.599077640893392,
          0.15847429673261326,
          0.0036855177352031546,
          -0.6502349912467081,
          0.2007112426159628,
          0.11253400135451533,
          0.0874861233299794,
          0.4407835862385438,
          0.5205263926665186,
          0.038809145454632474,
          0.2533050412996837,
          0.2800487536378106,
          -0.10721303971102705,
          0.23240595477558437,
          0.18238382723518137,
          0.49552528689341724,
          0.03439589776107492,
          -0.5721153282550092,
          -0.007218397155775274,
          -0.12086722580429864,
          0.2599988414217383,
          -0.1537206138089997,
          0.13962489412562157,
          0.42041601787540894,
          0.20775215796331273,
          -0.6538925108450018,
          -0.6097543899838294,
          -0.1091355979386027,
          -0.5745202803834537,
          0.47654775027969154,
          -0.00755443297336144,
          -0.785831664481772,
          -0.8034838893582711,
          0.23936517643219535,
          0.12443896375920942,
          0.11600645235384678,
          -0.429680592897202,
          -0.6939619357067802,
          -0.3921384313651637,
          0.23640676125592816,
          -0.5739691560831598,
          0.26501444323551504,
          0.4048801378198108,
          0.3626856019519436,
          0.5105399799986363,
          0.009573694302030731,
          0.05395995149678731,
          -0.0986543110866529,
          0.07092179321796024,
          -0.387988396154401,
          -0.42124556726533624,
          0.29067168111833264,
          -0.031107783787834842,
          0.437760202105635,
          0.41641464151826457,
          -0.2761303010673889,
          -0.4897316895219251,
          0.12798263729298606,
          0.49096510196033816,
          -0.3760888557221316,
          0.37809965319758554,
          0.0764414986002061,
          -0.10013496920566023,
          -0.5962174429893379,
          -0.5779248168494963,
          -0.059872865926018176,
          -0.8363862705231494,
          0.3309635777501881,
          0.4240775777017765,
          -0.17037830303188467,
          -0.0720036204663898,
          0.11973000346143768,
          -0.20952202578426685,
          0.5274460071080211,
          0.248233055696994,
          0.4325744825044993,
          0.07650104644178078,
          0.4633584620428896,
          -0.003560026446418148,
          0.01119959532095218,
          -0.35904273531133574,
          -0.2596553927519397,
          0.3957758163902334,
          -0.06689228935256035,
          -0.2635517224628559,
          0.25274437574135655,
          0.256384872299577,
          -0.3857155015584068,
          -0.4212670584114021,
          0.16163536885430832,
          0.2700386913197652,
          0.9412939924726451,
          0.19607231760085755,
          -0.4063568179312002,
          -0.5854689657395731,
          0.2027980159087453,
          0.18814022366874375,
          -0.7560836209347951,
          0.5147457120770221,
          -0.4260122796391238,
          0.19700164353745986,
          -0.09390392690392121,
          0.174820994206852,
          -0.06437252358612189,
          0.2275715304644921,
          -0.007829789180748014,
          -0.6162775735223198,
          -0.2117298849563045,
          -0.23024123155896917,
          -0.13663045679082597,
          0.5394099826515575,
          0.347166478655184,
          -0.8088184692474698,
          -0.7407228826991709,
          0.62474828270234,
          0.1801426090382313,
          -0.3973298833393518,
          0.16685378525522016,
          0.033739648988346166,
          0.06103863446371324,
          -0.11467801783145012,
          0.2785837877848748,
          0.37896253067980545,
          0.6386728672340583,
          0.1789618640065628,
          0.1439296848008897,
          -0.32574345563428286,
          -0.13750602491724206,
          0.1511910084961846,
          -0.4080563416353285,
          0.23444950847699872,
          0.20499346713000124,
          -0.676021988091447,
          0.7668282160875248,
          0.34875375900775796,
          0.3978660221374691,
          -0.203551497042937,
          -0.17039397451706384,
          0.38683718231213166,
          0.41748839329320825,
          0.03586661233015061,
          0.06481523981896563,
          -0.4154588211655208,
          0.05478632945158537,
          0.48006929261333364,
          0.664756188479567,
          -0.1955356650101127,
          -0.5070289186149549,
          0.20256840955468988,
          -0.45369893973635805,
          -0.45534359491453047,
          -0.13345911250920817,
          0.13881161533109557,
          0.14686767405707782,
          -0.11434334945248635,
          -0.5931654277624745,
          0.15093361076806278,
          0.3951364032922985,
          0.3908949123765816,
          0.4836120747474234,
          0.17969874017239815,
          -0.05658193011274115,
          -0.16007838094623023,
          0.06113318568400306,
          0.115512278006558,
          -0.3329682454570162,
          -0.5738966875202651
         ],
         "xaxis": "x",
         "y": [
          0.09549001261083387,
          -0.21209240446273683,
          -0.13586725169399785,
          0.27597526274781276,
          -0.06466222842615162,
          -0.20604633143446738,
          -0.24430696026408574,
          0.01628158692670362,
          0.1150526669126683,
          -0.12198813297865488,
          -0.03709247509880852,
          0.08194451910703039,
          -0.24817006961744262,
          -0.10625665061398024,
          -0.10352266346148904,
          0.24168216961753466,
          -0.0525870929343874,
          0.08891621815876752,
          -0.06228780718285039,
          -0.09859734242941053,
          -0.22215393346065868,
          0.029403044546586234,
          -0.26315962435920465,
          0.1948516356228183,
          -0.12550835548981915,
          0.11320578067892345,
          0.1131339466395204,
          -0.03051147505059209,
          0.0636648147100616,
          0.03076988406046068,
          -0.11152782836095575,
          0.11402571744483624,
          0.27514761566458956,
          -0.15904187045742293,
          -0.27840827690721137,
          -0.27086058581596834,
          0.026627740434681645,
          0.2490366873763295,
          0.20213517507170922,
          -0.19429506732910853,
          0.1831648202898715,
          -0.15530616709127587,
          0.016648396815077,
          0.014394483563139866,
          0.18525831146590993,
          -0.16573423460377834,
          -0.1748119870491725,
          -0.16734251042284354,
          -0.18607666243595208,
          0.45514650091526593,
          -0.11361267592041198,
          0.019593438329169086,
          -0.023372957565190203,
          0.06678322287443338,
          -0.0016351853353263127,
          0.06273829039854023,
          0.07255934545640555,
          -0.16692749025014603,
          0.03720797802562938,
          0.016990883216660427,
          -0.12977840069988766,
          -0.1581723634980124,
          -0.12037731835183328,
          0.12361252349992646,
          0.07626721246657554,
          0.006685195267384371,
          0.23301511895405969,
          0.027138707640432264,
          0.1060982222811266,
          -0.17020478522225652,
          -0.21190124472665361,
          -0.23911594380817838,
          0.019495731483559202,
          0.3704888918645325,
          0.006180852088079593,
          -0.07232825032712982,
          -0.17392509691997293,
          -0.0969699002007378,
          0.006835796438984569,
          -0.08396436689464556,
          -0.04891148433822115,
          0.03234199362395658,
          0.21412016797420508,
          0.0025623714723478695,
          -0.025084085814393368,
          -0.09723041590549031,
          -0.14427862035983602,
          0.19898337844826383,
          0.17229867807348498,
          -0.0014267570003912702,
          -0.023940019354683085,
          1.0369031614705917,
          -0.1674065849944797,
          -0.0076171940790249375,
          0.07673091803281568,
          0.05118051105118174,
          -0.01849876887553538,
          0.19534715395639327,
          0.42028423858605474,
          0.15544577473639848,
          -0.09038832565467014,
          0.012079439881174922,
          -0.13817943066987542,
          -0.06933816494341838,
          -0.13372024490517215,
          -0.1507961661217773,
          0.14352232632868483,
          -0.29861360052850316,
          0.07804855064658164,
          -0.2089014970477291,
          0.2447240272376879,
          -0.032766016871034476,
          0.25857830672699444,
          0.1242060032915474,
          0.31473098901976904,
          0.09925150333902556,
          -0.09496230349101714,
          0.04995774499115413,
          -0.0774953852820247,
          -0.2159652143717935,
          -0.12580071065897902,
          -0.1472761395987081,
          -0.12293031777652451,
          0.4789385583112639,
          -0.18527558682896583,
          -0.1974364521296225,
          -0.061801072947555054,
          -0.044064894513657686,
          0.0592787878291838,
          0.021016497834455604,
          -0.19917173415600622,
          0.16723747182238083,
          0.16386376505695122,
          0.796466987182542,
          0.05578673392153254,
          0.03010608254404229,
          0.08402392752351281,
          -0.06562958380303657,
          -0.07002891532342022,
          -0.11376678225969578,
          -0.2718649311702501,
          -0.14862156252919256,
          -0.03901356888515529,
          -0.06654156751684988,
          0.13286984330786253,
          0.3247404186967395,
          -0.08675241249893907,
          0.02166023012166463,
          -0.09480520870875608,
          0.00276048274725243,
          0.13084639450962746,
          -0.09453803632062215,
          -0.11554703504078698,
          -0.19803881722312708,
          0.03560217562642499,
          0.08399249267325587,
          -0.17362956804131396,
          0.22655270784162104,
          -0.010558183946246233,
          0.035296683126139365,
          -0.18833359698213714,
          -0.1945031037484664,
          -0.02962471851414745,
          -0.1713391564346747,
          -0.03203380766647127,
          -0.01982430283577435,
          0.10878813658955845
         ],
         "yaxis": "y"
        }
       ],
       "layout": {
        "coloraxis": {
         "colorbar": {
          "title": {
           "text": "cluster"
          }
         },
         "colorscale": [
          [
           0,
           "#0d0887"
          ],
          [
           0.1111111111111111,
           "#46039f"
          ],
          [
           0.2222222222222222,
           "#7201a8"
          ],
          [
           0.3333333333333333,
           "#9c179e"
          ],
          [
           0.4444444444444444,
           "#bd3786"
          ],
          [
           0.5555555555555556,
           "#d8576b"
          ],
          [
           0.6666666666666666,
           "#ed7953"
          ],
          [
           0.7777777777777778,
           "#fb9f3a"
          ],
          [
           0.8888888888888888,
           "#fdca26"
          ],
          [
           1,
           "#f0f921"
          ]
         ]
        },
        "height": 500,
        "legend": {
         "tracegroupgap": 0
        },
        "margin": {
         "t": 60
        },
        "template": {
         "data": {
          "bar": [
           {
            "error_x": {
             "color": "#2a3f5f"
            },
            "error_y": {
             "color": "#2a3f5f"
            },
            "marker": {
             "line": {
              "color": "#E5ECF6",
              "width": 0.5
             },
             "pattern": {
              "fillmode": "overlay",
              "size": 10,
              "solidity": 0.2
             }
            },
            "type": "bar"
           }
          ],
          "barpolar": [
           {
            "marker": {
             "line": {
              "color": "#E5ECF6",
              "width": 0.5
             },
             "pattern": {
              "fillmode": "overlay",
              "size": 10,
              "solidity": 0.2
             }
            },
            "type": "barpolar"
           }
          ],
          "carpet": [
           {
            "aaxis": {
             "endlinecolor": "#2a3f5f",
             "gridcolor": "white",
             "linecolor": "white",
             "minorgridcolor": "white",
             "startlinecolor": "#2a3f5f"
            },
            "baxis": {
             "endlinecolor": "#2a3f5f",
             "gridcolor": "white",
             "linecolor": "white",
             "minorgridcolor": "white",
             "startlinecolor": "#2a3f5f"
            },
            "type": "carpet"
           }
          ],
          "choropleth": [
           {
            "colorbar": {
             "outlinewidth": 0,
             "ticks": ""
            },
            "type": "choropleth"
           }
          ],
          "contour": [
           {
            "colorbar": {
             "outlinewidth": 0,
             "ticks": ""
            },
            "colorscale": [
             [
              0,
              "#0d0887"
             ],
             [
              0.1111111111111111,
              "#46039f"
             ],
             [
              0.2222222222222222,
              "#7201a8"
             ],
             [
              0.3333333333333333,
              "#9c179e"
             ],
             [
              0.4444444444444444,
              "#bd3786"
             ],
             [
              0.5555555555555556,
              "#d8576b"
             ],
             [
              0.6666666666666666,
              "#ed7953"
             ],
             [
              0.7777777777777778,
              "#fb9f3a"
             ],
             [
              0.8888888888888888,
              "#fdca26"
             ],
             [
              1,
              "#f0f921"
             ]
            ],
            "type": "contour"
           }
          ],
          "contourcarpet": [
           {
            "colorbar": {
             "outlinewidth": 0,
             "ticks": ""
            },
            "type": "contourcarpet"
           }
          ],
          "heatmap": [
           {
            "colorbar": {
             "outlinewidth": 0,
             "ticks": ""
            },
            "colorscale": [
             [
              0,
              "#0d0887"
             ],
             [
              0.1111111111111111,
              "#46039f"
             ],
             [
              0.2222222222222222,
              "#7201a8"
             ],
             [
              0.3333333333333333,
              "#9c179e"
             ],
             [
              0.4444444444444444,
              "#bd3786"
             ],
             [
              0.5555555555555556,
              "#d8576b"
             ],
             [
              0.6666666666666666,
              "#ed7953"
             ],
             [
              0.7777777777777778,
              "#fb9f3a"
             ],
             [
              0.8888888888888888,
              "#fdca26"
             ],
             [
              1,
              "#f0f921"
             ]
            ],
            "type": "heatmap"
           }
          ],
          "heatmapgl": [
           {
            "colorbar": {
             "outlinewidth": 0,
             "ticks": ""
            },
            "colorscale": [
             [
              0,
              "#0d0887"
             ],
             [
              0.1111111111111111,
              "#46039f"
             ],
             [
              0.2222222222222222,
              "#7201a8"
             ],
             [
              0.3333333333333333,
              "#9c179e"
             ],
             [
              0.4444444444444444,
              "#bd3786"
             ],
             [
              0.5555555555555556,
              "#d8576b"
             ],
             [
              0.6666666666666666,
              "#ed7953"
             ],
             [
              0.7777777777777778,
              "#fb9f3a"
             ],
             [
              0.8888888888888888,
              "#fdca26"
             ],
             [
              1,
              "#f0f921"
             ]
            ],
            "type": "heatmapgl"
           }
          ],
          "histogram": [
           {
            "marker": {
             "pattern": {
              "fillmode": "overlay",
              "size": 10,
              "solidity": 0.2
             }
            },
            "type": "histogram"
           }
          ],
          "histogram2d": [
           {
            "colorbar": {
             "outlinewidth": 0,
             "ticks": ""
            },
            "colorscale": [
             [
              0,
              "#0d0887"
             ],
             [
              0.1111111111111111,
              "#46039f"
             ],
             [
              0.2222222222222222,
              "#7201a8"
             ],
             [
              0.3333333333333333,
              "#9c179e"
             ],
             [
              0.4444444444444444,
              "#bd3786"
             ],
             [
              0.5555555555555556,
              "#d8576b"
             ],
             [
              0.6666666666666666,
              "#ed7953"
             ],
             [
              0.7777777777777778,
              "#fb9f3a"
             ],
             [
              0.8888888888888888,
              "#fdca26"
             ],
             [
              1,
              "#f0f921"
             ]
            ],
            "type": "histogram2d"
           }
          ],
          "histogram2dcontour": [
           {
            "colorbar": {
             "outlinewidth": 0,
             "ticks": ""
            },
            "colorscale": [
             [
              0,
              "#0d0887"
             ],
             [
              0.1111111111111111,
              "#46039f"
             ],
             [
              0.2222222222222222,
              "#7201a8"
             ],
             [
              0.3333333333333333,
              "#9c179e"
             ],
             [
              0.4444444444444444,
              "#bd3786"
             ],
             [
              0.5555555555555556,
              "#d8576b"
             ],
             [
              0.6666666666666666,
              "#ed7953"
             ],
             [
              0.7777777777777778,
              "#fb9f3a"
             ],
             [
              0.8888888888888888,
              "#fdca26"
             ],
             [
              1,
              "#f0f921"
             ]
            ],
            "type": "histogram2dcontour"
           }
          ],
          "mesh3d": [
           {
            "colorbar": {
             "outlinewidth": 0,
             "ticks": ""
            },
            "type": "mesh3d"
           }
          ],
          "parcoords": [
           {
            "line": {
             "colorbar": {
              "outlinewidth": 0,
              "ticks": ""
             }
            },
            "type": "parcoords"
           }
          ],
          "pie": [
           {
            "automargin": true,
            "type": "pie"
           }
          ],
          "scatter": [
           {
            "fillpattern": {
             "fillmode": "overlay",
             "size": 10,
             "solidity": 0.2
            },
            "type": "scatter"
           }
          ],
          "scatter3d": [
           {
            "line": {
             "colorbar": {
              "outlinewidth": 0,
              "ticks": ""
             }
            },
            "marker": {
             "colorbar": {
              "outlinewidth": 0,
              "ticks": ""
             }
            },
            "type": "scatter3d"
           }
          ],
          "scattercarpet": [
           {
            "marker": {
             "colorbar": {
              "outlinewidth": 0,
              "ticks": ""
             }
            },
            "type": "scattercarpet"
           }
          ],
          "scattergeo": [
           {
            "marker": {
             "colorbar": {
              "outlinewidth": 0,
              "ticks": ""
             }
            },
            "type": "scattergeo"
           }
          ],
          "scattergl": [
           {
            "marker": {
             "colorbar": {
              "outlinewidth": 0,
              "ticks": ""
             }
            },
            "type": "scattergl"
           }
          ],
          "scattermapbox": [
           {
            "marker": {
             "colorbar": {
              "outlinewidth": 0,
              "ticks": ""
             }
            },
            "type": "scattermapbox"
           }
          ],
          "scatterpolar": [
           {
            "marker": {
             "colorbar": {
              "outlinewidth": 0,
              "ticks": ""
             }
            },
            "type": "scatterpolar"
           }
          ],
          "scatterpolargl": [
           {
            "marker": {
             "colorbar": {
              "outlinewidth": 0,
              "ticks": ""
             }
            },
            "type": "scatterpolargl"
           }
          ],
          "scatterternary": [
           {
            "marker": {
             "colorbar": {
              "outlinewidth": 0,
              "ticks": ""
             }
            },
            "type": "scatterternary"
           }
          ],
          "surface": [
           {
            "colorbar": {
             "outlinewidth": 0,
             "ticks": ""
            },
            "colorscale": [
             [
              0,
              "#0d0887"
             ],
             [
              0.1111111111111111,
              "#46039f"
             ],
             [
              0.2222222222222222,
              "#7201a8"
             ],
             [
              0.3333333333333333,
              "#9c179e"
             ],
             [
              0.4444444444444444,
              "#bd3786"
             ],
             [
              0.5555555555555556,
              "#d8576b"
             ],
             [
              0.6666666666666666,
              "#ed7953"
             ],
             [
              0.7777777777777778,
              "#fb9f3a"
             ],
             [
              0.8888888888888888,
              "#fdca26"
             ],
             [
              1,
              "#f0f921"
             ]
            ],
            "type": "surface"
           }
          ],
          "table": [
           {
            "cells": {
             "fill": {
              "color": "#EBF0F8"
             },
             "line": {
              "color": "white"
             }
            },
            "header": {
             "fill": {
              "color": "#C8D4E3"
             },
             "line": {
              "color": "white"
             }
            },
            "type": "table"
           }
          ]
         },
         "layout": {
          "annotationdefaults": {
           "arrowcolor": "#2a3f5f",
           "arrowhead": 0,
           "arrowwidth": 1
          },
          "autotypenumbers": "strict",
          "coloraxis": {
           "colorbar": {
            "outlinewidth": 0,
            "ticks": ""
           }
          },
          "colorscale": {
           "diverging": [
            [
             0,
             "#8e0152"
            ],
            [
             0.1,
             "#c51b7d"
            ],
            [
             0.2,
             "#de77ae"
            ],
            [
             0.3,
             "#f1b6da"
            ],
            [
             0.4,
             "#fde0ef"
            ],
            [
             0.5,
             "#f7f7f7"
            ],
            [
             0.6,
             "#e6f5d0"
            ],
            [
             0.7,
             "#b8e186"
            ],
            [
             0.8,
             "#7fbc41"
            ],
            [
             0.9,
             "#4d9221"
            ],
            [
             1,
             "#276419"
            ]
           ],
           "sequential": [
            [
             0,
             "#0d0887"
            ],
            [
             0.1111111111111111,
             "#46039f"
            ],
            [
             0.2222222222222222,
             "#7201a8"
            ],
            [
             0.3333333333333333,
             "#9c179e"
            ],
            [
             0.4444444444444444,
             "#bd3786"
            ],
            [
             0.5555555555555556,
             "#d8576b"
            ],
            [
             0.6666666666666666,
             "#ed7953"
            ],
            [
             0.7777777777777778,
             "#fb9f3a"
            ],
            [
             0.8888888888888888,
             "#fdca26"
            ],
            [
             1,
             "#f0f921"
            ]
           ],
           "sequentialminus": [
            [
             0,
             "#0d0887"
            ],
            [
             0.1111111111111111,
             "#46039f"
            ],
            [
             0.2222222222222222,
             "#7201a8"
            ],
            [
             0.3333333333333333,
             "#9c179e"
            ],
            [
             0.4444444444444444,
             "#bd3786"
            ],
            [
             0.5555555555555556,
             "#d8576b"
            ],
            [
             0.6666666666666666,
             "#ed7953"
            ],
            [
             0.7777777777777778,
             "#fb9f3a"
            ],
            [
             0.8888888888888888,
             "#fdca26"
            ],
            [
             1,
             "#f0f921"
            ]
           ]
          },
          "colorway": [
           "#636efa",
           "#EF553B",
           "#00cc96",
           "#ab63fa",
           "#FFA15A",
           "#19d3f3",
           "#FF6692",
           "#B6E880",
           "#FF97FF",
           "#FECB52"
          ],
          "font": {
           "color": "#2a3f5f"
          },
          "geo": {
           "bgcolor": "white",
           "lakecolor": "white",
           "landcolor": "#E5ECF6",
           "showlakes": true,
           "showland": true,
           "subunitcolor": "white"
          },
          "hoverlabel": {
           "align": "left"
          },
          "hovermode": "closest",
          "mapbox": {
           "style": "light"
          },
          "paper_bgcolor": "white",
          "plot_bgcolor": "#E5ECF6",
          "polar": {
           "angularaxis": {
            "gridcolor": "white",
            "linecolor": "white",
            "ticks": ""
           },
           "bgcolor": "#E5ECF6",
           "radialaxis": {
            "gridcolor": "white",
            "linecolor": "white",
            "ticks": ""
           }
          },
          "scene": {
           "xaxis": {
            "backgroundcolor": "#E5ECF6",
            "gridcolor": "white",
            "gridwidth": 2,
            "linecolor": "white",
            "showbackground": true,
            "ticks": "",
            "zerolinecolor": "white"
           },
           "yaxis": {
            "backgroundcolor": "#E5ECF6",
            "gridcolor": "white",
            "gridwidth": 2,
            "linecolor": "white",
            "showbackground": true,
            "ticks": "",
            "zerolinecolor": "white"
           },
           "zaxis": {
            "backgroundcolor": "#E5ECF6",
            "gridcolor": "white",
            "gridwidth": 2,
            "linecolor": "white",
            "showbackground": true,
            "ticks": "",
            "zerolinecolor": "white"
           }
          },
          "shapedefaults": {
           "line": {
            "color": "#2a3f5f"
           }
          },
          "ternary": {
           "aaxis": {
            "gridcolor": "white",
            "linecolor": "white",
            "ticks": ""
           },
           "baxis": {
            "gridcolor": "white",
            "linecolor": "white",
            "ticks": ""
           },
           "bgcolor": "#E5ECF6",
           "caxis": {
            "gridcolor": "white",
            "linecolor": "white",
            "ticks": ""
           }
          },
          "title": {
           "x": 0.05
          },
          "xaxis": {
           "automargin": true,
           "gridcolor": "white",
           "linecolor": "white",
           "ticks": "",
           "title": {
            "standoff": 15
           },
           "zerolinecolor": "white",
           "zerolinewidth": 2
          },
          "yaxis": {
           "automargin": true,
           "gridcolor": "white",
           "linecolor": "white",
           "ticks": "",
           "title": {
            "standoff": 15
           },
           "zerolinecolor": "white",
           "zerolinewidth": 2
          }
         }
        },
        "width": 600,
        "xaxis": {
         "anchor": "y",
         "domain": [
          0,
          1
         ],
         "title": {
          "text": "PC1"
         }
        },
        "yaxis": {
         "anchor": "x",
         "domain": [
          0,
          1
         ],
         "title": {
          "text": "PC2"
         }
        }
       }
      }
     },
     "metadata": {},
     "output_type": "display_data"
    }
   ],
   "source": [
    "df_pca['country'] = countries\n",
    "compponents, df_pca = apply_dbscan(df_pca, eps = 0.2, min_samples = 6)\n",
    "cl_perc =  df_pca.groupby('cluster').count()\n",
    "cl_perc['perc']  = 100 * df_pca.groupby('cluster').count().country / 167\n",
    "cl_perc\n",
    "scatter_plot_data(df_pca, ['PC1', 'PC2'], countries)"
   ]
  },
  {
   "cell_type": "code",
   "execution_count": 15,
   "metadata": {},
   "outputs": [
    {
     "name": "stderr",
     "output_type": "stream",
     "text": [
      "/Users/maxvisser/Documents/ITU/statistics_multivariate_calculus/modelling-countries-need-for-humanitarian-aid/src/scripts.py:177: FutureWarning:\n",
      "\n",
      "The default value of numeric_only in DataFrameGroupBy.mean is deprecated. In a future version, numeric_only will default to False. Either specify numeric_only or select only columns which should be valid for the function.\n",
      "\n"
     ]
    },
    {
     "data": {
      "text/html": [
       "<div>\n",
       "<style scoped>\n",
       "    .dataframe tbody tr th:only-of-type {\n",
       "        vertical-align: middle;\n",
       "    }\n",
       "\n",
       "    .dataframe tbody tr th {\n",
       "        vertical-align: top;\n",
       "    }\n",
       "\n",
       "    .dataframe thead th {\n",
       "        text-align: right;\n",
       "    }\n",
       "</style>\n",
       "<table border=\"1\" class=\"dataframe\">\n",
       "  <thead>\n",
       "    <tr style=\"text-align: right;\">\n",
       "      <th></th>\n",
       "      <th>PC1</th>\n",
       "      <th>PC2</th>\n",
       "      <th>PC3</th>\n",
       "    </tr>\n",
       "    <tr>\n",
       "      <th>cluster</th>\n",
       "      <th></th>\n",
       "      <th></th>\n",
       "      <th></th>\n",
       "    </tr>\n",
       "  </thead>\n",
       "  <tbody>\n",
       "    <tr>\n",
       "      <th>-1</th>\n",
       "      <td>0.2734048</td>\n",
       "      <td>0.4248724</td>\n",
       "      <td>0.0327665</td>\n",
       "    </tr>\n",
       "    <tr>\n",
       "      <th>0</th>\n",
       "      <td>-0.0137562</td>\n",
       "      <td>-0.0213772</td>\n",
       "      <td>-0.0016486</td>\n",
       "    </tr>\n",
       "  </tbody>\n",
       "</table>\n",
       "</div>"
      ],
      "text/plain": [
       "               PC1        PC2        PC3\n",
       "cluster                                 \n",
       "-1       0.2734048  0.4248724  0.0327665\n",
       " 0      -0.0137562 -0.0213772 -0.0016486"
      ]
     },
     "execution_count": 15,
     "metadata": {},
     "output_type": "execute_result"
    }
   ],
   "source": [
    "display_clusters(df_pca)"
   ]
  },
  {
   "cell_type": "code",
   "execution_count": 16,
   "metadata": {},
   "outputs": [
    {
     "data": {
      "text/html": [
       "<div>\n",
       "<style scoped>\n",
       "    .dataframe tbody tr th:only-of-type {\n",
       "        vertical-align: middle;\n",
       "    }\n",
       "\n",
       "    .dataframe tbody tr th {\n",
       "        vertical-align: top;\n",
       "    }\n",
       "\n",
       "    .dataframe thead th {\n",
       "        text-align: right;\n",
       "    }\n",
       "</style>\n",
       "<table border=\"1\" class=\"dataframe\">\n",
       "  <thead>\n",
       "    <tr style=\"text-align: right;\">\n",
       "      <th></th>\n",
       "      <th>PC1</th>\n",
       "      <th>PC2</th>\n",
       "      <th>PC3</th>\n",
       "      <th>country</th>\n",
       "      <th>cluster</th>\n",
       "    </tr>\n",
       "  </thead>\n",
       "  <tbody>\n",
       "    <tr>\n",
       "      <th>0</th>\n",
       "      <td>-0.5990776</td>\n",
       "      <td>0.0954900</td>\n",
       "      <td>0.1575538</td>\n",
       "      <td>Afghanistan</td>\n",
       "      <td>0</td>\n",
       "    </tr>\n",
       "    <tr>\n",
       "      <th>1</th>\n",
       "      <td>0.1584743</td>\n",
       "      <td>-0.2120924</td>\n",
       "      <td>-0.0641890</td>\n",
       "      <td>Albania</td>\n",
       "      <td>0</td>\n",
       "    </tr>\n",
       "    <tr>\n",
       "      <th>2</th>\n",
       "      <td>0.0036855</td>\n",
       "      <td>-0.1358673</td>\n",
       "      <td>-0.1341820</td>\n",
       "      <td>Algeria</td>\n",
       "      <td>0</td>\n",
       "    </tr>\n",
       "    <tr>\n",
       "      <th>3</th>\n",
       "      <td>-0.6502350</td>\n",
       "      <td>0.2759753</td>\n",
       "      <td>-0.1426725</td>\n",
       "      <td>Angola</td>\n",
       "      <td>0</td>\n",
       "    </tr>\n",
       "    <tr>\n",
       "      <th>4</th>\n",
       "      <td>0.2007112</td>\n",
       "      <td>-0.0646622</td>\n",
       "      <td>-0.1007155</td>\n",
       "      <td>Antigua and Barbuda</td>\n",
       "      <td>0</td>\n",
       "    </tr>\n",
       "    <tr>\n",
       "      <th>...</th>\n",
       "      <td>...</td>\n",
       "      <td>...</td>\n",
       "      <td>...</td>\n",
       "      <td>...</td>\n",
       "      <td>...</td>\n",
       "    </tr>\n",
       "    <tr>\n",
       "      <th>162</th>\n",
       "      <td>-0.1600784</td>\n",
       "      <td>-0.0296247</td>\n",
       "      <td>-0.1219095</td>\n",
       "      <td>Vanuatu</td>\n",
       "      <td>0</td>\n",
       "    </tr>\n",
       "    <tr>\n",
       "      <th>163</th>\n",
       "      <td>0.0611332</td>\n",
       "      <td>-0.1713392</td>\n",
       "      <td>-0.0585860</td>\n",
       "      <td>Venezuela</td>\n",
       "      <td>0</td>\n",
       "    </tr>\n",
       "    <tr>\n",
       "      <th>164</th>\n",
       "      <td>0.1155123</td>\n",
       "      <td>-0.0320338</td>\n",
       "      <td>-0.1952430</td>\n",
       "      <td>Vietnam</td>\n",
       "      <td>0</td>\n",
       "    </tr>\n",
       "    <tr>\n",
       "      <th>165</th>\n",
       "      <td>-0.3329682</td>\n",
       "      <td>-0.0198243</td>\n",
       "      <td>-0.0299890</td>\n",
       "      <td>Yemen</td>\n",
       "      <td>0</td>\n",
       "    </tr>\n",
       "    <tr>\n",
       "      <th>166</th>\n",
       "      <td>-0.5738967</td>\n",
       "      <td>0.1087881</td>\n",
       "      <td>0.0325523</td>\n",
       "      <td>Zambia</td>\n",
       "      <td>0</td>\n",
       "    </tr>\n",
       "  </tbody>\n",
       "</table>\n",
       "<p>167 rows × 5 columns</p>\n",
       "</div>"
      ],
      "text/plain": [
       "           PC1        PC2        PC3              country  cluster\n",
       "0   -0.5990776  0.0954900  0.1575538          Afghanistan        0\n",
       "1    0.1584743 -0.2120924 -0.0641890              Albania        0\n",
       "2    0.0036855 -0.1358673 -0.1341820              Algeria        0\n",
       "3   -0.6502350  0.2759753 -0.1426725               Angola        0\n",
       "4    0.2007112 -0.0646622 -0.1007155  Antigua and Barbuda        0\n",
       "..         ...        ...        ...                  ...      ...\n",
       "162 -0.1600784 -0.0296247 -0.1219095              Vanuatu        0\n",
       "163  0.0611332 -0.1713392 -0.0585860            Venezuela        0\n",
       "164  0.1155123 -0.0320338 -0.1952430              Vietnam        0\n",
       "165 -0.3329682 -0.0198243 -0.0299890                Yemen        0\n",
       "166 -0.5738967  0.1087881  0.0325523               Zambia        0\n",
       "\n",
       "[167 rows x 5 columns]"
      ]
     },
     "execution_count": 16,
     "metadata": {},
     "output_type": "execute_result"
    }
   ],
   "source": [
    "df_pca"
   ]
  },
  {
   "cell_type": "code",
   "execution_count": 17,
   "metadata": {},
   "outputs": [
    {
     "data": {
      "text/plain": [
       "(0.4239991410455644, 10.976028948942286, 2.0727433912171827)"
      ]
     },
     "execution_count": 17,
     "metadata": {},
     "output_type": "execute_result"
    }
   ],
   "source": [
    "evalutate_clusters(df_pca.drop('country', axis = 1))"
   ]
  },
  {
   "attachments": {},
   "cell_type": "markdown",
   "metadata": {},
   "source": [
    "# Run DBSCAN algorithm"
   ]
  },
  {
   "cell_type": "code",
   "execution_count": 18,
   "metadata": {},
   "outputs": [
    {
     "ename": "NameError",
     "evalue": "name 'scaled_pca_df' is not defined",
     "output_type": "error",
     "traceback": [
      "\u001b[0;31m---------------------------------------------------------------------------\u001b[0m",
      "\u001b[0;31mNameError\u001b[0m                                 Traceback (most recent call last)",
      "Cell \u001b[0;32mIn[18], line 2\u001b[0m\n\u001b[1;32m      1\u001b[0m dbscan \u001b[39m=\u001b[39m DBSCAN(eps\u001b[39m=\u001b[39m\u001b[39m0.05\u001b[39m, min_samples\u001b[39m=\u001b[39m\u001b[39m6\u001b[39m) \n\u001b[0;32m----> 2\u001b[0m dbscan\u001b[39m.\u001b[39mfit(scaled_pca_df)\n\u001b[1;32m      4\u001b[0m labels \u001b[39m=\u001b[39m dbscan\u001b[39m.\u001b[39mlabels_ \u001b[39m# cluster labels for each country\u001b[39;00m\n\u001b[1;32m      5\u001b[0m core_indices \u001b[39m=\u001b[39m dbscan\u001b[39m.\u001b[39mcore_sample_indices_ \u001b[39m# indices of the core samples\u001b[39;00m\n",
      "\u001b[0;31mNameError\u001b[0m: name 'scaled_pca_df' is not defined"
     ]
    }
   ],
   "source": [
    "\n",
    "dbscan = DBSCAN(eps=0.05, min_samples=6) \n",
    "dbscan.fit(scaled_pca_df)\n",
    "\n",
    "labels = dbscan.labels_ # cluster labels for each country\n",
    "core_indices = dbscan.core_sample_indices_ # indices of the core samples\n",
    "n_core = len(core_indices) # number of countries considered a \"core\" samples\n",
    "number_of_anomalies = len([x for x in labels if x == -1]) # number of countries considered an \"outlier\"\n",
    "number_of_clusters = len(set(labels)) - (1 if -1 in labels else 0) # number of clusters\n",
    "n_points_clusters = OrderedDict(Counter(sorted(labels)))\n",
    "components = dbscan.components_ # values of the core samples\n",
    "\n",
    "print(\"Labels:\\n\", labels)\n",
    "print(\"Core indices:\\n\", core_indices)\n",
    "print(n_core, \"core samples\")\n",
    "print(number_of_anomalies, \"anomalies\")\n",
    "print(number_of_clusters, \"clusters\")\n",
    "print(n_points_clusters, \"points distribution\")\n",
    "\n",
    "anomaly_countries = []\n",
    "for i in range(len(labels)):\n",
    "    if labels[i] == -1:\n",
    "        anomaly_countries.append(countries[i])"
   ]
  },
  {
   "cell_type": "code",
   "execution_count": null,
   "metadata": {},
   "outputs": [
    {
     "name": "stdout",
     "output_type": "stream",
     "text": [
      "Cluster -1 \n",
      "\n",
      "Cluster 0 \n",
      "\n",
      "Afghanistan\n",
      "Albania\n",
      "Algeria\n",
      "Angola\n",
      "Antigua and Barbuda\n",
      "Argentina\n",
      "Armenia\n",
      "Australia\n",
      "Austria\n",
      "Azerbaijan\n",
      "Bahamas\n",
      "Bahrain\n",
      "Bangladesh\n",
      "Barbados\n",
      "Belarus\n",
      "Belgium\n",
      "Belize\n",
      "Benin\n",
      "Bhutan\n",
      "Bolivia\n",
      "Bosnia and Herzegovina\n",
      "Botswana\n",
      "Brazil\n",
      "Brunei\n",
      "Bulgaria\n",
      "Burkina Faso\n",
      "Burundi\n",
      "Cambodia\n",
      "Cameroon\n",
      "Canada\n",
      "Cape Verde\n",
      "Central African Republic\n",
      "Chad\n",
      "Chile\n",
      "China\n",
      "Colombia\n",
      "Comoros\n",
      "Congo, Dem. Rep.\n",
      "Congo, Rep.\n",
      "Costa Rica\n",
      "Cote d'Ivoire\n",
      "Croatia\n",
      "Cyprus\n",
      "Czech Republic\n",
      "Denmark\n",
      "Dominican Republic\n",
      "Ecuador\n",
      "Egypt\n",
      "El Salvador\n",
      "Equatorial Guinea\n",
      "Eritrea\n",
      "Estonia\n",
      "Fiji\n",
      "Finland\n",
      "France\n",
      "Gabon\n",
      "Gambia\n",
      "Georgia\n",
      "Germany\n",
      "Ghana\n",
      "Greece\n",
      "Grenada\n",
      "Guatemala\n",
      "Guinea\n",
      "Guinea-Bissau\n",
      "Guyana\n",
      "Haiti\n",
      "Hungary\n",
      "Iceland\n",
      "India\n",
      "Indonesia\n",
      "Iran\n",
      "Iraq\n",
      "Ireland\n",
      "Israel\n",
      "Italy\n",
      "Jamaica\n",
      "Japan\n",
      "Jordan\n",
      "Kazakhstan\n",
      "Kenya\n",
      "Kiribati\n",
      "Kuwait\n",
      "Kyrgyz Republic\n",
      "Lao\n",
      "Latvia\n",
      "Lebanon\n",
      "Lesotho\n",
      "Liberia\n",
      "Libya\n",
      "Lithuania\n",
      "Luxembourg\n",
      "Macedonia, FYR\n",
      "Madagascar\n",
      "Malawi\n",
      "Malaysia\n",
      "Maldives\n",
      "Mali\n",
      "Malta\n",
      "Mauritania\n",
      "Mauritius\n",
      "Micronesia, Fed. Sts.\n",
      "Moldova\n",
      "Mongolia\n",
      "Montenegro\n",
      "Morocco\n",
      "Mozambique\n",
      "Myanmar\n",
      "Namibia\n",
      "Nepal\n",
      "Netherlands\n",
      "New Zealand\n",
      "Niger\n",
      "Nigeria\n",
      "Norway\n",
      "Oman\n",
      "Pakistan\n",
      "Panama\n",
      "Paraguay\n",
      "Peru\n",
      "Philippines\n",
      "Poland\n",
      "Portugal\n",
      "Qatar\n",
      "Romania\n",
      "Russia\n",
      "Rwanda\n",
      "Samoa\n",
      "Saudi Arabia\n",
      "Senegal\n",
      "Serbia\n",
      "Seychelles\n",
      "Sierra Leone\n",
      "Singapore\n",
      "Slovak Republic\n",
      "Slovenia\n",
      "Solomon Islands\n",
      "South Africa\n",
      "South Korea\n",
      "Spain\n",
      "Sri Lanka\n",
      "St. Vincent and the Grenadines\n",
      "Sudan\n",
      "Suriname\n",
      "Sweden\n",
      "Switzerland\n",
      "Tajikistan\n",
      "Tanzania\n",
      "Thailand\n",
      "Timor-Leste\n",
      "Togo\n",
      "Tonga\n",
      "Tunisia\n",
      "Turkey\n",
      "Turkmenistan\n",
      "Uganda\n",
      "Ukraine\n",
      "United Arab Emirates\n",
      "United Kingdom\n",
      "United States\n",
      "Uruguay\n",
      "Uzbekistan\n",
      "Vanuatu\n",
      "Venezuela\n",
      "Vietnam\n",
      "Yemen\n",
      "Zambia\n"
     ]
    }
   ],
   "source": [
    "for i in range(-1, number_of_clusters):\n",
    "    print(\"Cluster\", i, \"\\n\")\n",
    "    for j in range(len(labels)):\n",
    "        if labels[j] == i:\n",
    "            print(countries[j])"
   ]
  },
  {
   "attachments": {},
   "cell_type": "markdown",
   "metadata": {},
   "source": [
    "# HDBSCAN"
   ]
  },
  {
   "cell_type": "code",
   "execution_count": null,
   "metadata": {},
   "outputs": [],
   "source": [
    "from scripts import *"
   ]
  },
  {
   "cell_type": "code",
   "execution_count": null,
   "metadata": {},
   "outputs": [
    {
     "data": {
      "image/png": "[encoded data removed]",
      "text/plain": [
       "<Figure size 600x500 with 1 Axes>"
      ]
     },
     "metadata": {},
     "output_type": "display_data"
    }
   ],
   "source": [
    "raw_data = pd.read_csv('../data/country-data.csv')\n",
    "countries, df, explained_variance = pre_process_data(raw_data, 'minmax', pca=True, pca_components=3, plot_scree_plot=True)\n"
   ]
  },
  {
   "cell_type": "code",
   "execution_count": null,
   "metadata": {},
   "outputs": [],
   "source": [
    "## DBSCAN with eps=0.08 and min_samples=4\n",
    "from sklearn.cluster import DBSCAN\n",
    "dbscan = DBSCAN(eps=0.12, min_samples=4)\n",
    "dbscan.fit_predict(df)\n",
    "labels = dbscan.labels_\n",
    "df['cluster'] = labels\n",
    "core_indices = dbscan.core_sample_indices_\n",
    "n_core = len(core_indices)\n",
    "number_of_anomalies = len([x for x in labels if x == -1])\n",
    "number_of_clusters = len(set(labels)) - (1 if -1 in labels else 0)\n",
    "#n_points_clusters = OrderedDict(Counter(sorted(labels)))\n",
    "components = dbscan.components_"
   ]
  },
  {
   "cell_type": "code",
   "execution_count": null,
   "metadata": {},
   "outputs": [
    {
     "data": {
      "text/html": [
       "<div>\n",
       "<style scoped>\n",
       "    .dataframe tbody tr th:only-of-type {\n",
       "        vertical-align: middle;\n",
       "    }\n",
       "\n",
       "    .dataframe tbody tr th {\n",
       "        vertical-align: top;\n",
       "    }\n",
       "\n",
       "    .dataframe thead th {\n",
       "        text-align: right;\n",
       "    }\n",
       "</style>\n",
       "<table border=\"1\" class=\"dataframe\">\n",
       "  <thead>\n",
       "    <tr style=\"text-align: right;\">\n",
       "      <th></th>\n",
       "      <th>PC1</th>\n",
       "      <th>PC2</th>\n",
       "      <th>PC3</th>\n",
       "    </tr>\n",
       "    <tr>\n",
       "      <th>cluster</th>\n",
       "      <th></th>\n",
       "      <th></th>\n",
       "      <th></th>\n",
       "    </tr>\n",
       "  </thead>\n",
       "  <tbody>\n",
       "    <tr>\n",
       "      <th>0</th>\n",
       "      <td>-0.0361560</td>\n",
       "      <td>-0.0730999</td>\n",
       "      <td>-0.0449207</td>\n",
       "    </tr>\n",
       "    <tr>\n",
       "      <th>1</th>\n",
       "      <td>0.4438611</td>\n",
       "      <td>0.0208419</td>\n",
       "      <td>0.2533926</td>\n",
       "    </tr>\n",
       "    <tr>\n",
       "      <th>2</th>\n",
       "      <td>-0.7750412</td>\n",
       "      <td>0.2070509</td>\n",
       "      <td>0.0586099</td>\n",
       "    </tr>\n",
       "  </tbody>\n",
       "</table>\n",
       "</div>"
      ],
      "text/plain": [
       "               PC1        PC2        PC3\n",
       "cluster                                 \n",
       "0       -0.0361560 -0.0730999 -0.0449207\n",
       "1        0.4438611  0.0208419  0.2533926\n",
       "2       -0.7750412  0.2070509  0.0586099"
      ]
     },
     "execution_count": 40,
     "metadata": {},
     "output_type": "execute_result"
    }
   ],
   "source": [
    "#df_pivot = df.drop('-1',axis=0).pivot_table(index='cluster', aggfunc='mean')\n",
    "### drop if cluster is -1\n",
    "df_pivot = df[df.cluster != -1].pivot_table(index='cluster', aggfunc='mean')\n",
    "df_pivot"
   ]
  },
  {
   "cell_type": "code",
   "execution_count": null,
   "metadata": {},
   "outputs": [],
   "source": [
    "df['country'] = countries\n",
    "df = df[df['cluster'] != -1]\n",
    "countries = df['country']"
   ]
  },
  {
   "cell_type": "code",
   "execution_count": null,
   "metadata": {},
   "outputs": [
    {
     "data": {
      "application/vnd.plotly.v1+json": {
       "config": {
        "plotlyServerURL": "https://plot.ly"
       },
       "data": [
        {
         "hovertemplate": "<b>%{hovertext}</b><br><br>PC1=%{x}<br>PC3=%{y}<br>cluster=%{marker.color}<extra></extra>",
         "hovertext": [
          "Afghanistan",
          "Albania",
          "Algeria",
          "Angola",
          "Antigua and Barbuda",
          "Argentina",
          "Armenia",
          "Australia",
          "Austria",
          "Azerbaijan",
          "Bahamas",
          "Bahrain",
          "Bangladesh",
          "Barbados",
          "Belarus",
          "Belgium",
          "Belize",
          "Benin",
          "Bhutan",
          "Bolivia",
          "Bosnia and Herzegovina",
          "Botswana",
          "Brazil",
          "Brunei",
          "Bulgaria",
          "Burkina Faso",
          "Burundi",
          "Cambodia",
          "Cameroon",
          "Canada",
          "Cape Verde",
          "Central African Republic",
          "Chad",
          "Chile",
          "China",
          "Colombia",
          "Comoros",
          "Congo, Dem. Rep.",
          "Congo, Rep.",
          "Costa Rica",
          "Cote d'Ivoire",
          "Croatia",
          "Cyprus",
          "Czech Republic",
          "Denmark",
          "Dominican Republic",
          "Ecuador",
          "Egypt",
          "El Salvador",
          "Equatorial Guinea",
          "Eritrea",
          "Estonia",
          "Fiji",
          "Finland",
          "France",
          "Gabon",
          "Gambia",
          "Georgia",
          "Germany",
          "Ghana",
          "Greece",
          "Grenada",
          "Guatemala",
          "Guinea",
          "Guinea-Bissau",
          "Guyana",
          "Haiti",
          "Hungary",
          "Iceland",
          "India",
          "Indonesia",
          "Iran",
          "Iraq",
          "Ireland",
          "Israel",
          "Italy",
          "Jamaica",
          "Japan",
          "Jordan",
          "Kazakhstan",
          "Kenya",
          "Kiribati",
          "Kuwait",
          "Kyrgyz Republic",
          "Lao",
          "Latvia",
          "Lebanon",
          "Lesotho",
          "Liberia",
          "Libya",
          "Lithuania",
          "Luxembourg",
          "Macedonia, FYR",
          "Madagascar",
          "Malawi",
          "Malaysia",
          "Maldives",
          "Mali",
          "Malta",
          "Mauritania",
          "Mauritius",
          "Micronesia, Fed. Sts.",
          "Moldova",
          "Mongolia",
          "Montenegro",
          "Morocco",
          "Mozambique",
          "Myanmar",
          "Namibia",
          "Nepal",
          "Netherlands",
          "New Zealand",
          "Niger",
          "Nigeria",
          "Norway",
          "Oman",
          "Pakistan",
          "Panama",
          "Paraguay",
          "Peru",
          "Philippines",
          "Poland",
          "Portugal",
          "Qatar",
          "Romania",
          "Russia",
          "Rwanda",
          "Samoa",
          "Saudi Arabia",
          "Senegal",
          "Serbia",
          "Seychelles",
          "Sierra Leone",
          "Singapore",
          "Slovak Republic",
          "Slovenia",
          "Solomon Islands",
          "South Africa",
          "South Korea",
          "Spain",
          "Sri Lanka",
          "St. Vincent and the Grenadines",
          "Sudan",
          "Suriname",
          "Sweden",
          "Switzerland",
          "Tajikistan",
          "Tanzania",
          "Thailand",
          "Timor-Leste",
          "Togo",
          "Tonga",
          "Tunisia",
          "Turkey",
          "Turkmenistan",
          "Uganda",
          "Ukraine",
          "United Arab Emirates",
          "United Kingdom",
          "United States",
          "Uruguay",
          "Uzbekistan",
          "Vanuatu",
          "Venezuela",
          "Vietnam",
          "Yemen",
          "Zambia"
         ],
         "legendgroup": "",
         "marker": {
          "color": [
           0,
           0,
           0,
           -1,
           0,
           0,
           0,
           1,
           1,
           0,
           0,
           0,
           0,
           0,
           0,
           -1,
           0,
           0,
           0,
           0,
           0,
           0,
           0,
           -1,
           0,
           0,
           -1,
           0,
           0,
           1,
           0,
           2,
           2,
           0,
           0,
           0,
           0,
           2,
           -1,
           0,
           0,
           0,
           0,
           0,
           1,
           0,
           0,
           0,
           0,
           -1,
           0,
           0,
           0,
           1,
           1,
           0,
           0,
           0,
           1,
           0,
           1,
           0,
           0,
           0,
           0,
           0,
           2,
           0,
           1,
           0,
           0,
           0,
           0,
           -1,
           0,
           1,
           0,
           1,
           0,
           0,
           0,
           0,
           -1,
           0,
           0,
           0,
           0,
           -1,
           -1,
           0,
           0,
           -1,
           0,
           0,
           0,
           0,
           0,
           2,
           -1,
           -1,
           0,
           -1,
           0,
           0,
           0,
           0,
           0,
           0,
           -1,
           0,
           1,
           1,
           2,
           2,
           -1,
           0,
           0,
           -1,
           0,
           0,
           0,
           0,
           1,
           -1,
           0,
           0,
           -1,
           0,
           0,
           0,
           0,
           -1,
           -1,
           -1,
           0,
           0,
           0,
           0,
           0,
           1,
           0,
           0,
           0,
           0,
           1,
           -1,
           0,
           0,
           0,
           -1,
           0,
           0,
           0,
           0,
           -1,
           0,
           0,
           -1,
           1,
           -1,
           0,
           0,
           0,
           0,
           0,
           0,
           0
          ],
          "coloraxis": "coloraxis",
          "symbol": "circle"
         },
         "mode": "markers",
         "name": "",
         "orientation": "v",
         "showlegend": false,
         "type": "scatter",
         "x": [
          -0.5990776408933924,
          0.15847429673261335,
          0.0036855177352033077,
          -0.6502349912467081,
          0.20071124261596324,
          0.1125340013545153,
          0.08748612332997943,
          0.440783586238544,
          0.5205263926665187,
          0.03880914545463237,
          0.25330504129968373,
          0.28004875363781073,
          -0.10721303971102701,
          0.23240595477558443,
          0.18238382723518132,
          0.4955252868934174,
          0.03439589776107488,
          -0.5721153282550093,
          -0.007218397155775323,
          -0.1208672258042988,
          0.2599988414217384,
          -0.1537206138089997,
          0.1396248941256216,
          0.4204160178754092,
          0.20775215796331278,
          -0.6538925108450021,
          -0.6097543899838296,
          -0.10913559793860281,
          -0.5745202803834539,
          0.4765477502796918,
          -0.007554432973361404,
          -0.7858316644817721,
          -0.8034838893582714,
          0.23936517643219535,
          0.12443896375920946,
          0.1160064523538468,
          -0.4296805928972022,
          -0.6939619357067806,
          -0.3921384313651639,
          0.23640676125592816,
          -0.5739691560831601,
          0.2650144432355151,
          0.4048801378198109,
          0.36268560195194366,
          0.5105399799986365,
          0.009573694302030733,
          0.053959951496787326,
          -0.0986543110866529,
          0.07092179321796026,
          -0.38798839615440106,
          -0.42124556726533635,
          0.29067168111833264,
          -0.031107783787834877,
          0.4377602021056352,
          0.41641464151826474,
          -0.27613030106738895,
          -0.48973168952192536,
          0.127982637292986,
          0.4909651019603384,
          -0.37608885572213174,
          0.3780996531975858,
          0.07644149860020613,
          -0.10013496920566024,
          -0.5962174429893381,
          -0.5779248168494965,
          -0.05987286592601823,
          -0.8363862705231495,
          0.3309635777501881,
          0.42407757770177656,
          -0.1703783030318848,
          -0.0720036204663898,
          0.11973000346143772,
          -0.2095220257842669,
          0.5274460071080211,
          0.24823305569699408,
          0.4325744825044996,
          0.07650104644178078,
          0.46335846204288983,
          -0.0035600264464181737,
          0.01119959532095221,
          -0.3590427353113358,
          -0.2596553927519397,
          0.3957758163902336,
          -0.06689228935256039,
          -0.26355172246285596,
          0.2527443757413566,
          0.2563848722995771,
          -0.3857155015584067,
          -0.4212670584114022,
          0.16163536885430832,
          0.2700386913197652,
          0.9412939924726453,
          0.19607231760085767,
          -0.40635681793120026,
          -0.5854689657395733,
          0.20279801590874522,
          0.18814022366874375,
          -0.7560836209347952,
          0.5147457120770221,
          -0.4260122796391241,
          0.19700164353745986,
          -0.09390392690392127,
          0.17482099420685193,
          -0.06437252358612192,
          0.22757153046449213,
          -0.007829789180748016,
          -0.61627757352232,
          -0.21172988495630465,
          -0.23024123155896925,
          -0.13663045679082592,
          0.5394099826515577,
          0.34716647865518413,
          -0.8088184692474699,
          -0.7407228826991712,
          0.6247482827023403,
          0.18014260903823157,
          -0.3973298833393518,
          0.16685378525522016,
          0.03373964898834612,
          0.061038634463713215,
          -0.11467801783145014,
          0.2785837877848749,
          0.3789625306798055,
          0.6386728672340589,
          0.17896186400656294,
          0.14392968480088972,
          -0.325743455634283,
          -0.13750602491724206,
          0.15119100849618466,
          -0.4080563416353287,
          0.23444950847699872,
          0.2049934671300011,
          -0.6760219880914474,
          0.7668282160875248,
          0.34875375900775796,
          0.3978660221374692,
          -0.2035514970429371,
          -0.17039397451706387,
          0.3868371823121319,
          0.41748839329320847,
          0.03586661233015063,
          0.06481523981896567,
          -0.415458821165521,
          0.05478632945158533,
          0.480069292613334,
          0.6647561884795673,
          -0.19553566501011277,
          -0.507028918614955,
          0.20256840955468985,
          -0.45369893973635805,
          -0.4553435949145307,
          -0.13345911250920808,
          0.13881161533109562,
          0.14686767405707796,
          -0.11434334945248649,
          -0.5931654277624746,
          0.15093361076806283,
          0.39513640329229865,
          0.3908949123765818,
          0.4836120747474237,
          0.1796987401723982,
          -0.056581930112741215,
          -0.1600783809462304,
          0.0611331856840031,
          0.11551227800655797,
          -0.3329682454570165,
          -0.5738966875202655
         ],
         "xaxis": "x",
         "y": [
          0.1575538087566892,
          -0.06418900181211139,
          -0.13418203164387005,
          -0.14267249313038383,
          -0.10071548869889753,
          0.11894180938466802,
          -0.15356622668418554,
          0.26919877426556216,
          0.2435197326573565,
          -0.07862790089153321,
          0.08019007956722635,
          -0.15126383988151612,
          -0.1228911762953073,
          0.025002079397384046,
          -0.190406897519765,
          0.13560605134912437,
          -0.17336680640886643,
          -0.021577412258331083,
          -0.17276864261686026,
          -0.10254255555339446,
          0.1379302339417822,
          0.04029735422255062,
          0.1800435781571673,
          -0.15855807186886428,
          -0.09221132667167654,
          0.1409493637640993,
          0.3760401676248116,
          -0.14367346126079855,
          0.041858607749797466,
          0.3357626328271278,
          -0.18599421871760569,
          0.024783964675846825,
          0.012611871638339356,
          0.04731193476678184,
          -0.09000889934616078,
          0.08177126457706564,
          -0.04168589218929564,
          0.13008407775187183,
          -0.2886890316249404,
          0.17842177411326288,
          -0.03010434496540898,
          0.021306077048369974,
          -0.06993313001577016,
          -0.049144784931793,
          0.31544586561670096,
          -0.0044745819857135985,
          0.069435059888357,
          -0.06439253314792787,
          -0.0267679936612544,
          -0.11312680175481517,
          -0.08477023310560215,
          -0.1809448679438921,
          -0.2036756128368337,
          0.19410305032586367,
          0.3636002063627313,
          -0.12046673346587043,
          0.03892638000455182,
          0.08695672604648466,
          0.29084602677865584,
          -0.04707107792631576,
          0.2302371256179586,
          -0.06353255399949391,
          0.026349737269133932,
          -0.015190365195746444,
          0.20310701715667503,
          -0.18973186156258356,
          0.06749486170153579,
          -0.16186452317845032,
          0.17024147179294796,
          -0.10602110476606713,
          -0.18221110005921667,
          -0.04311966102165851,
          0.11424271286628263,
          0.01279700565874135,
          0.1255446990655143,
          0.22316487848595573,
          -0.14423263091654767,
          0.2893351405710417,
          -0.01294997971527486,
          -0.1333575843512083,
          -0.02822876739099211,
          0.21067269621104612,
          -0.15166542826031326,
          -0.1571029148500862,
          -0.1256531675817,
          -0.1034709046184335,
          -0.06008313219974712,
          0.11218165655492729,
          0.24095481089846424,
          -0.20579056275884638,
          -0.12472812078561103,
          -0.11754276250605276,
          -0.08244769536502361,
          -0.10035153645746539,
          0.08544699202130031,
          -0.2945559574075631,
          -0.1763828272968324,
          0.06995900145738448,
          -0.34125534110564015,
          -0.12431753152327125,
          -0.1467434044749382,
          0.3126875086882689,
          0.08687887766228576,
          -0.16217221081774996,
          0.028056889797982112,
          -0.09859982699992494,
          -0.003888612377723422,
          -0.11894776221487165,
          -0.03960884795687551,
          -0.05039773321985118,
          0.24041714715005652,
          0.24988741214721177,
          0.07381980501387844,
          0.031515747344930754,
          0.3682175669539781,
          -0.2180640726437882,
          -0.11619554276036476,
          -0.078154653588046,
          -0.1269747561749904,
          -0.06334917550054986,
          -0.15952853259000227,
          -0.010904944827085579,
          0.22096529539510215,
          -0.05238759827341307,
          -0.09072882262736189,
          -0.07496297614495952,
          0.2771948083525917,
          -0.006618408438185641,
          -0.09581057871288594,
          0.01763806188777428,
          0.10771810998284498,
          -0.4062296813415434,
          0.442566669237809,
          -0.6016968545344252,
          -0.06391599881815496,
          0.04102159088193343,
          -0.004575235731482988,
          0.13784952660875255,
          -0.03525456209898676,
          0.20419030435334926,
          -0.18720404028263699,
          -0.1587205251653975,
          0.09301287251213794,
          -0.031869806184247215,
          0.22882072191358518,
          0.3249174037869766,
          -0.03444314933625736,
          0.07338396401068137,
          -0.28882939461127777,
          0.2777201881484142,
          0.05854853958345193,
          -0.06816898960912832,
          -0.12157826070879818,
          0.038046184248674966,
          -0.29269578598269735,
          0.24573722661139566,
          -0.06725569808862038,
          -0.21230773055550708,
          0.23793784808247348,
          0.7328871925888835,
          0.10274376550103134,
          -0.062398062287598116,
          -0.1219095111848207,
          -0.05858604147584543,
          -0.19524300706979267,
          -0.02998902827953596,
          0.0325523203441141
         ],
         "yaxis": "y"
        }
       ],
       "layout": {
        "coloraxis": {
         "colorbar": {
          "title": {
           "text": "cluster"
          }
         },
         "colorscale": [
          [
           0,
           "#0d0887"
          ],
          [
           0.1111111111111111,
           "#46039f"
          ],
          [
           0.2222222222222222,
           "#7201a8"
          ],
          [
           0.3333333333333333,
           "#9c179e"
          ],
          [
           0.4444444444444444,
           "#bd3786"
          ],
          [
           0.5555555555555556,
           "#d8576b"
          ],
          [
           0.6666666666666666,
           "#ed7953"
          ],
          [
           0.7777777777777778,
           "#fb9f3a"
          ],
          [
           0.8888888888888888,
           "#fdca26"
          ],
          [
           1,
           "#f0f921"
          ]
         ]
        },
        "height": 500,
        "legend": {
         "tracegroupgap": 0
        },
        "margin": {
         "t": 60
        },
        "template": {
         "data": {
          "bar": [
           {
            "error_x": {
             "color": "#2a3f5f"
            },
            "error_y": {
             "color": "#2a3f5f"
            },
            "marker": {
             "line": {
              "color": "#E5ECF6",
              "width": 0.5
             },
             "pattern": {
              "fillmode": "overlay",
              "size": 10,
              "solidity": 0.2
             }
            },
            "type": "bar"
           }
          ],
          "barpolar": [
           {
            "marker": {
             "line": {
              "color": "#E5ECF6",
              "width": 0.5
             },
             "pattern": {
              "fillmode": "overlay",
              "size": 10,
              "solidity": 0.2
             }
            },
            "type": "barpolar"
           }
          ],
          "carpet": [
           {
            "aaxis": {
             "endlinecolor": "#2a3f5f",
             "gridcolor": "white",
             "linecolor": "white",
             "minorgridcolor": "white",
             "startlinecolor": "#2a3f5f"
            },
            "baxis": {
             "endlinecolor": "#2a3f5f",
             "gridcolor": "white",
             "linecolor": "white",
             "minorgridcolor": "white",
             "startlinecolor": "#2a3f5f"
            },
            "type": "carpet"
           }
          ],
          "choropleth": [
           {
            "colorbar": {
             "outlinewidth": 0,
             "ticks": ""
            },
            "type": "choropleth"
           }
          ],
          "contour": [
           {
            "colorbar": {
             "outlinewidth": 0,
             "ticks": ""
            },
            "colorscale": [
             [
              0,
              "#0d0887"
             ],
             [
              0.1111111111111111,
              "#46039f"
             ],
             [
              0.2222222222222222,
              "#7201a8"
             ],
             [
              0.3333333333333333,
              "#9c179e"
             ],
             [
              0.4444444444444444,
              "#bd3786"
             ],
             [
              0.5555555555555556,
              "#d8576b"
             ],
             [
              0.6666666666666666,
              "#ed7953"
             ],
             [
              0.7777777777777778,
              "#fb9f3a"
             ],
             [
              0.8888888888888888,
              "#fdca26"
             ],
             [
              1,
              "#f0f921"
             ]
            ],
            "type": "contour"
           }
          ],
          "contourcarpet": [
           {
            "colorbar": {
             "outlinewidth": 0,
             "ticks": ""
            },
            "type": "contourcarpet"
           }
          ],
          "heatmap": [
           {
            "colorbar": {
             "outlinewidth": 0,
             "ticks": ""
            },
            "colorscale": [
             [
              0,
              "#0d0887"
             ],
             [
              0.1111111111111111,
              "#46039f"
             ],
             [
              0.2222222222222222,
              "#7201a8"
             ],
             [
              0.3333333333333333,
              "#9c179e"
             ],
             [
              0.4444444444444444,
              "#bd3786"
             ],
             [
              0.5555555555555556,
              "#d8576b"
             ],
             [
              0.6666666666666666,
              "#ed7953"
             ],
             [
              0.7777777777777778,
              "#fb9f3a"
             ],
             [
              0.8888888888888888,
              "#fdca26"
             ],
             [
              1,
              "#f0f921"
             ]
            ],
            "type": "heatmap"
           }
          ],
          "heatmapgl": [
           {
            "colorbar": {
             "outlinewidth": 0,
             "ticks": ""
            },
            "colorscale": [
             [
              0,
              "#0d0887"
             ],
             [
              0.1111111111111111,
              "#46039f"
             ],
             [
              0.2222222222222222,
              "#7201a8"
             ],
             [
              0.3333333333333333,
              "#9c179e"
             ],
             [
              0.4444444444444444,
              "#bd3786"
             ],
             [
              0.5555555555555556,
              "#d8576b"
             ],
             [
              0.6666666666666666,
              "#ed7953"
             ],
             [
              0.7777777777777778,
              "#fb9f3a"
             ],
             [
              0.8888888888888888,
              "#fdca26"
             ],
             [
              1,
              "#f0f921"
             ]
            ],
            "type": "heatmapgl"
           }
          ],
          "histogram": [
           {
            "marker": {
             "pattern": {
              "fillmode": "overlay",
              "size": 10,
              "solidity": 0.2
             }
            },
            "type": "histogram"
           }
          ],
          "histogram2d": [
           {
            "colorbar": {
             "outlinewidth": 0,
             "ticks": ""
            },
            "colorscale": [
             [
              0,
              "#0d0887"
             ],
             [
              0.1111111111111111,
              "#46039f"
             ],
             [
              0.2222222222222222,
              "#7201a8"
             ],
             [
              0.3333333333333333,
              "#9c179e"
             ],
             [
              0.4444444444444444,
              "#bd3786"
             ],
             [
              0.5555555555555556,
              "#d8576b"
             ],
             [
              0.6666666666666666,
              "#ed7953"
             ],
             [
              0.7777777777777778,
              "#fb9f3a"
             ],
             [
              0.8888888888888888,
              "#fdca26"
             ],
             [
              1,
              "#f0f921"
             ]
            ],
            "type": "histogram2d"
           }
          ],
          "histogram2dcontour": [
           {
            "colorbar": {
             "outlinewidth": 0,
             "ticks": ""
            },
            "colorscale": [
             [
              0,
              "#0d0887"
             ],
             [
              0.1111111111111111,
              "#46039f"
             ],
             [
              0.2222222222222222,
              "#7201a8"
             ],
             [
              0.3333333333333333,
              "#9c179e"
             ],
             [
              0.4444444444444444,
              "#bd3786"
             ],
             [
              0.5555555555555556,
              "#d8576b"
             ],
             [
              0.6666666666666666,
              "#ed7953"
             ],
             [
              0.7777777777777778,
              "#fb9f3a"
             ],
             [
              0.8888888888888888,
              "#fdca26"
             ],
             [
              1,
              "#f0f921"
             ]
            ],
            "type": "histogram2dcontour"
           }
          ],
          "mesh3d": [
           {
            "colorbar": {
             "outlinewidth": 0,
             "ticks": ""
            },
            "type": "mesh3d"
           }
          ],
          "parcoords": [
           {
            "line": {
             "colorbar": {
              "outlinewidth": 0,
              "ticks": ""
             }
            },
            "type": "parcoords"
           }
          ],
          "pie": [
           {
            "automargin": true,
            "type": "pie"
           }
          ],
          "scatter": [
           {
            "fillpattern": {
             "fillmode": "overlay",
             "size": 10,
             "solidity": 0.2
            },
            "type": "scatter"
           }
          ],
          "scatter3d": [
           {
            "line": {
             "colorbar": {
              "outlinewidth": 0,
              "ticks": ""
             }
            },
            "marker": {
             "colorbar": {
              "outlinewidth": 0,
              "ticks": ""
             }
            },
            "type": "scatter3d"
           }
          ],
          "scattercarpet": [
           {
            "marker": {
             "colorbar": {
              "outlinewidth": 0,
              "ticks": ""
             }
            },
            "type": "scattercarpet"
           }
          ],
          "scattergeo": [
           {
            "marker": {
             "colorbar": {
              "outlinewidth": 0,
              "ticks": ""
             }
            },
            "type": "scattergeo"
           }
          ],
          "scattergl": [
           {
            "marker": {
             "colorbar": {
              "outlinewidth": 0,
              "ticks": ""
             }
            },
            "type": "scattergl"
           }
          ],
          "scattermapbox": [
           {
            "marker": {
             "colorbar": {
              "outlinewidth": 0,
              "ticks": ""
             }
            },
            "type": "scattermapbox"
           }
          ],
          "scatterpolar": [
           {
            "marker": {
             "colorbar": {
              "outlinewidth": 0,
              "ticks": ""
             }
            },
            "type": "scatterpolar"
           }
          ],
          "scatterpolargl": [
           {
            "marker": {
             "colorbar": {
              "outlinewidth": 0,
              "ticks": ""
             }
            },
            "type": "scatterpolargl"
           }
          ],
          "scatterternary": [
           {
            "marker": {
             "colorbar": {
              "outlinewidth": 0,
              "ticks": ""
             }
            },
            "type": "scatterternary"
           }
          ],
          "surface": [
           {
            "colorbar": {
             "outlinewidth": 0,
             "ticks": ""
            },
            "colorscale": [
             [
              0,
              "#0d0887"
             ],
             [
              0.1111111111111111,
              "#46039f"
             ],
             [
              0.2222222222222222,
              "#7201a8"
             ],
             [
              0.3333333333333333,
              "#9c179e"
             ],
             [
              0.4444444444444444,
              "#bd3786"
             ],
             [
              0.5555555555555556,
              "#d8576b"
             ],
             [
              0.6666666666666666,
              "#ed7953"
             ],
             [
              0.7777777777777778,
              "#fb9f3a"
             ],
             [
              0.8888888888888888,
              "#fdca26"
             ],
             [
              1,
              "#f0f921"
             ]
            ],
            "type": "surface"
           }
          ],
          "table": [
           {
            "cells": {
             "fill": {
              "color": "#EBF0F8"
             },
             "line": {
              "color": "white"
             }
            },
            "header": {
             "fill": {
              "color": "#C8D4E3"
             },
             "line": {
              "color": "white"
             }
            },
            "type": "table"
           }
          ]
         },
         "layout": {
          "annotationdefaults": {
           "arrowcolor": "#2a3f5f",
           "arrowhead": 0,
           "arrowwidth": 1
          },
          "autotypenumbers": "strict",
          "coloraxis": {
           "colorbar": {
            "outlinewidth": 0,
            "ticks": ""
           }
          },
          "colorscale": {
           "diverging": [
            [
             0,
             "#8e0152"
            ],
            [
             0.1,
             "#c51b7d"
            ],
            [
             0.2,
             "#de77ae"
            ],
            [
             0.3,
             "#f1b6da"
            ],
            [
             0.4,
             "#fde0ef"
            ],
            [
             0.5,
             "#f7f7f7"
            ],
            [
             0.6,
             "#e6f5d0"
            ],
            [
             0.7,
             "#b8e186"
            ],
            [
             0.8,
             "#7fbc41"
            ],
            [
             0.9,
             "#4d9221"
            ],
            [
             1,
             "#276419"
            ]
           ],
           "sequential": [
            [
             0,
             "#0d0887"
            ],
            [
             0.1111111111111111,
             "#46039f"
            ],
            [
             0.2222222222222222,
             "#7201a8"
            ],
            [
             0.3333333333333333,
             "#9c179e"
            ],
            [
             0.4444444444444444,
             "#bd3786"
            ],
            [
             0.5555555555555556,
             "#d8576b"
            ],
            [
             0.6666666666666666,
             "#ed7953"
            ],
            [
             0.7777777777777778,
             "#fb9f3a"
            ],
            [
             0.8888888888888888,
             "#fdca26"
            ],
            [
             1,
             "#f0f921"
            ]
           ],
           "sequentialminus": [
            [
             0,
             "#0d0887"
            ],
            [
             0.1111111111111111,
             "#46039f"
            ],
            [
             0.2222222222222222,
             "#7201a8"
            ],
            [
             0.3333333333333333,
             "#9c179e"
            ],
            [
             0.4444444444444444,
             "#bd3786"
            ],
            [
             0.5555555555555556,
             "#d8576b"
            ],
            [
             0.6666666666666666,
             "#ed7953"
            ],
            [
             0.7777777777777778,
             "#fb9f3a"
            ],
            [
             0.8888888888888888,
             "#fdca26"
            ],
            [
             1,
             "#f0f921"
            ]
           ]
          },
          "colorway": [
           "#636efa",
           "#EF553B",
           "#00cc96",
           "#ab63fa",
           "#FFA15A",
           "#19d3f3",
           "#FF6692",
           "#B6E880",
           "#FF97FF",
           "#FECB52"
          ],
          "font": {
           "color": "#2a3f5f"
          },
          "geo": {
           "bgcolor": "white",
           "lakecolor": "white",
           "landcolor": "#E5ECF6",
           "showlakes": true,
           "showland": true,
           "subunitcolor": "white"
          },
          "hoverlabel": {
           "align": "left"
          },
          "hovermode": "closest",
          "mapbox": {
           "style": "light"
          },
          "paper_bgcolor": "white",
          "plot_bgcolor": "#E5ECF6",
          "polar": {
           "angularaxis": {
            "gridcolor": "white",
            "linecolor": "white",
            "ticks": ""
           },
           "bgcolor": "#E5ECF6",
           "radialaxis": {
            "gridcolor": "white",
            "linecolor": "white",
            "ticks": ""
           }
          },
          "scene": {
           "xaxis": {
            "backgroundcolor": "#E5ECF6",
            "gridcolor": "white",
            "gridwidth": 2,
            "linecolor": "white",
            "showbackground": true,
            "ticks": "",
            "zerolinecolor": "white"
           },
           "yaxis": {
            "backgroundcolor": "#E5ECF6",
            "gridcolor": "white",
            "gridwidth": 2,
            "linecolor": "white",
            "showbackground": true,
            "ticks": "",
            "zerolinecolor": "white"
           },
           "zaxis": {
            "backgroundcolor": "#E5ECF6",
            "gridcolor": "white",
            "gridwidth": 2,
            "linecolor": "white",
            "showbackground": true,
            "ticks": "",
            "zerolinecolor": "white"
           }
          },
          "shapedefaults": {
           "line": {
            "color": "#2a3f5f"
           }
          },
          "ternary": {
           "aaxis": {
            "gridcolor": "white",
            "linecolor": "white",
            "ticks": ""
           },
           "baxis": {
            "gridcolor": "white",
            "linecolor": "white",
            "ticks": ""
           },
           "bgcolor": "#E5ECF6",
           "caxis": {
            "gridcolor": "white",
            "linecolor": "white",
            "ticks": ""
           }
          },
          "title": {
           "x": 0.05
          },
          "xaxis": {
           "automargin": true,
           "gridcolor": "white",
           "linecolor": "white",
           "ticks": "",
           "title": {
            "standoff": 15
           },
           "zerolinecolor": "white",
           "zerolinewidth": 2
          },
          "yaxis": {
           "automargin": true,
           "gridcolor": "white",
           "linecolor": "white",
           "ticks": "",
           "title": {
            "standoff": 15
           },
           "zerolinecolor": "white",
           "zerolinewidth": 2
          }
         }
        },
        "width": 600,
        "xaxis": {
         "anchor": "y",
         "domain": [
          0,
          1
         ],
         "title": {
          "text": "PC1"
         }
        },
        "yaxis": {
         "anchor": "x",
         "domain": [
          0,
          1
         ],
         "title": {
          "text": "PC3"
         }
        }
       }
      }
     },
     "metadata": {},
     "output_type": "display_data"
    }
   ],
   "source": [
    "scatter_plot_data(df, ['PC1', 'PC3'], countries)"
   ]
  },
  {
   "cell_type": "code",
   "execution_count": null,
   "metadata": {},
   "outputs": [
    {
     "data": {
      "text/plain": [
       "array([ 3,  5,  5, -1,  5,  5,  5,  0,  0,  5,  5,  5,  5,  5,  5,  0,  5,\n",
       "        3,  5,  5,  5,  5,  5, -1,  5,  3, -1,  5,  3,  0,  5,  1,  1,  5,\n",
       "        5,  5,  2,  1, -1,  5,  3,  5,  4,  4,  0,  5,  5,  5,  5, -1, -1,\n",
       "        5,  5,  0,  0,  5,  3,  5,  0,  2,  0,  5,  5,  3,  3,  5,  1,  5,\n",
       "        0,  5,  5,  5,  5, -1, -1,  0,  5,  0, -1,  5,  2, -1, -1,  5, -1,\n",
       "        5,  5, -1, -1,  5,  5, -1,  5,  2,  3, -1,  5,  1, -1, -1,  5, -1,\n",
       "        5,  5,  5,  5,  3, -1,  5,  5,  0,  0,  1,  1, -1,  5,  2, -1,  5,\n",
       "        5,  5,  5,  0, -1,  5,  5, -1,  5, -1,  2,  5, -1, -1, -1,  4, -1,\n",
       "        5, -1,  4,  0, -1,  5, -1,  5,  0, -1,  5,  3, -1, -1, -1,  5,  5,\n",
       "        5, -1,  3,  5, -1,  0, -1,  5,  5,  5,  5,  5,  2,  3])"
      ]
     },
     "execution_count": 34,
     "metadata": {},
     "output_type": "execute_result"
    }
   ],
   "source": [
    "### implement hdbscan\n",
    "import hdbscan\n",
    "clusterer = hdbscan.HDBSCAN(min_cluster_size=4, min_samples=2)\n",
    "clusterer.fit_predict(df)"
   ]
  }
 ],
 "metadata": {
  "kernelspec": {
   "display_name": "stats_exam",
   "language": "python",
   "name": "python3"
  },
  "language_info": {
   "codemirror_mode": {
    "name": "ipython",
    "version": 3
   },
   "file_extension": ".py",
   "mimetype": "text/x-python",
   "name": "python",
   "nbconvert_exporter": "python",
   "pygments_lexer": "ipython3",
   "version": "3.9.4"
  },
  "orig_nbformat": 4,
  "vscode": {
   "interpreter": {
    "hash": "385d92de6db470fb2e5225f42a78c13f07bd894b7765e30051c00c9f444fadf3"
   }
  }
 },
 "nbformat": 4,
 "nbformat_minor": 2
}
