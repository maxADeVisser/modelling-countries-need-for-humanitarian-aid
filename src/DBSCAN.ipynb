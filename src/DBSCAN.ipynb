{
 "cells": [
  {
   "cell_type": "code",
   "execution_count": 24,
   "metadata": {},
   "outputs": [],
   "source": [
    "import pandas as pd  \n",
    "import matplotlib.pyplot as plt\n",
    "import seaborn as sns\n",
    "import numpy as np\n",
    " \n",
    "pd.set_option('display.max_columns', None) # display all columns\n",
    "pd.set_option(\"max_colwidth\", 40) # sets a maximum column width\n",
    "pd.set_option(\"display.precision\", 7) # sets the number of decimals shown\n",
    "pd.set_option(\"styler.format.precision\", 3) # rounds floats\n",
    "\n",
    "df = pd.read_csv('../data/country-data.csv')\n",
    "numerical_features = df.columns[1:]\n",
    "countries = df['country']\n",
    "\n",
    "df_pca = pd.read_csv('../data/country-data-pca.csv')"
   ]
  },
  {
   "cell_type": "markdown",
   "metadata": {},
   "source": [
    "# DBSCAN Clustering algorithm"
   ]
  },
  {
   "attachments": {},
   "cell_type": "markdown",
   "metadata": {},
   "source": [
    "DBSCAN works as following:\n",
    "- For each instance in the data, the algorithm counts how many instances are located within a small distance $\\epsilon$ (epsilon) from it. So, in 3-dimensional space, that would be the radius a sphere.\n",
    "- If an instance has at least `min_samples` instances in its $\\epsilon$-neighborhood (including itself), then it is considered a *core instance*. In other words; core instances are those that are located in dense regions.\n",
    "- All instances in the neighborhood of a core instance belong to the same cluster. This neighborhood may include other core instances; therefore, a long sequence of neighboring core instances forms a single cluster.\n",
    "- Any instance that is not a core instance and does not have one in its neighborhood is considered an anomaly.\n",
    "  "
   ]
  },
  {
   "cell_type": "code",
   "execution_count": 12,
   "metadata": {},
   "outputs": [],
   "source": [
    "from sklearn.cluster import DBSCAN\n",
    "from sklearn.neighbors import NearestNeighbors\n",
    "from collections import Counter, OrderedDict\n",
    "from sklearn.preprocessing import MinMaxScaler"
   ]
  },
  {
   "cell_type": "code",
   "execution_count": 33,
   "metadata": {},
   "outputs": [],
   "source": [
    "features = df.columns\n",
    "scaler = MinMaxScaler()\n",
    "\n",
    "scaled_raw_df = pd.DataFrame(scaler.fit_transform(df[numerical_features]))\n",
    "scaled_raw_df.columns = features[1:]\n",
    "\n",
    "scaled_pca_df = pd.DataFrame(scaler.fit_transform(df_pca[['PC1', 'PC2', 'PC3', 'PC4']]))\n",
    "scaled_pca_df.columns = ['PC1', 'PC2', 'PC3', 'PC4']"
   ]
  },
  {
   "cell_type": "code",
   "execution_count": 97,
   "metadata": {},
   "outputs": [
    {
     "name": "stdout",
     "output_type": "stream",
     "text": [
      "Labels:\n",
      " [ 0  1  1 -1  1  1  1 -1 -1  1 -1 -1  1  1  1 -1  1  0  1  1  3 -1  1 -1\n",
      "  1  0 -1  1  0 -1  1 -1 -1  1  1  1  0 -1 -1  3  0  1 -1 -1 -1  1  1  1\n",
      "  1 -1 -1  1  1  2 -1 -1  0  3 -1  0 -1  1  1  0  0  1 -1  1  2  1  1  1\n",
      " -1 -1 -1  2  1 -1 -1 -1  0 -1 -1  1  1  1  1 -1 -1 -1  1 -1  1  0  0 -1\n",
      "  1 -1 -1 -1  1 -1 -1  1  3  1  0 -1 -1  1 -1  2 -1 -1 -1 -1 -1 -1  1  1\n",
      "  1  1 -1 -1  1  1 -1  1 -1  0  3 -1 -1 -1 -1 -1 -1 -1 -1  2 -1  1 -1  1\n",
      "  2 -1  1  0 -1 -1 -1  1  1  1 -1  0  1 -1  2 -1  1  1  1 -1 -1  0  0]\n",
      "Core indices:\n",
      " [  0   1   4   6   9  12  13  14  16  17  18  19  24  27  28  30  33  34\n",
      "  35  36  41  45  47  52  53  56  59  61  63  65  69  71  75  76  80  85\n",
      "  86  90  92  93  94  96 100 103 105 106 109 118 119 121 124 125 127 129\n",
      " 130 141 147 151 152 153 156 158 160 161 162 165 166]\n",
      "67 core samples\n",
      "74 anomalies\n",
      "4 clusters\n",
      "OrderedDict([(-1, 74), (0, 19), (1, 62), (2, 7), (3, 5)]) points distribution\n"
     ]
    }
   ],
   "source": [
    "dbscan = DBSCAN(eps=0.08, min_samples=4) \n",
    "dbscan.fit(scaled_pca_df)\n",
    "\n",
    "labels = dbscan.labels_ # cluster labels for each country\n",
    "core_indices = dbscan.core_sample_indices_ # indices of the core samples\n",
    "n_core = len(core_indices) # number of countries considered a \"core\" samples\n",
    "number_of_anomalies = len([x for x in labels if x == -1]) # number of countries considered an \"outlier\"\n",
    "number_of_clusters = len(set(labels)) - (1 if -1 in labels else 0) # number of clusters\n",
    "n_points_clusters = OrderedDict(Counter(sorted(labels)))\n",
    "components = dbscan.components_ # values of the core samples\n",
    "\n",
    "print(\"Labels:\\n\", labels)\n",
    "print(\"Core indices:\\n\", core_indices)\n",
    "print(n_core, \"core samples\")\n",
    "print(number_of_anomalies, \"anomalies\")\n",
    "print(number_of_clusters, \"clusters\")\n",
    "print(n_points_clusters, \"points distribution\")\n",
    "\n",
    "anomaly_countries = []\n",
    "for i in range(len(labels)):\n",
    "    if labels[i] == -1:\n",
    "        anomaly_countries.append(countries[i])"
   ]
  },
  {
   "cell_type": "code",
   "execution_count": 50,
   "metadata": {},
   "outputs": [
    {
     "name": "stdout",
     "output_type": "stream",
     "text": [
      "Cluster -1 \n",
      "\n",
      "Angola\n",
      "Australia\n",
      "Austria\n",
      "Bahamas\n",
      "Bahrain\n",
      "Belgium\n",
      "Botswana\n",
      "Brunei\n",
      "Burundi\n",
      "Canada\n",
      "Central African Republic\n",
      "Chad\n",
      "Congo, Dem. Rep.\n",
      "Congo, Rep.\n",
      "Cyprus\n",
      "Czech Republic\n",
      "Denmark\n",
      "Equatorial Guinea\n",
      "Eritrea\n",
      "France\n",
      "Gabon\n",
      "Germany\n",
      "Greece\n",
      "Haiti\n",
      "Iraq\n",
      "Ireland\n",
      "Israel\n",
      "Japan\n",
      "Jordan\n",
      "Kazakhstan\n",
      "Kiribati\n",
      "Kuwait\n",
      "Lesotho\n",
      "Liberia\n",
      "Libya\n",
      "Luxembourg\n",
      "Malaysia\n",
      "Mali\n",
      "Malta\n",
      "Mauritania\n",
      "Micronesia, Fed. Sts.\n",
      "Moldova\n",
      "Myanmar\n",
      "Namibia\n",
      "Netherlands\n",
      "Niger\n",
      "Nigeria\n",
      "Norway\n",
      "Oman\n",
      "Pakistan\n",
      "Panama\n",
      "Portugal\n",
      "Qatar\n",
      "Rwanda\n",
      "Saudi Arabia\n",
      "Seychelles\n",
      "Sierra Leone\n",
      "Singapore\n",
      "Slovak Republic\n",
      "Slovenia\n",
      "Solomon Islands\n",
      "South Africa\n",
      "South Korea\n",
      "Sri Lanka\n",
      "Sudan\n",
      "Switzerland\n",
      "Thailand\n",
      "Timor-Leste\n",
      "Togo\n",
      "Turkmenistan\n",
      "United Arab Emirates\n",
      "United States\n",
      "Venezuela\n",
      "Vietnam\n",
      "Cluster 0 \n",
      "\n",
      "Afghanistan\n",
      "Benin\n",
      "Burkina Faso\n",
      "Cameroon\n",
      "Comoros\n",
      "Cote d'Ivoire\n",
      "Gambia\n",
      "Ghana\n",
      "Guinea\n",
      "Guinea-Bissau\n",
      "Kenya\n",
      "Madagascar\n",
      "Malawi\n",
      "Mozambique\n",
      "Senegal\n",
      "Tanzania\n",
      "Uganda\n",
      "Yemen\n",
      "Zambia\n",
      "Cluster 1 \n",
      "\n",
      "Albania\n",
      "Algeria\n",
      "Antigua and Barbuda\n",
      "Argentina\n",
      "Armenia\n",
      "Azerbaijan\n",
      "Bangladesh\n",
      "Barbados\n",
      "Belarus\n",
      "Belize\n",
      "Bhutan\n",
      "Bolivia\n",
      "Brazil\n",
      "Bulgaria\n",
      "Cambodia\n",
      "Cape Verde\n",
      "Chile\n",
      "China\n",
      "Colombia\n",
      "Croatia\n",
      "Dominican Republic\n",
      "Ecuador\n",
      "Egypt\n",
      "El Salvador\n",
      "Estonia\n",
      "Fiji\n",
      "Grenada\n",
      "Guatemala\n",
      "Guyana\n",
      "Hungary\n",
      "India\n",
      "Indonesia\n",
      "Iran\n",
      "Jamaica\n",
      "Kyrgyz Republic\n",
      "Lao\n",
      "Latvia\n",
      "Lebanon\n",
      "Lithuania\n",
      "Macedonia, FYR\n",
      "Maldives\n",
      "Mauritius\n",
      "Mongolia\n",
      "Morocco\n",
      "Nepal\n",
      "Paraguay\n",
      "Peru\n",
      "Philippines\n",
      "Poland\n",
      "Romania\n",
      "Russia\n",
      "Samoa\n",
      "St. Vincent and the Grenadines\n",
      "Suriname\n",
      "Tajikistan\n",
      "Tonga\n",
      "Tunisia\n",
      "Turkey\n",
      "Ukraine\n",
      "Uruguay\n",
      "Uzbekistan\n",
      "Vanuatu\n",
      "Cluster 2 \n",
      "\n",
      "Finland\n",
      "Iceland\n",
      "Italy\n",
      "New Zealand\n",
      "Spain\n",
      "Sweden\n",
      "United Kingdom\n",
      "Cluster 3 \n",
      "\n",
      "Bosnia and Herzegovina\n",
      "Costa Rica\n",
      "Georgia\n",
      "Montenegro\n",
      "Serbia\n"
     ]
    }
   ],
   "source": [
    "for i in range(-1, number_of_clusters):\n",
    "    print(\"Cluster\", i, \"\\n\")\n",
    "    for j in range(len(labels)):\n",
    "        if labels[j] == i:\n",
    "            print(countries[j])"
   ]
  },
  {
   "attachments": {},
   "cell_type": "markdown",
   "metadata": {},
   "source": [
    "## Determine the optimal value for $\\epsilon$"
   ]
  },
  {
   "attachments": {},
   "cell_type": "markdown",
   "metadata": {},
   "source": [
    "Source:\n",
    "https://towardsdatascience.com/machine-learning-clustering-dbscan-determine-the-optimal-value-for-epsilon-eps-python-example-3100091cfbc\n",
    "\n",
    "To determine a a good value for $\\epsilon$, we find a suitable value for $\\epsilon$ by calculating the distance to the nearest $n$ points for each point, sorting and plotting the results. Then we look to see where the change is most pronounced and select that as $\\epsilon$.\n",
    "\n",
    "we can calculate the distance from each point to its closest neighbour using the `NearestNeighbors`. The point itself is included in `n_neighbors`. The `kneighbors` method returns two arrays, one which contains the distance to the closest `n_neighbors` points and the other which contains the index for each of those points."
   ]
  },
  {
   "cell_type": "code",
   "execution_count": 58,
   "metadata": {},
   "outputs": [],
   "source": [
    "from sklearn.neighbors import NearestNeighbors"
   ]
  },
  {
   "cell_type": "code",
   "execution_count": 94,
   "metadata": {},
   "outputs": [
    {
     "data": {
      "image/png": "[encoded data removed]",
      "text/plain": [
       "<Figure size 640x480 with 1 Axes>"
      ]
     },
     "metadata": {},
     "output_type": "display_data"
    }
   ],
   "source": [
    "neigh = NearestNeighbors(n_neighbors=2) # instanciate NearestNeighbors object\n",
    "nbrs = neigh.fit(scaled_pca_df) # fit the object to the data\n",
    "distances, indices = nbrs.kneighbors(scaled_pca_df)\n",
    "distances = np.sort(distances, axis=0)[:,1] # sort the distances and keep only the second column\n",
    "plt.plot(distances)\n",
    "plt.grid()"
   ]
  },
  {
   "attachments": {},
   "cell_type": "markdown",
   "metadata": {},
   "source": [
    "# HDBSCAN"
   ]
  },
  {
   "cell_type": "code",
   "execution_count": 11,
   "metadata": {},
   "outputs": [],
   "source": [
    "# TODO Try to implement this to see if we get better results since hierarchical clustering worked well"
   ]
  }
 ],
 "metadata": {
  "kernelspec": {
   "display_name": "Python 3.9.4 64-bit ('stats_exam')",
   "language": "python",
   "name": "python3"
  },
  "language_info": {
   "codemirror_mode": {
    "name": "ipython",
    "version": 3
   },
   "file_extension": ".py",
   "mimetype": "text/x-python",
   "name": "python",
   "nbconvert_exporter": "python",
   "pygments_lexer": "ipython3",
   "version": "3.9.4"
  },
  "orig_nbformat": 4,
  "vscode": {
   "interpreter": {
    "hash": "385d92de6db470fb2e5225f42a78c13f07bd894b7765e30051c00c9f444fadf3"
   }
  }
 },
 "nbformat": 4,
 "nbformat_minor": 2
}
