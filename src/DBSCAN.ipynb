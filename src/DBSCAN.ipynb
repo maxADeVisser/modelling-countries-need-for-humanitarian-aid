{
 "cells": [
  {
   "cell_type": "code",
   "execution_count": 1,
   "metadata": {},
   "outputs": [],
   "source": [
    "import pandas as pd  \n",
    "import matplotlib.pyplot as plt\n",
    "import seaborn as sns\n",
    "import numpy as np\n",
    " \n",
    "pd.set_option('display.max_columns', None) # display all columns\n",
    "pd.set_option(\"max_colwidth\", 40) # sets a maximum column width\n",
    "pd.set_option(\"display.precision\", 7) # sets the number of decimals shown\n",
    "pd.set_option(\"styler.format.precision\", 3) # rounds floats\n",
    "\n",
    "df = pd.read_csv('../data/country-data.csv')\n",
    "numerical_features = df.columns[1:]\n",
    "countries = df['country']\n",
    "\n",
    "df_pca = pd.read_csv('../data/country-data-pca.csv')"
   ]
  },
  {
   "cell_type": "markdown",
   "metadata": {},
   "source": [
    "# DBSCAN Clustering algorithm"
   ]
  },
  {
   "attachments": {},
   "cell_type": "markdown",
   "metadata": {},
   "source": [
    "DBSCAN works as following:\n",
    "- For each instance in the data, the algorithm counts how many instances are located within a small distance $\\epsilon$ (epsilon) from it. So, in 3-dimensional space, that would be the radius a sphere.\n",
    "- If an instance has at least `min_samples` instances in its $\\epsilon$-neighborhood (including itself), then it is considered a *core instance*. In other words; core instances are those that are located in dense regions.\n",
    "- All instances in the neighborhood of a core instance belong to the same cluster. This neighborhood may include other core instances; therefore, a long sequence of neighboring core instances forms a single cluster.\n",
    "- Any instance that is not a core instance and does not have one in its neighborhood is considered an anomaly.\n",
    "  "
   ]
  },
  {
   "cell_type": "code",
   "execution_count": 2,
   "metadata": {},
   "outputs": [],
   "source": [
    "from sklearn.cluster import DBSCAN\n",
    "from sklearn.neighbors import NearestNeighbors\n",
    "from collections import Counter, OrderedDict\n",
    "from sklearn.preprocessing import MinMaxScaler"
   ]
  },
  {
   "cell_type": "code",
   "execution_count": 3,
   "metadata": {},
   "outputs": [],
   "source": [
    "features = df.columns\n",
    "scaler = MinMaxScaler()\n",
    "\n",
    "scaled_raw_df = pd.DataFrame(scaler.fit_transform(df[numerical_features]))\n",
    "scaled_raw_df.columns = features[1:]\n",
    "\n",
    "scaled_pca_df = pd.DataFrame(scaler.fit_transform(df_pca[['PC1', 'PC2', 'PC3', 'PC4']]))\n",
    "scaled_pca_df.columns = ['PC1', 'PC2', 'PC3', 'PC4']"
   ]
  },
  {
   "cell_type": "code",
   "execution_count": 4,
   "metadata": {},
   "outputs": [
    {
     "name": "stdout",
     "output_type": "stream",
     "text": [
      "Labels:\n",
      " [ 0  1  1 -1  1  1  1 -1 -1  1 -1 -1  1  1  1 -1  1  0  1  1  3 -1  1 -1\n",
      "  1  0 -1  1  0 -1  1 -1 -1  1  1  1  0 -1 -1  3  0  1 -1 -1 -1  1  1  1\n",
      "  1 -1 -1  1  1  2 -1 -1  0  3 -1  0 -1  1  1  0  0  1 -1  1  2  1  1  1\n",
      " -1 -1 -1  2  1 -1 -1 -1  0 -1 -1  1  1  1  1 -1 -1 -1  1 -1  1  0  0 -1\n",
      "  1 -1 -1 -1  1 -1 -1  1  3  1  0 -1 -1  1 -1  2 -1 -1 -1 -1 -1 -1  1  1\n",
      "  1  1 -1 -1  1  1 -1  1 -1  0  3 -1 -1 -1 -1 -1 -1 -1 -1  2 -1  1 -1  1\n",
      "  2 -1  1  0 -1 -1 -1  1  1  1 -1  0  1 -1  2 -1  1  1  1 -1 -1  0  0]\n",
      "Core indices:\n",
      " [  0   1   4   6   9  12  13  14  16  17  18  19  24  27  28  30  33  34\n",
      "  35  36  41  45  47  52  53  56  59  61  63  65  69  71  75  76  80  85\n",
      "  86  90  92  93  94  96 100 103 105 106 109 118 119 121 124 125 127 129\n",
      " 130 141 147 151 152 153 156 158 160 161 162 165 166]\n",
      "67 core samples\n",
      "74 anomalies\n",
      "4 clusters\n",
      "OrderedDict([(-1, 74), (0, 19), (1, 62), (2, 7), (3, 5)]) points distribution\n"
     ]
    }
   ],
   "source": [
    "dbscan = DBSCAN(eps=0.08, min_samples=4) \n",
    "dbscan.fit(scaled_pca_df)\n",
    "\n",
    "labels = dbscan.labels_ # cluster labels for each country\n",
    "core_indices = dbscan.core_sample_indices_ # indices of the core samples\n",
    "n_core = len(core_indices) # number of countries considered a \"core\" samples\n",
    "number_of_anomalies = len([x for x in labels if x == -1]) # number of countries considered an \"outlier\"\n",
    "number_of_clusters = len(set(labels)) - (1 if -1 in labels else 0) # number of clusters\n",
    "n_points_clusters = OrderedDict(Counter(sorted(labels)))\n",
    "components = dbscan.components_ # values of the core samples\n",
    "\n",
    "print(\"Labels:\\n\", labels)\n",
    "print(\"Core indices:\\n\", core_indices)\n",
    "print(n_core, \"core samples\")\n",
    "print(number_of_anomalies, \"anomalies\")\n",
    "print(number_of_clusters, \"clusters\")\n",
    "print(n_points_clusters, \"points distribution\")\n",
    "\n",
    "anomaly_countries = []\n",
    "for i in range(len(labels)):\n",
    "    if labels[i] == -1:\n",
    "        anomaly_countries.append(countries[i])"
   ]
  },
  {
   "cell_type": "code",
   "execution_count": 5,
   "metadata": {},
   "outputs": [
    {
     "name": "stdout",
     "output_type": "stream",
     "text": [
      "Cluster -1 \n",
      "\n",
      "Angola\n",
      "Australia\n",
      "Austria\n",
      "Bahamas\n",
      "Bahrain\n",
      "Belgium\n",
      "Botswana\n",
      "Brunei\n",
      "Burundi\n",
      "Canada\n",
      "Central African Republic\n",
      "Chad\n",
      "Congo, Dem. Rep.\n",
      "Congo, Rep.\n",
      "Cyprus\n",
      "Czech Republic\n",
      "Denmark\n",
      "Equatorial Guinea\n",
      "Eritrea\n",
      "France\n",
      "Gabon\n",
      "Germany\n",
      "Greece\n",
      "Haiti\n",
      "Iraq\n",
      "Ireland\n",
      "Israel\n",
      "Japan\n",
      "Jordan\n",
      "Kazakhstan\n",
      "Kiribati\n",
      "Kuwait\n",
      "Lesotho\n",
      "Liberia\n",
      "Libya\n",
      "Luxembourg\n",
      "Malaysia\n",
      "Mali\n",
      "Malta\n",
      "Mauritania\n",
      "Micronesia, Fed. Sts.\n",
      "Moldova\n",
      "Myanmar\n",
      "Namibia\n",
      "Netherlands\n",
      "Niger\n",
      "Nigeria\n",
      "Norway\n",
      "Oman\n",
      "Pakistan\n",
      "Panama\n",
      "Portugal\n",
      "Qatar\n",
      "Rwanda\n",
      "Saudi Arabia\n",
      "Seychelles\n",
      "Sierra Leone\n",
      "Singapore\n",
      "Slovak Republic\n",
      "Slovenia\n",
      "Solomon Islands\n",
      "South Africa\n",
      "South Korea\n",
      "Sri Lanka\n",
      "Sudan\n",
      "Switzerland\n",
      "Thailand\n",
      "Timor-Leste\n",
      "Togo\n",
      "Turkmenistan\n",
      "United Arab Emirates\n",
      "United States\n",
      "Venezuela\n",
      "Vietnam\n",
      "Cluster 0 \n",
      "\n",
      "Afghanistan\n",
      "Benin\n",
      "Burkina Faso\n",
      "Cameroon\n",
      "Comoros\n",
      "Cote d'Ivoire\n",
      "Gambia\n",
      "Ghana\n",
      "Guinea\n",
      "Guinea-Bissau\n",
      "Kenya\n",
      "Madagascar\n",
      "Malawi\n",
      "Mozambique\n",
      "Senegal\n",
      "Tanzania\n",
      "Uganda\n",
      "Yemen\n",
      "Zambia\n",
      "Cluster 1 \n",
      "\n",
      "Albania\n",
      "Algeria\n",
      "Antigua and Barbuda\n",
      "Argentina\n",
      "Armenia\n",
      "Azerbaijan\n",
      "Bangladesh\n",
      "Barbados\n",
      "Belarus\n",
      "Belize\n",
      "Bhutan\n",
      "Bolivia\n",
      "Brazil\n",
      "Bulgaria\n",
      "Cambodia\n",
      "Cape Verde\n",
      "Chile\n",
      "China\n",
      "Colombia\n",
      "Croatia\n",
      "Dominican Republic\n",
      "Ecuador\n",
      "Egypt\n",
      "El Salvador\n",
      "Estonia\n",
      "Fiji\n",
      "Grenada\n",
      "Guatemala\n",
      "Guyana\n",
      "Hungary\n",
      "India\n",
      "Indonesia\n",
      "Iran\n",
      "Jamaica\n",
      "Kyrgyz Republic\n",
      "Lao\n",
      "Latvia\n",
      "Lebanon\n",
      "Lithuania\n",
      "Macedonia, FYR\n",
      "Maldives\n",
      "Mauritius\n",
      "Mongolia\n",
      "Morocco\n",
      "Nepal\n",
      "Paraguay\n",
      "Peru\n",
      "Philippines\n",
      "Poland\n",
      "Romania\n",
      "Russia\n",
      "Samoa\n",
      "St. Vincent and the Grenadines\n",
      "Suriname\n",
      "Tajikistan\n",
      "Tonga\n",
      "Tunisia\n",
      "Turkey\n",
      "Ukraine\n",
      "Uruguay\n",
      "Uzbekistan\n",
      "Vanuatu\n",
      "Cluster 2 \n",
      "\n",
      "Finland\n",
      "Iceland\n",
      "Italy\n",
      "New Zealand\n",
      "Spain\n",
      "Sweden\n",
      "United Kingdom\n",
      "Cluster 3 \n",
      "\n",
      "Bosnia and Herzegovina\n",
      "Costa Rica\n",
      "Georgia\n",
      "Montenegro\n",
      "Serbia\n"
     ]
    }
   ],
   "source": [
    "for i in range(-1, number_of_clusters):\n",
    "    print(\"Cluster\", i, \"\\n\")\n",
    "    for j in range(len(labels)):\n",
    "        if labels[j] == i:\n",
    "            print(countries[j])"
   ]
  },
  {
   "attachments": {},
   "cell_type": "markdown",
   "metadata": {},
   "source": [
    "## Determine the optimal value for $\\epsilon$"
   ]
  },
  {
   "attachments": {},
   "cell_type": "markdown",
   "metadata": {},
   "source": [
    "Source:\n",
    "https://towardsdatascience.com/machine-learning-clustering-dbscan-determine-the-optimal-value-for-epsilon-eps-python-example-3100091cfbc\n",
    "\n",
    "To determine a a good value for $\\epsilon$, we find a suitable value for $\\epsilon$ by calculating the distance to the nearest $n$ points for each point, sorting and plotting the results. Then we look to see where the change is most pronounced and select that as $\\epsilon$.\n",
    "\n",
    "we can calculate the distance from each point to its closest neighbour using the `NearestNeighbors`. The point itself is included in `n_neighbors`. The `kneighbors` method returns two arrays, one which contains the distance to the closest `n_neighbors` points and the other which contains the index for each of those points."
   ]
  },
  {
   "cell_type": "code",
   "execution_count": 6,
   "metadata": {},
   "outputs": [],
   "source": [
    "from sklearn.neighbors import NearestNeighbors"
   ]
  },
  {
   "cell_type": "code",
   "execution_count": 7,
   "metadata": {},
   "outputs": [
    {
     "data": {
      "image/png": "[encoded data removed]",
      "text/plain": [
       "<Figure size 640x480 with 1 Axes>"
      ]
     },
     "metadata": {},
     "output_type": "display_data"
    }
   ],
   "source": [
    "neigh = NearestNeighbors(n_neighbors=2) # instanciate NearestNeighbors object\n",
    "nbrs = neigh.fit(scaled_pca_df) # fit the object to the data\n",
    "distances, indices = nbrs.kneighbors(scaled_pca_df)\n",
    "distances = np.sort(distances, axis=0)[:,1] # sort the distances and keep only the second column\n",
    "plt.plot(distances)\n",
    "plt.grid()"
   ]
  },
  {
   "attachments": {},
   "cell_type": "markdown",
   "metadata": {},
   "source": [
    "# HDBSCAN"
   ]
  },
  {
   "cell_type": "code",
   "execution_count": 8,
   "metadata": {},
   "outputs": [],
   "source": [
    "from scripts import *"
   ]
  },
  {
   "cell_type": "code",
   "execution_count": 38,
   "metadata": {},
   "outputs": [
    {
     "data": {
      "image/png": "[encoded data removed]",
      "text/plain": [
       "<Figure size 600x500 with 1 Axes>"
      ]
     },
     "metadata": {},
     "output_type": "display_data"
    }
   ],
   "source": [
    "raw_data = pd.read_csv('../data/country-data.csv')\n",
    "countries, df, explained_variance = pre_process_data(raw_data, 'minmax', pca=True, pca_components=3, plot_scree_plot=True)\n"
   ]
  },
  {
   "cell_type": "code",
   "execution_count": 39,
   "metadata": {},
   "outputs": [],
   "source": [
    "## DBSCAN with eps=0.08 and min_samples=4\n",
    "from sklearn.cluster import DBSCAN\n",
    "dbscan = DBSCAN(eps=0.12, min_samples=4)\n",
    "dbscan.fit_predict(df)\n",
    "labels = dbscan.labels_\n",
    "df['cluster'] = labels\n",
    "core_indices = dbscan.core_sample_indices_\n",
    "n_core = len(core_indices)\n",
    "number_of_anomalies = len([x for x in labels if x == -1])\n",
    "number_of_clusters = len(set(labels)) - (1 if -1 in labels else 0)\n",
    "#n_points_clusters = OrderedDict(Counter(sorted(labels)))\n",
    "components = dbscan.components_"
   ]
  },
  {
   "cell_type": "code",
   "execution_count": 40,
   "metadata": {},
   "outputs": [
    {
     "data": {
      "text/html": [
       "<div>\n",
       "<style scoped>\n",
       "    .dataframe tbody tr th:only-of-type {\n",
       "        vertical-align: middle;\n",
       "    }\n",
       "\n",
       "    .dataframe tbody tr th {\n",
       "        vertical-align: top;\n",
       "    }\n",
       "\n",
       "    .dataframe thead th {\n",
       "        text-align: right;\n",
       "    }\n",
       "</style>\n",
       "<table border=\"1\" class=\"dataframe\">\n",
       "  <thead>\n",
       "    <tr style=\"text-align: right;\">\n",
       "      <th></th>\n",
       "      <th>PC1</th>\n",
       "      <th>PC2</th>\n",
       "      <th>PC3</th>\n",
       "    </tr>\n",
       "    <tr>\n",
       "      <th>cluster</th>\n",
       "      <th></th>\n",
       "      <th></th>\n",
       "      <th></th>\n",
       "    </tr>\n",
       "  </thead>\n",
       "  <tbody>\n",
       "    <tr>\n",
       "      <th>0</th>\n",
       "      <td>-0.0361560</td>\n",
       "      <td>-0.0730999</td>\n",
       "      <td>-0.0449207</td>\n",
       "    </tr>\n",
       "    <tr>\n",
       "      <th>1</th>\n",
       "      <td>0.4438611</td>\n",
       "      <td>0.0208419</td>\n",
       "      <td>0.2533926</td>\n",
       "    </tr>\n",
       "    <tr>\n",
       "      <th>2</th>\n",
       "      <td>-0.7750412</td>\n",
       "      <td>0.2070509</td>\n",
       "      <td>0.0586099</td>\n",
       "    </tr>\n",
       "  </tbody>\n",
       "</table>\n",
       "</div>"
      ],
      "text/plain": [
       "               PC1        PC2        PC3\n",
       "cluster                                 \n",
       "0       -0.0361560 -0.0730999 -0.0449207\n",
       "1        0.4438611  0.0208419  0.2533926\n",
       "2       -0.7750412  0.2070509  0.0586099"
      ]
     },
     "execution_count": 40,
     "metadata": {},
     "output_type": "execute_result"
    }
   ],
   "source": [
    "#df_pivot = df.drop('-1',axis=0).pivot_table(index='cluster', aggfunc='mean')\n",
    "### drop if cluster is -1\n",
    "df_pivot = df[df.cluster != -1].pivot_table(index='cluster', aggfunc='mean')\n",
    "df_pivot"
   ]
  },
  {
   "cell_type": "code",
   "execution_count": 29,
   "metadata": {},
   "outputs": [],
   "source": [
    "df['country'] = countries\n",
    "df = df[df['cluster'] != -1]\n",
    "countries = df['country']"
   ]
  },
  {
   "cell_type": "code",
   "execution_count": 41,
   "metadata": {},
   "outputs": [
    {
     "data": {
      "application/vnd.plotly.v1+json": {
       "config": {
        "plotlyServerURL": "https://plot.ly"
       },
       "data": [
        {
         "hovertemplate": "<b>%{hovertext}</b><br><br>PC1=%{x}<br>PC3=%{y}<br>cluster=%{marker.color}<extra></extra>",
         "hovertext": [
          "Afghanistan",
          "Albania",
          "Algeria",
          "Angola",
          "Antigua and Barbuda",
          "Argentina",
          "Armenia",
          "Australia",
          "Austria",
          "Azerbaijan",
          "Bahamas",
          "Bahrain",
          "Bangladesh",
          "Barbados",
          "Belarus",
          "Belgium",
          "Belize",
          "Benin",
          "Bhutan",
          "Bolivia",
          "Bosnia and Herzegovina",
          "Botswana",
          "Brazil",
          "Brunei",
          "Bulgaria",
          "Burkina Faso",
          "Burundi",
          "Cambodia",
          "Cameroon",
          "Canada",
          "Cape Verde",
          "Central African Republic",
          "Chad",
          "Chile",
          "China",
          "Colombia",
          "Comoros",
          "Congo, Dem. Rep.",
          "Congo, Rep.",
          "Costa Rica",
          "Cote d'Ivoire",
          "Croatia",
          "Cyprus",
          "Czech Republic",
          "Denmark",
          "Dominican Republic",
          "Ecuador",
          "Egypt",
          "El Salvador",
          "Equatorial Guinea",
          "Eritrea",
          "Estonia",
          "Fiji",
          "Finland",
          "France",
          "Gabon",
          "Gambia",
          "Georgia",
          "Germany",
          "Ghana",
          "Greece",
          "Grenada",
          "Guatemala",
          "Guinea",
          "Guinea-Bissau",
          "Guyana",
          "Haiti",
          "Hungary",
          "Iceland",
          "India",
          "Indonesia",
          "Iran",
          "Iraq",
          "Ireland",
          "Israel",
          "Italy",
          "Jamaica",
          "Japan",
          "Jordan",
          "Kazakhstan",
          "Kenya",
          "Kiribati",
          "Kuwait",
          "Kyrgyz Republic",
          "Lao",
          "Latvia",
          "Lebanon",
          "Lesotho",
          "Liberia",
          "Libya",
          "Lithuania",
          "Luxembourg",
          "Macedonia, FYR",
          "Madagascar",
          "Malawi",
          "Malaysia",
          "Maldives",
          "Mali",
          "Malta",
          "Mauritania",
          "Mauritius",
          "Micronesia, Fed. Sts.",
          "Moldova",
          "Mongolia",
          "Montenegro",
          "Morocco",
          "Mozambique",
          "Myanmar",
          "Namibia",
          "Nepal",
          "Netherlands",
          "New Zealand",
          "Niger",
          "Nigeria",
          "Norway",
          "Oman",
          "Pakistan",
          "Panama",
          "Paraguay",
          "Peru",
          "Philippines",
          "Poland",
          "Portugal",
          "Qatar",
          "Romania",
          "Russia",
          "Rwanda",
          "Samoa",
          "Saudi Arabia",
          "Senegal",
          "Serbia",
          "Seychelles",
          "Sierra Leone",
          "Singapore",
          "Slovak Republic",
          "Slovenia",
          "Solomon Islands",
          "South Africa",
          "South Korea",
          "Spain",
          "Sri Lanka",
          "St. Vincent and the Grenadines",
          "Sudan",
          "Suriname",
          "Sweden",
          "Switzerland",
          "Tajikistan",
          "Tanzania",
          "Thailand",
          "Timor-Leste",
          "Togo",
          "Tonga",
          "Tunisia",
          "Turkey",
          "Turkmenistan",
          "Uganda",
          "Ukraine",
          "United Arab Emirates",
          "United Kingdom",
          "United States",
          "Uruguay",
          "Uzbekistan",
          "Vanuatu",
          "Venezuela",
          "Vietnam",
          "Yemen",
          "Zambia"
         ],
         "legendgroup": "",
         "marker": {
          "color": [
           0,
           0,
           0,
           -1,
           0,
           0,
           0,
           1,
           1,
           0,
           0,
           0,
           0,
           0,
           0,
           -1,
           0,
           0,
           0,
           0,
           0,
           0,
           0,
           -1,
           0,
           0,
           -1,
           0,
           0,
           1,
           0,
           2,
           2,
           0,
           0,
           0,
           0,
           2,
           -1,
           0,
           0,
           0,
           0,
           0,
           1,
           0,
           0,
           0,
           0,
           -1,
           0,
           0,
           0,
           1,
           1,
           0,
           0,
           0,
           1,
           0,
           1,
           0,
           0,
           0,
           0,
           0,
           2,
           0,
           1,
           0,
           0,
           0,
           0,
           -1,
           0,
           1,
           0,
           1,
           0,
           0,
           0,
           0,
           -1,
           0,
           0,
           0,
           0,
           -1,
           -1,
           0,
           0,
           -1,
           0,
           0,
           0,
           0,
           0,
           2,
           -1,
           -1,
           0,
           -1,
           0,
           0,
           0,
           0,
           0,
           0,
           -1,
           0,
           1,
           1,
           2,
           2,
           -1,
           0,
           0,
           -1,
           0,
           0,
           0,
           0,
           1,
           -1,
           0,
           0,
           -1,
           0,
           0,
           0,
           0,
           -1,
           -1,
           -1,
           0,
           0,
           0,
           0,
           0,
           1,
           0,
           0,
           0,
           0,
           1,
           -1,
           0,
           0,
           0,
           -1,
           0,
           0,
           0,
           0,
           -1,
           0,
           0,
           -1,
           1,
           -1,
           0,
           0,
           0,
           0,
           0,
           0,
           0
          ],
          "coloraxis": "coloraxis",
          "symbol": "circle"
         },
         "mode": "markers",
         "name": "",
         "orientation": "v",
         "showlegend": false,
         "type": "scatter",
         "x": [
          -0.5990776408933924,
          0.15847429673261335,
          0.0036855177352033077,
          -0.6502349912467081,
          0.20071124261596324,
          0.1125340013545153,
          0.08748612332997943,
          0.440783586238544,
          0.5205263926665187,
          0.03880914545463237,
          0.25330504129968373,
          0.28004875363781073,
          -0.10721303971102701,
          0.23240595477558443,
          0.18238382723518132,
          0.4955252868934174,
          0.03439589776107488,
          -0.5721153282550093,
          -0.007218397155775323,
          -0.1208672258042988,
          0.2599988414217384,
          -0.1537206138089997,
          0.1396248941256216,
          0.4204160178754092,
          0.20775215796331278,
          -0.6538925108450021,
          -0.6097543899838296,
          -0.10913559793860281,
          -0.5745202803834539,
          0.4765477502796918,
          -0.007554432973361404,
          -0.7858316644817721,
          -0.8034838893582714,
          0.23936517643219535,
          0.12443896375920946,
          0.1160064523538468,
          -0.4296805928972022,
          -0.6939619357067806,
          -0.3921384313651639,
          0.23640676125592816,
          -0.5739691560831601,
          0.2650144432355151,
          0.4048801378198109,
          0.36268560195194366,
          0.5105399799986365,
          0.009573694302030733,
          0.053959951496787326,
          -0.0986543110866529,
          0.07092179321796026,
          -0.38798839615440106,
          -0.42124556726533635,
          0.29067168111833264,
          -0.031107783787834877,
          0.4377602021056352,
          0.41641464151826474,
          -0.27613030106738895,
          -0.48973168952192536,
          0.127982637292986,
          0.4909651019603384,
          -0.37608885572213174,
          0.3780996531975858,
          0.07644149860020613,
          -0.10013496920566024,
          -0.5962174429893381,
          -0.5779248168494965,
          -0.05987286592601823,
          -0.8363862705231495,
          0.3309635777501881,
          0.42407757770177656,
          -0.1703783030318848,
          -0.0720036204663898,
          0.11973000346143772,
          -0.2095220257842669,
          0.5274460071080211,
          0.24823305569699408,
          0.4325744825044996,
          0.07650104644178078,
          0.46335846204288983,
          -0.0035600264464181737,
          0.01119959532095221,
          -0.3590427353113358,
          -0.2596553927519397,
          0.3957758163902336,
          -0.06689228935256039,
          -0.26355172246285596,
          0.2527443757413566,
          0.2563848722995771,
          -0.3857155015584067,
          -0.4212670584114022,
          0.16163536885430832,
          0.2700386913197652,
          0.9412939924726453,
          0.19607231760085767,
          -0.40635681793120026,
          -0.5854689657395733,
          0.20279801590874522,
          0.18814022366874375,
          -0.7560836209347952,
          0.5147457120770221,
          -0.4260122796391241,
          0.19700164353745986,
          -0.09390392690392127,
          0.17482099420685193,
          -0.06437252358612192,
          0.22757153046449213,
          -0.007829789180748016,
          -0.61627757352232,
          -0.21172988495630465,
          -0.23024123155896925,
          -0.13663045679082592,
          0.5394099826515577,
          0.34716647865518413,
          -0.8088184692474699,
          -0.7407228826991712,
          0.6247482827023403,
          0.18014260903823157,
          -0.3973298833393518,
          0.16685378525522016,
          0.03373964898834612,
          0.061038634463713215,
          -0.11467801783145014,
          0.2785837877848749,
          0.3789625306798055,
          0.6386728672340589,
          0.17896186400656294,
          0.14392968480088972,
          -0.325743455634283,
          -0.13750602491724206,
          0.15119100849618466,
          -0.4080563416353287,
          0.23444950847699872,
          0.2049934671300011,
          -0.6760219880914474,
          0.7668282160875248,
          0.34875375900775796,
          0.3978660221374692,
          -0.2035514970429371,
          -0.17039397451706387,
          0.3868371823121319,
          0.41748839329320847,
          0.03586661233015063,
          0.06481523981896567,
          -0.415458821165521,
          0.05478632945158533,
          0.480069292613334,
          0.6647561884795673,
          -0.19553566501011277,
          -0.507028918614955,
          0.20256840955468985,
          -0.45369893973635805,
          -0.4553435949145307,
          -0.13345911250920808,
          0.13881161533109562,
          0.14686767405707796,
          -0.11434334945248649,
          -0.5931654277624746,
          0.15093361076806283,
          0.39513640329229865,
          0.3908949123765818,
          0.4836120747474237,
          0.1796987401723982,
          -0.056581930112741215,
          -0.1600783809462304,
          0.0611331856840031,
          0.11551227800655797,
          -0.3329682454570165,
          -0.5738966875202655
         ],
         "xaxis": "x",
         "y": [
          0.1575538087566892,
          -0.06418900181211139,
          -0.13418203164387005,
          -0.14267249313038383,
          -0.10071548869889753,
          0.11894180938466802,
          -0.15356622668418554,
          0.26919877426556216,
          0.2435197326573565,
          -0.07862790089153321,
          0.08019007956722635,
          -0.15126383988151612,
          -0.1228911762953073,
          0.025002079397384046,
          -0.190406897519765,
          0.13560605134912437,
          -0.17336680640886643,
          -0.021577412258331083,
          -0.17276864261686026,
          -0.10254255555339446,
          0.1379302339417822,
          0.04029735422255062,
          0.1800435781571673,
          -0.15855807186886428,
          -0.09221132667167654,
          0.1409493637640993,
          0.3760401676248116,
          -0.14367346126079855,
          0.041858607749797466,
          0.3357626328271278,
          -0.18599421871760569,
          0.024783964675846825,
          0.012611871638339356,
          0.04731193476678184,
          -0.09000889934616078,
          0.08177126457706564,
          -0.04168589218929564,
          0.13008407775187183,
          -0.2886890316249404,
          0.17842177411326288,
          -0.03010434496540898,
          0.021306077048369974,
          -0.06993313001577016,
          -0.049144784931793,
          0.31544586561670096,
          -0.0044745819857135985,
          0.069435059888357,
          -0.06439253314792787,
          -0.0267679936612544,
          -0.11312680175481517,
          -0.08477023310560215,
          -0.1809448679438921,
          -0.2036756128368337,
          0.19410305032586367,
          0.3636002063627313,
          -0.12046673346587043,
          0.03892638000455182,
          0.08695672604648466,
          0.29084602677865584,
          -0.04707107792631576,
          0.2302371256179586,
          -0.06353255399949391,
          0.026349737269133932,
          -0.015190365195746444,
          0.20310701715667503,
          -0.18973186156258356,
          0.06749486170153579,
          -0.16186452317845032,
          0.17024147179294796,
          -0.10602110476606713,
          -0.18221110005921667,
          -0.04311966102165851,
          0.11424271286628263,
          0.01279700565874135,
          0.1255446990655143,
          0.22316487848595573,
          -0.14423263091654767,
          0.2893351405710417,
          -0.01294997971527486,
          -0.1333575843512083,
          -0.02822876739099211,
          0.21067269621104612,
          -0.15166542826031326,
          -0.1571029148500862,
          -0.1256531675817,
          -0.1034709046184335,
          -0.06008313219974712,
          0.11218165655492729,
          0.24095481089846424,
          -0.20579056275884638,
          -0.12472812078561103,
          -0.11754276250605276,
          -0.08244769536502361,
          -0.10035153645746539,
          0.08544699202130031,
          -0.2945559574075631,
          -0.1763828272968324,
          0.06995900145738448,
          -0.34125534110564015,
          -0.12431753152327125,
          -0.1467434044749382,
          0.3126875086882689,
          0.08687887766228576,
          -0.16217221081774996,
          0.028056889797982112,
          -0.09859982699992494,
          -0.003888612377723422,
          -0.11894776221487165,
          -0.03960884795687551,
          -0.05039773321985118,
          0.24041714715005652,
          0.24988741214721177,
          0.07381980501387844,
          0.031515747344930754,
          0.3682175669539781,
          -0.2180640726437882,
          -0.11619554276036476,
          -0.078154653588046,
          -0.1269747561749904,
          -0.06334917550054986,
          -0.15952853259000227,
          -0.010904944827085579,
          0.22096529539510215,
          -0.05238759827341307,
          -0.09072882262736189,
          -0.07496297614495952,
          0.2771948083525917,
          -0.006618408438185641,
          -0.09581057871288594,
          0.01763806188777428,
          0.10771810998284498,
          -0.4062296813415434,
          0.442566669237809,
          -0.6016968545344252,
          -0.06391599881815496,
          0.04102159088193343,
          -0.004575235731482988,
          0.13784952660875255,
          -0.03525456209898676,
          0.20419030435334926,
          -0.18720404028263699,
          -0.1587205251653975,
          0.09301287251213794,
          -0.031869806184247215,
          0.22882072191358518,
          0.3249174037869766,
          -0.03444314933625736,
          0.07338396401068137,
          -0.28882939461127777,
          0.2777201881484142,
          0.05854853958345193,
          -0.06816898960912832,
          -0.12157826070879818,
          0.038046184248674966,
          -0.29269578598269735,
          0.24573722661139566,
          -0.06725569808862038,
          -0.21230773055550708,
          0.23793784808247348,
          0.7328871925888835,
          0.10274376550103134,
          -0.062398062287598116,
          -0.1219095111848207,
          -0.05858604147584543,
          -0.19524300706979267,
          -0.02998902827953596,
          0.0325523203441141
         ],
         "yaxis": "y"
        }
       ],
       "layout": {
        "coloraxis": {
         "colorbar": {
          "title": {
           "text": "cluster"
          }
         },
         "colorscale": [
          [
           0,
           "#0d0887"
          ],
          [
           0.1111111111111111,
           "#46039f"
          ],
          [
           0.2222222222222222,
           "#7201a8"
          ],
          [
           0.3333333333333333,
           "#9c179e"
          ],
          [
           0.4444444444444444,
           "#bd3786"
          ],
          [
           0.5555555555555556,
           "#d8576b"
          ],
          [
           0.6666666666666666,
           "#ed7953"
          ],
          [
           0.7777777777777778,
           "#fb9f3a"
          ],
          [
           0.8888888888888888,
           "#fdca26"
          ],
          [
           1,
           "#f0f921"
          ]
         ]
        },
        "height": 500,
        "legend": {
         "tracegroupgap": 0
        },
        "margin": {
         "t": 60
        },
        "template": {
         "data": {
          "bar": [
           {
            "error_x": {
             "color": "#2a3f5f"
            },
            "error_y": {
             "color": "#2a3f5f"
            },
            "marker": {
             "line": {
              "color": "#E5ECF6",
              "width": 0.5
             },
             "pattern": {
              "fillmode": "overlay",
              "size": 10,
              "solidity": 0.2
             }
            },
            "type": "bar"
           }
          ],
          "barpolar": [
           {
            "marker": {
             "line": {
              "color": "#E5ECF6",
              "width": 0.5
             },
             "pattern": {
              "fillmode": "overlay",
              "size": 10,
              "solidity": 0.2
             }
            },
            "type": "barpolar"
           }
          ],
          "carpet": [
           {
            "aaxis": {
             "endlinecolor": "#2a3f5f",
             "gridcolor": "white",
             "linecolor": "white",
             "minorgridcolor": "white",
             "startlinecolor": "#2a3f5f"
            },
            "baxis": {
             "endlinecolor": "#2a3f5f",
             "gridcolor": "white",
             "linecolor": "white",
             "minorgridcolor": "white",
             "startlinecolor": "#2a3f5f"
            },
            "type": "carpet"
           }
          ],
          "choropleth": [
           {
            "colorbar": {
             "outlinewidth": 0,
             "ticks": ""
            },
            "type": "choropleth"
           }
          ],
          "contour": [
           {
            "colorbar": {
             "outlinewidth": 0,
             "ticks": ""
            },
            "colorscale": [
             [
              0,
              "#0d0887"
             ],
             [
              0.1111111111111111,
              "#46039f"
             ],
             [
              0.2222222222222222,
              "#7201a8"
             ],
             [
              0.3333333333333333,
              "#9c179e"
             ],
             [
              0.4444444444444444,
              "#bd3786"
             ],
             [
              0.5555555555555556,
              "#d8576b"
             ],
             [
              0.6666666666666666,
              "#ed7953"
             ],
             [
              0.7777777777777778,
              "#fb9f3a"
             ],
             [
              0.8888888888888888,
              "#fdca26"
             ],
             [
              1,
              "#f0f921"
             ]
            ],
            "type": "contour"
           }
          ],
          "contourcarpet": [
           {
            "colorbar": {
             "outlinewidth": 0,
             "ticks": ""
            },
            "type": "contourcarpet"
           }
          ],
          "heatmap": [
           {
            "colorbar": {
             "outlinewidth": 0,
             "ticks": ""
            },
            "colorscale": [
             [
              0,
              "#0d0887"
             ],
             [
              0.1111111111111111,
              "#46039f"
             ],
             [
              0.2222222222222222,
              "#7201a8"
             ],
             [
              0.3333333333333333,
              "#9c179e"
             ],
             [
              0.4444444444444444,
              "#bd3786"
             ],
             [
              0.5555555555555556,
              "#d8576b"
             ],
             [
              0.6666666666666666,
              "#ed7953"
             ],
             [
              0.7777777777777778,
              "#fb9f3a"
             ],
             [
              0.8888888888888888,
              "#fdca26"
             ],
             [
              1,
              "#f0f921"
             ]
            ],
            "type": "heatmap"
           }
          ],
          "heatmapgl": [
           {
            "colorbar": {
             "outlinewidth": 0,
             "ticks": ""
            },
            "colorscale": [
             [
              0,
              "#0d0887"
             ],
             [
              0.1111111111111111,
              "#46039f"
             ],
             [
              0.2222222222222222,
              "#7201a8"
             ],
             [
              0.3333333333333333,
              "#9c179e"
             ],
             [
              0.4444444444444444,
              "#bd3786"
             ],
             [
              0.5555555555555556,
              "#d8576b"
             ],
             [
              0.6666666666666666,
              "#ed7953"
             ],
             [
              0.7777777777777778,
              "#fb9f3a"
             ],
             [
              0.8888888888888888,
              "#fdca26"
             ],
             [
              1,
              "#f0f921"
             ]
            ],
            "type": "heatmapgl"
           }
          ],
          "histogram": [
           {
            "marker": {
             "pattern": {
              "fillmode": "overlay",
              "size": 10,
              "solidity": 0.2
             }
            },
            "type": "histogram"
           }
          ],
          "histogram2d": [
           {
            "colorbar": {
             "outlinewidth": 0,
             "ticks": ""
            },
            "colorscale": [
             [
              0,
              "#0d0887"
             ],
             [
              0.1111111111111111,
              "#46039f"
             ],
             [
              0.2222222222222222,
              "#7201a8"
             ],
             [
              0.3333333333333333,
              "#9c179e"
             ],
             [
              0.4444444444444444,
              "#bd3786"
             ],
             [
              0.5555555555555556,
              "#d8576b"
             ],
             [
              0.6666666666666666,
              "#ed7953"
             ],
             [
              0.7777777777777778,
              "#fb9f3a"
             ],
             [
              0.8888888888888888,
              "#fdca26"
             ],
             [
              1,
              "#f0f921"
             ]
            ],
            "type": "histogram2d"
           }
          ],
          "histogram2dcontour": [
           {
            "colorbar": {
             "outlinewidth": 0,
             "ticks": ""
            },
            "colorscale": [
             [
              0,
              "#0d0887"
             ],
             [
              0.1111111111111111,
              "#46039f"
             ],
             [
              0.2222222222222222,
              "#7201a8"
             ],
             [
              0.3333333333333333,
              "#9c179e"
             ],
             [
              0.4444444444444444,
              "#bd3786"
             ],
             [
              0.5555555555555556,
              "#d8576b"
             ],
             [
              0.6666666666666666,
              "#ed7953"
             ],
             [
              0.7777777777777778,
              "#fb9f3a"
             ],
             [
              0.8888888888888888,
              "#fdca26"
             ],
             [
              1,
              "#f0f921"
             ]
            ],
            "type": "histogram2dcontour"
           }
          ],
          "mesh3d": [
           {
            "colorbar": {
             "outlinewidth": 0,
             "ticks": ""
            },
            "type": "mesh3d"
           }
          ],
          "parcoords": [
           {
            "line": {
             "colorbar": {
              "outlinewidth": 0,
              "ticks": ""
             }
            },
            "type": "parcoords"
           }
          ],
          "pie": [
           {
            "automargin": true,
            "type": "pie"
           }
          ],
          "scatter": [
           {
            "fillpattern": {
             "fillmode": "overlay",
             "size": 10,
             "solidity": 0.2
            },
            "type": "scatter"
           }
          ],
          "scatter3d": [
           {
            "line": {
             "colorbar": {
              "outlinewidth": 0,
              "ticks": ""
             }
            },
            "marker": {
             "colorbar": {
              "outlinewidth": 0,
              "ticks": ""
             }
            },
            "type": "scatter3d"
           }
          ],
          "scattercarpet": [
           {
            "marker": {
             "colorbar": {
              "outlinewidth": 0,
              "ticks": ""
             }
            },
            "type": "scattercarpet"
           }
          ],
          "scattergeo": [
           {
            "marker": {
             "colorbar": {
              "outlinewidth": 0,
              "ticks": ""
             }
            },
            "type": "scattergeo"
           }
          ],
          "scattergl": [
           {
            "marker": {
             "colorbar": {
              "outlinewidth": 0,
              "ticks": ""
             }
            },
            "type": "scattergl"
           }
          ],
          "scattermapbox": [
           {
            "marker": {
             "colorbar": {
              "outlinewidth": 0,
              "ticks": ""
             }
            },
            "type": "scattermapbox"
           }
          ],
          "scatterpolar": [
           {
            "marker": {
             "colorbar": {
              "outlinewidth": 0,
              "ticks": ""
             }
            },
            "type": "scatterpolar"
           }
          ],
          "scatterpolargl": [
           {
            "marker": {
             "colorbar": {
              "outlinewidth": 0,
              "ticks": ""
             }
            },
            "type": "scatterpolargl"
           }
          ],
          "scatterternary": [
           {
            "marker": {
             "colorbar": {
              "outlinewidth": 0,
              "ticks": ""
             }
            },
            "type": "scatterternary"
           }
          ],
          "surface": [
           {
            "colorbar": {
             "outlinewidth": 0,
             "ticks": ""
            },
            "colorscale": [
             [
              0,
              "#0d0887"
             ],
             [
              0.1111111111111111,
              "#46039f"
             ],
             [
              0.2222222222222222,
              "#7201a8"
             ],
             [
              0.3333333333333333,
              "#9c179e"
             ],
             [
              0.4444444444444444,
              "#bd3786"
             ],
             [
              0.5555555555555556,
              "#d8576b"
             ],
             [
              0.6666666666666666,
              "#ed7953"
             ],
             [
              0.7777777777777778,
              "#fb9f3a"
             ],
             [
              0.8888888888888888,
              "#fdca26"
             ],
             [
              1,
              "#f0f921"
             ]
            ],
            "type": "surface"
           }
          ],
          "table": [
           {
            "cells": {
             "fill": {
              "color": "#EBF0F8"
             },
             "line": {
              "color": "white"
             }
            },
            "header": {
             "fill": {
              "color": "#C8D4E3"
             },
             "line": {
              "color": "white"
             }
            },
            "type": "table"
           }
          ]
         },
         "layout": {
          "annotationdefaults": {
           "arrowcolor": "#2a3f5f",
           "arrowhead": 0,
           "arrowwidth": 1
          },
          "autotypenumbers": "strict",
          "coloraxis": {
           "colorbar": {
            "outlinewidth": 0,
            "ticks": ""
           }
          },
          "colorscale": {
           "diverging": [
            [
             0,
             "#8e0152"
            ],
            [
             0.1,
             "#c51b7d"
            ],
            [
             0.2,
             "#de77ae"
            ],
            [
             0.3,
             "#f1b6da"
            ],
            [
             0.4,
             "#fde0ef"
            ],
            [
             0.5,
             "#f7f7f7"
            ],
            [
             0.6,
             "#e6f5d0"
            ],
            [
             0.7,
             "#b8e186"
            ],
            [
             0.8,
             "#7fbc41"
            ],
            [
             0.9,
             "#4d9221"
            ],
            [
             1,
             "#276419"
            ]
           ],
           "sequential": [
            [
             0,
             "#0d0887"
            ],
            [
             0.1111111111111111,
             "#46039f"
            ],
            [
             0.2222222222222222,
             "#7201a8"
            ],
            [
             0.3333333333333333,
             "#9c179e"
            ],
            [
             0.4444444444444444,
             "#bd3786"
            ],
            [
             0.5555555555555556,
             "#d8576b"
            ],
            [
             0.6666666666666666,
             "#ed7953"
            ],
            [
             0.7777777777777778,
             "#fb9f3a"
            ],
            [
             0.8888888888888888,
             "#fdca26"
            ],
            [
             1,
             "#f0f921"
            ]
           ],
           "sequentialminus": [
            [
             0,
             "#0d0887"
            ],
            [
             0.1111111111111111,
             "#46039f"
            ],
            [
             0.2222222222222222,
             "#7201a8"
            ],
            [
             0.3333333333333333,
             "#9c179e"
            ],
            [
             0.4444444444444444,
             "#bd3786"
            ],
            [
             0.5555555555555556,
             "#d8576b"
            ],
            [
             0.6666666666666666,
             "#ed7953"
            ],
            [
             0.7777777777777778,
             "#fb9f3a"
            ],
            [
             0.8888888888888888,
             "#fdca26"
            ],
            [
             1,
             "#f0f921"
            ]
           ]
          },
          "colorway": [
           "#636efa",
           "#EF553B",
           "#00cc96",
           "#ab63fa",
           "#FFA15A",
           "#19d3f3",
           "#FF6692",
           "#B6E880",
           "#FF97FF",
           "#FECB52"
          ],
          "font": {
           "color": "#2a3f5f"
          },
          "geo": {
           "bgcolor": "white",
           "lakecolor": "white",
           "landcolor": "#E5ECF6",
           "showlakes": true,
           "showland": true,
           "subunitcolor": "white"
          },
          "hoverlabel": {
           "align": "left"
          },
          "hovermode": "closest",
          "mapbox": {
           "style": "light"
          },
          "paper_bgcolor": "white",
          "plot_bgcolor": "#E5ECF6",
          "polar": {
           "angularaxis": {
            "gridcolor": "white",
            "linecolor": "white",
            "ticks": ""
           },
           "bgcolor": "#E5ECF6",
           "radialaxis": {
            "gridcolor": "white",
            "linecolor": "white",
            "ticks": ""
           }
          },
          "scene": {
           "xaxis": {
            "backgroundcolor": "#E5ECF6",
            "gridcolor": "white",
            "gridwidth": 2,
            "linecolor": "white",
            "showbackground": true,
            "ticks": "",
            "zerolinecolor": "white"
           },
           "yaxis": {
            "backgroundcolor": "#E5ECF6",
            "gridcolor": "white",
            "gridwidth": 2,
            "linecolor": "white",
            "showbackground": true,
            "ticks": "",
            "zerolinecolor": "white"
           },
           "zaxis": {
            "backgroundcolor": "#E5ECF6",
            "gridcolor": "white",
            "gridwidth": 2,
            "linecolor": "white",
            "showbackground": true,
            "ticks": "",
            "zerolinecolor": "white"
           }
          },
          "shapedefaults": {
           "line": {
            "color": "#2a3f5f"
           }
          },
          "ternary": {
           "aaxis": {
            "gridcolor": "white",
            "linecolor": "white",
            "ticks": ""
           },
           "baxis": {
            "gridcolor": "white",
            "linecolor": "white",
            "ticks": ""
           },
           "bgcolor": "#E5ECF6",
           "caxis": {
            "gridcolor": "white",
            "linecolor": "white",
            "ticks": ""
           }
          },
          "title": {
           "x": 0.05
          },
          "xaxis": {
           "automargin": true,
           "gridcolor": "white",
           "linecolor": "white",
           "ticks": "",
           "title": {
            "standoff": 15
           },
           "zerolinecolor": "white",
           "zerolinewidth": 2
          },
          "yaxis": {
           "automargin": true,
           "gridcolor": "white",
           "linecolor": "white",
           "ticks": "",
           "title": {
            "standoff": 15
           },
           "zerolinecolor": "white",
           "zerolinewidth": 2
          }
         }
        },
        "width": 600,
        "xaxis": {
         "anchor": "y",
         "domain": [
          0,
          1
         ],
         "title": {
          "text": "PC1"
         }
        },
        "yaxis": {
         "anchor": "x",
         "domain": [
          0,
          1
         ],
         "title": {
          "text": "PC3"
         }
        }
       }
      }
     },
     "metadata": {},
     "output_type": "display_data"
    }
   ],
   "source": [
    "scatter_plot_data(df, ['PC1', 'PC3'], countries)"
   ]
  },
  {
   "cell_type": "code",
   "execution_count": null,
   "metadata": {},
   "outputs": [
    {
     "data": {
      "text/plain": [
       "array([ 3,  5,  5, -1,  5,  5,  5,  0,  0,  5,  5,  5,  5,  5,  5,  0,  5,\n",
       "        3,  5,  5,  5,  5,  5, -1,  5,  3, -1,  5,  3,  0,  5,  1,  1,  5,\n",
       "        5,  5,  2,  1, -1,  5,  3,  5,  4,  4,  0,  5,  5,  5,  5, -1, -1,\n",
       "        5,  5,  0,  0,  5,  3,  5,  0,  2,  0,  5,  5,  3,  3,  5,  1,  5,\n",
       "        0,  5,  5,  5,  5, -1, -1,  0,  5,  0, -1,  5,  2, -1, -1,  5, -1,\n",
       "        5,  5, -1, -1,  5,  5, -1,  5,  2,  3, -1,  5,  1, -1, -1,  5, -1,\n",
       "        5,  5,  5,  5,  3, -1,  5,  5,  0,  0,  1,  1, -1,  5,  2, -1,  5,\n",
       "        5,  5,  5,  0, -1,  5,  5, -1,  5, -1,  2,  5, -1, -1, -1,  4, -1,\n",
       "        5, -1,  4,  0, -1,  5, -1,  5,  0, -1,  5,  3, -1, -1, -1,  5,  5,\n",
       "        5, -1,  3,  5, -1,  0, -1,  5,  5,  5,  5,  5,  2,  3])"
      ]
     },
     "execution_count": 34,
     "metadata": {},
     "output_type": "execute_result"
    }
   ],
   "source": [
    "### implement hdbscan\n",
    "import hdbscan\n",
    "clusterer = hdbscan.HDBSCAN(min_cluster_size=4, min_samples=2)\n",
    "clusterer.fit_predict(df)"
   ]
  }
 ],
 "metadata": {
  "kernelspec": {
   "display_name": "standenv",
   "language": "python",
   "name": "python3"
  },
  "language_info": {
   "codemirror_mode": {
    "name": "ipython",
    "version": 3
   },
   "file_extension": ".py",
   "mimetype": "text/x-python",
   "name": "python",
   "nbconvert_exporter": "python",
   "pygments_lexer": "ipython3",
   "version": "3.9.7"
  },
  "orig_nbformat": 4,
  "vscode": {
   "interpreter": {
    "hash": "6cf943a06f567d7a029a65c28beb80e0c80e1029da2774ef6b5e07cadd91e931"
   }
  }
 },
 "nbformat": 4,
 "nbformat_minor": 2
}
