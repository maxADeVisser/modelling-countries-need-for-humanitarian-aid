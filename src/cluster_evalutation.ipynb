{
 "cells": [
  {
   "cell_type": "code",
   "execution_count": 14,
   "metadata": {},
   "outputs": [
    {
     "ename": "ImportError",
     "evalue": "cannot import name 'evalutate_clusters' from 'scripts' (/Users/maxvisser/Documents/ITU/statistics_multivariate_calculus/modelling-countries-need-for-humanitarian-aid/src/scripts.py)",
     "output_type": "error",
     "traceback": [
      "\u001b[0;31m---------------------------------------------------------------------------\u001b[0m",
      "\u001b[0;31mImportError\u001b[0m                               Traceback (most recent call last)",
      "Cell \u001b[0;32mIn[14], line 4\u001b[0m\n\u001b[1;32m      2\u001b[0m \u001b[39mimport\u001b[39;00m \u001b[39mnumpy\u001b[39;00m \u001b[39mas\u001b[39;00m \u001b[39mnp\u001b[39;00m\n\u001b[1;32m      3\u001b[0m \u001b[39mfrom\u001b[39;00m \u001b[39msklearn\u001b[39;00m\u001b[39m.\u001b[39;00m\u001b[39mmetrics\u001b[39;00m \u001b[39mimport\u001b[39;00m silhouette_score, calinski_harabasz_score, davies_bouldin_score\n\u001b[0;32m----> 4\u001b[0m \u001b[39mfrom\u001b[39;00m \u001b[39mscripts\u001b[39;00m \u001b[39mimport\u001b[39;00m dist, ICV, split_in_clusters, evalutate_clusters\n",
      "\u001b[0;31mImportError\u001b[0m: cannot import name 'evalutate_clusters' from 'scripts' (/Users/maxvisser/Documents/ITU/statistics_multivariate_calculus/modelling-countries-need-for-humanitarian-aid/src/scripts.py)"
     ]
    }
   ],
   "source": [
    "import pandas as pd\n",
    "import numpy as np\n",
    "from sklearn.metrics import silhouette_score, calinski_harabasz_score, davies_bouldin_score\n",
    "from scripts import dist, ICV, split_in_clusters, evalutate_clusters"
   ]
  },
  {
   "attachments": {},
   "cell_type": "markdown",
   "metadata": {},
   "source": [
    "Calculating the inter-cluster-variance using the mean euclidiean distance from each point to the centroid:\n",
    "\n",
    "ICA = $\\sum{dist(x, centroid)^2}$ (correct this function)"
   ]
  },
  {
   "attachments": {},
   "cell_type": "markdown",
   "metadata": {},
   "source": [
    "# Cluster evaluation pipeline"
   ]
  },
  {
   "attachments": {},
   "cell_type": "markdown",
   "metadata": {},
   "source": [
    "see [docs](https://scikit-learn.org/stable/modules/clustering.html#silhouette-coefficient) for explanation of the scores"
   ]
  },
  {
   "cell_type": "code",
   "execution_count": 13,
   "metadata": {},
   "outputs": [
    {
     "name": "stdout",
     "output_type": "stream",
     "text": [
      "Silhouette score: 0.3759586560872584 (between -1 and 1)\n",
      "Calinski-Harabasz score: 70.59187091546146 (the higher the score the better)\n",
      "Davies-Bouldin score: 0.8537992597234965 (the closer to zero the better)\n"
     ]
    }
   ],
   "source": [
    "\n",
    "clustered_df = pd.read_csv('../data/country-data-pca-w-clusters.csv')\n",
    "cluster_dict = split_in_clusters(clustered_df)\n",
    "s, c, d = evalutate_clusters(clustered_df)\n",
    "print(f\"Silhouette score: {s} (between -1 and 1)\\nCalinski-Harabasz score: {c} (the higher the score the better)\\nDavies-Bouldin score: {d} (the closer to zero the better)\")"
   ]
  }
 ],
 "metadata": {
  "kernelspec": {
   "display_name": "stats_exam",
   "language": "python",
   "name": "python3"
  },
  "language_info": {
   "codemirror_mode": {
    "name": "ipython",
    "version": 3
   },
   "file_extension": ".py",
   "mimetype": "text/x-python",
   "name": "python",
   "nbconvert_exporter": "python",
   "pygments_lexer": "ipython3",
   "version": "3.9.4"
  },
  "orig_nbformat": 4,
  "vscode": {
   "interpreter": {
    "hash": "385d92de6db470fb2e5225f42a78c13f07bd894b7765e30051c00c9f444fadf3"
   }
  }
 },
 "nbformat": 4,
 "nbformat_minor": 2
}
