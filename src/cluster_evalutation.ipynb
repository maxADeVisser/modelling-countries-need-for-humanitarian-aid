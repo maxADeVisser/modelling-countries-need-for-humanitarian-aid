{
 "cells": [
  {
   "cell_type": "code",
   "execution_count": 1,
   "metadata": {},
   "outputs": [],
   "source": [
    "import pandas as pd\n",
    "import numpy as np\n",
    "from sklearn.metrics import silhouette_score, calinski_harabasz_score, davies_bouldin_score\n",
    "from scripts import dist, calculate_centroid, ICV, split_in_clusters"
   ]
  },
  {
   "cell_type": "code",
   "execution_count": 2,
   "metadata": {},
   "outputs": [],
   "source": [
    "def split_in_clusters(cluster_df: pd.DataFrame) -> list:\n",
    "    \"\"\"Returns a dict with the clusters as values and the cluster number as key\"\"\"\n",
    "    result = {} \n",
    "    for i in range(len(cluster_df.cluster.unique())):\n",
    "        result[i] = cluster_df.loc[cluster_df['cluster'] == i]\\\n",
    "            .drop(columns = ['cluster'], axis=1)\n",
    "    return result"
   ]
  },
  {
   "attachments": {},
   "cell_type": "markdown",
   "metadata": {},
   "source": [
    "Calculating the inter-cluster-variance using the mean euclidiean distance from each point to the centroid:\n",
    "\n",
    "ICA = $\\sum{dist(x, centroid)^2}$ (correct this function)"
   ]
  },
  {
   "cell_type": "code",
   "execution_count": 4,
   "metadata": {},
   "outputs": [],
   "source": [
    "# Not used yet. Works though.\n",
    "def ICV(cluster: pd.DataFrame) -> float:  \n",
    "    \"\"\"Calculate the Intra-Cluster-Variance (ICV) of the provided cluster.\n",
    "    This is calculated as the mean of the distances of each data point in a cluster,\n",
    "    to every other data point in the same cluster.\"\"\"\n",
    "    \n",
    "    average_distances = []\n",
    "    \n",
    "    for sample in cluster.values.tolist():\n",
    "        current = sample\n",
    "        \n",
    "        distances_from_current = []\n",
    "        for point in cluster.values.tolist():\n",
    "            if current != point:\n",
    "                distances_from_current.append(dist(current, point))\n",
    "        average_distances.append(np.mean(distances_from_current))\n",
    "\n",
    "    return average_distances"
   ]
  },
  {
   "cell_type": "code",
   "execution_count": 5,
   "metadata": {},
   "outputs": [],
   "source": [
    "def evalutate_clusters(clustered_df):\n",
    "    \"\"\"Calculate the silhouette score of a clustered dataframe.\n",
    "    The dataframe needs to have a 'cluster' column.\"\"\"\n",
    "    s = silhouette_score(clustered_df.drop(columns=['cluster'], axis=1), clustered_df['cluster'])\n",
    "    c = calinski_harabasz_score(clustered_df.drop(columns=['cluster'], axis=1), clustered_df['cluster'])\n",
    "    d = davies_bouldin_score(clustered_df.drop(columns=['cluster'], axis=1), clustered_df['cluster'])\n",
    "    return s, c, d"
   ]
  },
  {
   "attachments": {},
   "cell_type": "markdown",
   "metadata": {},
   "source": [
    "# Cluster evaluation pipeline"
   ]
  },
  {
   "attachments": {},
   "cell_type": "markdown",
   "metadata": {},
   "source": [
    "see [docs](https://scikit-learn.org/stable/modules/clustering.html#silhouette-coefficient) for explanation of the scores"
   ]
  },
  {
   "cell_type": "code",
   "execution_count": 9,
   "metadata": {},
   "outputs": [
    {
     "name": "stdout",
     "output_type": "stream",
     "text": [
      "Silhouette score: 0.3759586560872584 (between -1 and 1)\n",
      "Calinski-Harabasz score: 70.59187091546146 (the higher the score the better)\n",
      "Davies-Bouldin score: 0.8537992597234965 (the closer to zero the better)\n"
     ]
    }
   ],
   "source": [
    "\n",
    "clustered_df = pd.read_csv('../data/country-data-pca-w-clusters.csv')\n",
    "cluster_dict = split_in_clusters(clustered_df)\n",
    "s, c, d = evalutate_clusters(clustered_df)\n",
    "print(f\"Silhouette score: {s} (between -1 and 1)\\nCalinski-Harabasz score: {c} (the higher the score the better)\\nDavies-Bouldin score: {d} (the closer to zero the better)\")"
   ]
  }
 ],
 "metadata": {
  "kernelspec": {
   "display_name": "stats_exam",
   "language": "python",
   "name": "python3"
  },
  "language_info": {
   "codemirror_mode": {
    "name": "ipython",
    "version": 3
   },
   "file_extension": ".py",
   "mimetype": "text/x-python",
   "name": "python",
   "nbconvert_exporter": "python",
   "pygments_lexer": "ipython3",
   "version": "3.9.4"
  },
  "orig_nbformat": 4,
  "vscode": {
   "interpreter": {
    "hash": "385d92de6db470fb2e5225f42a78c13f07bd894b7765e30051c00c9f444fadf3"
   }
  }
 },
 "nbformat": 4,
 "nbformat_minor": 2
}
