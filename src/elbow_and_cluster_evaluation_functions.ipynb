{
 "cells": [
  {
   "cell_type": "markdown",
   "metadata": {},
   "source": [
    "## Elbow method"
   ]
  },
  {
   "cell_type": "code",
   "execution_count": 1,
   "metadata": {},
   "outputs": [],
   "source": [
    "from sklearn.cluster import KMeans\n",
    "import matplotlib.pyplot as plt\n",
    "from sklearn.metrics import silhouette_score\n",
    "from sklearn.metrics import calinski_harabasz_score\n",
    "from sklearn.metrics import davies_bouldin_score"
   ]
  },
  {
   "cell_type": "code",
   "execution_count": null,
   "metadata": {},
   "outputs": [],
   "source": [
    "def elbow_plot(df1, df2):\n",
    "    '''\n",
    "    This function plots the elbow method for the given dataframes\n",
    "\n",
    "    Parameters\n",
    "    ----------\n",
    "    df1 : pd.DataFrame\n",
    "        Dataframe to be used for elbow method\n",
    "    df2 : pd.DataFrame\n",
    "        Dataframe to be used for elbow method\n",
    "\n",
    "    Returns\n",
    "    -------\n",
    "    None.\n",
    "    '''\n",
    "    fig, (ax1, ax2) = plt.subplots(1, 2)\n",
    "    fig.suptitle('Elbow Method', fontsize=15)\n",
    "    K=range(1,10)\n",
    "    a = []\n",
    "    b = []\n",
    "    for i in K:\n",
    "        kmean=KMeans(n_clusters=i)\n",
    "        kmean.fit(df1)\n",
    "        a.append(kmean.inertia_)\n",
    "        kmean=KMeans(n_clusters=i)\n",
    "        kmean.fit(df2)\n",
    "        b.append(kmean.inertia_)\n",
    "    ax1.plot(K, a, marker='o')\n",
    "    ax1.set_title('df1', fontsize=15)\n",
    "    ax1.set_ylabel('Sum of Squared distance', fontsize=15)\n",
    "    ax2.plot(K, b, marker='o')\n",
    "    ax2.set_title('df2', fontsize=15)\n",
    "    fig.supxlabel('Number of clusters', fontsize=15)\n",
    "    plt.show()"
   ]
  },
  {
   "cell_type": "code",
   "execution_count": null,
   "metadata": {},
   "outputs": [],
   "source": [
    "def evaluate_clusters(n_clusters, df1, df2, df1_clusters, df2_clusters):\n",
    "    '''\n",
    "    This function prints the evaluation metrics for the given dataframes\n",
    "    Parameters\n",
    "    ----------\n",
    "    n_clusters : int\n",
    "        Number of clusters used for the clustering\n",
    "    df1 : pd.DataFrame\n",
    "        Dataframe to be used for clustering evaluation\n",
    "    df2 : pd.DataFrame\n",
    "        Dataframe to be used for clustering evaluation\n",
    "    df1_clusters : pd.Series\n",
    "        Series of clusters for df1\n",
    "    df2_clusters : pd.Series\n",
    "        Series of clusters for df2\n",
    "        \n",
    "    Returns\n",
    "    -------\n",
    "    None.\n",
    "    '''\n",
    "    print(f'{n_clusters} Clusters\\n')\n",
    "    print('Calinski Harabasz Score')\n",
    "    print(f'{round(calinski_harabasz_score(df1, df1_clusters),3)}')\n",
    "    print(f'{round(calinski_harabasz_score(df2, df2_clusters),3)}\\n')\n",
    "    print('Davies Bouldin Score')\n",
    "    print(f'{round(davies_bouldin_score(df1, df1_clusters),3)}')\n",
    "    print(f'{round(davies_bouldin_score(df2, df2_clusters),3)}\\n')\n",
    "    print('Silhouette Score')\n",
    "    print(f'{round(silhouette_score(df1, df1_clusters),3)}')\n",
    "    print(f'{round(silhouette_score(df2, df2_clusters),3)}')"
   ]
  }
 ],
 "metadata": {
  "kernelspec": {
   "display_name": "Python 3.9.7 ('standenv')",
   "language": "python",
   "name": "python3"
  },
  "language_info": {
   "codemirror_mode": {
    "name": "ipython",
    "version": 3
   },
   "file_extension": ".py",
   "mimetype": "text/x-python",
   "name": "python",
   "nbconvert_exporter": "python",
   "pygments_lexer": "ipython3",
   "version": "3.9.7"
  },
  "orig_nbformat": 4,
  "vscode": {
   "interpreter": {
    "hash": "6cf943a06f567d7a029a65c28beb80e0c80e1029da2774ef6b5e07cadd91e931"
   }
  }
 },
 "nbformat": 4,
 "nbformat_minor": 2
}
