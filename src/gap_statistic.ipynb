{
 "cells": [
  {
   "cell_type": "markdown",
   "metadata": {},
   "source": []
  },
  {
   "cell_type": "code",
   "execution_count": 1,
   "metadata": {},
   "outputs": [],
   "source": [
    "import numpy as np\n",
    "import pandas as pd\n",
    "import matplotlib.pyplot as plt\n",
    "from sklearn.cluster import KMeans\n",
    "\n",
    "from scripts import *"
   ]
  },
  {
   "attachments": {},
   "cell_type": "markdown",
   "metadata": {},
   "source": [
    "# Gap statistic"
   ]
  },
  {
   "attachments": {},
   "cell_type": "markdown",
   "metadata": {},
   "source": [
    "## What is?"
   ]
  },
  {
   "attachments": {},
   "cell_type": "markdown",
   "metadata": {},
   "source": [
    "The gap statistic was developed by Stanford researchers Tibshirani, Walther and Hastie in their 2001 paper. The idea behind their approach was to find a way to compare cluster compactness with a null reference distribution of the data, i.e. a distribution with no obvious clustering. Their estimate for the optimal number of clusters is the value for which cluster compactness on the original data falls the farthest below this reference curve. This information is contained in the following formula for the gap statistic: \\\n",
    "\n",
    "$$Gap_n(k)=E^*_n\\{log(W_k)\\}-log(W_k)$$\n",
    "\n",
    "where\n",
    "\n",
    "\n",
    "$W_k$ = compactness of our clustering based on the *Within-Cluster-Sum of Squared Errors* (WSS).\n",
    "\n",
    "WSS is calculated as:\n",
    "$$D_k=2n_k\\sum_{x_i\\in C_k}||x_i - \\mu_k||^2$$\n",
    "\n",
    "The WSS is calculated by the inertia_ attribute of sklearn.cluster.KMeans functions as follows:\n",
    "- The square of the distance of each point from the centre of the cluster (Squared Erros)\n",
    "- The WSS score is the sum of these Squared Errors for all the points\n",
    "\n",
    "\n",
    "source:\n",
    "https://towardsdatascience.com/cheat-sheet-to-implementing-7-methods-for-selecting-optimal-number-of-clusters-in-python-898241e1d6ad"
   ]
  },
  {
   "attachments": {},
   "cell_type": "markdown",
   "metadata": {},
   "source": [
    "## Calculating Gap statistic"
   ]
  },
  {
   "cell_type": "code",
   "execution_count": 2,
   "metadata": {},
   "outputs": [],
   "source": [
    "df = pd.read_csv(\"../data/country-data.csv\")\n",
    "df_pca_clusters = pd.read_csv(\"../data/country-data-pca-w-clusters.csv\")"
   ]
  },
  {
   "cell_type": "markdown",
   "metadata": {},
   "source": []
  },
  {
   "cell_type": "code",
   "execution_count": 7,
   "metadata": {},
   "outputs": [
    {
     "data": {
      "text/plain": [
       "[8.56563649479922,\n",
       " 1.4499552968213443,\n",
       " 14.224225630782398,\n",
       " 0.8977424168599871,\n",
       " 3.326600138959439]"
      ]
     },
     "execution_count": 7,
     "metadata": {},
     "output_type": "execute_result"
    }
   ],
   "source": [
    "from scripts import *\n",
    "\n",
    "# calculating intra cluster variance for each cluster\n",
    "cluster_list, IVS = intra_cluster_variance(df_pca_clusters)\n",
    "IVS"
   ]
  }
 ],
 "metadata": {
  "kernelspec": {
   "display_name": "stats_exam",
   "language": "python",
   "name": "python3"
  },
  "language_info": {
   "codemirror_mode": {
    "name": "ipython",
    "version": 3
   },
   "file_extension": ".py",
   "mimetype": "text/x-python",
   "name": "python",
   "nbconvert_exporter": "python",
   "pygments_lexer": "ipython3",
   "version": "3.9.4"
  },
  "orig_nbformat": 4,
  "vscode": {
   "interpreter": {
    "hash": "385d92de6db470fb2e5225f42a78c13f07bd894b7765e30051c00c9f444fadf3"
   }
  }
 },
 "nbformat": 4,
 "nbformat_minor": 2
}
