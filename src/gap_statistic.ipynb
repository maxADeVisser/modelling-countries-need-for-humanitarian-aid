{
 "cells": [
  {
   "cell_type": "markdown",
   "metadata": {},
   "source": []
  },
  {
   "cell_type": "code",
   "execution_count": 1,
   "metadata": {},
   "outputs": [],
   "source": [
    "import numpy as np\n",
    "import pandas as pd\n",
    "import matplotlib.pyplot as plt\n",
    "from sklearn.cluster import KMeans\n",
    "\n",
    "from scripts import *"
   ]
  },
  {
   "attachments": {},
   "cell_type": "markdown",
   "metadata": {},
   "source": [
    "# Gap statistic"
   ]
  },
  {
   "attachments": {},
   "cell_type": "markdown",
   "metadata": {},
   "source": [
    "## What is?"
   ]
  },
  {
   "attachments": {},
   "cell_type": "markdown",
   "metadata": {},
   "source": [
    "The gap statistic was developed by Stanford researchers Tibshirani, Walther and Hastie in their 2001 paper. The idea behind their approach was to find a way to compare cluster compactness with a null reference distribution of the data, i.e. a distribution with no obvious clustering. Their estimate for the optimal number of clusters is the value for which cluster compactness on the original data falls the farthest below this reference curve. This information is contained in the following formula for the gap statistic: \\\n",
    "\n",
    "$$Gap_n(k)=E^*_n\\{log(W_k)\\}-log(W_k)$$\n",
    "\n",
    "where\n",
    "\n",
    "\n",
    "$W_k$ = compactness of our clustering based on the *Within-Cluster-Sum of Squared Errors* (WSS).\n",
    "\n",
    "WSS is calculated as:\n",
    "$$D_k=2n_k\\sum_{x_i\\in C_k}||x_i - \\mu_k||^2$$\n",
    "\n",
    "The WSS is calculated by the inertia_ attribute of sklearn.cluster.KMeans functions as follows:\n",
    "- The square of the distance of each point from the centre of the cluster (Squared Erros)\n",
    "- The WSS score is the sum of these Squared Errors for all the points\n",
    "\n",
    "\n",
    "source:\n",
    "https://towardsdatascience.com/cheat-sheet-to-implementing-7-methods-for-selecting-optimal-number-of-clusters-in-python-898241e1d6ad"
   ]
  },
  {
   "attachments": {},
   "cell_type": "markdown",
   "metadata": {},
   "source": [
    "## Calculating Gap statistic"
   ]
  },
  {
   "cell_type": "code",
   "execution_count": 40,
   "metadata": {},
   "outputs": [],
   "source": [
    "df = pd.read_csv(\"../data/country-data.csv\")\n",
    "df_pca_clusters = pd.read_csv(\"../data/country-data-pca-w-clusters.csv\")\n",
    "df_pca = pd.read_csv(\"../data/country-data-pca.csv\")"
   ]
  },
  {
   "cell_type": "markdown",
   "metadata": {},
   "source": []
  },
  {
   "cell_type": "code",
   "execution_count": 8,
   "metadata": {},
   "outputs": [],
   "source": [
    "# calculating intra cluster variance for each cluster\n",
    "IVS = ICV(df_pca_clusters)"
   ]
  },
  {
   "cell_type": "code",
   "execution_count": null,
   "metadata": {},
   "outputs": [],
   "source": [
    "def wcss(cluster: pd.DataFrame) -> float:\n",
    "  cluster = cluster.values.tolist()\n",
    "# Calculate the centroid of the cluster\n",
    "  centroid = np.mean(cluster, axis=0)\n",
    "  \n",
    "  # Initialize the WCSS to 0\n",
    "  wcss = 0\n",
    "\n",
    "  # Iterate over each data point in the cluster\n",
    "  for point in cluster:\n",
    "    # Calculate the squared distance between the data point and the centroid\n",
    "    squared_distance = np.sum((point - centroid)**2)\n",
    "    # Add the squared distance to the WCSS\n",
    "    wcss += squared_distance\n",
    "\n",
    "  # WCSS is the sum of the squared distances for all the data points in the cluster\n",
    "  return wcss"
   ]
  },
  {
   "cell_type": "code",
   "execution_count": 42,
   "metadata": {},
   "outputs": [
    {
     "name": "stderr",
     "output_type": "stream",
     "text": [
      "/Users/maxvisser/.pyenv/versions/3.9.4/envs/stats_exam/lib/python3.9/site-packages/numpy/core/fromnumeric.py:3432: RuntimeWarning: Mean of empty slice.\n",
      "  return _methods._mean(a, axis=axis, dtype=dtype,\n",
      "/Users/maxvisser/.pyenv/versions/3.9.4/envs/stats_exam/lib/python3.9/site-packages/numpy/core/_methods.py:182: RuntimeWarning: invalid value encountered in divide\n",
      "  ret = um.true_divide(\n",
      "/Users/maxvisser/.pyenv/versions/3.9.4/envs/stats_exam/lib/python3.9/site-packages/numpy/core/fromnumeric.py:3432: RuntimeWarning: Mean of empty slice.\n",
      "  return _methods._mean(a, axis=axis, dtype=dtype,\n",
      "/Users/maxvisser/.pyenv/versions/3.9.4/envs/stats_exam/lib/python3.9/site-packages/numpy/core/_methods.py:182: RuntimeWarning: invalid value encountered in divide\n",
      "  ret = um.true_divide(\n",
      "/Users/maxvisser/.pyenv/versions/3.9.4/envs/stats_exam/lib/python3.9/site-packages/numpy/core/fromnumeric.py:3432: RuntimeWarning: Mean of empty slice.\n",
      "  return _methods._mean(a, axis=axis, dtype=dtype,\n",
      "/Users/maxvisser/.pyenv/versions/3.9.4/envs/stats_exam/lib/python3.9/site-packages/numpy/core/_methods.py:182: RuntimeWarning: invalid value encountered in divide\n",
      "  ret = um.true_divide(\n",
      "/Users/maxvisser/.pyenv/versions/3.9.4/envs/stats_exam/lib/python3.9/site-packages/numpy/core/fromnumeric.py:3432: RuntimeWarning: Mean of empty slice.\n",
      "  return _methods._mean(a, axis=axis, dtype=dtype,\n",
      "/Users/maxvisser/.pyenv/versions/3.9.4/envs/stats_exam/lib/python3.9/site-packages/numpy/core/_methods.py:182: RuntimeWarning: invalid value encountered in divide\n",
      "  ret = um.true_divide(\n",
      "/Users/maxvisser/.pyenv/versions/3.9.4/envs/stats_exam/lib/python3.9/site-packages/numpy/core/fromnumeric.py:3432: RuntimeWarning: Mean of empty slice.\n",
      "  return _methods._mean(a, axis=axis, dtype=dtype,\n",
      "/Users/maxvisser/.pyenv/versions/3.9.4/envs/stats_exam/lib/python3.9/site-packages/numpy/core/_methods.py:182: RuntimeWarning: invalid value encountered in divide\n",
      "  ret = um.true_divide(\n",
      "/Users/maxvisser/.pyenv/versions/3.9.4/envs/stats_exam/lib/python3.9/site-packages/numpy/core/fromnumeric.py:3432: RuntimeWarning: Mean of empty slice.\n",
      "  return _methods._mean(a, axis=axis, dtype=dtype,\n",
      "/Users/maxvisser/.pyenv/versions/3.9.4/envs/stats_exam/lib/python3.9/site-packages/numpy/core/_methods.py:182: RuntimeWarning: invalid value encountered in divide\n",
      "  ret = um.true_divide(\n",
      "/Users/maxvisser/.pyenv/versions/3.9.4/envs/stats_exam/lib/python3.9/site-packages/numpy/core/fromnumeric.py:3432: RuntimeWarning: Mean of empty slice.\n",
      "  return _methods._mean(a, axis=axis, dtype=dtype,\n",
      "/Users/maxvisser/.pyenv/versions/3.9.4/envs/stats_exam/lib/python3.9/site-packages/numpy/core/_methods.py:182: RuntimeWarning: invalid value encountered in divide\n",
      "  ret = um.true_divide(\n",
      "/Users/maxvisser/.pyenv/versions/3.9.4/envs/stats_exam/lib/python3.9/site-packages/numpy/core/fromnumeric.py:3432: RuntimeWarning: Mean of empty slice.\n",
      "  return _methods._mean(a, axis=axis, dtype=dtype,\n",
      "/Users/maxvisser/.pyenv/versions/3.9.4/envs/stats_exam/lib/python3.9/site-packages/numpy/core/_methods.py:182: RuntimeWarning: invalid value encountered in divide\n",
      "  ret = um.true_divide(\n"
     ]
    },
    {
     "data": {
      "text/plain": [
       "Text(0.5, 0, 'k')"
      ]
     },
     "execution_count": 42,
     "metadata": {},
     "output_type": "execute_result"
    },
    {
     "data": {
      "image/png": "[encoded data removed]",
      "text/plain": [
       "<Figure size 640x480 with 1 Axes>"
      ]
     },
     "metadata": {},
     "output_type": "display_data"
    }
   ],
   "source": [
    "def gap_statistic(df: pd.DataFrame, n_clusters):\n",
    "  \"\"\"Calculate the gap statistic for a given dataset and number of clusters.\n",
    "\n",
    "  Parameters\n",
    "  ----------\n",
    "  data : numpy array\n",
    "    The data to cluster.\n",
    "  n_clusters : int\n",
    "    The number of clusters to use.\n",
    "\n",
    "  Returns\n",
    "  -------\n",
    "  float\n",
    "    The gap statistic.\n",
    "  \"\"\"\n",
    "  df = np.array(df.values.tolist())\n",
    "  # Use KMeans to cluster the data into n_clusters clusters\n",
    "  kmeans = KMeans(n_clusters=n_clusters)\n",
    "  kmeans.fit(df)\n",
    "\n",
    "  # Calculate the WCSS of the clusters\n",
    "  wcss = kmeans.inertia_\n",
    "\n",
    "  # Generate a reference distribution of the data by randomly assigning the data points to clusters\n",
    "  reference_distribution = np.random.randint(low=0, high=n_clusters-1, size=df.shape[0])\n",
    "\n",
    "  # Calculate the WCSS for the reference distribution\n",
    "  reference_wcss = 0\n",
    "  for i in range(n_clusters):\n",
    "    cluster = df[reference_distribution == i]\n",
    "    centroid = np.mean(cluster, axis=0)\n",
    "    for point in cluster:\n",
    "      squared_distance = np.sum((point - centroid)**2)\n",
    "      reference_wcss += squared_distance\n",
    "\n",
    "  # Calculate the gap statistic as the difference between the WCSS of the clusters and the WCSS of the reference distribution, normalized by the WCSS of the reference distribution\n",
    "  gap = (wcss - reference_wcss) / reference_wcss\n",
    "  return gap\n",
    "\n",
    "k = np.arange(2, 10)\n",
    "g = []\n",
    "for i in k:\n",
    "  g.append(gap_statistic(df=df_pca.drop(\"country\", axis=1), n_clusters=i))\n",
    "\n",
    "plt.plot(k, g)\n",
    "plt.grid()\n",
    "plt.ylabel(\"gap statistic\")\n",
    "plt.xlabel(\"k\")\n"
   ]
  },
  {
   "cell_type": "code",
   "execution_count": null,
   "metadata": {},
   "outputs": [
    {
     "data": {
      "text/plain": [
       "2.062454818115534"
      ]
     },
     "execution_count": 18,
     "metadata": {},
     "output_type": "execute_result"
    }
   ],
   "source": [
    "clusters = split_in_clusters(df_pca_clusters)\n",
    "wcss(clusters[0])"
   ]
  }
 ],
 "metadata": {
  "kernelspec": {
   "display_name": "stats_exam",
   "language": "python",
   "name": "python3"
  },
  "language_info": {
   "codemirror_mode": {
    "name": "ipython",
    "version": 3
   },
   "file_extension": ".py",
   "mimetype": "text/x-python",
   "name": "python",
   "nbconvert_exporter": "python",
   "pygments_lexer": "ipython3",
   "version": "3.9.4"
  },
  "orig_nbformat": 4,
  "vscode": {
   "interpreter": {
    "hash": "385d92de6db470fb2e5225f42a78c13f07bd894b7765e30051c00c9f444fadf3"
   }
  }
 },
 "nbformat": 4,
 "nbformat_minor": 2
}
