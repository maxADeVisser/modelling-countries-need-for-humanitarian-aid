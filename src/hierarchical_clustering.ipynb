{
 "cells": [
  {
   "attachments": {},
   "cell_type": "markdown",
   "metadata": {},
   "source": [
    "# Hierarchical clustering notebook"
   ]
  },
  {
   "attachments": {},
   "cell_type": "markdown",
   "metadata": {},
   "source": [
    "The hierarchical clustering has 2 approaches. It can be either 'Agglomerative' or 'Divisive'. In aglomerative approach you start with as many clusters as countries and you iteratively merge the most similar clusters into bigger ones. In divisive approach everything is in one big cluster at the beginning and you iteratively exclude from the cluster the countries that are very different from all others and you create clusters out of them.\n",
    "\n",
    "For our approach aglomerative approach seems like a best option."
   ]
  },
  {
   "cell_type": "code",
   "execution_count": 25,
   "metadata": {},
   "outputs": [],
   "source": [
    "import numpy as np\n",
    "import matplotlib.pyplot as plt\n",
    "import pandas as pd\n",
    "from sklearn.preprocessing import MinMaxScaler, StandardScaler\n",
    "from scripts import create_dendrogram, apply_hierarchical_clustering\n",
    "import plotly.express as px"
   ]
  },
  {
   "cell_type": "code",
   "execution_count": 33,
   "metadata": {},
   "outputs": [],
   "source": [
    "data_pca = pd.read_csv('../data/country-data-scaledminmax-pca.csv')"
   ]
  },
  {
   "cell_type": "code",
   "execution_count": 27,
   "metadata": {},
   "outputs": [
    {
     "data": {
      "text/html": [
       "<div>\n",
       "<style scoped>\n",
       "    .dataframe tbody tr th:only-of-type {\n",
       "        vertical-align: middle;\n",
       "    }\n",
       "\n",
       "    .dataframe tbody tr th {\n",
       "        vertical-align: top;\n",
       "    }\n",
       "\n",
       "    .dataframe thead th {\n",
       "        text-align: right;\n",
       "    }\n",
       "</style>\n",
       "<table border=\"1\" class=\"dataframe\">\n",
       "  <thead>\n",
       "    <tr style=\"text-align: right;\">\n",
       "      <th></th>\n",
       "      <th>country</th>\n",
       "      <th>PC1</th>\n",
       "      <th>PC2</th>\n",
       "      <th>PC3</th>\n",
       "      <th>PC4</th>\n",
       "      <th>PC5</th>\n",
       "      <th>PC6</th>\n",
       "      <th>PC7</th>\n",
       "      <th>PC8</th>\n",
       "      <th>PC9</th>\n",
       "    </tr>\n",
       "  </thead>\n",
       "  <tbody>\n",
       "    <tr>\n",
       "      <th>0</th>\n",
       "      <td>Afghanistan</td>\n",
       "      <td>-0.599078</td>\n",
       "      <td>0.095490</td>\n",
       "      <td>0.157554</td>\n",
       "      <td>-0.024333</td>\n",
       "      <td>-0.045618</td>\n",
       "      <td>-0.046532</td>\n",
       "      <td>0.076803</td>\n",
       "      <td>0.040610</td>\n",
       "      <td>0.023572</td>\n",
       "    </tr>\n",
       "    <tr>\n",
       "      <th>1</th>\n",
       "      <td>Albania</td>\n",
       "      <td>0.158474</td>\n",
       "      <td>-0.212092</td>\n",
       "      <td>-0.064189</td>\n",
       "      <td>-0.061247</td>\n",
       "      <td>0.014191</td>\n",
       "      <td>-0.010246</td>\n",
       "      <td>-0.043567</td>\n",
       "      <td>0.030842</td>\n",
       "      <td>0.029833</td>\n",
       "    </tr>\n",
       "    <tr>\n",
       "      <th>2</th>\n",
       "      <td>Algeria</td>\n",
       "      <td>0.003686</td>\n",
       "      <td>-0.135867</td>\n",
       "      <td>-0.134182</td>\n",
       "      <td>0.133574</td>\n",
       "      <td>-0.091150</td>\n",
       "      <td>0.025988</td>\n",
       "      <td>-0.045604</td>\n",
       "      <td>-0.010198</td>\n",
       "      <td>0.003012</td>\n",
       "    </tr>\n",
       "    <tr>\n",
       "      <th>3</th>\n",
       "      <td>Angola</td>\n",
       "      <td>-0.650235</td>\n",
       "      <td>0.275975</td>\n",
       "      <td>-0.142672</td>\n",
       "      <td>0.156018</td>\n",
       "      <td>-0.081997</td>\n",
       "      <td>0.032170</td>\n",
       "      <td>-0.073985</td>\n",
       "      <td>-0.045195</td>\n",
       "      <td>-0.042241</td>\n",
       "    </tr>\n",
       "    <tr>\n",
       "      <th>4</th>\n",
       "      <td>Antigua and Barbuda</td>\n",
       "      <td>0.200711</td>\n",
       "      <td>-0.064662</td>\n",
       "      <td>-0.100715</td>\n",
       "      <td>-0.037902</td>\n",
       "      <td>-0.035799</td>\n",
       "      <td>-0.055817</td>\n",
       "      <td>-0.009559</td>\n",
       "      <td>0.026228</td>\n",
       "      <td>0.022455</td>\n",
       "    </tr>\n",
       "  </tbody>\n",
       "</table>\n",
       "</div>"
      ],
      "text/plain": [
       "               country       PC1       PC2       PC3       PC4       PC5  \\\n",
       "0          Afghanistan -0.599078  0.095490  0.157554 -0.024333 -0.045618   \n",
       "1              Albania  0.158474 -0.212092 -0.064189 -0.061247  0.014191   \n",
       "2              Algeria  0.003686 -0.135867 -0.134182  0.133574 -0.091150   \n",
       "3               Angola -0.650235  0.275975 -0.142672  0.156018 -0.081997   \n",
       "4  Antigua and Barbuda  0.200711 -0.064662 -0.100715 -0.037902 -0.035799   \n",
       "\n",
       "        PC6       PC7       PC8       PC9  \n",
       "0 -0.046532  0.076803  0.040610  0.023572  \n",
       "1 -0.010246 -0.043567  0.030842  0.029833  \n",
       "2  0.025988 -0.045604 -0.010198  0.003012  \n",
       "3  0.032170 -0.073985 -0.045195 -0.042241  \n",
       "4 -0.055817 -0.009559  0.026228  0.022455  "
      ]
     },
     "execution_count": 27,
     "metadata": {},
     "output_type": "execute_result"
    }
   ],
   "source": [
    "data_pca.head()"
   ]
  },
  {
   "attachments": {},
   "cell_type": "markdown",
   "metadata": {},
   "source": [
    "# Dendrograms"
   ]
  },
  {
   "attachments": {},
   "cell_type": "markdown",
   "metadata": {},
   "source": [
    "## PCA"
   ]
  },
  {
   "cell_type": "code",
   "execution_count": 34,
   "metadata": {},
   "outputs": [
    {
     "data": {
      "image/png": "[encoded data removed]",
      "text/plain": [
       "<Figure size 640x480 with 1 Axes>"
      ]
     },
     "metadata": {},
     "output_type": "display_data"
    }
   ],
   "source": [
    "data_pca.index = data_pca.country\n",
    "data_pca.drop(columns=[\"country\", \"PC3\", \"PC4\", \"PC5\", \"PC6\", \"PC7\", \"PC8\", \"PC9\"], inplace=True)\n",
    "dendrogram = create_dendrogram(data_pca) # finding the optimal number of clusters using dendrogram\n",
    "plt.title('Dendrogram PCA') # title of the dendrogram\n",
    "plt.xlabel('Country') # label of the x-axis\n",
    "plt.ylabel('Euclidean distances') # label of the y-axis\n",
    "plt.xticks([])\n",
    "plt.show()"
   ]
  },
  {
   "attachments": {},
   "cell_type": "markdown",
   "metadata": {},
   "source": [
    "Considering the dendrogram above, the optimal number of clusters can be determined as follows; hypothetically, extrapolate all the horizontal lines across the entire dendrogram and then find the longest vertical line that does not cross those hypothetical lines.\n",
    "\n",
    "Across that longest line, establish a threshold. The number of clusters we can optimally cluster our data equals the count of euclidean distances (vertical lines) the established threshold cuts across.\n",
    "\n",
    "Knowing the optimal number our data should cluster into; we can now train our clustering model to achieve this goal."
   ]
  },
  {
   "cell_type": "code",
   "execution_count": 37,
   "metadata": {},
   "outputs": [],
   "source": [
    "data_pca_hierarchical_applied = apply_hierarchical_clustering(data_pca, 5)"
   ]
  },
  {
   "attachments": {},
   "cell_type": "markdown",
   "metadata": {},
   "source": [
    "## PCA clusters visualisation"
   ]
  },
  {
   "cell_type": "code",
   "execution_count": 38,
   "metadata": {},
   "outputs": [
    {
     "data": {
      "application/vnd.plotly.v1+json": {
       "config": {
        "plotlyServerURL": "https://plot.ly"
       },
       "data": [
        {
         "hovertemplate": [
          "Afghanistan",
          "Albania",
          "Algeria",
          "Angola",
          "Antigua and Barbuda",
          "Argentina",
          "Armenia",
          "Australia",
          "Austria",
          "Azerbaijan",
          "Bahamas",
          "Bahrain",
          "Bangladesh",
          "Barbados",
          "Belarus",
          "Belgium",
          "Belize",
          "Benin",
          "Bhutan",
          "Bolivia",
          "Bosnia and Herzegovina",
          "Botswana",
          "Brazil",
          "Brunei",
          "Bulgaria",
          "Burkina Faso",
          "Burundi",
          "Cambodia",
          "Cameroon",
          "Canada",
          "Cape Verde",
          "Central African Republic",
          "Chad",
          "Chile",
          "China",
          "Colombia",
          "Comoros",
          "Congo, Dem. Rep.",
          "Congo, Rep.",
          "Costa Rica",
          "Cote d'Ivoire",
          "Croatia",
          "Cyprus",
          "Czech Republic",
          "Denmark",
          "Dominican Republic",
          "Ecuador",
          "Egypt",
          "El Salvador",
          "Equatorial Guinea",
          "Eritrea",
          "Estonia",
          "Fiji",
          "Finland",
          "France",
          "Gabon",
          "Gambia",
          "Georgia",
          "Germany",
          "Ghana",
          "Greece",
          "Grenada",
          "Guatemala",
          "Guinea",
          "Guinea-Bissau",
          "Guyana",
          "Haiti",
          "Hungary",
          "Iceland",
          "India",
          "Indonesia",
          "Iran",
          "Iraq",
          "Ireland",
          "Israel",
          "Italy",
          "Jamaica",
          "Japan",
          "Jordan",
          "Kazakhstan",
          "Kenya",
          "Kiribati",
          "Kuwait",
          "Kyrgyz Republic",
          "Lao",
          "Latvia",
          "Lebanon",
          "Lesotho",
          "Liberia",
          "Libya",
          "Lithuania",
          "Luxembourg",
          "Macedonia, FYR",
          "Madagascar",
          "Malawi",
          "Malaysia",
          "Maldives",
          "Mali",
          "Malta",
          "Mauritania",
          "Mauritius",
          "Micronesia, Fed. Sts.",
          "Moldova",
          "Mongolia",
          "Montenegro",
          "Morocco",
          "Mozambique",
          "Myanmar",
          "Namibia",
          "Nepal",
          "Netherlands",
          "New Zealand",
          "Niger",
          "Nigeria",
          "Norway",
          "Oman",
          "Pakistan",
          "Panama",
          "Paraguay",
          "Peru",
          "Philippines",
          "Poland",
          "Portugal",
          "Qatar",
          "Romania",
          "Russia",
          "Rwanda",
          "Samoa",
          "Saudi Arabia",
          "Senegal",
          "Serbia",
          "Seychelles",
          "Sierra Leone",
          "Singapore",
          "Slovak Republic",
          "Slovenia",
          "Solomon Islands",
          "South Africa",
          "South Korea",
          "Spain",
          "Sri Lanka",
          "St. Vincent and the Grenadines",
          "Sudan",
          "Suriname",
          "Sweden",
          "Switzerland",
          "Tajikistan",
          "Tanzania",
          "Thailand",
          "Timor-Leste",
          "Togo",
          "Tonga",
          "Tunisia",
          "Turkey",
          "Turkmenistan",
          "Uganda",
          "Ukraine",
          "United Arab Emirates",
          "United Kingdom",
          "United States",
          "Uruguay",
          "Uzbekistan",
          "Vanuatu",
          "Venezuela",
          "Vietnam",
          "Yemen",
          "Zambia"
         ],
         "legendgroup": "",
         "marker": {
          "color": [
           3,
           4,
           0,
           3,
           4,
           0,
           0,
           0,
           0,
           0,
           4,
           4,
           0,
           4,
           4,
           1,
           0,
           3,
           0,
           2,
           4,
           2,
           0,
           1,
           4,
           3,
           3,
           2,
           3,
           0,
           0,
           3,
           3,
           4,
           0,
           0,
           2,
           3,
           3,
           4,
           3,
           4,
           0,
           4,
           1,
           0,
           0,
           0,
           0,
           3,
           2,
           4,
           2,
           0,
           0,
           2,
           3,
           4,
           0,
           2,
           0,
           0,
           2,
           3,
           3,
           2,
           3,
           4,
           0,
           0,
           0,
           0,
           2,
           1,
           4,
           0,
           0,
           0,
           2,
           0,
           2,
           2,
           1,
           2,
           2,
           4,
           4,
           3,
           3,
           4,
           4,
           1,
           4,
           2,
           3,
           4,
           4,
           3,
           1,
           3,
           4,
           2,
           4,
           2,
           4,
           0,
           3,
           0,
           2,
           0,
           1,
           0,
           3,
           3,
           1,
           4,
           2,
           4,
           0,
           0,
           2,
           4,
           0,
           1,
           4,
           4,
           2,
           2,
           4,
           2,
           4,
           4,
           3,
           1,
           4,
           0,
           2,
           2,
           0,
           0,
           0,
           0,
           2,
           0,
           0,
           1,
           2,
           3,
           4,
           2,
           3,
           2,
           4,
           4,
           2,
           3,
           4,
           1,
           0,
           0,
           4,
           0,
           2,
           0,
           4,
           2,
           3
          ],
          "coloraxis": "coloraxis",
          "symbol": "circle"
         },
         "mode": "markers",
         "name": "",
         "orientation": "v",
         "showlegend": false,
         "type": "scatter",
         "x": [
          -0.5990776408933924,
          0.1584742967326133,
          0.0036855177352033,
          -0.6502349912467081,
          0.2007112426159632,
          0.1125340013545153,
          0.0874861233299794,
          0.440783586238544,
          0.5205263926665187,
          0.0388091454546323,
          0.2533050412996837,
          0.2800487536378107,
          -0.107213039711027,
          0.2324059547755844,
          0.1823838272351813,
          0.4955252868934174,
          0.0343958977610748,
          -0.5721153282550093,
          -0.0072183971557753,
          -0.1208672258042988,
          0.2599988414217384,
          -0.1537206138089997,
          0.1396248941256216,
          0.4204160178754092,
          0.2077521579633127,
          -0.6538925108450021,
          -0.6097543899838296,
          -0.1091355979386028,
          -0.5745202803834539,
          0.4765477502796918,
          -0.0075544329733614,
          -0.7858316644817721,
          -0.8034838893582714,
          0.2393651764321953,
          0.1244389637592094,
          0.1160064523538468,
          -0.4296805928972022,
          -0.6939619357067806,
          -0.3921384313651639,
          0.2364067612559281,
          -0.5739691560831601,
          0.2650144432355151,
          0.4048801378198109,
          0.3626856019519436,
          0.5105399799986365,
          0.0095736943020307,
          0.0539599514967873,
          -0.0986543110866529,
          0.0709217932179602,
          -0.387988396154401,
          -0.4212455672653363,
          0.2906716811183326,
          -0.0311077837878348,
          0.4377602021056352,
          0.4164146415182647,
          -0.2761303010673889,
          -0.4897316895219253,
          0.127982637292986,
          0.4909651019603384,
          -0.3760888557221317,
          0.3780996531975858,
          0.0764414986002061,
          -0.1001349692056602,
          -0.5962174429893381,
          -0.5779248168494965,
          -0.0598728659260182,
          -0.8363862705231495,
          0.3309635777501881,
          0.4240775777017765,
          -0.1703783030318848,
          -0.0720036204663898,
          0.1197300034614377,
          -0.2095220257842669,
          0.5274460071080211,
          0.248233055696994,
          0.4325744825044996,
          0.0765010464417807,
          0.4633584620428898,
          -0.0035600264464181,
          0.0111995953209522,
          -0.3590427353113358,
          -0.2596553927519397,
          0.3957758163902336,
          -0.0668922893525603,
          -0.2635517224628559,
          0.2527443757413566,
          0.2563848722995771,
          -0.3857155015584067,
          -0.4212670584114022,
          0.1616353688543083,
          0.2700386913197652,
          0.9412939924726452,
          0.1960723176008576,
          -0.4063568179312002,
          -0.5854689657395733,
          0.2027980159087452,
          0.1881402236687437,
          -0.7560836209347952,
          0.5147457120770221,
          -0.4260122796391241,
          0.1970016435374598,
          -0.0939039269039212,
          0.1748209942068519,
          -0.0643725235861219,
          0.2275715304644921,
          -0.007829789180748,
          -0.61627757352232,
          -0.2117298849563046,
          -0.2302412315589692,
          -0.1366304567908259,
          0.5394099826515577,
          0.3471664786551841,
          -0.8088184692474699,
          -0.7407228826991712,
          0.6247482827023403,
          0.1801426090382315,
          -0.3973298833393518,
          0.1668537852552201,
          0.0337396489883461,
          0.0610386344637132,
          -0.1146780178314501,
          0.2785837877848749,
          0.3789625306798055,
          0.6386728672340589,
          0.1789618640065629,
          0.1439296848008897,
          -0.325743455634283,
          -0.137506024917242,
          0.1511910084961846,
          -0.4080563416353287,
          0.2344495084769987,
          0.2049934671300011,
          -0.6760219880914474,
          0.7668282160875248,
          0.3487537590077579,
          0.3978660221374692,
          -0.2035514970429371,
          -0.1703939745170638,
          0.3868371823121319,
          0.4174883932932084,
          0.0358666123301506,
          0.0648152398189656,
          -0.415458821165521,
          0.0547863294515853,
          0.480069292613334,
          0.6647561884795673,
          -0.1955356650101127,
          -0.507028918614955,
          0.2025684095546898,
          -0.453698939736358,
          -0.4553435949145307,
          -0.133459112509208,
          0.1388116153310956,
          0.1468676740570779,
          -0.1143433494524864,
          -0.5931654277624746,
          0.1509336107680628,
          0.3951364032922986,
          0.3908949123765818,
          0.4836120747474237,
          0.1796987401723982,
          -0.0565819301127412,
          -0.1600783809462304,
          0.0611331856840031,
          0.1155122780065579,
          -0.3329682454570165,
          -0.5738966875202655
         ],
         "xaxis": "x",
         "y": [
          0.0954900126108338,
          -0.212092404462737,
          -0.1358672516939976,
          0.2759752627478128,
          -0.0646622284261513,
          -0.2060463314344673,
          -0.2443069602640859,
          0.0162815869267037,
          0.1150526669126682,
          -0.121988132978655,
          -0.0370924750988085,
          0.0819445191070304,
          -0.2481700696174427,
          -0.1062566506139803,
          -0.103522663461489,
          0.2416821696175347,
          -0.0525870929343874,
          0.0889162181587674,
          -0.0622878071828505,
          -0.0985973424294106,
          -0.2221539334606589,
          0.0294030445465862,
          -0.2631596243592047,
          0.1948516356228185,
          -0.1255083554898192,
          0.1132057806789234,
          0.1131339466395205,
          -0.0305114750505922,
          0.0636648147100615,
          0.0307698840604607,
          -0.1115278283609558,
          0.1140257174448361,
          0.2751476156645894,
          -0.1590418704574229,
          -0.2784082769072114,
          -0.2708605858159684,
          0.0266277404346815,
          0.2490366873763297,
          0.2021351750717093,
          -0.1942950673291086,
          0.1831648202898714,
          -0.1553061670912759,
          0.016648396815077,
          0.0143944835631398,
          0.18525831146591,
          -0.1657342346037784,
          -0.1748119870491725,
          -0.1673425104228434,
          -0.1860766624359521,
          0.455146500915266,
          -0.1136126759204117,
          0.019593438329169,
          -0.0233729575651901,
          0.0667832228744335,
          -0.0016351853353261,
          0.0627382903985403,
          0.0725593454564057,
          -0.1669274902501461,
          0.0372079780256294,
          0.0169908832166604,
          -0.1297784006998876,
          -0.1581723634980124,
          -0.1203773183518332,
          0.1236125234999264,
          0.0762672124665754,
          0.0066851952673842,
          0.2330151189540589,
          0.027138707640432,
          0.1060982222811267,
          -0.1702047852222566,
          -0.2119012447266536,
          -0.2391159438081785,
          0.0194957314835594,
          0.3704888918645326,
          0.0061808520880797,
          -0.0723282503271297,
          -0.173925096919973,
          -0.0969699002007377,
          0.0068357964389846,
          -0.0839643668946455,
          -0.048911484338221,
          0.0323419936239565,
          0.2141201679742053,
          0.0025623714723478,
          -0.0250840858143935,
          -0.0972304159054904,
          -0.1442786203598361,
          0.1989833784482637,
          0.1722986780734849,
          -0.0014267570003912,
          -0.0239400193546831,
          1.036903161470592,
          -0.1674065849944798,
          -0.0076171940790247,
          0.0767309180328158,
          0.0511805110511816,
          -0.0184987688755355,
          0.1953471539563931,
          0.4202842385860545,
          0.1554457747363983,
          -0.0903883256546702,
          0.0120794398811749,
          -0.1381794306698756,
          -0.0693381649434183,
          -0.1337202449051722,
          -0.1507961661217774,
          0.1435223263286849,
          -0.2986136005285033,
          0.0780485506465816,
          -0.2089014970477291,
          0.2447240272376879,
          -0.0327660168710343,
          0.2585783067269946,
          0.1242060032915474,
          0.3147309890197695,
          0.0992515033390258,
          -0.0949623034910173,
          0.049957744991154,
          -0.0774953852820247,
          -0.2159652143717935,
          -0.125800710658979,
          -0.1472761395987081,
          -0.1229303177765245,
          0.4789385583112645,
          -0.1852755868289659,
          -0.1974364521296224,
          -0.0618010729475549,
          -0.0440648945136574,
          0.059278787829184,
          0.0210164978344557,
          -0.1991717341560063,
          0.1672374718223807,
          0.163863765056951,
          0.7964669871825418,
          0.0557867339215324,
          0.0301060825440422,
          0.084023927523513,
          -0.0656295838030366,
          -0.0700289153234203,
          -0.1137667822596957,
          -0.2718649311702501,
          -0.1486215625291926,
          -0.0390135688851552,
          -0.0665415675168499,
          0.1328698433078627,
          0.3247404186967396,
          -0.0867524124989391,
          0.0216602301216648,
          -0.0948052087087562,
          0.0027604827472527,
          0.1308463945096274,
          -0.0945380363206218,
          -0.115547035040787,
          -0.198038817223127,
          0.0356021756264247,
          0.0839924926732561,
          -0.1736295680413141,
          0.2265527078416212,
          -0.0105581839462462,
          0.0352966831261395,
          -0.1883335969821371,
          -0.1945031037484664,
          -0.0296247185141473,
          -0.1713391564346746,
          -0.0320338076664714,
          -0.0198243028357741,
          0.1087881365895586
         ],
         "yaxis": "y"
        }
       ],
       "layout": {
        "coloraxis": {
         "colorbar": {
          "title": {
           "text": "color"
          }
         },
         "colorscale": [
          [
           0,
           "rgb(254, 245, 244)"
          ],
          [
           0.09090909090909091,
           "rgb(222, 224, 210)"
          ],
          [
           0.18181818181818182,
           "rgb(189, 206, 181)"
          ],
          [
           0.2727272727272727,
           "rgb(153, 189, 156)"
          ],
          [
           0.36363636363636365,
           "rgb(110, 173, 138)"
          ],
          [
           0.45454545454545453,
           "rgb(65, 157, 129)"
          ],
          [
           0.5454545454545454,
           "rgb(25, 137, 125)"
          ],
          [
           0.6363636363636364,
           "rgb(18, 116, 117)"
          ],
          [
           0.7272727272727273,
           "rgb(25, 94, 106)"
          ],
          [
           0.8181818181818182,
           "rgb(28, 72, 93)"
          ],
          [
           0.9090909090909091,
           "rgb(25, 51, 80)"
          ],
          [
           1,
           "rgb(20, 29, 67)"
          ]
         ]
        },
        "legend": {
         "tracegroupgap": 0
        },
        "margin": {
         "t": 60
        },
        "template": {
         "data": {
          "bar": [
           {
            "error_x": {
             "color": "#2a3f5f"
            },
            "error_y": {
             "color": "#2a3f5f"
            },
            "marker": {
             "line": {
              "color": "#E5ECF6",
              "width": 0.5
             },
             "pattern": {
              "fillmode": "overlay",
              "size": 10,
              "solidity": 0.2
             }
            },
            "type": "bar"
           }
          ],
          "barpolar": [
           {
            "marker": {
             "line": {
              "color": "#E5ECF6",
              "width": 0.5
             },
             "pattern": {
              "fillmode": "overlay",
              "size": 10,
              "solidity": 0.2
             }
            },
            "type": "barpolar"
           }
          ],
          "carpet": [
           {
            "aaxis": {
             "endlinecolor": "#2a3f5f",
             "gridcolor": "white",
             "linecolor": "white",
             "minorgridcolor": "white",
             "startlinecolor": "#2a3f5f"
            },
            "baxis": {
             "endlinecolor": "#2a3f5f",
             "gridcolor": "white",
             "linecolor": "white",
             "minorgridcolor": "white",
             "startlinecolor": "#2a3f5f"
            },
            "type": "carpet"
           }
          ],
          "choropleth": [
           {
            "colorbar": {
             "outlinewidth": 0,
             "ticks": ""
            },
            "type": "choropleth"
           }
          ],
          "contour": [
           {
            "colorbar": {
             "outlinewidth": 0,
             "ticks": ""
            },
            "colorscale": [
             [
              0,
              "#0d0887"
             ],
             [
              0.1111111111111111,
              "#46039f"
             ],
             [
              0.2222222222222222,
              "#7201a8"
             ],
             [
              0.3333333333333333,
              "#9c179e"
             ],
             [
              0.4444444444444444,
              "#bd3786"
             ],
             [
              0.5555555555555556,
              "#d8576b"
             ],
             [
              0.6666666666666666,
              "#ed7953"
             ],
             [
              0.7777777777777778,
              "#fb9f3a"
             ],
             [
              0.8888888888888888,
              "#fdca26"
             ],
             [
              1,
              "#f0f921"
             ]
            ],
            "type": "contour"
           }
          ],
          "contourcarpet": [
           {
            "colorbar": {
             "outlinewidth": 0,
             "ticks": ""
            },
            "type": "contourcarpet"
           }
          ],
          "heatmap": [
           {
            "colorbar": {
             "outlinewidth": 0,
             "ticks": ""
            },
            "colorscale": [
             [
              0,
              "#0d0887"
             ],
             [
              0.1111111111111111,
              "#46039f"
             ],
             [
              0.2222222222222222,
              "#7201a8"
             ],
             [
              0.3333333333333333,
              "#9c179e"
             ],
             [
              0.4444444444444444,
              "#bd3786"
             ],
             [
              0.5555555555555556,
              "#d8576b"
             ],
             [
              0.6666666666666666,
              "#ed7953"
             ],
             [
              0.7777777777777778,
              "#fb9f3a"
             ],
             [
              0.8888888888888888,
              "#fdca26"
             ],
             [
              1,
              "#f0f921"
             ]
            ],
            "type": "heatmap"
           }
          ],
          "heatmapgl": [
           {
            "colorbar": {
             "outlinewidth": 0,
             "ticks": ""
            },
            "colorscale": [
             [
              0,
              "#0d0887"
             ],
             [
              0.1111111111111111,
              "#46039f"
             ],
             [
              0.2222222222222222,
              "#7201a8"
             ],
             [
              0.3333333333333333,
              "#9c179e"
             ],
             [
              0.4444444444444444,
              "#bd3786"
             ],
             [
              0.5555555555555556,
              "#d8576b"
             ],
             [
              0.6666666666666666,
              "#ed7953"
             ],
             [
              0.7777777777777778,
              "#fb9f3a"
             ],
             [
              0.8888888888888888,
              "#fdca26"
             ],
             [
              1,
              "#f0f921"
             ]
            ],
            "type": "heatmapgl"
           }
          ],
          "histogram": [
           {
            "marker": {
             "pattern": {
              "fillmode": "overlay",
              "size": 10,
              "solidity": 0.2
             }
            },
            "type": "histogram"
           }
          ],
          "histogram2d": [
           {
            "colorbar": {
             "outlinewidth": 0,
             "ticks": ""
            },
            "colorscale": [
             [
              0,
              "#0d0887"
             ],
             [
              0.1111111111111111,
              "#46039f"
             ],
             [
              0.2222222222222222,
              "#7201a8"
             ],
             [
              0.3333333333333333,
              "#9c179e"
             ],
             [
              0.4444444444444444,
              "#bd3786"
             ],
             [
              0.5555555555555556,
              "#d8576b"
             ],
             [
              0.6666666666666666,
              "#ed7953"
             ],
             [
              0.7777777777777778,
              "#fb9f3a"
             ],
             [
              0.8888888888888888,
              "#fdca26"
             ],
             [
              1,
              "#f0f921"
             ]
            ],
            "type": "histogram2d"
           }
          ],
          "histogram2dcontour": [
           {
            "colorbar": {
             "outlinewidth": 0,
             "ticks": ""
            },
            "colorscale": [
             [
              0,
              "#0d0887"
             ],
             [
              0.1111111111111111,
              "#46039f"
             ],
             [
              0.2222222222222222,
              "#7201a8"
             ],
             [
              0.3333333333333333,
              "#9c179e"
             ],
             [
              0.4444444444444444,
              "#bd3786"
             ],
             [
              0.5555555555555556,
              "#d8576b"
             ],
             [
              0.6666666666666666,
              "#ed7953"
             ],
             [
              0.7777777777777778,
              "#fb9f3a"
             ],
             [
              0.8888888888888888,
              "#fdca26"
             ],
             [
              1,
              "#f0f921"
             ]
            ],
            "type": "histogram2dcontour"
           }
          ],
          "mesh3d": [
           {
            "colorbar": {
             "outlinewidth": 0,
             "ticks": ""
            },
            "type": "mesh3d"
           }
          ],
          "parcoords": [
           {
            "line": {
             "colorbar": {
              "outlinewidth": 0,
              "ticks": ""
             }
            },
            "type": "parcoords"
           }
          ],
          "pie": [
           {
            "automargin": true,
            "type": "pie"
           }
          ],
          "scatter": [
           {
            "fillpattern": {
             "fillmode": "overlay",
             "size": 10,
             "solidity": 0.2
            },
            "type": "scatter"
           }
          ],
          "scatter3d": [
           {
            "line": {
             "colorbar": {
              "outlinewidth": 0,
              "ticks": ""
             }
            },
            "marker": {
             "colorbar": {
              "outlinewidth": 0,
              "ticks": ""
             }
            },
            "type": "scatter3d"
           }
          ],
          "scattercarpet": [
           {
            "marker": {
             "colorbar": {
              "outlinewidth": 0,
              "ticks": ""
             }
            },
            "type": "scattercarpet"
           }
          ],
          "scattergeo": [
           {
            "marker": {
             "colorbar": {
              "outlinewidth": 0,
              "ticks": ""
             }
            },
            "type": "scattergeo"
           }
          ],
          "scattergl": [
           {
            "marker": {
             "colorbar": {
              "outlinewidth": 0,
              "ticks": ""
             }
            },
            "type": "scattergl"
           }
          ],
          "scattermapbox": [
           {
            "marker": {
             "colorbar": {
              "outlinewidth": 0,
              "ticks": ""
             }
            },
            "type": "scattermapbox"
           }
          ],
          "scatterpolar": [
           {
            "marker": {
             "colorbar": {
              "outlinewidth": 0,
              "ticks": ""
             }
            },
            "type": "scatterpolar"
           }
          ],
          "scatterpolargl": [
           {
            "marker": {
             "colorbar": {
              "outlinewidth": 0,
              "ticks": ""
             }
            },
            "type": "scatterpolargl"
           }
          ],
          "scatterternary": [
           {
            "marker": {
             "colorbar": {
              "outlinewidth": 0,
              "ticks": ""
             }
            },
            "type": "scatterternary"
           }
          ],
          "surface": [
           {
            "colorbar": {
             "outlinewidth": 0,
             "ticks": ""
            },
            "colorscale": [
             [
              0,
              "#0d0887"
             ],
             [
              0.1111111111111111,
              "#46039f"
             ],
             [
              0.2222222222222222,
              "#7201a8"
             ],
             [
              0.3333333333333333,
              "#9c179e"
             ],
             [
              0.4444444444444444,
              "#bd3786"
             ],
             [
              0.5555555555555556,
              "#d8576b"
             ],
             [
              0.6666666666666666,
              "#ed7953"
             ],
             [
              0.7777777777777778,
              "#fb9f3a"
             ],
             [
              0.8888888888888888,
              "#fdca26"
             ],
             [
              1,
              "#f0f921"
             ]
            ],
            "type": "surface"
           }
          ],
          "table": [
           {
            "cells": {
             "fill": {
              "color": "#EBF0F8"
             },
             "line": {
              "color": "white"
             }
            },
            "header": {
             "fill": {
              "color": "#C8D4E3"
             },
             "line": {
              "color": "white"
             }
            },
            "type": "table"
           }
          ]
         },
         "layout": {
          "annotationdefaults": {
           "arrowcolor": "#2a3f5f",
           "arrowhead": 0,
           "arrowwidth": 1
          },
          "autotypenumbers": "strict",
          "coloraxis": {
           "colorbar": {
            "outlinewidth": 0,
            "ticks": ""
           }
          },
          "colorscale": {
           "diverging": [
            [
             0,
             "#8e0152"
            ],
            [
             0.1,
             "#c51b7d"
            ],
            [
             0.2,
             "#de77ae"
            ],
            [
             0.3,
             "#f1b6da"
            ],
            [
             0.4,
             "#fde0ef"
            ],
            [
             0.5,
             "#f7f7f7"
            ],
            [
             0.6,
             "#e6f5d0"
            ],
            [
             0.7,
             "#b8e186"
            ],
            [
             0.8,
             "#7fbc41"
            ],
            [
             0.9,
             "#4d9221"
            ],
            [
             1,
             "#276419"
            ]
           ],
           "sequential": [
            [
             0,
             "#0d0887"
            ],
            [
             0.1111111111111111,
             "#46039f"
            ],
            [
             0.2222222222222222,
             "#7201a8"
            ],
            [
             0.3333333333333333,
             "#9c179e"
            ],
            [
             0.4444444444444444,
             "#bd3786"
            ],
            [
             0.5555555555555556,
             "#d8576b"
            ],
            [
             0.6666666666666666,
             "#ed7953"
            ],
            [
             0.7777777777777778,
             "#fb9f3a"
            ],
            [
             0.8888888888888888,
             "#fdca26"
            ],
            [
             1,
             "#f0f921"
            ]
           ],
           "sequentialminus": [
            [
             0,
             "#0d0887"
            ],
            [
             0.1111111111111111,
             "#46039f"
            ],
            [
             0.2222222222222222,
             "#7201a8"
            ],
            [
             0.3333333333333333,
             "#9c179e"
            ],
            [
             0.4444444444444444,
             "#bd3786"
            ],
            [
             0.5555555555555556,
             "#d8576b"
            ],
            [
             0.6666666666666666,
             "#ed7953"
            ],
            [
             0.7777777777777778,
             "#fb9f3a"
            ],
            [
             0.8888888888888888,
             "#fdca26"
            ],
            [
             1,
             "#f0f921"
            ]
           ]
          },
          "colorway": [
           "#636efa",
           "#EF553B",
           "#00cc96",
           "#ab63fa",
           "#FFA15A",
           "#19d3f3",
           "#FF6692",
           "#B6E880",
           "#FF97FF",
           "#FECB52"
          ],
          "font": {
           "color": "#2a3f5f"
          },
          "geo": {
           "bgcolor": "white",
           "lakecolor": "white",
           "landcolor": "#E5ECF6",
           "showlakes": true,
           "showland": true,
           "subunitcolor": "white"
          },
          "hoverlabel": {
           "align": "left"
          },
          "hovermode": "closest",
          "mapbox": {
           "style": "light"
          },
          "paper_bgcolor": "white",
          "plot_bgcolor": "#E5ECF6",
          "polar": {
           "angularaxis": {
            "gridcolor": "white",
            "linecolor": "white",
            "ticks": ""
           },
           "bgcolor": "#E5ECF6",
           "radialaxis": {
            "gridcolor": "white",
            "linecolor": "white",
            "ticks": ""
           }
          },
          "scene": {
           "xaxis": {
            "backgroundcolor": "#E5ECF6",
            "gridcolor": "white",
            "gridwidth": 2,
            "linecolor": "white",
            "showbackground": true,
            "ticks": "",
            "zerolinecolor": "white"
           },
           "yaxis": {
            "backgroundcolor": "#E5ECF6",
            "gridcolor": "white",
            "gridwidth": 2,
            "linecolor": "white",
            "showbackground": true,
            "ticks": "",
            "zerolinecolor": "white"
           },
           "zaxis": {
            "backgroundcolor": "#E5ECF6",
            "gridcolor": "white",
            "gridwidth": 2,
            "linecolor": "white",
            "showbackground": true,
            "ticks": "",
            "zerolinecolor": "white"
           }
          },
          "shapedefaults": {
           "line": {
            "color": "#2a3f5f"
           }
          },
          "ternary": {
           "aaxis": {
            "gridcolor": "white",
            "linecolor": "white",
            "ticks": ""
           },
           "baxis": {
            "gridcolor": "white",
            "linecolor": "white",
            "ticks": ""
           },
           "bgcolor": "#E5ECF6",
           "caxis": {
            "gridcolor": "white",
            "linecolor": "white",
            "ticks": ""
           }
          },
          "title": {
           "x": 0.05
          },
          "xaxis": {
           "automargin": true,
           "gridcolor": "white",
           "linecolor": "white",
           "ticks": "",
           "title": {
            "standoff": 15
           },
           "zerolinecolor": "white",
           "zerolinewidth": 2
          },
          "yaxis": {
           "automargin": true,
           "gridcolor": "white",
           "linecolor": "white",
           "ticks": "",
           "title": {
            "standoff": 15
           },
           "zerolinecolor": "white",
           "zerolinewidth": 2
          }
         }
        },
        "xaxis": {
         "anchor": "y",
         "domain": [
          0,
          1
         ],
         "title": {
          "text": "x"
         }
        },
        "yaxis": {
         "anchor": "x",
         "domain": [
          0,
          1
         ],
         "title": {
          "text": "y"
         }
        }
       }
      }
     },
     "metadata": {},
     "output_type": "display_data"
    }
   ],
   "source": [
    "fig = px.scatter(x=data_pca.PC1, y=data_pca.PC2, color=data_pca.cluster, color_continuous_scale='tempo')\n",
    "fig.update_traces(mode=\"markers\", hovertemplate=data_pca.index)\n",
    "fig.show()"
   ]
  },
  {
   "attachments": {},
   "cell_type": "markdown",
   "metadata": {},
   "source": [
    "## Cluster evaluation"
   ]
  },
  {
   "cell_type": "code",
   "execution_count": 31,
   "metadata": {},
   "outputs": [],
   "source": [
    "from statistics import mean\n",
    "\n",
    "def dist(p1: list, p2: list):\n",
    "    \"\"\"Calculates the Euclidean distance between two points in n-dimensional space\"\"\"\n",
    "    return np.sqrt(np.sum([(p1[i] - p2[i])**2 for i in range(len(p1))]))\n",
    "\n",
    "\n",
    "def calculate_centroid(cluster_df: pd.DataFrame) -> list:\n",
    "    \"\"\"Return the centroid of a cluster as a list\"\"\"\n",
    "    return cluster_df.describe().loc['mean']\n",
    "\n",
    "\n",
    "def split_in_clusters(cluster_df: pd.DataFrame) -> list:\n",
    "    cluster_list = [] # a list to hold each cluster as a DataFrame\n",
    "    for i in range(len(cluster_df.cluster.unique())):\n",
    "        cluster_list.append(cluster_df.loc[cluster_df['cluster'] == i])\n",
    "    return cluster_list\n",
    "\n",
    "\n",
    "def intra_cluster_variance(cluster_df: pd.DataFrame) -> float:  \n",
    "    cluster_list = split_in_clusters(cluster_df)\n",
    "    \n",
    "    # calculate centroid in each cluster\n",
    "    cluster_centroids = [calculate_centroid(cluster) for cluster in cluster_list]\n",
    "    \n",
    "    # calculate intra variance in each cluster and store in list\n",
    "    cluster_intra_variance = []\n",
    "    for (cluster, centroid) in zip(cluster_list, cluster_centroids):\n",
    "        cluster_intra_variance.append(sum([dist(instance, centroid) for instance in cluster.values.tolist()]))\n",
    "    \n",
    "    return cluster_list, cluster_intra_variance\n",
    "\n",
    "\n"
   ]
  },
  {
   "attachments": {},
   "cell_type": "markdown",
   "metadata": {},
   "source": [
    "## Cluster intra variance mean for different cluster numbers in range <1,10>"
   ]
  },
  {
   "cell_type": "code",
   "execution_count": 32,
   "metadata": {},
   "outputs": [
    {
     "name": "stdout",
     "output_type": "stream",
     "text": [
      "Cluster num = 1, cluster_intra_variance mean = 298.6672195432444\n",
      "Cluster num = 2, cluster_intra_variance mean = 130.39692811673422\n",
      "Cluster num = 3, cluster_intra_variance mean = 76.32430694197564\n",
      "Cluster num = 4, cluster_intra_variance mean = 53.84449395488293\n",
      "Cluster num = 5, cluster_intra_variance mean = 39.51268605222882\n",
      "Cluster num = 6, cluster_intra_variance mean = 31.149988795892277\n",
      "Cluster num = 7, cluster_intra_variance mean = 25.393457149920206\n",
      "Cluster num = 8, cluster_intra_variance mean = 20.78889509651215\n",
      "Cluster num = 9, cluster_intra_variance mean = 17.770964895929247\n",
      "Cluster num = 10, cluster_intra_variance mean = 15.223387689518987\n"
     ]
    }
   ],
   "source": [
    "cluster_intra_variance_list = []\n",
    "for i in range(1, 11, 1):\n",
    "    data_pca = apply_hierarchical_clustering(data_pca, i)\n",
    "\n",
    "    cluster_list, cluster_intra_variance = intra_cluster_variance(data_pca)\n",
    "    cluster_intra_variance_list.append(mean(cluster_intra_variance))\n",
    "    print(f\"Cluster num = {i}, cluster_intra_variance mean = {mean(cluster_intra_variance)}\")"
   ]
  },
  {
   "attachments": {},
   "cell_type": "markdown",
   "metadata": {},
   "source": [
    "## Cluster intra variance mean plotted"
   ]
  },
  {
   "cell_type": "code",
   "execution_count": 33,
   "metadata": {},
   "outputs": [
    {
     "data": {
      "image/png": "[encoded data removed]",
      "text/plain": [
       "<Figure size 640x480 with 1 Axes>"
      ]
     },
     "metadata": {},
     "output_type": "display_data"
    }
   ],
   "source": [
    "cluster_intra_variance_mean_list = np.array(cluster_intra_variance_list)\n",
    "plt.plot(cluster_intra_variance_mean_list)\n",
    "plt.xticks(np.arange(len(cluster_intra_variance_mean_list)), np.arange(1, len(cluster_intra_variance_mean_list)+1))\n",
    "plt.show()"
   ]
  },
  {
   "attachments": {},
   "cell_type": "markdown",
   "metadata": {},
   "source": [
    "# Plot country clusters on map"
   ]
  },
  {
   "cell_type": "code",
   "execution_count": 34,
   "metadata": {},
   "outputs": [],
   "source": [
    "import geopandas\n",
    "import folium\n",
    "from datetime import datetime\n",
    "from scripts import create_map_plot\n",
    "\n",
    "data_pca = apply_hierarchical_clustering(data_pca, 5)\n",
    "data_pca[\"name\"] = data_pca.index\n",
    "\n",
    "create_map_plot(data_pca, \"../out/Kamil\")"
   ]
  }
 ],
 "metadata": {
  "kernelspec": {
   "display_name": "Python 3",
   "language": "python",
   "name": "python3"
  },
  "language_info": {
   "codemirror_mode": {
    "name": "ipython",
    "version": 3
   },
   "file_extension": ".py",
   "mimetype": "text/x-python",
   "name": "python",
   "nbconvert_exporter": "python",
   "pygments_lexer": "ipython3",
   "version": "3.11.1"
  },
  "orig_nbformat": 4,
  "vscode": {
   "interpreter": {
    "hash": "aee8b7b246df8f9039afb4144a1f6fd8d2ca17a180786b69acc140d282b71a49"
   }
  }
 },
 "nbformat": 4,
 "nbformat_minor": 2
}
