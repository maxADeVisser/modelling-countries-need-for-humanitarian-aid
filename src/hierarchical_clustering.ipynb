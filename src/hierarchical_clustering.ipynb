{
 "cells": [
  {
   "attachments": {},
   "cell_type": "markdown",
   "metadata": {},
   "source": [
    "# Hierarchical clustering notebook"
   ]
  },
  {
   "attachments": {},
   "cell_type": "markdown",
   "metadata": {},
   "source": [
    "The hierarchical clustering has 2 approaches. It can be either 'Agglomerative' or 'Divisive'. In aglomerative approach you start with as many clusters as countries and you iteratively merge the most similar clusters into bigger ones. In divisive approach everything is in one big cluster at the beginning and you iteratively exclude from the cluster the countries that are very different from all others and you create clusters out of them.\n",
    "\n",
    "For our approach aglomerative approach seems like a best option."
   ]
  },
  {
   "cell_type": "code",
   "execution_count": 1,
   "metadata": {},
   "outputs": [],
   "source": [
    "import numpy as np\n",
    "import matplotlib.pyplot as plt\n",
    "import pandas as pd\n",
    "from sklearn.preprocessing import MinMaxScaler, StandardScaler\n",
    "from scripts import create_dendrogram, apply_hierarchical_clustering\n",
    "import plotly.express as px"
   ]
  },
  {
   "cell_type": "code",
   "execution_count": 2,
   "metadata": {},
   "outputs": [],
   "source": [
    "data_pca = pd.read_csv('../data/country-data-pca.csv')\n",
    "data_raw = pd.read_csv('../data/country-data.csv')"
   ]
  },
  {
   "cell_type": "code",
   "execution_count": 3,
   "metadata": {},
   "outputs": [
    {
     "data": {
      "text/html": [
       "<div>\n",
       "<style scoped>\n",
       "    .dataframe tbody tr th:only-of-type {\n",
       "        vertical-align: middle;\n",
       "    }\n",
       "\n",
       "    .dataframe tbody tr th {\n",
       "        vertical-align: top;\n",
       "    }\n",
       "\n",
       "    .dataframe thead th {\n",
       "        text-align: right;\n",
       "    }\n",
       "</style>\n",
       "<table border=\"1\" class=\"dataframe\">\n",
       "  <thead>\n",
       "    <tr style=\"text-align: right;\">\n",
       "      <th></th>\n",
       "      <th>country</th>\n",
       "      <th>PC1</th>\n",
       "      <th>PC2</th>\n",
       "      <th>PC3</th>\n",
       "      <th>PC4</th>\n",
       "    </tr>\n",
       "  </thead>\n",
       "  <tbody>\n",
       "    <tr>\n",
       "      <th>0</th>\n",
       "      <td>Afghanistan</td>\n",
       "      <td>-0.599078</td>\n",
       "      <td>0.095490</td>\n",
       "      <td>0.157554</td>\n",
       "      <td>-0.024333</td>\n",
       "    </tr>\n",
       "    <tr>\n",
       "      <th>1</th>\n",
       "      <td>Albania</td>\n",
       "      <td>0.158474</td>\n",
       "      <td>-0.212092</td>\n",
       "      <td>-0.064189</td>\n",
       "      <td>-0.061247</td>\n",
       "    </tr>\n",
       "    <tr>\n",
       "      <th>2</th>\n",
       "      <td>Algeria</td>\n",
       "      <td>0.003686</td>\n",
       "      <td>-0.135867</td>\n",
       "      <td>-0.134182</td>\n",
       "      <td>0.133574</td>\n",
       "    </tr>\n",
       "    <tr>\n",
       "      <th>3</th>\n",
       "      <td>Angola</td>\n",
       "      <td>-0.650235</td>\n",
       "      <td>0.275975</td>\n",
       "      <td>-0.142672</td>\n",
       "      <td>0.156018</td>\n",
       "    </tr>\n",
       "    <tr>\n",
       "      <th>4</th>\n",
       "      <td>Antigua and Barbuda</td>\n",
       "      <td>0.200711</td>\n",
       "      <td>-0.064662</td>\n",
       "      <td>-0.100715</td>\n",
       "      <td>-0.037902</td>\n",
       "    </tr>\n",
       "  </tbody>\n",
       "</table>\n",
       "</div>"
      ],
      "text/plain": [
       "               country       PC1       PC2       PC3       PC4\n",
       "0          Afghanistan -0.599078  0.095490  0.157554 -0.024333\n",
       "1              Albania  0.158474 -0.212092 -0.064189 -0.061247\n",
       "2              Algeria  0.003686 -0.135867 -0.134182  0.133574\n",
       "3               Angola -0.650235  0.275975 -0.142672  0.156018\n",
       "4  Antigua and Barbuda  0.200711 -0.064662 -0.100715 -0.037902"
      ]
     },
     "execution_count": 3,
     "metadata": {},
     "output_type": "execute_result"
    }
   ],
   "source": [
    "data_pca.head()"
   ]
  },
  {
   "cell_type": "code",
   "execution_count": 4,
   "metadata": {},
   "outputs": [
    {
     "data": {
      "text/html": [
       "<div>\n",
       "<style scoped>\n",
       "    .dataframe tbody tr th:only-of-type {\n",
       "        vertical-align: middle;\n",
       "    }\n",
       "\n",
       "    .dataframe tbody tr th {\n",
       "        vertical-align: top;\n",
       "    }\n",
       "\n",
       "    .dataframe thead th {\n",
       "        text-align: right;\n",
       "    }\n",
       "</style>\n",
       "<table border=\"1\" class=\"dataframe\">\n",
       "  <thead>\n",
       "    <tr style=\"text-align: right;\">\n",
       "      <th></th>\n",
       "      <th>country</th>\n",
       "      <th>child_mort</th>\n",
       "      <th>exports</th>\n",
       "      <th>health</th>\n",
       "      <th>imports</th>\n",
       "      <th>income</th>\n",
       "      <th>inflation</th>\n",
       "      <th>life_expec</th>\n",
       "      <th>total_fer</th>\n",
       "      <th>gdpp</th>\n",
       "    </tr>\n",
       "  </thead>\n",
       "  <tbody>\n",
       "    <tr>\n",
       "      <th>0</th>\n",
       "      <td>Afghanistan</td>\n",
       "      <td>90.2</td>\n",
       "      <td>10.0</td>\n",
       "      <td>7.58</td>\n",
       "      <td>44.9</td>\n",
       "      <td>1610</td>\n",
       "      <td>9.44</td>\n",
       "      <td>56.2</td>\n",
       "      <td>5.82</td>\n",
       "      <td>553</td>\n",
       "    </tr>\n",
       "    <tr>\n",
       "      <th>1</th>\n",
       "      <td>Albania</td>\n",
       "      <td>16.6</td>\n",
       "      <td>28.0</td>\n",
       "      <td>6.55</td>\n",
       "      <td>48.6</td>\n",
       "      <td>9930</td>\n",
       "      <td>4.49</td>\n",
       "      <td>76.3</td>\n",
       "      <td>1.65</td>\n",
       "      <td>4090</td>\n",
       "    </tr>\n",
       "    <tr>\n",
       "      <th>2</th>\n",
       "      <td>Algeria</td>\n",
       "      <td>27.3</td>\n",
       "      <td>38.4</td>\n",
       "      <td>4.17</td>\n",
       "      <td>31.4</td>\n",
       "      <td>12900</td>\n",
       "      <td>16.10</td>\n",
       "      <td>76.5</td>\n",
       "      <td>2.89</td>\n",
       "      <td>4460</td>\n",
       "    </tr>\n",
       "    <tr>\n",
       "      <th>3</th>\n",
       "      <td>Angola</td>\n",
       "      <td>119.0</td>\n",
       "      <td>62.3</td>\n",
       "      <td>2.85</td>\n",
       "      <td>42.9</td>\n",
       "      <td>5900</td>\n",
       "      <td>22.40</td>\n",
       "      <td>60.1</td>\n",
       "      <td>6.16</td>\n",
       "      <td>3530</td>\n",
       "    </tr>\n",
       "    <tr>\n",
       "      <th>4</th>\n",
       "      <td>Antigua and Barbuda</td>\n",
       "      <td>10.3</td>\n",
       "      <td>45.5</td>\n",
       "      <td>6.03</td>\n",
       "      <td>58.9</td>\n",
       "      <td>19100</td>\n",
       "      <td>1.44</td>\n",
       "      <td>76.8</td>\n",
       "      <td>2.13</td>\n",
       "      <td>12200</td>\n",
       "    </tr>\n",
       "  </tbody>\n",
       "</table>\n",
       "</div>"
      ],
      "text/plain": [
       "               country  child_mort  exports  health  imports  income  \\\n",
       "0          Afghanistan        90.2     10.0    7.58     44.9    1610   \n",
       "1              Albania        16.6     28.0    6.55     48.6    9930   \n",
       "2              Algeria        27.3     38.4    4.17     31.4   12900   \n",
       "3               Angola       119.0     62.3    2.85     42.9    5900   \n",
       "4  Antigua and Barbuda        10.3     45.5    6.03     58.9   19100   \n",
       "\n",
       "   inflation  life_expec  total_fer   gdpp  \n",
       "0       9.44        56.2       5.82    553  \n",
       "1       4.49        76.3       1.65   4090  \n",
       "2      16.10        76.5       2.89   4460  \n",
       "3      22.40        60.1       6.16   3530  \n",
       "4       1.44        76.8       2.13  12200  "
      ]
     },
     "execution_count": 4,
     "metadata": {},
     "output_type": "execute_result"
    }
   ],
   "source": [
    "data_raw.head()"
   ]
  },
  {
   "attachments": {},
   "cell_type": "markdown",
   "metadata": {},
   "source": [
    "Because hierarchical clustering, like many other algorithms in machine learning, is distance-based (Euclidean distance) we need to rescale the attriutes to the same range"
   ]
  },
  {
   "cell_type": "code",
   "execution_count": 5,
   "metadata": {},
   "outputs": [
    {
     "data": {
      "text/html": [
       "<div>\n",
       "<style scoped>\n",
       "    .dataframe tbody tr th:only-of-type {\n",
       "        vertical-align: middle;\n",
       "    }\n",
       "\n",
       "    .dataframe tbody tr th {\n",
       "        vertical-align: top;\n",
       "    }\n",
       "\n",
       "    .dataframe thead th {\n",
       "        text-align: right;\n",
       "    }\n",
       "</style>\n",
       "<table border=\"1\" class=\"dataframe\">\n",
       "  <thead>\n",
       "    <tr style=\"text-align: right;\">\n",
       "      <th></th>\n",
       "      <th>PC1</th>\n",
       "      <th>PC2</th>\n",
       "      <th>PC3</th>\n",
       "      <th>PC4</th>\n",
       "    </tr>\n",
       "    <tr>\n",
       "      <th>country</th>\n",
       "      <th></th>\n",
       "      <th></th>\n",
       "      <th></th>\n",
       "      <th></th>\n",
       "    </tr>\n",
       "  </thead>\n",
       "  <tbody>\n",
       "    <tr>\n",
       "      <th>Afghanistan</th>\n",
       "      <td>-1.595658</td>\n",
       "      <td>0.515579</td>\n",
       "      <td>0.887362</td>\n",
       "      <td>-0.153939</td>\n",
       "    </tr>\n",
       "    <tr>\n",
       "      <th>Albania</th>\n",
       "      <td>0.422100</td>\n",
       "      <td>-1.145150</td>\n",
       "      <td>-0.361520</td>\n",
       "      <td>-0.387476</td>\n",
       "    </tr>\n",
       "    <tr>\n",
       "      <th>Algeria</th>\n",
       "      <td>0.009816</td>\n",
       "      <td>-0.733588</td>\n",
       "      <td>-0.755729</td>\n",
       "      <td>0.845055</td>\n",
       "    </tr>\n",
       "    <tr>\n",
       "      <th>Angola</th>\n",
       "      <td>-1.731917</td>\n",
       "      <td>1.490072</td>\n",
       "      <td>-0.803548</td>\n",
       "      <td>0.987046</td>\n",
       "    </tr>\n",
       "    <tr>\n",
       "      <th>Antigua and Barbuda</th>\n",
       "      <td>0.534599</td>\n",
       "      <td>-0.349131</td>\n",
       "      <td>-0.567241</td>\n",
       "      <td>-0.239785</td>\n",
       "    </tr>\n",
       "    <tr>\n",
       "      <th>...</th>\n",
       "      <td>...</td>\n",
       "      <td>...</td>\n",
       "      <td>...</td>\n",
       "      <td>...</td>\n",
       "    </tr>\n",
       "    <tr>\n",
       "      <th>Vanuatu</th>\n",
       "      <td>-0.426373</td>\n",
       "      <td>-0.159953</td>\n",
       "      <td>-0.686609</td>\n",
       "      <td>-0.418176</td>\n",
       "    </tr>\n",
       "    <tr>\n",
       "      <th>Venezuela</th>\n",
       "      <td>0.162830</td>\n",
       "      <td>-0.925111</td>\n",
       "      <td>-0.329963</td>\n",
       "      <td>1.565547</td>\n",
       "    </tr>\n",
       "    <tr>\n",
       "      <th>Vietnam</th>\n",
       "      <td>0.307670</td>\n",
       "      <td>-0.172960</td>\n",
       "      <td>-1.099632</td>\n",
       "      <td>-1.467697</td>\n",
       "    </tr>\n",
       "    <tr>\n",
       "      <th>Yemen</th>\n",
       "      <td>-0.886869</td>\n",
       "      <td>-0.107037</td>\n",
       "      <td>-0.168902</td>\n",
       "      <td>0.666909</td>\n",
       "    </tr>\n",
       "    <tr>\n",
       "      <th>Zambia</th>\n",
       "      <td>-1.528588</td>\n",
       "      <td>0.587379</td>\n",
       "      <td>0.183338</td>\n",
       "      <td>0.283674</td>\n",
       "    </tr>\n",
       "  </tbody>\n",
       "</table>\n",
       "<p>167 rows × 4 columns</p>\n",
       "</div>"
      ],
      "text/plain": [
       "                          PC1       PC2       PC3       PC4\n",
       "country                                                    \n",
       "Afghanistan         -1.595658  0.515579  0.887362 -0.153939\n",
       "Albania              0.422100 -1.145150 -0.361520 -0.387476\n",
       "Algeria              0.009816 -0.733588 -0.755729  0.845055\n",
       "Angola              -1.731917  1.490072 -0.803548  0.987046\n",
       "Antigua and Barbuda  0.534599 -0.349131 -0.567241 -0.239785\n",
       "...                       ...       ...       ...       ...\n",
       "Vanuatu             -0.426373 -0.159953 -0.686609 -0.418176\n",
       "Venezuela            0.162830 -0.925111 -0.329963  1.565547\n",
       "Vietnam              0.307670 -0.172960 -1.099632 -1.467697\n",
       "Yemen               -0.886869 -0.107037 -0.168902  0.666909\n",
       "Zambia              -1.528588  0.587379  0.183338  0.283674\n",
       "\n",
       "[167 rows x 4 columns]"
      ]
     },
     "execution_count": 5,
     "metadata": {},
     "output_type": "execute_result"
    }
   ],
   "source": [
    "countries = data_pca.country\n",
    "data_pca.drop(columns=[\"country\"], inplace=True)\n",
    "columns = data_pca.columns\n",
    "scaler = StandardScaler()\n",
    "scaled_data_pca = scaler.fit_transform(data_pca) # numpy array\n",
    "data_pca = pd.DataFrame(scaled_data_pca, columns=columns)\n",
    "data_pca.index = countries\n",
    "data_pca"
   ]
  },
  {
   "cell_type": "code",
   "execution_count": 6,
   "metadata": {},
   "outputs": [
    {
     "data": {
      "text/html": [
       "<div>\n",
       "<style scoped>\n",
       "    .dataframe tbody tr th:only-of-type {\n",
       "        vertical-align: middle;\n",
       "    }\n",
       "\n",
       "    .dataframe tbody tr th {\n",
       "        vertical-align: top;\n",
       "    }\n",
       "\n",
       "    .dataframe thead th {\n",
       "        text-align: right;\n",
       "    }\n",
       "</style>\n",
       "<table border=\"1\" class=\"dataframe\">\n",
       "  <thead>\n",
       "    <tr style=\"text-align: right;\">\n",
       "      <th></th>\n",
       "      <th>child_mort</th>\n",
       "      <th>exports</th>\n",
       "      <th>health</th>\n",
       "      <th>imports</th>\n",
       "      <th>income</th>\n",
       "      <th>inflation</th>\n",
       "      <th>life_expec</th>\n",
       "      <th>total_fer</th>\n",
       "      <th>gdpp</th>\n",
       "    </tr>\n",
       "    <tr>\n",
       "      <th>country</th>\n",
       "      <th></th>\n",
       "      <th></th>\n",
       "      <th></th>\n",
       "      <th></th>\n",
       "      <th></th>\n",
       "      <th></th>\n",
       "      <th></th>\n",
       "      <th></th>\n",
       "      <th></th>\n",
       "    </tr>\n",
       "  </thead>\n",
       "  <tbody>\n",
       "    <tr>\n",
       "      <th>Afghanistan</th>\n",
       "      <td>1.291532</td>\n",
       "      <td>-1.138280</td>\n",
       "      <td>0.279088</td>\n",
       "      <td>-0.082455</td>\n",
       "      <td>-0.808245</td>\n",
       "      <td>0.157336</td>\n",
       "      <td>-1.619092</td>\n",
       "      <td>1.902882</td>\n",
       "      <td>-0.679180</td>\n",
       "    </tr>\n",
       "    <tr>\n",
       "      <th>Albania</th>\n",
       "      <td>-0.538949</td>\n",
       "      <td>-0.479658</td>\n",
       "      <td>-0.097016</td>\n",
       "      <td>0.070837</td>\n",
       "      <td>-0.375369</td>\n",
       "      <td>-0.312347</td>\n",
       "      <td>0.647866</td>\n",
       "      <td>-0.859973</td>\n",
       "      <td>-0.485623</td>\n",
       "    </tr>\n",
       "    <tr>\n",
       "      <th>Algeria</th>\n",
       "      <td>-0.272833</td>\n",
       "      <td>-0.099122</td>\n",
       "      <td>-0.966073</td>\n",
       "      <td>-0.641762</td>\n",
       "      <td>-0.220844</td>\n",
       "      <td>0.789274</td>\n",
       "      <td>0.670423</td>\n",
       "      <td>-0.038404</td>\n",
       "      <td>-0.465376</td>\n",
       "    </tr>\n",
       "    <tr>\n",
       "      <th>Angola</th>\n",
       "      <td>2.007808</td>\n",
       "      <td>0.775381</td>\n",
       "      <td>-1.448071</td>\n",
       "      <td>-0.165315</td>\n",
       "      <td>-0.585043</td>\n",
       "      <td>1.387054</td>\n",
       "      <td>-1.179234</td>\n",
       "      <td>2.128151</td>\n",
       "      <td>-0.516268</td>\n",
       "    </tr>\n",
       "    <tr>\n",
       "      <th>Antigua and Barbuda</th>\n",
       "      <td>-0.695634</td>\n",
       "      <td>0.160668</td>\n",
       "      <td>-0.286894</td>\n",
       "      <td>0.497568</td>\n",
       "      <td>0.101732</td>\n",
       "      <td>-0.601749</td>\n",
       "      <td>0.704258</td>\n",
       "      <td>-0.541946</td>\n",
       "      <td>-0.041817</td>\n",
       "    </tr>\n",
       "    <tr>\n",
       "      <th>...</th>\n",
       "      <td>...</td>\n",
       "      <td>...</td>\n",
       "      <td>...</td>\n",
       "      <td>...</td>\n",
       "      <td>...</td>\n",
       "      <td>...</td>\n",
       "      <td>...</td>\n",
       "      <td>...</td>\n",
       "      <td>...</td>\n",
       "    </tr>\n",
       "    <tr>\n",
       "      <th>Vanuatu</th>\n",
       "      <td>-0.225578</td>\n",
       "      <td>0.200917</td>\n",
       "      <td>-0.571711</td>\n",
       "      <td>0.240700</td>\n",
       "      <td>-0.738527</td>\n",
       "      <td>-0.489784</td>\n",
       "      <td>-0.852161</td>\n",
       "      <td>0.365754</td>\n",
       "      <td>-0.546913</td>\n",
       "    </tr>\n",
       "    <tr>\n",
       "      <th>Venezuela</th>\n",
       "      <td>-0.526514</td>\n",
       "      <td>-0.461363</td>\n",
       "      <td>-0.695862</td>\n",
       "      <td>-1.213499</td>\n",
       "      <td>-0.033542</td>\n",
       "      <td>3.616865</td>\n",
       "      <td>0.546361</td>\n",
       "      <td>-0.316678</td>\n",
       "      <td>0.029323</td>\n",
       "    </tr>\n",
       "    <tr>\n",
       "      <th>Vietnam</th>\n",
       "      <td>-0.372315</td>\n",
       "      <td>1.130305</td>\n",
       "      <td>0.008877</td>\n",
       "      <td>1.380030</td>\n",
       "      <td>-0.658404</td>\n",
       "      <td>0.409732</td>\n",
       "      <td>0.286958</td>\n",
       "      <td>-0.661206</td>\n",
       "      <td>-0.637754</td>\n",
       "    </tr>\n",
       "    <tr>\n",
       "      <th>Yemen</th>\n",
       "      <td>0.448417</td>\n",
       "      <td>-0.406478</td>\n",
       "      <td>-0.597272</td>\n",
       "      <td>-0.517472</td>\n",
       "      <td>-0.658924</td>\n",
       "      <td>1.500916</td>\n",
       "      <td>-0.344633</td>\n",
       "      <td>1.140944</td>\n",
       "      <td>-0.637754</td>\n",
       "    </tr>\n",
       "    <tr>\n",
       "      <th>Zambia</th>\n",
       "      <td>1.114951</td>\n",
       "      <td>-0.150348</td>\n",
       "      <td>-0.338015</td>\n",
       "      <td>-0.662477</td>\n",
       "      <td>-0.721358</td>\n",
       "      <td>0.590015</td>\n",
       "      <td>-2.092785</td>\n",
       "      <td>1.624609</td>\n",
       "      <td>-0.629546</td>\n",
       "    </tr>\n",
       "  </tbody>\n",
       "</table>\n",
       "<p>167 rows × 9 columns</p>\n",
       "</div>"
      ],
      "text/plain": [
       "                     child_mort   exports    health   imports    income  \\\n",
       "country                                                                   \n",
       "Afghanistan            1.291532 -1.138280  0.279088 -0.082455 -0.808245   \n",
       "Albania               -0.538949 -0.479658 -0.097016  0.070837 -0.375369   \n",
       "Algeria               -0.272833 -0.099122 -0.966073 -0.641762 -0.220844   \n",
       "Angola                 2.007808  0.775381 -1.448071 -0.165315 -0.585043   \n",
       "Antigua and Barbuda   -0.695634  0.160668 -0.286894  0.497568  0.101732   \n",
       "...                         ...       ...       ...       ...       ...   \n",
       "Vanuatu               -0.225578  0.200917 -0.571711  0.240700 -0.738527   \n",
       "Venezuela             -0.526514 -0.461363 -0.695862 -1.213499 -0.033542   \n",
       "Vietnam               -0.372315  1.130305  0.008877  1.380030 -0.658404   \n",
       "Yemen                  0.448417 -0.406478 -0.597272 -0.517472 -0.658924   \n",
       "Zambia                 1.114951 -0.150348 -0.338015 -0.662477 -0.721358   \n",
       "\n",
       "                     inflation  life_expec  total_fer      gdpp  \n",
       "country                                                          \n",
       "Afghanistan           0.157336   -1.619092   1.902882 -0.679180  \n",
       "Albania              -0.312347    0.647866  -0.859973 -0.485623  \n",
       "Algeria               0.789274    0.670423  -0.038404 -0.465376  \n",
       "Angola                1.387054   -1.179234   2.128151 -0.516268  \n",
       "Antigua and Barbuda  -0.601749    0.704258  -0.541946 -0.041817  \n",
       "...                        ...         ...        ...       ...  \n",
       "Vanuatu              -0.489784   -0.852161   0.365754 -0.546913  \n",
       "Venezuela             3.616865    0.546361  -0.316678  0.029323  \n",
       "Vietnam               0.409732    0.286958  -0.661206 -0.637754  \n",
       "Yemen                 1.500916   -0.344633   1.140944 -0.637754  \n",
       "Zambia                0.590015   -2.092785   1.624609 -0.629546  \n",
       "\n",
       "[167 rows x 9 columns]"
      ]
     },
     "execution_count": 6,
     "metadata": {},
     "output_type": "execute_result"
    }
   ],
   "source": [
    "countries = data_raw.country\n",
    "data_raw.drop(columns=[\"country\"], inplace=True)\n",
    "columns = data_raw.columns\n",
    "scaler = StandardScaler()\n",
    "scaled_data_raw = scaler.fit_transform(data_raw) # numpy array\n",
    "data_raw = pd.DataFrame(scaled_data_raw, columns=columns)\n",
    "data_raw.index = countries\n",
    "data_raw"
   ]
  },
  {
   "attachments": {},
   "cell_type": "markdown",
   "metadata": {},
   "source": [
    "# Dendrograms"
   ]
  },
  {
   "attachments": {},
   "cell_type": "markdown",
   "metadata": {},
   "source": [
    "## PCA"
   ]
  },
  {
   "cell_type": "code",
   "execution_count": 7,
   "metadata": {},
   "outputs": [
    {
     "data": {
      "image/png": "[encoded data removed]",
      "text/plain": [
       "<Figure size 640x480 with 1 Axes>"
      ]
     },
     "metadata": {},
     "output_type": "display_data"
    }
   ],
   "source": [
    "dendrogram = create_dendrogram(data_pca) # finding the optimal number of clusters using dendrogram\n",
    "plt.title('Dendrogram PCA') # title of the dendrogram\n",
    "plt.xlabel('Country') # label of the x-axis\n",
    "plt.ylabel('Euclidean distances') # label of the y-axis\n",
    "plt.xticks([])\n",
    "plt.show()"
   ]
  },
  {
   "attachments": {},
   "cell_type": "markdown",
   "metadata": {},
   "source": [
    "## RAW"
   ]
  },
  {
   "cell_type": "code",
   "execution_count": 8,
   "metadata": {},
   "outputs": [
    {
     "data": {
      "image/png": "[encoded data removed]",
      "text/plain": [
       "<Figure size 640x480 with 1 Axes>"
      ]
     },
     "metadata": {},
     "output_type": "display_data"
    }
   ],
   "source": [
    "dendrogram = create_dendrogram(data_raw) # finding the optimal number of clusters using dendrogram\n",
    "plt.title('Dendrogram Raw') # title of the dendrogram\n",
    "plt.xlabel('Country') # label of the x-axis\n",
    "plt.ylabel('Euclidean distances') # label of the y-axis\n",
    "plt.xticks([])\n",
    "plt.show()"
   ]
  },
  {
   "attachments": {},
   "cell_type": "markdown",
   "metadata": {},
   "source": [
    "Considering the dendrogram above, the optimal number of clusters can be determined as follows; hypothetically, extrapolate all the horizontal lines across the entire dendrogram and then find the longest vertical line that does not cross those hypothetical lines.\n",
    "\n",
    "Across that longest line, establish a threshold. The number of clusters we can optimally cluster our data equals the count of euclidean distances (vertical lines) the established threshold cuts across.\n",
    "\n",
    "Knowing the optimal number our data should cluster into; we can now train our clustering model to achieve this goal."
   ]
  },
  {
   "cell_type": "code",
   "execution_count": 9,
   "metadata": {},
   "outputs": [],
   "source": [
    "data_pca = apply_hierarchical_clustering(data_pca, 5)"
   ]
  },
  {
   "cell_type": "code",
   "execution_count": 10,
   "metadata": {},
   "outputs": [],
   "source": [
    "data_raw = apply_hierarchical_clustering(data_raw, 5)\n",
    "data_raw.to_csv(\"../data/country-data-with-clusters-test.csv\")"
   ]
  },
  {
   "cell_type": "code",
   "execution_count": 11,
   "metadata": {},
   "outputs": [],
   "source": [
    "#fig = px.scatter(x=data.PC1, y=data.PC2, color=data.cluster, opacity=0.7)\n",
    "#fig.update_traces(mode=\"markers\", hovertemplate=countries)\n",
    "#fig.show()"
   ]
  },
  {
   "attachments": {},
   "cell_type": "markdown",
   "metadata": {},
   "source": [
    "## PCA clusters visualisation"
   ]
  },
  {
   "cell_type": "code",
   "execution_count": 12,
   "metadata": {},
   "outputs": [
    {
     "data": {
      "application/vnd.plotly.v1+json": {
       "config": {
        "plotlyServerURL": "https://plot.ly"
       },
       "data": [
        {
         "hovertemplate": [
          "Afghanistan",
          "Albania",
          "Algeria",
          "Angola",
          "Antigua and Barbuda",
          "Argentina",
          "Armenia",
          "Australia",
          "Austria",
          "Azerbaijan",
          "Bahamas",
          "Bahrain",
          "Bangladesh",
          "Barbados",
          "Belarus",
          "Belgium",
          "Belize",
          "Benin",
          "Bhutan",
          "Bolivia",
          "Bosnia and Herzegovina",
          "Botswana",
          "Brazil",
          "Brunei",
          "Bulgaria",
          "Burkina Faso",
          "Burundi",
          "Cambodia",
          "Cameroon",
          "Canada",
          "Cape Verde",
          "Central African Republic",
          "Chad",
          "Chile",
          "China",
          "Colombia",
          "Comoros",
          "Congo, Dem. Rep.",
          "Congo, Rep.",
          "Costa Rica",
          "Cote d'Ivoire",
          "Croatia",
          "Cyprus",
          "Czech Republic",
          "Denmark",
          "Dominican Republic",
          "Ecuador",
          "Egypt",
          "El Salvador",
          "Equatorial Guinea",
          "Eritrea",
          "Estonia",
          "Fiji",
          "Finland",
          "France",
          "Gabon",
          "Gambia",
          "Georgia",
          "Germany",
          "Ghana",
          "Greece",
          "Grenada",
          "Guatemala",
          "Guinea",
          "Guinea-Bissau",
          "Guyana",
          "Haiti",
          "Hungary",
          "Iceland",
          "India",
          "Indonesia",
          "Iran",
          "Iraq",
          "Ireland",
          "Israel",
          "Italy",
          "Jamaica",
          "Japan",
          "Jordan",
          "Kazakhstan",
          "Kenya",
          "Kiribati",
          "Kuwait",
          "Kyrgyz Republic",
          "Lao",
          "Latvia",
          "Lebanon",
          "Lesotho",
          "Liberia",
          "Libya",
          "Lithuania",
          "Luxembourg",
          "Macedonia, FYR",
          "Madagascar",
          "Malawi",
          "Malaysia",
          "Maldives",
          "Mali",
          "Malta",
          "Mauritania",
          "Mauritius",
          "Micronesia, Fed. Sts.",
          "Moldova",
          "Mongolia",
          "Montenegro",
          "Morocco",
          "Mozambique",
          "Myanmar",
          "Namibia",
          "Nepal",
          "Netherlands",
          "New Zealand",
          "Niger",
          "Nigeria",
          "Norway",
          "Oman",
          "Pakistan",
          "Panama",
          "Paraguay",
          "Peru",
          "Philippines",
          "Poland",
          "Portugal",
          "Qatar",
          "Romania",
          "Russia",
          "Rwanda",
          "Samoa",
          "Saudi Arabia",
          "Senegal",
          "Serbia",
          "Seychelles",
          "Sierra Leone",
          "Singapore",
          "Slovak Republic",
          "Slovenia",
          "Solomon Islands",
          "South Africa",
          "South Korea",
          "Spain",
          "Sri Lanka",
          "St. Vincent and the Grenadines",
          "Sudan",
          "Suriname",
          "Sweden",
          "Switzerland",
          "Tajikistan",
          "Tanzania",
          "Thailand",
          "Timor-Leste",
          "Togo",
          "Tonga",
          "Tunisia",
          "Turkey",
          "Turkmenistan",
          "Uganda",
          "Ukraine",
          "United Arab Emirates",
          "United Kingdom",
          "United States",
          "Uruguay",
          "Uzbekistan",
          "Vanuatu",
          "Venezuela",
          "Vietnam",
          "Yemen",
          "Zambia"
         ],
         "legendgroup": "",
         "marker": {
          "color": [
           1,
           4,
           0,
           1,
           4,
           4,
           4,
           3,
           3,
           0,
           4,
           0,
           0,
           4,
           4,
           3,
           4,
           1,
           4,
           0,
           4,
           4,
           4,
           0,
           4,
           1,
           1,
           4,
           1,
           3,
           4,
           1,
           1,
           4,
           0,
           4,
           0,
           1,
           1,
           4,
           1,
           4,
           4,
           4,
           3,
           4,
           4,
           0,
           4,
           1,
           0,
           4,
           4,
           3,
           3,
           0,
           1,
           4,
           3,
           0,
           4,
           4,
           4,
           1,
           1,
           4,
           1,
           4,
           3,
           0,
           0,
           0,
           1,
           3,
           3,
           3,
           4,
           3,
           4,
           0,
           0,
           1,
           0,
           4,
           0,
           4,
           4,
           1,
           1,
           0,
           4,
           2,
           4,
           0,
           1,
           4,
           4,
           1,
           2,
           1,
           4,
           1,
           4,
           4,
           4,
           4,
           1,
           0,
           4,
           4,
           3,
           3,
           1,
           0,
           3,
           0,
           0,
           4,
           4,
           0,
           0,
           4,
           4,
           0,
           4,
           0,
           1,
           0,
           0,
           0,
           4,
           4,
           1,
           2,
           4,
           4,
           4,
           1,
           4,
           3,
           0,
           4,
           1,
           4,
           3,
           3,
           0,
           1,
           4,
           1,
           1,
           0,
           4,
           4,
           4,
           1,
           4,
           0,
           3,
           3,
           4,
           4,
           4,
           0,
           4,
           0,
           1
          ],
          "coloraxis": "coloraxis",
          "opacity": 0.7,
          "symbol": "circle"
         },
         "mode": "markers",
         "name": "",
         "scene": "scene",
         "showlegend": false,
         "type": "scatter3d",
         "x": [
          -1.5956578573330433,
          0.4221001411263189,
          0.009816466065645646,
          -1.731916703398263,
          0.5345992730719058,
          0.29973704779012766,
          0.23302141587342465,
          1.174037795361705,
          1.386434698462331,
          0.10336910218968592,
          0.6746841341785906,
          0.7459166620074514,
          -0.285564537124668,
          0.6190189092612807,
          0.4857837567502833,
          1.3198436455741411,
          0.09161430969220545,
          -1.5238430822912852,
          -0.01922637627033905,
          -0.3219327936543652,
          0.6925132334990814,
          -0.4094385911191734,
          0.3718942991405838,
          1.1197882819848772,
          0.5533529222317395,
          -1.7416585957457449,
          -1.6240956380379328,
          -0.2906853176923368,
          -1.5302487307386876,
          1.2692965155471247,
          -0.02012141583795972,
          -2.0930817382893805,
          -2.1400988682920814,
          0.6375549652902348,
          0.33144620450974094,
          0.3089860054261104,
          -1.1444647027344983,
          -1.8483844827679425,
          -1.0444702430171766,
          0.6296751545628234,
          -1.528780797769566,
          0.7058724108362154,
          1.0784080878512252,
          0.9660219160126664,
          1.359835645597809,
          0.025499767465797348,
          0.14372364232915955,
          -0.26276815541044174,
          0.18890192001761916,
          -1.033416523365101,
          -1.1219978069474674,
          0.7742110875461778,
          -0.08285633820560034,
          1.165984938239183,
          1.1091305188026257,
          -0.7354797683466303,
          -1.3044122581595503,
          0.3408848650973088,
          1.3076974821678289,
          -1.0017218082008235,
          1.0070776161499047,
          0.20360378946180277,
          -0.2667119242983856,
          -1.588039650697379,
          -1.5393167963645658,
          -0.15947283362708548,
          -2.227735160229818,
          0.8815295335352379,
          1.1295409355780335,
          -0.4538067512358992,
          -0.19178339318804027,
          0.3189037743035266,
          -0.5580670081901721,
          1.4048652597111746,
          0.6611747772492572,
          1.15217264804064,
          0.20376239658516998,
          1.2341665257576573,
          -0.009482216967852786,
          0.029830394347846866,
          -0.9563190521741266,
          -0.6915984496194201,
          1.0541585064394963,
          -0.17816923853347838,
          -0.7019764185062441,
          0.6731907878367934,
          0.6828873389032891,
          -1.027362613365088,
          -1.1220550491373649,
          0.43051973355353124,
          0.7192546177249058,
          2.507159427465008,
          0.5222433835433085,
          -1.082341261219192,
          -1.5594108202967387,
          0.5401574444570622,
          0.5011160585625155,
          -2.0138471012643175,
          1.371037715210531,
          -1.134694061211837,
          0.5247186657630741,
          -0.25011539167981345,
          0.4656399671617499,
          -0.1714577811706891,
          0.6061423026061361,
          -0.02085483378897292,
          -1.6414702959411986,
          -0.5639476947577643,
          -0.6132531163593923,
          -0.3639185425183988,
          1.436731599360432,
          0.9246863539134608,
          -2.1543076514859862,
          -1.9729334016250557,
          1.6640322357260409,
          0.4798142176090326,
          -1.0582978015306712,
          0.44441911247298665,
          0.08986637513566237,
          0.16257788646169077,
          -0.3054476877875922,
          0.7420146898515962,
          1.0093759112963674,
          1.7011207050686787,
          0.47666927451872,
          0.3833602137337602,
          -0.8676256114024398,
          -0.3662506395041299,
          0.4027009258854555,
          -1.0868679839127182,
          0.6244619642143601,
          0.546005082146167,
          -1.8006009962571448,
          2.0424655916051466,
          0.928914113712003,
          1.059725820250517,
          -0.5421643597716329,
          -0.453848492617575,
          1.0303502373155182,
          1.11199048275314,
          0.0955315936932246,
          0.17263696661725766,
          -1.1065846680615095,
          0.14592472009719917,
          1.2786762291452276,
          1.7705942651712905,
          -0.5208139963243107,
          -1.3504838482646704,
          0.5395458823523647,
          -1.2084381533157889,
          -1.2128187323568311,
          -0.3554715899435616,
          0.369728111304308,
          0.39118561952658165,
          -0.3045562904259787,
          -1.579910533960219,
          0.40201534078045237,
          1.052455414111964,
          1.0411580999668777,
          1.2881125154680644,
          0.47863196209648223,
          -0.15070734610095565,
          -0.4263726584171735,
          0.16282972593503658,
          0.30766976004100743,
          -0.8868690146965982,
          -1.5285877759909194
         ],
         "y": [
          0.5155788857978827,
          -1.145149765816296,
          -0.7335875693126059,
          1.4900722555685602,
          -0.3491305401857373,
          -1.11250522519746,
          -1.3190857024908815,
          0.08790911444218032,
          0.6212034556604316,
          -0.6586500929476591,
          -0.2002732690053046,
          0.44244275085217505,
          -1.3399437750961956,
          -0.5737111561126281,
          -0.5589495489944882,
          1.3049136796792726,
          -0.28393330403000583,
          0.4800850207706189,
          -0.3363103360034927,
          -0.5323562806464662,
          -1.1994749435845058,
          0.15875575394650662,
          -1.420876824753029,
          1.052061743878229,
          -0.6776568178442558,
          0.6112315693808673,
          0.6108437161071553,
          -0.16474049882834865,
          0.3437452078524297,
          0.1661357256771599,
          -0.6021718073925048,
          0.615658651047689,
          1.4856035436128776,
          -0.8587142060587197,
          -1.5032088202744969,
          -1.4624565985837443,
          0.1437710643162158,
          1.3446229012825177,
          1.091387732545008,
          -1.049056666667581,
          0.9889611633762329,
          -0.8385440361474535,
          0.08988962976914082,
          0.07772008395648249,
          1.0002645428444943,
          -0.894848264015061,
          -0.9438617405387242,
          -0.9035318219304679,
          -1.0046830623293088,
          2.457470885181076,
          -0.6134285174124682,
          0.10579078195195976,
          -0.12619752673374918,
          0.3605824179741013,
          -0.008828850370946174,
          0.3387426284293283,
          0.39176941610742866,
          -0.9012910049866613,
          0.2008969035476837,
          0.09173881538029985,
          -0.7007120577748052,
          -0.8540194802222754,
          -0.6499528272565512,
          0.6674206589174332,
          0.41178928928077163,
          0.036095351053586494,
          1.2581177038274303,
          0.14652992773467355,
          0.5728557545779718,
          -0.9189860920848048,
          -1.1441176377324846,
          -1.2910578657850407,
          0.10526323372762679,
          2.0003793574359228,
          0.03337225271757965,
          -0.39052166499705027,
          -0.9390731578154017,
          -0.5235692376037681,
          0.036908491424296065,
          -0.45334850783498937,
          -0.2640876035967703,
          0.17462401125737936,
          1.1560982621387932,
          0.013835003186120043,
          -0.13543641540975224,
          -0.5249758391227808,
          -0.7790030422630857,
          1.0743702482348865,
          0.9302916403164937,
          -0.007703484002706542,
          -0.12925926143889505,
          5.598547555439909,
          -0.9038777795374372,
          -0.04112748892572774,
          0.414292973096952,
          0.27633875146583575,
          -0.0998803370604943,
          1.054737194256039,
          2.2692391960583445,
          0.8392978192097159,
          -0.4880333655426038,
          0.06522047683017886,
          -0.7460717090415122,
          -0.3743773076090398,
          -0.7219952431863724,
          -0.8141932039376178,
          0.7749195865879295,
          -1.6123033523100845,
          0.4214072621866924,
          -1.1279211107482683,
          1.321337570719542,
          -0.17691343846870644,
          1.396140932739615,
          0.6706250322476007,
          1.6993259107232315,
          0.5358882893214139,
          -0.5127296278222933,
          0.2697366750226164,
          -0.41842055839932635,
          -1.1660602145975338,
          -0.6792353300703123,
          -0.7951875372388467,
          -0.6637372279790609,
          2.585931256142179,
          -1.0003578176508623,
          -1.0660179344591332,
          -0.33368231357631206,
          -0.23791942837773847,
          0.32006374849878655,
          0.11347430208248817,
          -1.075387236538446,
          0.9029646873882142,
          0.8847490444369587,
          4.300361373915901,
          0.3012091142430467,
          0.16255166450816066,
          0.45367009332680674,
          -0.3543535786349823,
          -0.3781068736814361,
          -0.6142605832226022,
          -1.4678793568865087,
          -0.8024518744869,
          -0.21064582385996214,
          -0.35927764906054344,
          0.7174036728636337,
          1.7533697888129396,
          -0.46840199255986564,
          0.11695000353352852,
          -0.5118814265226135,
          0.01490466468878928,
          0.7064784729569719,
          -0.5104388835966687,
          -0.6238726957380131,
          -1.0692702821681903,
          0.19222670035934547,
          0.4535003672515063,
          -0.9374775097909227,
          1.2232252304700635,
          -0.05700676506599657,
          0.1905772557880101,
          -1.0168689210052657,
          -1.0501799169674295,
          -0.1599526374119142,
          -0.9251108985414045,
          -0.17296002391216592,
          -0.10703728786217048,
          0.5873793993457799
         ],
         "z": [
          0.8873615664658353,
          -0.36152000162583053,
          -0.7557289711412154,
          -0.8035482480228361,
          -0.5672414683242747,
          0.6698942483634427,
          -0.8649030356172925,
          1.5161591326038408,
          1.3715317524940467,
          -0.44284157808447067,
          0.4516399519714742,
          -0.8519357225707207,
          -0.6921375469293626,
          0.14081464938259453,
          -1.0723940232378912,
          0.76374921747042,
          -0.9764222275687772,
          -0.12152652159237712,
          -0.9730532987966553,
          -0.5775317235636601,
          0.7768392869676116,
          0.2269594346815968,
          1.0140265907019843,
          -0.8930176943334763,
          -0.5193450283873148,
          0.7938433809316866,
          2.1179024158847,
          -0.8091858181660019,
          0.23575259802383408,
          1.891054606533112,
          -1.0475412976510285,
          0.13958620163830568,
          0.07103154320024374,
          0.26646637665240486,
          -0.5069406988632001,
          0.4605453717659903,
          -0.23477984368974197,
          0.7326488132345063,
          -1.6259305525251924,
          1.0048923997341064,
          -0.1695512086742788,
          0.11999832980286723,
          -0.3938716067123815,
          -0.27678920417626063,
          1.7766281860001285,
          -0.025201371591430797,
          0.39106641722214414,
          -0.36266631402792104,
          -0.1507604860449956,
          -0.6371434420188824,
          -0.4774359149541476,
          -1.0191027606993943,
          -1.1471249872282705,
          1.093211190209601,
          2.0478390921262726,
          -0.6784827999961495,
          0.21923794677046912,
          0.4897505001514096,
          1.6380790027185892,
          -0.2651098426216721,
          1.2967225486909668,
          -0.3578228104001522,
          0.14840481689154295,
          -0.08555392193724372,
          1.143922589536882,
          -1.0685921413975725,
          0.3801389930240406,
          -0.9116400166795582,
          0.9588199757260797,
          -0.5971233215246616,
          -1.0262343287790852,
          -0.24285499824852702,
          0.6434283845393042,
          0.07207423975988667,
          0.7070824990102145,
          1.256890821720922,
          -0.8123351273801739,
          1.629569514039645,
          -0.07293580762362864,
          -0.7510855871008175,
          -0.1589877353593765,
          1.186533383081269,
          -0.8541975155143154,
          -0.8848220789953042,
          -0.7076934064404677,
          -0.582760294596512,
          -0.33839526145176996,
          0.6318202731806994,
          1.357085811721206,
          -1.159036633735599,
          -0.7024834341744302,
          -0.6620146519286411,
          -0.46435510945716835,
          -0.5651916465292636,
          0.4812475006993169,
          -1.658973768007512,
          -0.9934088116492179,
          0.3940173177119446,
          -1.92199018505466,
          -0.7001709471969333,
          -0.8264760991243436,
          1.761092795620149,
          0.48931204890294144,
          -0.9133729496232006,
          0.15801970055667516,
          -0.5553258130054517,
          -0.0219011218967336,
          -0.6699277754027131,
          -0.22308168648083168,
          -0.28384595617969033,
          1.3540576263045374,
          1.407395271703514,
          0.4157618170594508,
          0.17750039274219281,
          2.07384460960326,
          -1.228162483776803,
          -0.654426951997164,
          -0.4401761936557408,
          -0.7151367487095026,
          -0.3567900011436581,
          -0.8984834431624007,
          -0.06141793080312028,
          1.244502511260674,
          -0.29505311000805373,
          -0.5109953913875077,
          -0.4222002912138929,
          1.5611937362670036,
          -0.03727565411185452,
          -0.5396164388634891,
          0.0993396373573373,
          0.6066810543357131,
          -2.287933304975375,
          2.4925874910894934,
          -3.3888273954822155,
          -0.35998241668086184,
          0.231038420658727,
          -0.025768265316328632,
          0.7763847337833576,
          -0.19855783681837322,
          1.1500237903352584,
          -1.0543551548821652,
          -0.8939326503908964,
          0.5238594287575681,
          -0.179494493733816,
          1.2887451965737542,
          1.8299730020597431,
          -0.19398786478235974,
          0.41330710930989256,
          -1.6267210933595493,
          1.5641527370191277,
          0.32975225549317433,
          -0.38393576062236373,
          -0.6847430520537701,
          0.21428058083374532,
          -1.6484970639373888,
          1.3840209390406122,
          -0.378791995449863,
          -1.1957420886566916,
          1.3400939225914466,
          4.127706796747366,
          0.5786649616347201,
          -0.3514332197545507,
          -0.686608693662917,
          -0.32996347055831343,
          -1.0996315605578586,
          -0.16890173154755467,
          0.18333849369048932
         ]
        }
       ],
       "layout": {
        "coloraxis": {
         "colorbar": {
          "title": {
           "text": "color"
          }
         },
         "colorscale": [
          [
           0,
           "#0d0887"
          ],
          [
           0.1111111111111111,
           "#46039f"
          ],
          [
           0.2222222222222222,
           "#7201a8"
          ],
          [
           0.3333333333333333,
           "#9c179e"
          ],
          [
           0.4444444444444444,
           "#bd3786"
          ],
          [
           0.5555555555555556,
           "#d8576b"
          ],
          [
           0.6666666666666666,
           "#ed7953"
          ],
          [
           0.7777777777777778,
           "#fb9f3a"
          ],
          [
           0.8888888888888888,
           "#fdca26"
          ],
          [
           1,
           "#f0f921"
          ]
         ]
        },
        "legend": {
         "tracegroupgap": 0
        },
        "margin": {
         "t": 60
        },
        "scene": {
         "domain": {
          "x": [
           0,
           1
          ],
          "y": [
           0,
           1
          ]
         },
         "xaxis": {
          "title": {
           "text": "x"
          }
         },
         "yaxis": {
          "title": {
           "text": "y"
          }
         },
         "zaxis": {
          "title": {
           "text": "z"
          }
         }
        },
        "template": {
         "data": {
          "bar": [
           {
            "error_x": {
             "color": "#2a3f5f"
            },
            "error_y": {
             "color": "#2a3f5f"
            },
            "marker": {
             "line": {
              "color": "#E5ECF6",
              "width": 0.5
             },
             "pattern": {
              "fillmode": "overlay",
              "size": 10,
              "solidity": 0.2
             }
            },
            "type": "bar"
           }
          ],
          "barpolar": [
           {
            "marker": {
             "line": {
              "color": "#E5ECF6",
              "width": 0.5
             },
             "pattern": {
              "fillmode": "overlay",
              "size": 10,
              "solidity": 0.2
             }
            },
            "type": "barpolar"
           }
          ],
          "carpet": [
           {
            "aaxis": {
             "endlinecolor": "#2a3f5f",
             "gridcolor": "white",
             "linecolor": "white",
             "minorgridcolor": "white",
             "startlinecolor": "#2a3f5f"
            },
            "baxis": {
             "endlinecolor": "#2a3f5f",
             "gridcolor": "white",
             "linecolor": "white",
             "minorgridcolor": "white",
             "startlinecolor": "#2a3f5f"
            },
            "type": "carpet"
           }
          ],
          "choropleth": [
           {
            "colorbar": {
             "outlinewidth": 0,
             "ticks": ""
            },
            "type": "choropleth"
           }
          ],
          "contour": [
           {
            "colorbar": {
             "outlinewidth": 0,
             "ticks": ""
            },
            "colorscale": [
             [
              0,
              "#0d0887"
             ],
             [
              0.1111111111111111,
              "#46039f"
             ],
             [
              0.2222222222222222,
              "#7201a8"
             ],
             [
              0.3333333333333333,
              "#9c179e"
             ],
             [
              0.4444444444444444,
              "#bd3786"
             ],
             [
              0.5555555555555556,
              "#d8576b"
             ],
             [
              0.6666666666666666,
              "#ed7953"
             ],
             [
              0.7777777777777778,
              "#fb9f3a"
             ],
             [
              0.8888888888888888,
              "#fdca26"
             ],
             [
              1,
              "#f0f921"
             ]
            ],
            "type": "contour"
           }
          ],
          "contourcarpet": [
           {
            "colorbar": {
             "outlinewidth": 0,
             "ticks": ""
            },
            "type": "contourcarpet"
           }
          ],
          "heatmap": [
           {
            "colorbar": {
             "outlinewidth": 0,
             "ticks": ""
            },
            "colorscale": [
             [
              0,
              "#0d0887"
             ],
             [
              0.1111111111111111,
              "#46039f"
             ],
             [
              0.2222222222222222,
              "#7201a8"
             ],
             [
              0.3333333333333333,
              "#9c179e"
             ],
             [
              0.4444444444444444,
              "#bd3786"
             ],
             [
              0.5555555555555556,
              "#d8576b"
             ],
             [
              0.6666666666666666,
              "#ed7953"
             ],
             [
              0.7777777777777778,
              "#fb9f3a"
             ],
             [
              0.8888888888888888,
              "#fdca26"
             ],
             [
              1,
              "#f0f921"
             ]
            ],
            "type": "heatmap"
           }
          ],
          "heatmapgl": [
           {
            "colorbar": {
             "outlinewidth": 0,
             "ticks": ""
            },
            "colorscale": [
             [
              0,
              "#0d0887"
             ],
             [
              0.1111111111111111,
              "#46039f"
             ],
             [
              0.2222222222222222,
              "#7201a8"
             ],
             [
              0.3333333333333333,
              "#9c179e"
             ],
             [
              0.4444444444444444,
              "#bd3786"
             ],
             [
              0.5555555555555556,
              "#d8576b"
             ],
             [
              0.6666666666666666,
              "#ed7953"
             ],
             [
              0.7777777777777778,
              "#fb9f3a"
             ],
             [
              0.8888888888888888,
              "#fdca26"
             ],
             [
              1,
              "#f0f921"
             ]
            ],
            "type": "heatmapgl"
           }
          ],
          "histogram": [
           {
            "marker": {
             "pattern": {
              "fillmode": "overlay",
              "size": 10,
              "solidity": 0.2
             }
            },
            "type": "histogram"
           }
          ],
          "histogram2d": [
           {
            "colorbar": {
             "outlinewidth": 0,
             "ticks": ""
            },
            "colorscale": [
             [
              0,
              "#0d0887"
             ],
             [
              0.1111111111111111,
              "#46039f"
             ],
             [
              0.2222222222222222,
              "#7201a8"
             ],
             [
              0.3333333333333333,
              "#9c179e"
             ],
             [
              0.4444444444444444,
              "#bd3786"
             ],
             [
              0.5555555555555556,
              "#d8576b"
             ],
             [
              0.6666666666666666,
              "#ed7953"
             ],
             [
              0.7777777777777778,
              "#fb9f3a"
             ],
             [
              0.8888888888888888,
              "#fdca26"
             ],
             [
              1,
              "#f0f921"
             ]
            ],
            "type": "histogram2d"
           }
          ],
          "histogram2dcontour": [
           {
            "colorbar": {
             "outlinewidth": 0,
             "ticks": ""
            },
            "colorscale": [
             [
              0,
              "#0d0887"
             ],
             [
              0.1111111111111111,
              "#46039f"
             ],
             [
              0.2222222222222222,
              "#7201a8"
             ],
             [
              0.3333333333333333,
              "#9c179e"
             ],
             [
              0.4444444444444444,
              "#bd3786"
             ],
             [
              0.5555555555555556,
              "#d8576b"
             ],
             [
              0.6666666666666666,
              "#ed7953"
             ],
             [
              0.7777777777777778,
              "#fb9f3a"
             ],
             [
              0.8888888888888888,
              "#fdca26"
             ],
             [
              1,
              "#f0f921"
             ]
            ],
            "type": "histogram2dcontour"
           }
          ],
          "mesh3d": [
           {
            "colorbar": {
             "outlinewidth": 0,
             "ticks": ""
            },
            "type": "mesh3d"
           }
          ],
          "parcoords": [
           {
            "line": {
             "colorbar": {
              "outlinewidth": 0,
              "ticks": ""
             }
            },
            "type": "parcoords"
           }
          ],
          "pie": [
           {
            "automargin": true,
            "type": "pie"
           }
          ],
          "scatter": [
           {
            "fillpattern": {
             "fillmode": "overlay",
             "size": 10,
             "solidity": 0.2
            },
            "type": "scatter"
           }
          ],
          "scatter3d": [
           {
            "line": {
             "colorbar": {
              "outlinewidth": 0,
              "ticks": ""
             }
            },
            "marker": {
             "colorbar": {
              "outlinewidth": 0,
              "ticks": ""
             }
            },
            "type": "scatter3d"
           }
          ],
          "scattercarpet": [
           {
            "marker": {
             "colorbar": {
              "outlinewidth": 0,
              "ticks": ""
             }
            },
            "type": "scattercarpet"
           }
          ],
          "scattergeo": [
           {
            "marker": {
             "colorbar": {
              "outlinewidth": 0,
              "ticks": ""
             }
            },
            "type": "scattergeo"
           }
          ],
          "scattergl": [
           {
            "marker": {
             "colorbar": {
              "outlinewidth": 0,
              "ticks": ""
             }
            },
            "type": "scattergl"
           }
          ],
          "scattermapbox": [
           {
            "marker": {
             "colorbar": {
              "outlinewidth": 0,
              "ticks": ""
             }
            },
            "type": "scattermapbox"
           }
          ],
          "scatterpolar": [
           {
            "marker": {
             "colorbar": {
              "outlinewidth": 0,
              "ticks": ""
             }
            },
            "type": "scatterpolar"
           }
          ],
          "scatterpolargl": [
           {
            "marker": {
             "colorbar": {
              "outlinewidth": 0,
              "ticks": ""
             }
            },
            "type": "scatterpolargl"
           }
          ],
          "scatterternary": [
           {
            "marker": {
             "colorbar": {
              "outlinewidth": 0,
              "ticks": ""
             }
            },
            "type": "scatterternary"
           }
          ],
          "surface": [
           {
            "colorbar": {
             "outlinewidth": 0,
             "ticks": ""
            },
            "colorscale": [
             [
              0,
              "#0d0887"
             ],
             [
              0.1111111111111111,
              "#46039f"
             ],
             [
              0.2222222222222222,
              "#7201a8"
             ],
             [
              0.3333333333333333,
              "#9c179e"
             ],
             [
              0.4444444444444444,
              "#bd3786"
             ],
             [
              0.5555555555555556,
              "#d8576b"
             ],
             [
              0.6666666666666666,
              "#ed7953"
             ],
             [
              0.7777777777777778,
              "#fb9f3a"
             ],
             [
              0.8888888888888888,
              "#fdca26"
             ],
             [
              1,
              "#f0f921"
             ]
            ],
            "type": "surface"
           }
          ],
          "table": [
           {
            "cells": {
             "fill": {
              "color": "#EBF0F8"
             },
             "line": {
              "color": "white"
             }
            },
            "header": {
             "fill": {
              "color": "#C8D4E3"
             },
             "line": {
              "color": "white"
             }
            },
            "type": "table"
           }
          ]
         },
         "layout": {
          "annotationdefaults": {
           "arrowcolor": "#2a3f5f",
           "arrowhead": 0,
           "arrowwidth": 1
          },
          "autotypenumbers": "strict",
          "coloraxis": {
           "colorbar": {
            "outlinewidth": 0,
            "ticks": ""
           }
          },
          "colorscale": {
           "diverging": [
            [
             0,
             "#8e0152"
            ],
            [
             0.1,
             "#c51b7d"
            ],
            [
             0.2,
             "#de77ae"
            ],
            [
             0.3,
             "#f1b6da"
            ],
            [
             0.4,
             "#fde0ef"
            ],
            [
             0.5,
             "#f7f7f7"
            ],
            [
             0.6,
             "#e6f5d0"
            ],
            [
             0.7,
             "#b8e186"
            ],
            [
             0.8,
             "#7fbc41"
            ],
            [
             0.9,
             "#4d9221"
            ],
            [
             1,
             "#276419"
            ]
           ],
           "sequential": [
            [
             0,
             "#0d0887"
            ],
            [
             0.1111111111111111,
             "#46039f"
            ],
            [
             0.2222222222222222,
             "#7201a8"
            ],
            [
             0.3333333333333333,
             "#9c179e"
            ],
            [
             0.4444444444444444,
             "#bd3786"
            ],
            [
             0.5555555555555556,
             "#d8576b"
            ],
            [
             0.6666666666666666,
             "#ed7953"
            ],
            [
             0.7777777777777778,
             "#fb9f3a"
            ],
            [
             0.8888888888888888,
             "#fdca26"
            ],
            [
             1,
             "#f0f921"
            ]
           ],
           "sequentialminus": [
            [
             0,
             "#0d0887"
            ],
            [
             0.1111111111111111,
             "#46039f"
            ],
            [
             0.2222222222222222,
             "#7201a8"
            ],
            [
             0.3333333333333333,
             "#9c179e"
            ],
            [
             0.4444444444444444,
             "#bd3786"
            ],
            [
             0.5555555555555556,
             "#d8576b"
            ],
            [
             0.6666666666666666,
             "#ed7953"
            ],
            [
             0.7777777777777778,
             "#fb9f3a"
            ],
            [
             0.8888888888888888,
             "#fdca26"
            ],
            [
             1,
             "#f0f921"
            ]
           ]
          },
          "colorway": [
           "#636efa",
           "#EF553B",
           "#00cc96",
           "#ab63fa",
           "#FFA15A",
           "#19d3f3",
           "#FF6692",
           "#B6E880",
           "#FF97FF",
           "#FECB52"
          ],
          "font": {
           "color": "#2a3f5f"
          },
          "geo": {
           "bgcolor": "white",
           "lakecolor": "white",
           "landcolor": "#E5ECF6",
           "showlakes": true,
           "showland": true,
           "subunitcolor": "white"
          },
          "hoverlabel": {
           "align": "left"
          },
          "hovermode": "closest",
          "mapbox": {
           "style": "light"
          },
          "paper_bgcolor": "white",
          "plot_bgcolor": "#E5ECF6",
          "polar": {
           "angularaxis": {
            "gridcolor": "white",
            "linecolor": "white",
            "ticks": ""
           },
           "bgcolor": "#E5ECF6",
           "radialaxis": {
            "gridcolor": "white",
            "linecolor": "white",
            "ticks": ""
           }
          },
          "scene": {
           "xaxis": {
            "backgroundcolor": "#E5ECF6",
            "gridcolor": "white",
            "gridwidth": 2,
            "linecolor": "white",
            "showbackground": true,
            "ticks": "",
            "zerolinecolor": "white"
           },
           "yaxis": {
            "backgroundcolor": "#E5ECF6",
            "gridcolor": "white",
            "gridwidth": 2,
            "linecolor": "white",
            "showbackground": true,
            "ticks": "",
            "zerolinecolor": "white"
           },
           "zaxis": {
            "backgroundcolor": "#E5ECF6",
            "gridcolor": "white",
            "gridwidth": 2,
            "linecolor": "white",
            "showbackground": true,
            "ticks": "",
            "zerolinecolor": "white"
           }
          },
          "shapedefaults": {
           "line": {
            "color": "#2a3f5f"
           }
          },
          "ternary": {
           "aaxis": {
            "gridcolor": "white",
            "linecolor": "white",
            "ticks": ""
           },
           "baxis": {
            "gridcolor": "white",
            "linecolor": "white",
            "ticks": ""
           },
           "bgcolor": "#E5ECF6",
           "caxis": {
            "gridcolor": "white",
            "linecolor": "white",
            "ticks": ""
           }
          },
          "title": {
           "x": 0.05
          },
          "xaxis": {
           "automargin": true,
           "gridcolor": "white",
           "linecolor": "white",
           "ticks": "",
           "title": {
            "standoff": 15
           },
           "zerolinecolor": "white",
           "zerolinewidth": 2
          },
          "yaxis": {
           "automargin": true,
           "gridcolor": "white",
           "linecolor": "white",
           "ticks": "",
           "title": {
            "standoff": 15
           },
           "zerolinecolor": "white",
           "zerolinewidth": 2
          }
         }
        }
       }
      }
     },
     "metadata": {},
     "output_type": "display_data"
    }
   ],
   "source": [
    "countries = data_pca.index.tolist()\n",
    "fig = px.scatter_3d(x=data_pca.PC1, y=data_pca.PC2, z=data_pca.PC3, color=data_pca.cluster, opacity=0.7)\n",
    "fig.update_traces(mode=\"markers\", hovertemplate=countries)\n",
    "fig.show()"
   ]
  },
  {
   "attachments": {},
   "cell_type": "markdown",
   "metadata": {},
   "source": [
    "## Raw clusters visualisation on PCA axis values"
   ]
  },
  {
   "cell_type": "code",
   "execution_count": 13,
   "metadata": {},
   "outputs": [
    {
     "data": {
      "application/vnd.plotly.v1+json": {
       "config": {
        "plotlyServerURL": "https://plot.ly"
       },
       "data": [
        {
         "hovertemplate": [
          "Afghanistan",
          "Albania",
          "Algeria",
          "Angola",
          "Antigua and Barbuda",
          "Argentina",
          "Armenia",
          "Australia",
          "Austria",
          "Azerbaijan",
          "Bahamas",
          "Bahrain",
          "Bangladesh",
          "Barbados",
          "Belarus",
          "Belgium",
          "Belize",
          "Benin",
          "Bhutan",
          "Bolivia",
          "Bosnia and Herzegovina",
          "Botswana",
          "Brazil",
          "Brunei",
          "Bulgaria",
          "Burkina Faso",
          "Burundi",
          "Cambodia",
          "Cameroon",
          "Canada",
          "Cape Verde",
          "Central African Republic",
          "Chad",
          "Chile",
          "China",
          "Colombia",
          "Comoros",
          "Congo, Dem. Rep.",
          "Congo, Rep.",
          "Costa Rica",
          "Cote d'Ivoire",
          "Croatia",
          "Cyprus",
          "Czech Republic",
          "Denmark",
          "Dominican Republic",
          "Ecuador",
          "Egypt",
          "El Salvador",
          "Equatorial Guinea",
          "Eritrea",
          "Estonia",
          "Fiji",
          "Finland",
          "France",
          "Gabon",
          "Gambia",
          "Georgia",
          "Germany",
          "Ghana",
          "Greece",
          "Grenada",
          "Guatemala",
          "Guinea",
          "Guinea-Bissau",
          "Guyana",
          "Haiti",
          "Hungary",
          "Iceland",
          "India",
          "Indonesia",
          "Iran",
          "Iraq",
          "Ireland",
          "Israel",
          "Italy",
          "Jamaica",
          "Japan",
          "Jordan",
          "Kazakhstan",
          "Kenya",
          "Kiribati",
          "Kuwait",
          "Kyrgyz Republic",
          "Lao",
          "Latvia",
          "Lebanon",
          "Lesotho",
          "Liberia",
          "Libya",
          "Lithuania",
          "Luxembourg",
          "Macedonia, FYR",
          "Madagascar",
          "Malawi",
          "Malaysia",
          "Maldives",
          "Mali",
          "Malta",
          "Mauritania",
          "Mauritius",
          "Micronesia, Fed. Sts.",
          "Moldova",
          "Mongolia",
          "Montenegro",
          "Morocco",
          "Mozambique",
          "Myanmar",
          "Namibia",
          "Nepal",
          "Netherlands",
          "New Zealand",
          "Niger",
          "Nigeria",
          "Norway",
          "Oman",
          "Pakistan",
          "Panama",
          "Paraguay",
          "Peru",
          "Philippines",
          "Poland",
          "Portugal",
          "Qatar",
          "Romania",
          "Russia",
          "Rwanda",
          "Samoa",
          "Saudi Arabia",
          "Senegal",
          "Serbia",
          "Seychelles",
          "Sierra Leone",
          "Singapore",
          "Slovak Republic",
          "Slovenia",
          "Solomon Islands",
          "South Africa",
          "South Korea",
          "Spain",
          "Sri Lanka",
          "St. Vincent and the Grenadines",
          "Sudan",
          "Suriname",
          "Sweden",
          "Switzerland",
          "Tajikistan",
          "Tanzania",
          "Thailand",
          "Timor-Leste",
          "Togo",
          "Tonga",
          "Tunisia",
          "Turkey",
          "Turkmenistan",
          "Uganda",
          "Ukraine",
          "United Arab Emirates",
          "United Kingdom",
          "United States",
          "Uruguay",
          "Uzbekistan",
          "Vanuatu",
          "Venezuela",
          "Vietnam",
          "Yemen",
          "Zambia"
         ],
         "legendgroup": "",
         "marker": {
          "color": [
           2,
           4,
           0,
           0,
           4,
           0,
           4,
           1,
           1,
           4,
           4,
           1,
           0,
           4,
           4,
           1,
           4,
           2,
           4,
           0,
           4,
           4,
           0,
           1,
           4,
           2,
           2,
           4,
           2,
           1,
           4,
           2,
           2,
           0,
           0,
           0,
           2,
           2,
           0,
           4,
           2,
           4,
           4,
           4,
           1,
           0,
           0,
           0,
           4,
           0,
           0,
           4,
           4,
           1,
           1,
           0,
           2,
           4,
           1,
           0,
           1,
           4,
           0,
           2,
           2,
           4,
           2,
           4,
           1,
           0,
           0,
           0,
           0,
           1,
           1,
           1,
           4,
           1,
           4,
           0,
           2,
           4,
           1,
           4,
           0,
           4,
           4,
           4,
           4,
           1,
           4,
           3,
           4,
           2,
           2,
           4,
           4,
           2,
           3,
           0,
           4,
           4,
           4,
           0,
           4,
           4,
           2,
           0,
           4,
           0,
           1,
           1,
           2,
           0,
           1,
           1,
           0,
           4,
           4,
           0,
           0,
           4,
           1,
           1,
           4,
           0,
           2,
           4,
           1,
           2,
           4,
           4,
           2,
           3,
           4,
           4,
           4,
           4,
           4,
           1,
           0,
           4,
           0,
           4,
           1,
           1,
           0,
           2,
           4,
           0,
           2,
           4,
           4,
           0,
           0,
           2,
           4,
           1,
           1,
           1,
           0,
           0,
           4,
           0,
           4,
           0,
           2
          ],
          "coloraxis": "coloraxis",
          "opacity": 0.7,
          "symbol": "circle"
         },
         "mode": "markers",
         "name": "",
         "scene": "scene",
         "showlegend": false,
         "type": "scatter3d",
         "x": [
          -1.5956578573330433,
          0.4221001411263189,
          0.009816466065645646,
          -1.731916703398263,
          0.5345992730719058,
          0.29973704779012766,
          0.23302141587342465,
          1.174037795361705,
          1.386434698462331,
          0.10336910218968592,
          0.6746841341785906,
          0.7459166620074514,
          -0.285564537124668,
          0.6190189092612807,
          0.4857837567502833,
          1.3198436455741411,
          0.09161430969220545,
          -1.5238430822912852,
          -0.01922637627033905,
          -0.3219327936543652,
          0.6925132334990814,
          -0.4094385911191734,
          0.3718942991405838,
          1.1197882819848772,
          0.5533529222317395,
          -1.7416585957457449,
          -1.6240956380379328,
          -0.2906853176923368,
          -1.5302487307386876,
          1.2692965155471247,
          -0.02012141583795972,
          -2.0930817382893805,
          -2.1400988682920814,
          0.6375549652902348,
          0.33144620450974094,
          0.3089860054261104,
          -1.1444647027344983,
          -1.8483844827679425,
          -1.0444702430171766,
          0.6296751545628234,
          -1.528780797769566,
          0.7058724108362154,
          1.0784080878512252,
          0.9660219160126664,
          1.359835645597809,
          0.025499767465797348,
          0.14372364232915955,
          -0.26276815541044174,
          0.18890192001761916,
          -1.033416523365101,
          -1.1219978069474674,
          0.7742110875461778,
          -0.08285633820560034,
          1.165984938239183,
          1.1091305188026257,
          -0.7354797683466303,
          -1.3044122581595503,
          0.3408848650973088,
          1.3076974821678289,
          -1.0017218082008235,
          1.0070776161499047,
          0.20360378946180277,
          -0.2667119242983856,
          -1.588039650697379,
          -1.5393167963645658,
          -0.15947283362708548,
          -2.227735160229818,
          0.8815295335352379,
          1.1295409355780335,
          -0.4538067512358992,
          -0.19178339318804027,
          0.3189037743035266,
          -0.5580670081901721,
          1.4048652597111746,
          0.6611747772492572,
          1.15217264804064,
          0.20376239658516998,
          1.2341665257576573,
          -0.009482216967852786,
          0.029830394347846866,
          -0.9563190521741266,
          -0.6915984496194201,
          1.0541585064394963,
          -0.17816923853347838,
          -0.7019764185062441,
          0.6731907878367934,
          0.6828873389032891,
          -1.027362613365088,
          -1.1220550491373649,
          0.43051973355353124,
          0.7192546177249058,
          2.507159427465008,
          0.5222433835433085,
          -1.082341261219192,
          -1.5594108202967387,
          0.5401574444570622,
          0.5011160585625155,
          -2.0138471012643175,
          1.371037715210531,
          -1.134694061211837,
          0.5247186657630741,
          -0.25011539167981345,
          0.4656399671617499,
          -0.1714577811706891,
          0.6061423026061361,
          -0.02085483378897292,
          -1.6414702959411986,
          -0.5639476947577643,
          -0.6132531163593923,
          -0.3639185425183988,
          1.436731599360432,
          0.9246863539134608,
          -2.1543076514859862,
          -1.9729334016250557,
          1.6640322357260409,
          0.4798142176090326,
          -1.0582978015306712,
          0.44441911247298665,
          0.08986637513566237,
          0.16257788646169077,
          -0.3054476877875922,
          0.7420146898515962,
          1.0093759112963674,
          1.7011207050686787,
          0.47666927451872,
          0.3833602137337602,
          -0.8676256114024398,
          -0.3662506395041299,
          0.4027009258854555,
          -1.0868679839127182,
          0.6244619642143601,
          0.546005082146167,
          -1.8006009962571448,
          2.0424655916051466,
          0.928914113712003,
          1.059725820250517,
          -0.5421643597716329,
          -0.453848492617575,
          1.0303502373155182,
          1.11199048275314,
          0.0955315936932246,
          0.17263696661725766,
          -1.1065846680615095,
          0.14592472009719917,
          1.2786762291452276,
          1.7705942651712905,
          -0.5208139963243107,
          -1.3504838482646704,
          0.5395458823523647,
          -1.2084381533157889,
          -1.2128187323568311,
          -0.3554715899435616,
          0.369728111304308,
          0.39118561952658165,
          -0.3045562904259787,
          -1.579910533960219,
          0.40201534078045237,
          1.052455414111964,
          1.0411580999668777,
          1.2881125154680644,
          0.47863196209648223,
          -0.15070734610095565,
          -0.4263726584171735,
          0.16282972593503658,
          0.30766976004100743,
          -0.8868690146965982,
          -1.5285877759909194
         ],
         "y": [
          0.5155788857978827,
          -1.145149765816296,
          -0.7335875693126059,
          1.4900722555685602,
          -0.3491305401857373,
          -1.11250522519746,
          -1.3190857024908815,
          0.08790911444218032,
          0.6212034556604316,
          -0.6586500929476591,
          -0.2002732690053046,
          0.44244275085217505,
          -1.3399437750961956,
          -0.5737111561126281,
          -0.5589495489944882,
          1.3049136796792726,
          -0.28393330403000583,
          0.4800850207706189,
          -0.3363103360034927,
          -0.5323562806464662,
          -1.1994749435845058,
          0.15875575394650662,
          -1.420876824753029,
          1.052061743878229,
          -0.6776568178442558,
          0.6112315693808673,
          0.6108437161071553,
          -0.16474049882834865,
          0.3437452078524297,
          0.1661357256771599,
          -0.6021718073925048,
          0.615658651047689,
          1.4856035436128776,
          -0.8587142060587197,
          -1.5032088202744969,
          -1.4624565985837443,
          0.1437710643162158,
          1.3446229012825177,
          1.091387732545008,
          -1.049056666667581,
          0.9889611633762329,
          -0.8385440361474535,
          0.08988962976914082,
          0.07772008395648249,
          1.0002645428444943,
          -0.894848264015061,
          -0.9438617405387242,
          -0.9035318219304679,
          -1.0046830623293088,
          2.457470885181076,
          -0.6134285174124682,
          0.10579078195195976,
          -0.12619752673374918,
          0.3605824179741013,
          -0.008828850370946174,
          0.3387426284293283,
          0.39176941610742866,
          -0.9012910049866613,
          0.2008969035476837,
          0.09173881538029985,
          -0.7007120577748052,
          -0.8540194802222754,
          -0.6499528272565512,
          0.6674206589174332,
          0.41178928928077163,
          0.036095351053586494,
          1.2581177038274303,
          0.14652992773467355,
          0.5728557545779718,
          -0.9189860920848048,
          -1.1441176377324846,
          -1.2910578657850407,
          0.10526323372762679,
          2.0003793574359228,
          0.03337225271757965,
          -0.39052166499705027,
          -0.9390731578154017,
          -0.5235692376037681,
          0.036908491424296065,
          -0.45334850783498937,
          -0.2640876035967703,
          0.17462401125737936,
          1.1560982621387932,
          0.013835003186120043,
          -0.13543641540975224,
          -0.5249758391227808,
          -0.7790030422630857,
          1.0743702482348865,
          0.9302916403164937,
          -0.007703484002706542,
          -0.12925926143889505,
          5.598547555439909,
          -0.9038777795374372,
          -0.04112748892572774,
          0.414292973096952,
          0.27633875146583575,
          -0.0998803370604943,
          1.054737194256039,
          2.2692391960583445,
          0.8392978192097159,
          -0.4880333655426038,
          0.06522047683017886,
          -0.7460717090415122,
          -0.3743773076090398,
          -0.7219952431863724,
          -0.8141932039376178,
          0.7749195865879295,
          -1.6123033523100845,
          0.4214072621866924,
          -1.1279211107482683,
          1.321337570719542,
          -0.17691343846870644,
          1.396140932739615,
          0.6706250322476007,
          1.6993259107232315,
          0.5358882893214139,
          -0.5127296278222933,
          0.2697366750226164,
          -0.41842055839932635,
          -1.1660602145975338,
          -0.6792353300703123,
          -0.7951875372388467,
          -0.6637372279790609,
          2.585931256142179,
          -1.0003578176508623,
          -1.0660179344591332,
          -0.33368231357631206,
          -0.23791942837773847,
          0.32006374849878655,
          0.11347430208248817,
          -1.075387236538446,
          0.9029646873882142,
          0.8847490444369587,
          4.300361373915901,
          0.3012091142430467,
          0.16255166450816066,
          0.45367009332680674,
          -0.3543535786349823,
          -0.3781068736814361,
          -0.6142605832226022,
          -1.4678793568865087,
          -0.8024518744869,
          -0.21064582385996214,
          -0.35927764906054344,
          0.7174036728636337,
          1.7533697888129396,
          -0.46840199255986564,
          0.11695000353352852,
          -0.5118814265226135,
          0.01490466468878928,
          0.7064784729569719,
          -0.5104388835966687,
          -0.6238726957380131,
          -1.0692702821681903,
          0.19222670035934547,
          0.4535003672515063,
          -0.9374775097909227,
          1.2232252304700635,
          -0.05700676506599657,
          0.1905772557880101,
          -1.0168689210052657,
          -1.0501799169674295,
          -0.1599526374119142,
          -0.9251108985414045,
          -0.17296002391216592,
          -0.10703728786217048,
          0.5873793993457799
         ],
         "z": [
          0.8873615664658353,
          -0.36152000162583053,
          -0.7557289711412154,
          -0.8035482480228361,
          -0.5672414683242747,
          0.6698942483634427,
          -0.8649030356172925,
          1.5161591326038408,
          1.3715317524940467,
          -0.44284157808447067,
          0.4516399519714742,
          -0.8519357225707207,
          -0.6921375469293626,
          0.14081464938259453,
          -1.0723940232378912,
          0.76374921747042,
          -0.9764222275687772,
          -0.12152652159237712,
          -0.9730532987966553,
          -0.5775317235636601,
          0.7768392869676116,
          0.2269594346815968,
          1.0140265907019843,
          -0.8930176943334763,
          -0.5193450283873148,
          0.7938433809316866,
          2.1179024158847,
          -0.8091858181660019,
          0.23575259802383408,
          1.891054606533112,
          -1.0475412976510285,
          0.13958620163830568,
          0.07103154320024374,
          0.26646637665240486,
          -0.5069406988632001,
          0.4605453717659903,
          -0.23477984368974197,
          0.7326488132345063,
          -1.6259305525251924,
          1.0048923997341064,
          -0.1695512086742788,
          0.11999832980286723,
          -0.3938716067123815,
          -0.27678920417626063,
          1.7766281860001285,
          -0.025201371591430797,
          0.39106641722214414,
          -0.36266631402792104,
          -0.1507604860449956,
          -0.6371434420188824,
          -0.4774359149541476,
          -1.0191027606993943,
          -1.1471249872282705,
          1.093211190209601,
          2.0478390921262726,
          -0.6784827999961495,
          0.21923794677046912,
          0.4897505001514096,
          1.6380790027185892,
          -0.2651098426216721,
          1.2967225486909668,
          -0.3578228104001522,
          0.14840481689154295,
          -0.08555392193724372,
          1.143922589536882,
          -1.0685921413975725,
          0.3801389930240406,
          -0.9116400166795582,
          0.9588199757260797,
          -0.5971233215246616,
          -1.0262343287790852,
          -0.24285499824852702,
          0.6434283845393042,
          0.07207423975988667,
          0.7070824990102145,
          1.256890821720922,
          -0.8123351273801739,
          1.629569514039645,
          -0.07293580762362864,
          -0.7510855871008175,
          -0.1589877353593765,
          1.186533383081269,
          -0.8541975155143154,
          -0.8848220789953042,
          -0.7076934064404677,
          -0.582760294596512,
          -0.33839526145176996,
          0.6318202731806994,
          1.357085811721206,
          -1.159036633735599,
          -0.7024834341744302,
          -0.6620146519286411,
          -0.46435510945716835,
          -0.5651916465292636,
          0.4812475006993169,
          -1.658973768007512,
          -0.9934088116492179,
          0.3940173177119446,
          -1.92199018505466,
          -0.7001709471969333,
          -0.8264760991243436,
          1.761092795620149,
          0.48931204890294144,
          -0.9133729496232006,
          0.15801970055667516,
          -0.5553258130054517,
          -0.0219011218967336,
          -0.6699277754027131,
          -0.22308168648083168,
          -0.28384595617969033,
          1.3540576263045374,
          1.407395271703514,
          0.4157618170594508,
          0.17750039274219281,
          2.07384460960326,
          -1.228162483776803,
          -0.654426951997164,
          -0.4401761936557408,
          -0.7151367487095026,
          -0.3567900011436581,
          -0.8984834431624007,
          -0.06141793080312028,
          1.244502511260674,
          -0.29505311000805373,
          -0.5109953913875077,
          -0.4222002912138929,
          1.5611937362670036,
          -0.03727565411185452,
          -0.5396164388634891,
          0.0993396373573373,
          0.6066810543357131,
          -2.287933304975375,
          2.4925874910894934,
          -3.3888273954822155,
          -0.35998241668086184,
          0.231038420658727,
          -0.025768265316328632,
          0.7763847337833576,
          -0.19855783681837322,
          1.1500237903352584,
          -1.0543551548821652,
          -0.8939326503908964,
          0.5238594287575681,
          -0.179494493733816,
          1.2887451965737542,
          1.8299730020597431,
          -0.19398786478235974,
          0.41330710930989256,
          -1.6267210933595493,
          1.5641527370191277,
          0.32975225549317433,
          -0.38393576062236373,
          -0.6847430520537701,
          0.21428058083374532,
          -1.6484970639373888,
          1.3840209390406122,
          -0.378791995449863,
          -1.1957420886566916,
          1.3400939225914466,
          4.127706796747366,
          0.5786649616347201,
          -0.3514332197545507,
          -0.686608693662917,
          -0.32996347055831343,
          -1.0996315605578586,
          -0.16890173154755467,
          0.18333849369048932
         ]
        }
       ],
       "layout": {
        "coloraxis": {
         "colorbar": {
          "title": {
           "text": "color"
          }
         },
         "colorscale": [
          [
           0,
           "#0d0887"
          ],
          [
           0.1111111111111111,
           "#46039f"
          ],
          [
           0.2222222222222222,
           "#7201a8"
          ],
          [
           0.3333333333333333,
           "#9c179e"
          ],
          [
           0.4444444444444444,
           "#bd3786"
          ],
          [
           0.5555555555555556,
           "#d8576b"
          ],
          [
           0.6666666666666666,
           "#ed7953"
          ],
          [
           0.7777777777777778,
           "#fb9f3a"
          ],
          [
           0.8888888888888888,
           "#fdca26"
          ],
          [
           1,
           "#f0f921"
          ]
         ]
        },
        "legend": {
         "tracegroupgap": 0
        },
        "margin": {
         "t": 60
        },
        "scene": {
         "domain": {
          "x": [
           0,
           1
          ],
          "y": [
           0,
           1
          ]
         },
         "xaxis": {
          "title": {
           "text": "x"
          }
         },
         "yaxis": {
          "title": {
           "text": "y"
          }
         },
         "zaxis": {
          "title": {
           "text": "z"
          }
         }
        },
        "template": {
         "data": {
          "bar": [
           {
            "error_x": {
             "color": "#2a3f5f"
            },
            "error_y": {
             "color": "#2a3f5f"
            },
            "marker": {
             "line": {
              "color": "#E5ECF6",
              "width": 0.5
             },
             "pattern": {
              "fillmode": "overlay",
              "size": 10,
              "solidity": 0.2
             }
            },
            "type": "bar"
           }
          ],
          "barpolar": [
           {
            "marker": {
             "line": {
              "color": "#E5ECF6",
              "width": 0.5
             },
             "pattern": {
              "fillmode": "overlay",
              "size": 10,
              "solidity": 0.2
             }
            },
            "type": "barpolar"
           }
          ],
          "carpet": [
           {
            "aaxis": {
             "endlinecolor": "#2a3f5f",
             "gridcolor": "white",
             "linecolor": "white",
             "minorgridcolor": "white",
             "startlinecolor": "#2a3f5f"
            },
            "baxis": {
             "endlinecolor": "#2a3f5f",
             "gridcolor": "white",
             "linecolor": "white",
             "minorgridcolor": "white",
             "startlinecolor": "#2a3f5f"
            },
            "type": "carpet"
           }
          ],
          "choropleth": [
           {
            "colorbar": {
             "outlinewidth": 0,
             "ticks": ""
            },
            "type": "choropleth"
           }
          ],
          "contour": [
           {
            "colorbar": {
             "outlinewidth": 0,
             "ticks": ""
            },
            "colorscale": [
             [
              0,
              "#0d0887"
             ],
             [
              0.1111111111111111,
              "#46039f"
             ],
             [
              0.2222222222222222,
              "#7201a8"
             ],
             [
              0.3333333333333333,
              "#9c179e"
             ],
             [
              0.4444444444444444,
              "#bd3786"
             ],
             [
              0.5555555555555556,
              "#d8576b"
             ],
             [
              0.6666666666666666,
              "#ed7953"
             ],
             [
              0.7777777777777778,
              "#fb9f3a"
             ],
             [
              0.8888888888888888,
              "#fdca26"
             ],
             [
              1,
              "#f0f921"
             ]
            ],
            "type": "contour"
           }
          ],
          "contourcarpet": [
           {
            "colorbar": {
             "outlinewidth": 0,
             "ticks": ""
            },
            "type": "contourcarpet"
           }
          ],
          "heatmap": [
           {
            "colorbar": {
             "outlinewidth": 0,
             "ticks": ""
            },
            "colorscale": [
             [
              0,
              "#0d0887"
             ],
             [
              0.1111111111111111,
              "#46039f"
             ],
             [
              0.2222222222222222,
              "#7201a8"
             ],
             [
              0.3333333333333333,
              "#9c179e"
             ],
             [
              0.4444444444444444,
              "#bd3786"
             ],
             [
              0.5555555555555556,
              "#d8576b"
             ],
             [
              0.6666666666666666,
              "#ed7953"
             ],
             [
              0.7777777777777778,
              "#fb9f3a"
             ],
             [
              0.8888888888888888,
              "#fdca26"
             ],
             [
              1,
              "#f0f921"
             ]
            ],
            "type": "heatmap"
           }
          ],
          "heatmapgl": [
           {
            "colorbar": {
             "outlinewidth": 0,
             "ticks": ""
            },
            "colorscale": [
             [
              0,
              "#0d0887"
             ],
             [
              0.1111111111111111,
              "#46039f"
             ],
             [
              0.2222222222222222,
              "#7201a8"
             ],
             [
              0.3333333333333333,
              "#9c179e"
             ],
             [
              0.4444444444444444,
              "#bd3786"
             ],
             [
              0.5555555555555556,
              "#d8576b"
             ],
             [
              0.6666666666666666,
              "#ed7953"
             ],
             [
              0.7777777777777778,
              "#fb9f3a"
             ],
             [
              0.8888888888888888,
              "#fdca26"
             ],
             [
              1,
              "#f0f921"
             ]
            ],
            "type": "heatmapgl"
           }
          ],
          "histogram": [
           {
            "marker": {
             "pattern": {
              "fillmode": "overlay",
              "size": 10,
              "solidity": 0.2
             }
            },
            "type": "histogram"
           }
          ],
          "histogram2d": [
           {
            "colorbar": {
             "outlinewidth": 0,
             "ticks": ""
            },
            "colorscale": [
             [
              0,
              "#0d0887"
             ],
             [
              0.1111111111111111,
              "#46039f"
             ],
             [
              0.2222222222222222,
              "#7201a8"
             ],
             [
              0.3333333333333333,
              "#9c179e"
             ],
             [
              0.4444444444444444,
              "#bd3786"
             ],
             [
              0.5555555555555556,
              "#d8576b"
             ],
             [
              0.6666666666666666,
              "#ed7953"
             ],
             [
              0.7777777777777778,
              "#fb9f3a"
             ],
             [
              0.8888888888888888,
              "#fdca26"
             ],
             [
              1,
              "#f0f921"
             ]
            ],
            "type": "histogram2d"
           }
          ],
          "histogram2dcontour": [
           {
            "colorbar": {
             "outlinewidth": 0,
             "ticks": ""
            },
            "colorscale": [
             [
              0,
              "#0d0887"
             ],
             [
              0.1111111111111111,
              "#46039f"
             ],
             [
              0.2222222222222222,
              "#7201a8"
             ],
             [
              0.3333333333333333,
              "#9c179e"
             ],
             [
              0.4444444444444444,
              "#bd3786"
             ],
             [
              0.5555555555555556,
              "#d8576b"
             ],
             [
              0.6666666666666666,
              "#ed7953"
             ],
             [
              0.7777777777777778,
              "#fb9f3a"
             ],
             [
              0.8888888888888888,
              "#fdca26"
             ],
             [
              1,
              "#f0f921"
             ]
            ],
            "type": "histogram2dcontour"
           }
          ],
          "mesh3d": [
           {
            "colorbar": {
             "outlinewidth": 0,
             "ticks": ""
            },
            "type": "mesh3d"
           }
          ],
          "parcoords": [
           {
            "line": {
             "colorbar": {
              "outlinewidth": 0,
              "ticks": ""
             }
            },
            "type": "parcoords"
           }
          ],
          "pie": [
           {
            "automargin": true,
            "type": "pie"
           }
          ],
          "scatter": [
           {
            "fillpattern": {
             "fillmode": "overlay",
             "size": 10,
             "solidity": 0.2
            },
            "type": "scatter"
           }
          ],
          "scatter3d": [
           {
            "line": {
             "colorbar": {
              "outlinewidth": 0,
              "ticks": ""
             }
            },
            "marker": {
             "colorbar": {
              "outlinewidth": 0,
              "ticks": ""
             }
            },
            "type": "scatter3d"
           }
          ],
          "scattercarpet": [
           {
            "marker": {
             "colorbar": {
              "outlinewidth": 0,
              "ticks": ""
             }
            },
            "type": "scattercarpet"
           }
          ],
          "scattergeo": [
           {
            "marker": {
             "colorbar": {
              "outlinewidth": 0,
              "ticks": ""
             }
            },
            "type": "scattergeo"
           }
          ],
          "scattergl": [
           {
            "marker": {
             "colorbar": {
              "outlinewidth": 0,
              "ticks": ""
             }
            },
            "type": "scattergl"
           }
          ],
          "scattermapbox": [
           {
            "marker": {
             "colorbar": {
              "outlinewidth": 0,
              "ticks": ""
             }
            },
            "type": "scattermapbox"
           }
          ],
          "scatterpolar": [
           {
            "marker": {
             "colorbar": {
              "outlinewidth": 0,
              "ticks": ""
             }
            },
            "type": "scatterpolar"
           }
          ],
          "scatterpolargl": [
           {
            "marker": {
             "colorbar": {
              "outlinewidth": 0,
              "ticks": ""
             }
            },
            "type": "scatterpolargl"
           }
          ],
          "scatterternary": [
           {
            "marker": {
             "colorbar": {
              "outlinewidth": 0,
              "ticks": ""
             }
            },
            "type": "scatterternary"
           }
          ],
          "surface": [
           {
            "colorbar": {
             "outlinewidth": 0,
             "ticks": ""
            },
            "colorscale": [
             [
              0,
              "#0d0887"
             ],
             [
              0.1111111111111111,
              "#46039f"
             ],
             [
              0.2222222222222222,
              "#7201a8"
             ],
             [
              0.3333333333333333,
              "#9c179e"
             ],
             [
              0.4444444444444444,
              "#bd3786"
             ],
             [
              0.5555555555555556,
              "#d8576b"
             ],
             [
              0.6666666666666666,
              "#ed7953"
             ],
             [
              0.7777777777777778,
              "#fb9f3a"
             ],
             [
              0.8888888888888888,
              "#fdca26"
             ],
             [
              1,
              "#f0f921"
             ]
            ],
            "type": "surface"
           }
          ],
          "table": [
           {
            "cells": {
             "fill": {
              "color": "#EBF0F8"
             },
             "line": {
              "color": "white"
             }
            },
            "header": {
             "fill": {
              "color": "#C8D4E3"
             },
             "line": {
              "color": "white"
             }
            },
            "type": "table"
           }
          ]
         },
         "layout": {
          "annotationdefaults": {
           "arrowcolor": "#2a3f5f",
           "arrowhead": 0,
           "arrowwidth": 1
          },
          "autotypenumbers": "strict",
          "coloraxis": {
           "colorbar": {
            "outlinewidth": 0,
            "ticks": ""
           }
          },
          "colorscale": {
           "diverging": [
            [
             0,
             "#8e0152"
            ],
            [
             0.1,
             "#c51b7d"
            ],
            [
             0.2,
             "#de77ae"
            ],
            [
             0.3,
             "#f1b6da"
            ],
            [
             0.4,
             "#fde0ef"
            ],
            [
             0.5,
             "#f7f7f7"
            ],
            [
             0.6,
             "#e6f5d0"
            ],
            [
             0.7,
             "#b8e186"
            ],
            [
             0.8,
             "#7fbc41"
            ],
            [
             0.9,
             "#4d9221"
            ],
            [
             1,
             "#276419"
            ]
           ],
           "sequential": [
            [
             0,
             "#0d0887"
            ],
            [
             0.1111111111111111,
             "#46039f"
            ],
            [
             0.2222222222222222,
             "#7201a8"
            ],
            [
             0.3333333333333333,
             "#9c179e"
            ],
            [
             0.4444444444444444,
             "#bd3786"
            ],
            [
             0.5555555555555556,
             "#d8576b"
            ],
            [
             0.6666666666666666,
             "#ed7953"
            ],
            [
             0.7777777777777778,
             "#fb9f3a"
            ],
            [
             0.8888888888888888,
             "#fdca26"
            ],
            [
             1,
             "#f0f921"
            ]
           ],
           "sequentialminus": [
            [
             0,
             "#0d0887"
            ],
            [
             0.1111111111111111,
             "#46039f"
            ],
            [
             0.2222222222222222,
             "#7201a8"
            ],
            [
             0.3333333333333333,
             "#9c179e"
            ],
            [
             0.4444444444444444,
             "#bd3786"
            ],
            [
             0.5555555555555556,
             "#d8576b"
            ],
            [
             0.6666666666666666,
             "#ed7953"
            ],
            [
             0.7777777777777778,
             "#fb9f3a"
            ],
            [
             0.8888888888888888,
             "#fdca26"
            ],
            [
             1,
             "#f0f921"
            ]
           ]
          },
          "colorway": [
           "#636efa",
           "#EF553B",
           "#00cc96",
           "#ab63fa",
           "#FFA15A",
           "#19d3f3",
           "#FF6692",
           "#B6E880",
           "#FF97FF",
           "#FECB52"
          ],
          "font": {
           "color": "#2a3f5f"
          },
          "geo": {
           "bgcolor": "white",
           "lakecolor": "white",
           "landcolor": "#E5ECF6",
           "showlakes": true,
           "showland": true,
           "subunitcolor": "white"
          },
          "hoverlabel": {
           "align": "left"
          },
          "hovermode": "closest",
          "mapbox": {
           "style": "light"
          },
          "paper_bgcolor": "white",
          "plot_bgcolor": "#E5ECF6",
          "polar": {
           "angularaxis": {
            "gridcolor": "white",
            "linecolor": "white",
            "ticks": ""
           },
           "bgcolor": "#E5ECF6",
           "radialaxis": {
            "gridcolor": "white",
            "linecolor": "white",
            "ticks": ""
           }
          },
          "scene": {
           "xaxis": {
            "backgroundcolor": "#E5ECF6",
            "gridcolor": "white",
            "gridwidth": 2,
            "linecolor": "white",
            "showbackground": true,
            "ticks": "",
            "zerolinecolor": "white"
           },
           "yaxis": {
            "backgroundcolor": "#E5ECF6",
            "gridcolor": "white",
            "gridwidth": 2,
            "linecolor": "white",
            "showbackground": true,
            "ticks": "",
            "zerolinecolor": "white"
           },
           "zaxis": {
            "backgroundcolor": "#E5ECF6",
            "gridcolor": "white",
            "gridwidth": 2,
            "linecolor": "white",
            "showbackground": true,
            "ticks": "",
            "zerolinecolor": "white"
           }
          },
          "shapedefaults": {
           "line": {
            "color": "#2a3f5f"
           }
          },
          "ternary": {
           "aaxis": {
            "gridcolor": "white",
            "linecolor": "white",
            "ticks": ""
           },
           "baxis": {
            "gridcolor": "white",
            "linecolor": "white",
            "ticks": ""
           },
           "bgcolor": "#E5ECF6",
           "caxis": {
            "gridcolor": "white",
            "linecolor": "white",
            "ticks": ""
           }
          },
          "title": {
           "x": 0.05
          },
          "xaxis": {
           "automargin": true,
           "gridcolor": "white",
           "linecolor": "white",
           "ticks": "",
           "title": {
            "standoff": 15
           },
           "zerolinecolor": "white",
           "zerolinewidth": 2
          },
          "yaxis": {
           "automargin": true,
           "gridcolor": "white",
           "linecolor": "white",
           "ticks": "",
           "title": {
            "standoff": 15
           },
           "zerolinecolor": "white",
           "zerolinewidth": 2
          }
         }
        }
       }
      }
     },
     "metadata": {},
     "output_type": "display_data"
    }
   ],
   "source": [
    "data_raw[\"PC1\"] = data_pca[\"PC1\"]\n",
    "data_raw[\"PC2\"] = data_pca[\"PC2\"]\n",
    "data_raw[\"PC3\"] = data_pca[\"PC3\"]\n",
    "data_raw[\"PC4\"] = data_pca[\"PC4\"]\n",
    "countries = data_raw.index.tolist()\n",
    "fig = px.scatter_3d(x=data_raw.PC1, y=data_raw.PC2, z=data_raw.PC3, color=data_raw.cluster, opacity=0.7)\n",
    "fig.update_traces(mode=\"markers\", hovertemplate=countries)\n",
    "fig.show()"
   ]
  },
  {
   "attachments": {},
   "cell_type": "markdown",
   "metadata": {},
   "source": [
    "## Cluster evaluation"
   ]
  },
  {
   "cell_type": "code",
   "execution_count": 14,
   "metadata": {},
   "outputs": [],
   "source": [
    "from statistics import mean\n",
    "\n",
    "def dist(p1: list, p2: list):\n",
    "    \"\"\"Calculates the Euclidean distance between two points in n-dimensional space\"\"\"\n",
    "    return np.sqrt(np.sum([(p1[i] - p2[i])**2 for i in range(len(p1))]))\n",
    "\n",
    "\n",
    "def calculate_centroid(cluster_df: pd.DataFrame) -> list:\n",
    "    \"\"\"Return the centroid of a cluster as a list\"\"\"\n",
    "    return cluster_df.describe().loc['mean']\n",
    "\n",
    "\n",
    "def split_in_clusters(cluster_df: pd.DataFrame) -> list:\n",
    "    cluster_list = [] # a list to hold each cluster as a DataFrame\n",
    "    for i in range(len(cluster_df.cluster.unique())):\n",
    "        cluster_list.append(cluster_df.loc[cluster_df['cluster'] == i])\n",
    "    return cluster_list\n",
    "\n",
    "\n",
    "def intra_cluster_variance(cluster_df: pd.DataFrame) -> float:  \n",
    "    cluster_list = split_in_clusters(cluster_df)\n",
    "    \n",
    "    # calculate centroid in each cluster\n",
    "    cluster_centroids = [calculate_centroid(cluster) for cluster in cluster_list]\n",
    "    \n",
    "    # calculate intra variance in each cluster and store in list\n",
    "    cluster_intra_variance = []\n",
    "    for (cluster, centroid) in zip(cluster_list, cluster_centroids):\n",
    "        cluster_intra_variance.append(sum([dist(instance, centroid) for instance in cluster.values.tolist()]))\n",
    "    \n",
    "    return cluster_list, cluster_intra_variance\n",
    "\n",
    "\n"
   ]
  },
  {
   "attachments": {},
   "cell_type": "markdown",
   "metadata": {},
   "source": [
    "## Cluster intra variance mean for different cluster numbers in range <1,10>"
   ]
  },
  {
   "cell_type": "code",
   "execution_count": 15,
   "metadata": {},
   "outputs": [
    {
     "name": "stdout",
     "output_type": "stream",
     "text": [
      "Cluster num = 1, cluster_intra_variance mean = 298.6672195432444\n",
      "Cluster num = 2, cluster_intra_variance mean = 130.39692811673422\n",
      "Cluster num = 3, cluster_intra_variance mean = 76.32430694197564\n",
      "Cluster num = 4, cluster_intra_variance mean = 53.84449395488293\n",
      "Cluster num = 5, cluster_intra_variance mean = 39.51268605222882\n",
      "Cluster num = 6, cluster_intra_variance mean = 31.149988795892277\n",
      "Cluster num = 7, cluster_intra_variance mean = 25.393457149920206\n",
      "Cluster num = 8, cluster_intra_variance mean = 20.78889509651215\n",
      "Cluster num = 9, cluster_intra_variance mean = 17.770964895929247\n",
      "Cluster num = 10, cluster_intra_variance mean = 15.223387689518987\n"
     ]
    }
   ],
   "source": [
    "cluster_intra_variance_list = []\n",
    "for i in range(1, 11, 1):\n",
    "    data_pca = apply_hierarchical_clustering(data_pca, i)\n",
    "\n",
    "    cluster_list, cluster_intra_variance = intra_cluster_variance(data_pca)\n",
    "    cluster_intra_variance_list.append(mean(cluster_intra_variance))\n",
    "    print(f\"Cluster num = {i}, cluster_intra_variance mean = {mean(cluster_intra_variance)}\")"
   ]
  },
  {
   "attachments": {},
   "cell_type": "markdown",
   "metadata": {},
   "source": [
    "## Cluster intra variance mean plotted"
   ]
  },
  {
   "cell_type": "code",
   "execution_count": 16,
   "metadata": {},
   "outputs": [
    {
     "data": {
      "image/png": "[encoded data removed]",
      "text/plain": [
       "<Figure size 640x480 with 1 Axes>"
      ]
     },
     "metadata": {},
     "output_type": "display_data"
    }
   ],
   "source": [
    "cluster_intra_variance_mean_list = np.array(cluster_intra_variance_list)\n",
    "plt.plot(cluster_intra_variance_mean_list)\n",
    "plt.xticks(np.arange(len(cluster_intra_variance_mean_list)), np.arange(1, len(cluster_intra_variance_mean_list)+1))\n",
    "plt.show()"
   ]
  },
  {
   "attachments": {},
   "cell_type": "markdown",
   "metadata": {},
   "source": [
    "# Plot country clusters on map"
   ]
  },
  {
   "cell_type": "code",
   "execution_count": 17,
   "metadata": {},
   "outputs": [],
   "source": [
    "import geopandas\n",
    "import folium\n",
    "from datetime import datetime\n",
    "from scripts import create_map_plot\n",
    "\n",
    "data_pca = apply_hierarchical_clustering(data_pca, 5)\n",
    "data_pca[\"name\"] = data_pca.index\n",
    "\n",
    "create_map_plot(data_pca, \"../out/Kamil\")"
   ]
  }
 ],
 "metadata": {
  "kernelspec": {
   "display_name": "Python 3",
   "language": "python",
   "name": "python3"
  },
  "language_info": {
   "codemirror_mode": {
    "name": "ipython",
    "version": 3
   },
   "file_extension": ".py",
   "mimetype": "text/x-python",
   "name": "python",
   "nbconvert_exporter": "python",
   "pygments_lexer": "ipython3",
   "version": "3.11.1"
  },
  "orig_nbformat": 4,
  "vscode": {
   "interpreter": {
    "hash": "aee8b7b246df8f9039afb4144a1f6fd8d2ca17a180786b69acc140d282b71a49"
   }
  }
 },
 "nbformat": 4,
 "nbformat_minor": 2
}
