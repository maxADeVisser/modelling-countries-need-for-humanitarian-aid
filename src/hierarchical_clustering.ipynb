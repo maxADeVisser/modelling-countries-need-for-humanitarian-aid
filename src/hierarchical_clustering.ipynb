{
 "cells": [
  {
   "attachments": {},
   "cell_type": "markdown",
   "metadata": {},
   "source": [
    "# Hierarchical clustering notebook"
   ]
  },
  {
   "attachments": {},
   "cell_type": "markdown",
   "metadata": {},
   "source": [
    "The hierarchical clustering has 2 approaches. It can be either 'Agglomerative' or 'Divisive'. In aglomerative approach you start with as many clusters as countries and you iteratively merge the most similar clusters into bigger ones. In divisive approach everything is in one big cluster at the beginning and you iteratively exclude from the cluster the countries that are very different from all others and you create clusters out of them.\n",
    "\n",
    "For our approach aglomerative approach seems like a best option."
   ]
  },
  {
   "cell_type": "code",
   "execution_count": 1,
   "metadata": {},
   "outputs": [],
   "source": [
    "import numpy as np\n",
    "import matplotlib.pyplot as plt\n",
    "import pandas as pd\n",
    "from sklearn.preprocessing import MinMaxScaler\n",
    "import scipy.cluster.hierarchy as sch\n",
    "from sklearn.cluster import AgglomerativeClustering\n",
    "import plotly.express as px"
   ]
  },
  {
   "cell_type": "code",
   "execution_count": 2,
   "metadata": {},
   "outputs": [],
   "source": [
    "data_pca = pd.read_csv('../data/country-data-pca.csv')\n",
    "data_raw = pd.read_csv('../data/country-data.csv')"
   ]
  },
  {
   "cell_type": "code",
   "execution_count": 3,
   "metadata": {},
   "outputs": [
    {
     "data": {
      "text/html": [
       "<div>\n",
       "<style scoped>\n",
       "    .dataframe tbody tr th:only-of-type {\n",
       "        vertical-align: middle;\n",
       "    }\n",
       "\n",
       "    .dataframe tbody tr th {\n",
       "        vertical-align: top;\n",
       "    }\n",
       "\n",
       "    .dataframe thead th {\n",
       "        text-align: right;\n",
       "    }\n",
       "</style>\n",
       "<table border=\"1\" class=\"dataframe\">\n",
       "  <thead>\n",
       "    <tr style=\"text-align: right;\">\n",
       "      <th></th>\n",
       "      <th>country</th>\n",
       "      <th>PC1</th>\n",
       "      <th>PC2</th>\n",
       "      <th>PC3</th>\n",
       "      <th>PC4</th>\n",
       "    </tr>\n",
       "  </thead>\n",
       "  <tbody>\n",
       "    <tr>\n",
       "      <th>0</th>\n",
       "      <td>Afghanistan</td>\n",
       "      <td>-0.599078</td>\n",
       "      <td>0.095490</td>\n",
       "      <td>0.157554</td>\n",
       "      <td>-0.024333</td>\n",
       "    </tr>\n",
       "    <tr>\n",
       "      <th>1</th>\n",
       "      <td>Albania</td>\n",
       "      <td>0.158474</td>\n",
       "      <td>-0.212092</td>\n",
       "      <td>-0.064189</td>\n",
       "      <td>-0.061247</td>\n",
       "    </tr>\n",
       "    <tr>\n",
       "      <th>2</th>\n",
       "      <td>Algeria</td>\n",
       "      <td>0.003686</td>\n",
       "      <td>-0.135867</td>\n",
       "      <td>-0.134182</td>\n",
       "      <td>0.133574</td>\n",
       "    </tr>\n",
       "    <tr>\n",
       "      <th>3</th>\n",
       "      <td>Angola</td>\n",
       "      <td>-0.650235</td>\n",
       "      <td>0.275975</td>\n",
       "      <td>-0.142672</td>\n",
       "      <td>0.156018</td>\n",
       "    </tr>\n",
       "    <tr>\n",
       "      <th>4</th>\n",
       "      <td>Antigua and Barbuda</td>\n",
       "      <td>0.200711</td>\n",
       "      <td>-0.064662</td>\n",
       "      <td>-0.100715</td>\n",
       "      <td>-0.037902</td>\n",
       "    </tr>\n",
       "  </tbody>\n",
       "</table>\n",
       "</div>"
      ],
      "text/plain": [
       "               country       PC1       PC2       PC3       PC4\n",
       "0          Afghanistan -0.599078  0.095490  0.157554 -0.024333\n",
       "1              Albania  0.158474 -0.212092 -0.064189 -0.061247\n",
       "2              Algeria  0.003686 -0.135867 -0.134182  0.133574\n",
       "3               Angola -0.650235  0.275975 -0.142672  0.156018\n",
       "4  Antigua and Barbuda  0.200711 -0.064662 -0.100715 -0.037902"
      ]
     },
     "execution_count": 3,
     "metadata": {},
     "output_type": "execute_result"
    }
   ],
   "source": [
    "data_pca.head()"
   ]
  },
  {
   "cell_type": "code",
   "execution_count": 4,
   "metadata": {},
   "outputs": [
    {
     "data": {
      "text/html": [
       "<div>\n",
       "<style scoped>\n",
       "    .dataframe tbody tr th:only-of-type {\n",
       "        vertical-align: middle;\n",
       "    }\n",
       "\n",
       "    .dataframe tbody tr th {\n",
       "        vertical-align: top;\n",
       "    }\n",
       "\n",
       "    .dataframe thead th {\n",
       "        text-align: right;\n",
       "    }\n",
       "</style>\n",
       "<table border=\"1\" class=\"dataframe\">\n",
       "  <thead>\n",
       "    <tr style=\"text-align: right;\">\n",
       "      <th></th>\n",
       "      <th>country</th>\n",
       "      <th>child_mort</th>\n",
       "      <th>exports</th>\n",
       "      <th>health</th>\n",
       "      <th>imports</th>\n",
       "      <th>income</th>\n",
       "      <th>inflation</th>\n",
       "      <th>life_expec</th>\n",
       "      <th>total_fer</th>\n",
       "      <th>gdpp</th>\n",
       "    </tr>\n",
       "  </thead>\n",
       "  <tbody>\n",
       "    <tr>\n",
       "      <th>0</th>\n",
       "      <td>Afghanistan</td>\n",
       "      <td>90.2</td>\n",
       "      <td>10.0</td>\n",
       "      <td>7.58</td>\n",
       "      <td>44.9</td>\n",
       "      <td>1610</td>\n",
       "      <td>9.44</td>\n",
       "      <td>56.2</td>\n",
       "      <td>5.82</td>\n",
       "      <td>553</td>\n",
       "    </tr>\n",
       "    <tr>\n",
       "      <th>1</th>\n",
       "      <td>Albania</td>\n",
       "      <td>16.6</td>\n",
       "      <td>28.0</td>\n",
       "      <td>6.55</td>\n",
       "      <td>48.6</td>\n",
       "      <td>9930</td>\n",
       "      <td>4.49</td>\n",
       "      <td>76.3</td>\n",
       "      <td>1.65</td>\n",
       "      <td>4090</td>\n",
       "    </tr>\n",
       "    <tr>\n",
       "      <th>2</th>\n",
       "      <td>Algeria</td>\n",
       "      <td>27.3</td>\n",
       "      <td>38.4</td>\n",
       "      <td>4.17</td>\n",
       "      <td>31.4</td>\n",
       "      <td>12900</td>\n",
       "      <td>16.10</td>\n",
       "      <td>76.5</td>\n",
       "      <td>2.89</td>\n",
       "      <td>4460</td>\n",
       "    </tr>\n",
       "    <tr>\n",
       "      <th>3</th>\n",
       "      <td>Angola</td>\n",
       "      <td>119.0</td>\n",
       "      <td>62.3</td>\n",
       "      <td>2.85</td>\n",
       "      <td>42.9</td>\n",
       "      <td>5900</td>\n",
       "      <td>22.40</td>\n",
       "      <td>60.1</td>\n",
       "      <td>6.16</td>\n",
       "      <td>3530</td>\n",
       "    </tr>\n",
       "    <tr>\n",
       "      <th>4</th>\n",
       "      <td>Antigua and Barbuda</td>\n",
       "      <td>10.3</td>\n",
       "      <td>45.5</td>\n",
       "      <td>6.03</td>\n",
       "      <td>58.9</td>\n",
       "      <td>19100</td>\n",
       "      <td>1.44</td>\n",
       "      <td>76.8</td>\n",
       "      <td>2.13</td>\n",
       "      <td>12200</td>\n",
       "    </tr>\n",
       "  </tbody>\n",
       "</table>\n",
       "</div>"
      ],
      "text/plain": [
       "               country  child_mort  exports  health  imports  income  \\\n",
       "0          Afghanistan        90.2     10.0    7.58     44.9    1610   \n",
       "1              Albania        16.6     28.0    6.55     48.6    9930   \n",
       "2              Algeria        27.3     38.4    4.17     31.4   12900   \n",
       "3               Angola       119.0     62.3    2.85     42.9    5900   \n",
       "4  Antigua and Barbuda        10.3     45.5    6.03     58.9   19100   \n",
       "\n",
       "   inflation  life_expec  total_fer   gdpp  \n",
       "0       9.44        56.2       5.82    553  \n",
       "1       4.49        76.3       1.65   4090  \n",
       "2      16.10        76.5       2.89   4460  \n",
       "3      22.40        60.1       6.16   3530  \n",
       "4       1.44        76.8       2.13  12200  "
      ]
     },
     "execution_count": 4,
     "metadata": {},
     "output_type": "execute_result"
    }
   ],
   "source": [
    "data_raw.head()"
   ]
  },
  {
   "attachments": {},
   "cell_type": "markdown",
   "metadata": {},
   "source": [
    "Because hierarchical clustering, like many other algorithms in machine learning, is distance-based (Euclidean distance) we need to rescale the attriutes to the same range"
   ]
  },
  {
   "cell_type": "code",
   "execution_count": 5,
   "metadata": {},
   "outputs": [
    {
     "data": {
      "text/html": [
       "<div>\n",
       "<style scoped>\n",
       "    .dataframe tbody tr th:only-of-type {\n",
       "        vertical-align: middle;\n",
       "    }\n",
       "\n",
       "    .dataframe tbody tr th {\n",
       "        vertical-align: top;\n",
       "    }\n",
       "\n",
       "    .dataframe thead th {\n",
       "        text-align: right;\n",
       "    }\n",
       "</style>\n",
       "<table border=\"1\" class=\"dataframe\">\n",
       "  <thead>\n",
       "    <tr style=\"text-align: right;\">\n",
       "      <th></th>\n",
       "      <th>PC1</th>\n",
       "      <th>PC2</th>\n",
       "      <th>PC3</th>\n",
       "      <th>PC4</th>\n",
       "    </tr>\n",
       "    <tr>\n",
       "      <th>country</th>\n",
       "      <th></th>\n",
       "      <th></th>\n",
       "      <th></th>\n",
       "      <th></th>\n",
       "    </tr>\n",
       "  </thead>\n",
       "  <tbody>\n",
       "    <tr>\n",
       "      <th>Afghanistan</th>\n",
       "      <td>0.133493</td>\n",
       "      <td>0.295094</td>\n",
       "      <td>0.568904</td>\n",
       "      <td>0.396766</td>\n",
       "    </tr>\n",
       "    <tr>\n",
       "      <th>Albania</th>\n",
       "      <td>0.559640</td>\n",
       "      <td>0.064785</td>\n",
       "      <td>0.402753</td>\n",
       "      <td>0.366430</td>\n",
       "    </tr>\n",
       "    <tr>\n",
       "      <th>Algeria</th>\n",
       "      <td>0.472566</td>\n",
       "      <td>0.121860</td>\n",
       "      <td>0.350308</td>\n",
       "      <td>0.526529</td>\n",
       "    </tr>\n",
       "    <tr>\n",
       "      <th>Angola</th>\n",
       "      <td>0.104716</td>\n",
       "      <td>0.430237</td>\n",
       "      <td>0.343946</td>\n",
       "      <td>0.544973</td>\n",
       "    </tr>\n",
       "    <tr>\n",
       "      <th>Antigua and Barbuda</th>\n",
       "      <td>0.583399</td>\n",
       "      <td>0.175177</td>\n",
       "      <td>0.375384</td>\n",
       "      <td>0.385615</td>\n",
       "    </tr>\n",
       "    <tr>\n",
       "      <th>...</th>\n",
       "      <td>...</td>\n",
       "      <td>...</td>\n",
       "      <td>...</td>\n",
       "      <td>...</td>\n",
       "    </tr>\n",
       "    <tr>\n",
       "      <th>Vanuatu</th>\n",
       "      <td>0.380444</td>\n",
       "      <td>0.201412</td>\n",
       "      <td>0.359503</td>\n",
       "      <td>0.362443</td>\n",
       "    </tr>\n",
       "    <tr>\n",
       "      <th>Venezuela</th>\n",
       "      <td>0.504882</td>\n",
       "      <td>0.095300</td>\n",
       "      <td>0.406951</td>\n",
       "      <td>0.620117</td>\n",
       "    </tr>\n",
       "    <tr>\n",
       "      <th>Vietnam</th>\n",
       "      <td>0.535472</td>\n",
       "      <td>0.199608</td>\n",
       "      <td>0.304555</td>\n",
       "      <td>0.226116</td>\n",
       "    </tr>\n",
       "    <tr>\n",
       "      <th>Yemen</th>\n",
       "      <td>0.283188</td>\n",
       "      <td>0.208750</td>\n",
       "      <td>0.428379</td>\n",
       "      <td>0.503389</td>\n",
       "    </tr>\n",
       "    <tr>\n",
       "      <th>Zambia</th>\n",
       "      <td>0.147658</td>\n",
       "      <td>0.305052</td>\n",
       "      <td>0.475241</td>\n",
       "      <td>0.453609</td>\n",
       "    </tr>\n",
       "  </tbody>\n",
       "</table>\n",
       "<p>167 rows × 4 columns</p>\n",
       "</div>"
      ],
      "text/plain": [
       "                          PC1       PC2       PC3       PC4\n",
       "country                                                    \n",
       "Afghanistan          0.133493  0.295094  0.568904  0.396766\n",
       "Albania              0.559640  0.064785  0.402753  0.366430\n",
       "Algeria              0.472566  0.121860  0.350308  0.526529\n",
       "Angola               0.104716  0.430237  0.343946  0.544973\n",
       "Antigua and Barbuda  0.583399  0.175177  0.375384  0.385615\n",
       "...                       ...       ...       ...       ...\n",
       "Vanuatu              0.380444  0.201412  0.359503  0.362443\n",
       "Venezuela            0.504882  0.095300  0.406951  0.620117\n",
       "Vietnam              0.535472  0.199608  0.304555  0.226116\n",
       "Yemen                0.283188  0.208750  0.428379  0.503389\n",
       "Zambia               0.147658  0.305052  0.475241  0.453609\n",
       "\n",
       "[167 rows x 4 columns]"
      ]
     },
     "execution_count": 5,
     "metadata": {},
     "output_type": "execute_result"
    }
   ],
   "source": [
    "countries = data_pca.country\n",
    "data_pca.drop(columns=[\"country\"], inplace=True)\n",
    "columns = data_pca.columns\n",
    "scaler = MinMaxScaler()\n",
    "scaled_data_pca = scaler.fit_transform(data_pca) # numpy array\n",
    "data_pca = pd.DataFrame(scaled_data_pca, columns=columns)\n",
    "data_pca.index = countries\n",
    "data_pca"
   ]
  },
  {
   "cell_type": "code",
   "execution_count": 6,
   "metadata": {},
   "outputs": [
    {
     "data": {
      "text/html": [
       "<div>\n",
       "<style scoped>\n",
       "    .dataframe tbody tr th:only-of-type {\n",
       "        vertical-align: middle;\n",
       "    }\n",
       "\n",
       "    .dataframe tbody tr th {\n",
       "        vertical-align: top;\n",
       "    }\n",
       "\n",
       "    .dataframe thead th {\n",
       "        text-align: right;\n",
       "    }\n",
       "</style>\n",
       "<table border=\"1\" class=\"dataframe\">\n",
       "  <thead>\n",
       "    <tr style=\"text-align: right;\">\n",
       "      <th></th>\n",
       "      <th>child_mort</th>\n",
       "      <th>exports</th>\n",
       "      <th>health</th>\n",
       "      <th>imports</th>\n",
       "      <th>income</th>\n",
       "      <th>inflation</th>\n",
       "      <th>life_expec</th>\n",
       "      <th>total_fer</th>\n",
       "      <th>gdpp</th>\n",
       "    </tr>\n",
       "    <tr>\n",
       "      <th>country</th>\n",
       "      <th></th>\n",
       "      <th></th>\n",
       "      <th></th>\n",
       "      <th></th>\n",
       "      <th></th>\n",
       "      <th></th>\n",
       "      <th></th>\n",
       "      <th></th>\n",
       "      <th></th>\n",
       "    </tr>\n",
       "  </thead>\n",
       "  <tbody>\n",
       "    <tr>\n",
       "      <th>Afghanistan</th>\n",
       "      <td>0.426485</td>\n",
       "      <td>0.049482</td>\n",
       "      <td>0.358608</td>\n",
       "      <td>0.257765</td>\n",
       "      <td>0.008047</td>\n",
       "      <td>0.126144</td>\n",
       "      <td>0.475345</td>\n",
       "      <td>0.736593</td>\n",
       "      <td>0.003073</td>\n",
       "    </tr>\n",
       "    <tr>\n",
       "      <th>Albania</th>\n",
       "      <td>0.068160</td>\n",
       "      <td>0.139531</td>\n",
       "      <td>0.294593</td>\n",
       "      <td>0.279037</td>\n",
       "      <td>0.074933</td>\n",
       "      <td>0.080399</td>\n",
       "      <td>0.871795</td>\n",
       "      <td>0.078864</td>\n",
       "      <td>0.036833</td>\n",
       "    </tr>\n",
       "    <tr>\n",
       "      <th>Algeria</th>\n",
       "      <td>0.120253</td>\n",
       "      <td>0.191559</td>\n",
       "      <td>0.146675</td>\n",
       "      <td>0.180149</td>\n",
       "      <td>0.098809</td>\n",
       "      <td>0.187691</td>\n",
       "      <td>0.875740</td>\n",
       "      <td>0.274448</td>\n",
       "      <td>0.040365</td>\n",
       "    </tr>\n",
       "    <tr>\n",
       "      <th>Angola</th>\n",
       "      <td>0.566699</td>\n",
       "      <td>0.311125</td>\n",
       "      <td>0.064636</td>\n",
       "      <td>0.246266</td>\n",
       "      <td>0.042535</td>\n",
       "      <td>0.245911</td>\n",
       "      <td>0.552268</td>\n",
       "      <td>0.790221</td>\n",
       "      <td>0.031488</td>\n",
       "    </tr>\n",
       "    <tr>\n",
       "      <th>Antigua and Barbuda</th>\n",
       "      <td>0.037488</td>\n",
       "      <td>0.227079</td>\n",
       "      <td>0.262275</td>\n",
       "      <td>0.338255</td>\n",
       "      <td>0.148652</td>\n",
       "      <td>0.052213</td>\n",
       "      <td>0.881657</td>\n",
       "      <td>0.154574</td>\n",
       "      <td>0.114242</td>\n",
       "    </tr>\n",
       "    <tr>\n",
       "      <th>...</th>\n",
       "      <td>...</td>\n",
       "      <td>...</td>\n",
       "      <td>...</td>\n",
       "      <td>...</td>\n",
       "      <td>...</td>\n",
       "      <td>...</td>\n",
       "      <td>...</td>\n",
       "      <td>...</td>\n",
       "      <td>...</td>\n",
       "    </tr>\n",
       "    <tr>\n",
       "      <th>Vanuatu</th>\n",
       "      <td>0.129503</td>\n",
       "      <td>0.232582</td>\n",
       "      <td>0.213797</td>\n",
       "      <td>0.302609</td>\n",
       "      <td>0.018820</td>\n",
       "      <td>0.063118</td>\n",
       "      <td>0.609467</td>\n",
       "      <td>0.370662</td>\n",
       "      <td>0.026143</td>\n",
       "    </tr>\n",
       "    <tr>\n",
       "      <th>Venezuela</th>\n",
       "      <td>0.070594</td>\n",
       "      <td>0.142032</td>\n",
       "      <td>0.192666</td>\n",
       "      <td>0.100809</td>\n",
       "      <td>0.127750</td>\n",
       "      <td>0.463081</td>\n",
       "      <td>0.854043</td>\n",
       "      <td>0.208202</td>\n",
       "      <td>0.126650</td>\n",
       "    </tr>\n",
       "    <tr>\n",
       "      <th>Vietnam</th>\n",
       "      <td>0.100779</td>\n",
       "      <td>0.359651</td>\n",
       "      <td>0.312617</td>\n",
       "      <td>0.460715</td>\n",
       "      <td>0.031200</td>\n",
       "      <td>0.150725</td>\n",
       "      <td>0.808679</td>\n",
       "      <td>0.126183</td>\n",
       "      <td>0.010299</td>\n",
       "    </tr>\n",
       "    <tr>\n",
       "      <th>Yemen</th>\n",
       "      <td>0.261441</td>\n",
       "      <td>0.149536</td>\n",
       "      <td>0.209447</td>\n",
       "      <td>0.197397</td>\n",
       "      <td>0.031120</td>\n",
       "      <td>0.257000</td>\n",
       "      <td>0.698225</td>\n",
       "      <td>0.555205</td>\n",
       "      <td>0.010299</td>\n",
       "    </tr>\n",
       "    <tr>\n",
       "      <th>Zambia</th>\n",
       "      <td>0.391918</td>\n",
       "      <td>0.184556</td>\n",
       "      <td>0.253574</td>\n",
       "      <td>0.177275</td>\n",
       "      <td>0.021473</td>\n",
       "      <td>0.168284</td>\n",
       "      <td>0.392505</td>\n",
       "      <td>0.670347</td>\n",
       "      <td>0.011731</td>\n",
       "    </tr>\n",
       "  </tbody>\n",
       "</table>\n",
       "<p>167 rows × 9 columns</p>\n",
       "</div>"
      ],
      "text/plain": [
       "                     child_mort   exports    health   imports    income  \\\n",
       "country                                                                   \n",
       "Afghanistan            0.426485  0.049482  0.358608  0.257765  0.008047   \n",
       "Albania                0.068160  0.139531  0.294593  0.279037  0.074933   \n",
       "Algeria                0.120253  0.191559  0.146675  0.180149  0.098809   \n",
       "Angola                 0.566699  0.311125  0.064636  0.246266  0.042535   \n",
       "Antigua and Barbuda    0.037488  0.227079  0.262275  0.338255  0.148652   \n",
       "...                         ...       ...       ...       ...       ...   \n",
       "Vanuatu                0.129503  0.232582  0.213797  0.302609  0.018820   \n",
       "Venezuela              0.070594  0.142032  0.192666  0.100809  0.127750   \n",
       "Vietnam                0.100779  0.359651  0.312617  0.460715  0.031200   \n",
       "Yemen                  0.261441  0.149536  0.209447  0.197397  0.031120   \n",
       "Zambia                 0.391918  0.184556  0.253574  0.177275  0.021473   \n",
       "\n",
       "                     inflation  life_expec  total_fer      gdpp  \n",
       "country                                                          \n",
       "Afghanistan           0.126144    0.475345   0.736593  0.003073  \n",
       "Albania               0.080399    0.871795   0.078864  0.036833  \n",
       "Algeria               0.187691    0.875740   0.274448  0.040365  \n",
       "Angola                0.245911    0.552268   0.790221  0.031488  \n",
       "Antigua and Barbuda   0.052213    0.881657   0.154574  0.114242  \n",
       "...                        ...         ...        ...       ...  \n",
       "Vanuatu               0.063118    0.609467   0.370662  0.026143  \n",
       "Venezuela             0.463081    0.854043   0.208202  0.126650  \n",
       "Vietnam               0.150725    0.808679   0.126183  0.010299  \n",
       "Yemen                 0.257000    0.698225   0.555205  0.010299  \n",
       "Zambia                0.168284    0.392505   0.670347  0.011731  \n",
       "\n",
       "[167 rows x 9 columns]"
      ]
     },
     "execution_count": 6,
     "metadata": {},
     "output_type": "execute_result"
    }
   ],
   "source": [
    "countries = data_raw.country\n",
    "data_raw.drop(columns=[\"country\"], inplace=True)\n",
    "columns = data_raw.columns\n",
    "scaler = MinMaxScaler()\n",
    "scaled_data_raw = scaler.fit_transform(data_raw) # numpy array\n",
    "data_raw = pd.DataFrame(scaled_data_raw, columns=columns)\n",
    "data_raw.index = countries\n",
    "data_raw"
   ]
  },
  {
   "attachments": {},
   "cell_type": "markdown",
   "metadata": {},
   "source": [
    "# Dendrograms"
   ]
  },
  {
   "attachments": {},
   "cell_type": "markdown",
   "metadata": {},
   "source": [
    "## PCA"
   ]
  },
  {
   "cell_type": "code",
   "execution_count": 7,
   "metadata": {},
   "outputs": [
    {
     "data": {
      "image/png": "[encoded data removed]",
      "text/plain": [
       "<Figure size 640x480 with 1 Axes>"
      ]
     },
     "metadata": {},
     "output_type": "display_data"
    }
   ],
   "source": [
    "dendrogram = sch.dendrogram(sch.linkage(data_pca, method = 'ward')) # finding the optimal number of clusters using dendrogram\n",
    "plt.title('Dendrogram PCA') # title of the dendrogram\n",
    "plt.xlabel('Country') # label of the x-axis\n",
    "plt.ylabel('Euclidean distances') # label of the y-axis\n",
    "plt.xticks([])\n",
    "plt.show()"
   ]
  },
  {
   "attachments": {},
   "cell_type": "markdown",
   "metadata": {},
   "source": [
    "## RAW"
   ]
  },
  {
   "cell_type": "code",
   "execution_count": 8,
   "metadata": {},
   "outputs": [
    {
     "data": {
      "image/png": "[encoded data removed]",
      "text/plain": [
       "<Figure size 640x480 with 1 Axes>"
      ]
     },
     "metadata": {},
     "output_type": "display_data"
    }
   ],
   "source": [
    "dendrogram = sch.dendrogram(sch.linkage(data_raw, method = 'ward')) # finding the optimal number of clusters using dendrogram\n",
    "plt.title('Dendrogram Raw') # title of the dendrogram\n",
    "plt.xlabel('Country') # label of the x-axis\n",
    "plt.ylabel('Euclidean distances') # label of the y-axis\n",
    "plt.xticks([])\n",
    "plt.show()"
   ]
  },
  {
   "attachments": {},
   "cell_type": "markdown",
   "metadata": {},
   "source": [
    "Considering the dendrogram above, the optimal number of clusters can be determined as follows; hypothetically, extrapolate all the horizontal lines across the entire dendrogram and then find the longest vertical line that does not cross those hypothetical lines.\n",
    "\n",
    "Across that longest line, establish a threshold. The number of clusters we can optimally cluster our data equals the count of euclidean distances (vertical lines) the established threshold cuts across.\n",
    "\n",
    "Knowing the optimal number our data should cluster into; we can now train our clustering model to achieve this goal."
   ]
  },
  {
   "cell_type": "code",
   "execution_count": 9,
   "metadata": {},
   "outputs": [],
   "source": [
    "agg_hc_pca = AgglomerativeClustering(n_clusters=5, affinity='euclidean', linkage='ward')\n",
    "y_hc_pca = agg_hc_pca.fit_predict(data_pca)\n",
    "data_pca[\"cluster_pca\"] = y_hc_pca"
   ]
  },
  {
   "cell_type": "code",
   "execution_count": 10,
   "metadata": {},
   "outputs": [],
   "source": [
    "agg_hc_raw = AgglomerativeClustering(n_clusters=5, affinity='euclidean', linkage='ward')\n",
    "y_hc_raw = agg_hc_raw.fit_predict(data_raw)\n",
    "data_raw[\"cluster_raw\"] = y_hc_raw"
   ]
  },
  {
   "cell_type": "code",
   "execution_count": 11,
   "metadata": {},
   "outputs": [],
   "source": [
    "#fig = px.scatter(x=data.PC1, y=data.PC2, color=data.cluster, opacity=0.7)\n",
    "#fig.update_traces(mode=\"markers\", hovertemplate=countries)\n",
    "#fig.show()"
   ]
  },
  {
   "attachments": {},
   "cell_type": "markdown",
   "metadata": {},
   "source": [
    "## PCA clusters visualisation"
   ]
  },
  {
   "cell_type": "code",
   "execution_count": 12,
   "metadata": {},
   "outputs": [
    {
     "data": {
      "application/vnd.plotly.v1+json": {
       "config": {
        "plotlyServerURL": "https://plot.ly"
       },
       "data": [
        {
         "hovertemplate": [
          "Afghanistan",
          "Albania",
          "Algeria",
          "Angola",
          "Antigua and Barbuda",
          "Argentina",
          "Armenia",
          "Australia",
          "Austria",
          "Azerbaijan",
          "Bahamas",
          "Bahrain",
          "Bangladesh",
          "Barbados",
          "Belarus",
          "Belgium",
          "Belize",
          "Benin",
          "Bhutan",
          "Bolivia",
          "Bosnia and Herzegovina",
          "Botswana",
          "Brazil",
          "Brunei",
          "Bulgaria",
          "Burkina Faso",
          "Burundi",
          "Cambodia",
          "Cameroon",
          "Canada",
          "Cape Verde",
          "Central African Republic",
          "Chad",
          "Chile",
          "China",
          "Colombia",
          "Comoros",
          "Congo, Dem. Rep.",
          "Congo, Rep.",
          "Costa Rica",
          "Cote d'Ivoire",
          "Croatia",
          "Cyprus",
          "Czech Republic",
          "Denmark",
          "Dominican Republic",
          "Ecuador",
          "Egypt",
          "El Salvador",
          "Equatorial Guinea",
          "Eritrea",
          "Estonia",
          "Fiji",
          "Finland",
          "France",
          "Gabon",
          "Gambia",
          "Georgia",
          "Germany",
          "Ghana",
          "Greece",
          "Grenada",
          "Guatemala",
          "Guinea",
          "Guinea-Bissau",
          "Guyana",
          "Haiti",
          "Hungary",
          "Iceland",
          "India",
          "Indonesia",
          "Iran",
          "Iraq",
          "Ireland",
          "Israel",
          "Italy",
          "Jamaica",
          "Japan",
          "Jordan",
          "Kazakhstan",
          "Kenya",
          "Kiribati",
          "Kuwait",
          "Kyrgyz Republic",
          "Lao",
          "Latvia",
          "Lebanon",
          "Lesotho",
          "Liberia",
          "Libya",
          "Lithuania",
          "Luxembourg",
          "Macedonia, FYR",
          "Madagascar",
          "Malawi",
          "Malaysia",
          "Maldives",
          "Mali",
          "Malta",
          "Mauritania",
          "Mauritius",
          "Micronesia, Fed. Sts.",
          "Moldova",
          "Mongolia",
          "Montenegro",
          "Morocco",
          "Mozambique",
          "Myanmar",
          "Namibia",
          "Nepal",
          "Netherlands",
          "New Zealand",
          "Niger",
          "Nigeria",
          "Norway",
          "Oman",
          "Pakistan",
          "Panama",
          "Paraguay",
          "Peru",
          "Philippines",
          "Poland",
          "Portugal",
          "Qatar",
          "Romania",
          "Russia",
          "Rwanda",
          "Samoa",
          "Saudi Arabia",
          "Senegal",
          "Serbia",
          "Seychelles",
          "Sierra Leone",
          "Singapore",
          "Slovak Republic",
          "Slovenia",
          "Solomon Islands",
          "South Africa",
          "South Korea",
          "Spain",
          "Sri Lanka",
          "St. Vincent and the Grenadines",
          "Sudan",
          "Suriname",
          "Sweden",
          "Switzerland",
          "Tajikistan",
          "Tanzania",
          "Thailand",
          "Timor-Leste",
          "Togo",
          "Tonga",
          "Tunisia",
          "Turkey",
          "Turkmenistan",
          "Uganda",
          "Ukraine",
          "United Arab Emirates",
          "United Kingdom",
          "United States",
          "Uruguay",
          "Uzbekistan",
          "Vanuatu",
          "Venezuela",
          "Vietnam",
          "Yemen",
          "Zambia"
         ],
         "legendgroup": "",
         "marker": {
          "color": [
           0,
           2,
           2,
           0,
           2,
           2,
           2,
           4,
           4,
           2,
           2,
           1,
           2,
           2,
           2,
           4,
           2,
           0,
           2,
           2,
           2,
           2,
           2,
           1,
           2,
           0,
           0,
           2,
           0,
           4,
           2,
           0,
           0,
           2,
           2,
           2,
           0,
           0,
           0,
           2,
           0,
           2,
           2,
           2,
           4,
           2,
           2,
           2,
           2,
           0,
           0,
           2,
           2,
           4,
           4,
           0,
           0,
           2,
           4,
           0,
           4,
           2,
           2,
           0,
           0,
           2,
           0,
           2,
           4,
           2,
           2,
           2,
           0,
           4,
           2,
           4,
           2,
           4,
           2,
           2,
           0,
           0,
           1,
           2,
           2,
           2,
           2,
           0,
           0,
           1,
           2,
           3,
           2,
           0,
           0,
           2,
           2,
           0,
           3,
           0,
           2,
           0,
           2,
           2,
           2,
           2,
           0,
           2,
           2,
           2,
           4,
           4,
           0,
           0,
           4,
           1,
           0,
           2,
           2,
           2,
           2,
           2,
           4,
           1,
           2,
           2,
           0,
           2,
           1,
           0,
           2,
           2,
           0,
           3,
           2,
           2,
           2,
           0,
           2,
           4,
           2,
           2,
           0,
           2,
           4,
           4,
           2,
           0,
           2,
           0,
           0,
           2,
           2,
           2,
           2,
           0,
           2,
           1,
           4,
           4,
           2,
           2,
           2,
           2,
           2,
           0,
           0
          ],
          "coloraxis": "coloraxis",
          "opacity": 0.7,
          "symbol": "circle"
         },
         "mode": "markers",
         "name": "",
         "scene": "scene",
         "showlegend": false,
         "type": "scatter3d",
         "x": [
          0.13349342655683072,
          0.5596397664781391,
          0.4725663021327813,
          0.10471583847296234,
          0.5833993517998383,
          0.5337969327951693,
          0.5197067285295696,
          0.7184474527547338,
          0.7633052419128301,
          0.4923244264988796,
          0.612984986392579,
          0.6280291497862017,
          0.41018244168571705,
          0.6012286053609982,
          0.5730896151378045,
          0.7492413484818659,
          0.48984183849617535,
          0.14866055936447387,
          0.466432513555637,
          0.4025015406949723,
          0.6167504555049909,
          0.38402049621887757,
          0.5490363958949351,
          0.7069900670892085,
          0.5873600839370586,
          0.10265837084257423,
          0.12748742575191435,
          0.4091009433602893,
          0.1473076995850715,
          0.738565898566174,
          0.4662434830395307,
          0.028438525810137005,
          0.018508604640425974,
          0.6051433822764392,
          0.5404938414870798,
          0.5357502936281684,
          0.22878449296644382,
          0.08011808297649164,
          0.249903117228363,
          0.6034791824549923,
          0.1476177240094666,
          0.6195718862865445,
          0.6982506551831459,
          0.6745149268037578,
          0.7576875766466067,
          0.4758785831370743,
          0.5008472223905449,
          0.41499699062487827,
          0.5103887817329366,
          0.25223764008781635,
          0.23352945515534207,
          0.6340048742748225,
          0.45299399644469124,
          0.7167467058904953,
          0.7047391694219302,
          0.315161270065294,
          0.19500389817966057,
          0.5424872671933452,
          0.7466761037480384,
          0.2589314987529378,
          0.6831858062450732,
          0.5134937863263633,
          0.41416407474578076,
          0.13510237613206788,
          0.14539254277261693,
          0.4368127501671927,
          0,
          0.6566703093761577,
          0.7090498074725534,
          0.3746500320416959,
          0.4299888264319263,
          0.537844906020003,
          0.3526304801755937,
          0.7671977385476532,
          0.6101318379899848,
          0.7138295786044013,
          0.513527283824656,
          0.7311465169645721,
          0.4684904599622602,
          0.47679320262898534,
          0.268520467458744,
          0.32442891434215926,
          0.6931291934562578,
          0.4328641078985809,
          0.3222371086547011,
          0.6126695947161354,
          0.6147174863612197,
          0.2535162134304513,
          0.23351736572254958,
          0.5614179670845673,
          0.6223981808620285,
          1,
          0.5807898133402687,
          0.24190483606273036,
          0.14114872623984892,
          0.5845732261664611,
          0.5763277657509308,
          0.04517271821031843,
          0.7600534307126792,
          0.2308480323635095,
          0.5813125878548691,
          0.41766922830541936,
          0.5688352882007522,
          0.4342815538920421,
          0.5985090925151139,
          0.46608858667649045,
          0.12381793373229905,
          0.3513884912656663,
          0.3409752876159453,
          0.39363423687512644,
          0.7739278439510706,
          0.6657849410915881,
          0.015507738849066921,
          0.05381360743847352,
          0.8219332709264302,
          0.5718288607470385,
          0.24698276530554933,
          0.5643534873294271,
          0.48947267831231706,
          0.5048291999791337,
          0.40598316115377087,
          0.6272050612909699,
          0.6836712014537512,
          0.8297662793822096,
          0.5711646552336812,
          0.551457973478304,
          0.2872523397589607,
          0.3931417027875056,
          0.5555426921121588,
          0.2409488015386904,
          0.6023781673738939,
          0.5858082352212144,
          0.09020985706476364,
          0.9018576174710372,
          0.6666778352670001,
          0.6943049986844225,
          0.35598908681910113,
          0.3746412163477237,
          0.68810093597702,
          0.7053431879269982,
          0.4906691608216183,
          0.5069536570223186,
          0.2367846783922044,
          0.5013120854888196,
          0.7405468747894841,
          0.8444389524092208,
          0.36049823967390976,
          0.18527367309189363,
          0.5844440655075762,
          0.21527343175981284,
          0.21434826247464506,
          0.3954182158884691,
          0.5485789014785007,
          0.5531106830894448,
          0.4061714224434583,
          0.13681922887009634,
          0.5553978979478315,
          0.6927695038589521,
          0.690383534343507,
          0.7425397990559207,
          0.571579170813999,
          0.4386640031072074,
          0.38044405602905607,
          0.5048823879580171,
          0.535472305309585,
          0.28318817255571005,
          0.14765848981218338
         ],
         "y": [
          0.2950944715582716,
          0.0647848072953092,
          0.12186020682428242,
          0.4302371034386954,
          0.17517666476320143,
          0.0693119485490204,
          0.0406633909881651,
          0.2357852753445409,
          0.3097424751314736,
          0.13225252769232398,
          0.19582017453545947,
          0.2849519605174313,
          0.03777079580457915,
          0.14403184998336477,
          0.1460789880128412,
          0.4045593327763891,
          0.18421821020489954,
          0.29017218631325065,
          0.17695456924996122,
          0.1497669395026495,
          0.05725099769874373,
          0.2456102794128101,
          0.026547009500822755,
          0.3694938545081744,
          0.1296166772025893,
          0.3083595750539187,
          0.30830578760515936,
          0.20074785514230248,
          0.27126459625731764,
          0.24663373306967626,
          0.14008493003674818,
          0.30897352224592955,
          0.42961738296286645,
          0.10450765878981512,
          0.015129217540517492,
          0.020780731101414096,
          0.24353220432541844,
          0.4100662032014269,
          0.374947578232307,
          0.07811098757251297,
          0.36074307303879505,
          0.10730485570447994,
          0.23605993298929015,
          0.2343722617326873,
          0.36231062444331974,
          0.09949659166076029,
          0.09269940820062453,
          0.09829235681712012,
          0.08426471407524525,
          0.5643958375449278,
          0.13852385074611062,
          0.2382651030012965,
          0.20609299021549818,
          0.27359957867992957,
          0.22236966516888806,
          0.2705708391006241,
          0.2779245881042416,
          0.09860311306107439,
          0.2514544093414826,
          0.23631637784369305,
          0.12641937909928636,
          0.10515872284543144,
          0.1334586635287702,
          0.3161518717267255,
          0.2807009418840467,
          0.22859974841416075,
          0.398069672062208,
          0.243914803196724,
          0.3030376213353013,
          0.09614916035500395,
          0.0649279427029075,
          0.0445502882579058,
          0.2381919426723586,
          0.5010064354351316,
          0.2282221094405023,
          0.16943654818877232,
          0.09336348831884966,
          0.15098552565220558,
          0.2287125146301195,
          0.16072372862812728,
          0.18697040972852386,
          0.24781088756764216,
          0.3839216272622539,
          0.22551268585354925,
          0.20481174216388842,
          0.15079045831036098,
          0.11556199409855976,
          0.37258759540533837,
          0.35260679012152063,
          0.2225257308513764,
          0.2056683891879197,
          1,
          0.09824437945475398,
          0.21789049357485774,
          0.2810481524765566,
          0.26191667640029387,
          0.2097426551454678,
          0.3698648856683021,
          0.5382918878820072,
          0.33998777715469025,
          0.15591363642800482,
          0.2326388176099043,
          0.12012890771844613,
          0.1716754458715214,
          0.12346782931912202,
          0.11068182640063788,
          0.33105981103177473,
          0,
          0.2820347612944,
          0.06717407525944238,
          0.40683699615487023,
          0.19905971323005262,
          0.41721071806051613,
          0.31659625386292023,
          0.4592563770073351,
          0.29791097737476313,
          0.1524887615282691,
          0.26100110117516706,
          0.16556753276199498,
          0.06188494858948515,
          0.12939776930305694,
          0.11331753013961611,
          0.1315470443732979,
          0.5822107074686753,
          0.08486453852506129,
          0.07575880084607231,
          0.177319023107183,
          0.1905994093505944,
          0.2679804541142328,
          0.23933065271641685,
          0.07445946707823042,
          0.34881709133591554,
          0.34629094800216864,
          0.8199676850718465,
          0.26536569553761663,
          0.2461366958663211,
          0.2865089671201562,
          0.17445233437333976,
          0.1711582300643844,
          0.13840845995232237,
          0.020028703584531682,
          0.11231011265990565,
          0.19438170978457836,
          0.17376946483567274,
          0.32308351052853185,
          0.46675117599584615,
          0.158636113044688,
          0.23981266260616574,
          0.15260638998994872,
          0.22566102639149044,
          0.32156840502344924,
          0.15280644168209984,
          0.13707545326027165,
          0.0753077656283615,
          0.2502520265299035,
          0.2864854295269551,
          0.09358477260899689,
          0.3932307877469235,
          0.21568835732999345,
          0.25002328174063565,
          0.08257478055257875,
          0.07795521534615324,
          0.2014118352297688,
          0.09529977287841407,
          0.19960797232001543,
          0.20875013000616918,
          0.3050517587725625
         ],
         "z": [
          0.5689043450861536,
          0.4027530929062952,
          0.3503075163368559,
          0.3439456378888,
          0.3753839010104991,
          0.5399724846647369,
          0.3357829945713674,
          0.652559597634335,
          0.6333183653840637,
          0.3919340672251896,
          0.5109359246212005,
          0.33750816640122183,
          0.3587677218764771,
          0.4695837143285628,
          0.308178385543566,
          0.5524589533891129,
          0.3209464769557394,
          0.4346818347833099,
          0.32139467937003885,
          0.3740148850549776,
          0.5542004567419113,
          0.48104441990056124,
          0.5857558648154316,
          0.3320426192870711,
          0.38175604523442536,
          0.5564626820613482,
          0.7326155473435676,
          0.34319561533864734,
          0.48221426269211365,
          0.7024357060031134,
          0.3114847931180243,
          0.4694202815930929,
          0.46029976717982357,
          0.4863004249902007,
          0.3834063177146514,
          0.5121207020155111,
          0.4196146084259225,
          0.5483213544052534,
          0.2345358642523658,
          0.5845406516953582,
          0.42829262855425443,
          0.4668143103655972,
          0.39844903411281624,
          0.4140256814800507,
          0.687212410584425,
          0.4474969364694733,
          0.5028772192125364,
          0.40260058745993194,
          0.43079254702049496,
          0.36608413972332626,
          0.38733163530843734,
          0.3152682571753066,
          0.29823617520044876,
          0.596290587000222,
          0.7232943200376561,
          0.36058434993723004,
          0.4800171528498625,
          0.5160061534268292,
          0.6687798218755533,
          0.4155795041935378,
          0.6233657460132351,
          0.40324496737012727,
          0.4705935105078704,
          0.43946763083441026,
          0.6030372335304414,
          0.30868418805082376,
          0.5014234342740735,
          0.3295651048010287,
          0.5784111746212492,
          0.3714084181035926,
          0.31431947308182595,
          0.4185402895507243,
          0.5364514651167253,
          0.4604384875704952,
          0.544920010970839,
          0.6180665315147204,
          0.34277663111884193,
          0.6676477191721901,
          0.4411463452513099,
          0.3509252723293981,
          0.42969799345312265,
          0.6087061751536216,
          0.3372072573804217,
          0.3331329642690236,
          0.3566981697247439,
          0.3733192757622989,
          0.4058296092345208,
          0.5349071215320709,
          0.631396476864249,
          0.2966514492878543,
          0.3573913046367654,
          0.3627752729938341,
          0.3890719061782888,
          0.37565660938148343,
          0.5148749140504577,
          0.23013979358505227,
          0.3186865811518992,
          0.5032698071279683,
          0.1951480792762092,
          0.3576989579937989,
          0.34089531569041104,
          0.6851455816466894,
          0.5159478218557547,
          0.3293345553351014,
          0.47187267500300056,
          0.37696916025553,
          0.4479360018166527,
          0.3617225107404205,
          0.4211709317139884,
          0.413086850920253,
          0.6309936069591537,
          0.6380896493684487,
          0.5061626961631815,
          0.4744643870457205,
          0.7267540950898167,
          0.2874549435215844,
          0.36378474088653934,
          0.39228867007280055,
          0.35570790718103995,
          0.40338237235360513,
          0.3313154558512186,
          0.44267868402952176,
          0.6164183902113715,
          0.4115958507409484,
          0.38286688126420604,
          0.3946801848297521,
          0.6585510030495751,
          0.44589057345539884,
          0.3790591359996971,
          0.464065877122669,
          0.5315625988834578,
          0.14646299243139466,
          0.7824636642578942,
          0,
          0.40295765326691435,
          0.4815870883529108,
          0.44742151690636084,
          0.5541399829686763,
          0.42443358562272876,
          0.6038489375209166,
          0.31057827728813814,
          0.3319208934977617,
          0.5205440066094063,
          0.42696977352489573,
          0.6223044387786509,
          0.6943094069786888,
          0.42504157487936484,
          0.5058361217491256,
          0.23443069066915054,
          0.6589446686242204,
          0.4947199807618212,
          0.39977089946138195,
          0.35975148576106597,
          0.4793576246936747,
          0.2315336147002351,
          0.6349799272458426,
          0.40045522617911555,
          0.2917681541437921,
          0.6291358752764421,
          1,
          0.5278353368256393,
          0.4040950387570448,
          0.35950328072914106,
          0.4069513750214939,
          0.3045547025237874,
          0.4283790350163438,
          0.47524108822195305
         ]
        }
       ],
       "layout": {
        "coloraxis": {
         "colorbar": {
          "title": {
           "text": "color"
          }
         },
         "colorscale": [
          [
           0,
           "#0d0887"
          ],
          [
           0.1111111111111111,
           "#46039f"
          ],
          [
           0.2222222222222222,
           "#7201a8"
          ],
          [
           0.3333333333333333,
           "#9c179e"
          ],
          [
           0.4444444444444444,
           "#bd3786"
          ],
          [
           0.5555555555555556,
           "#d8576b"
          ],
          [
           0.6666666666666666,
           "#ed7953"
          ],
          [
           0.7777777777777778,
           "#fb9f3a"
          ],
          [
           0.8888888888888888,
           "#fdca26"
          ],
          [
           1,
           "#f0f921"
          ]
         ]
        },
        "legend": {
         "tracegroupgap": 0
        },
        "margin": {
         "t": 60
        },
        "scene": {
         "domain": {
          "x": [
           0,
           1
          ],
          "y": [
           0,
           1
          ]
         },
         "xaxis": {
          "title": {
           "text": "x"
          }
         },
         "yaxis": {
          "title": {
           "text": "y"
          }
         },
         "zaxis": {
          "title": {
           "text": "z"
          }
         }
        },
        "template": {
         "data": {
          "bar": [
           {
            "error_x": {
             "color": "#2a3f5f"
            },
            "error_y": {
             "color": "#2a3f5f"
            },
            "marker": {
             "line": {
              "color": "#E5ECF6",
              "width": 0.5
             },
             "pattern": {
              "fillmode": "overlay",
              "size": 10,
              "solidity": 0.2
             }
            },
            "type": "bar"
           }
          ],
          "barpolar": [
           {
            "marker": {
             "line": {
              "color": "#E5ECF6",
              "width": 0.5
             },
             "pattern": {
              "fillmode": "overlay",
              "size": 10,
              "solidity": 0.2
             }
            },
            "type": "barpolar"
           }
          ],
          "carpet": [
           {
            "aaxis": {
             "endlinecolor": "#2a3f5f",
             "gridcolor": "white",
             "linecolor": "white",
             "minorgridcolor": "white",
             "startlinecolor": "#2a3f5f"
            },
            "baxis": {
             "endlinecolor": "#2a3f5f",
             "gridcolor": "white",
             "linecolor": "white",
             "minorgridcolor": "white",
             "startlinecolor": "#2a3f5f"
            },
            "type": "carpet"
           }
          ],
          "choropleth": [
           {
            "colorbar": {
             "outlinewidth": 0,
             "ticks": ""
            },
            "type": "choropleth"
           }
          ],
          "contour": [
           {
            "colorbar": {
             "outlinewidth": 0,
             "ticks": ""
            },
            "colorscale": [
             [
              0,
              "#0d0887"
             ],
             [
              0.1111111111111111,
              "#46039f"
             ],
             [
              0.2222222222222222,
              "#7201a8"
             ],
             [
              0.3333333333333333,
              "#9c179e"
             ],
             [
              0.4444444444444444,
              "#bd3786"
             ],
             [
              0.5555555555555556,
              "#d8576b"
             ],
             [
              0.6666666666666666,
              "#ed7953"
             ],
             [
              0.7777777777777778,
              "#fb9f3a"
             ],
             [
              0.8888888888888888,
              "#fdca26"
             ],
             [
              1,
              "#f0f921"
             ]
            ],
            "type": "contour"
           }
          ],
          "contourcarpet": [
           {
            "colorbar": {
             "outlinewidth": 0,
             "ticks": ""
            },
            "type": "contourcarpet"
           }
          ],
          "heatmap": [
           {
            "colorbar": {
             "outlinewidth": 0,
             "ticks": ""
            },
            "colorscale": [
             [
              0,
              "#0d0887"
             ],
             [
              0.1111111111111111,
              "#46039f"
             ],
             [
              0.2222222222222222,
              "#7201a8"
             ],
             [
              0.3333333333333333,
              "#9c179e"
             ],
             [
              0.4444444444444444,
              "#bd3786"
             ],
             [
              0.5555555555555556,
              "#d8576b"
             ],
             [
              0.6666666666666666,
              "#ed7953"
             ],
             [
              0.7777777777777778,
              "#fb9f3a"
             ],
             [
              0.8888888888888888,
              "#fdca26"
             ],
             [
              1,
              "#f0f921"
             ]
            ],
            "type": "heatmap"
           }
          ],
          "heatmapgl": [
           {
            "colorbar": {
             "outlinewidth": 0,
             "ticks": ""
            },
            "colorscale": [
             [
              0,
              "#0d0887"
             ],
             [
              0.1111111111111111,
              "#46039f"
             ],
             [
              0.2222222222222222,
              "#7201a8"
             ],
             [
              0.3333333333333333,
              "#9c179e"
             ],
             [
              0.4444444444444444,
              "#bd3786"
             ],
             [
              0.5555555555555556,
              "#d8576b"
             ],
             [
              0.6666666666666666,
              "#ed7953"
             ],
             [
              0.7777777777777778,
              "#fb9f3a"
             ],
             [
              0.8888888888888888,
              "#fdca26"
             ],
             [
              1,
              "#f0f921"
             ]
            ],
            "type": "heatmapgl"
           }
          ],
          "histogram": [
           {
            "marker": {
             "pattern": {
              "fillmode": "overlay",
              "size": 10,
              "solidity": 0.2
             }
            },
            "type": "histogram"
           }
          ],
          "histogram2d": [
           {
            "colorbar": {
             "outlinewidth": 0,
             "ticks": ""
            },
            "colorscale": [
             [
              0,
              "#0d0887"
             ],
             [
              0.1111111111111111,
              "#46039f"
             ],
             [
              0.2222222222222222,
              "#7201a8"
             ],
             [
              0.3333333333333333,
              "#9c179e"
             ],
             [
              0.4444444444444444,
              "#bd3786"
             ],
             [
              0.5555555555555556,
              "#d8576b"
             ],
             [
              0.6666666666666666,
              "#ed7953"
             ],
             [
              0.7777777777777778,
              "#fb9f3a"
             ],
             [
              0.8888888888888888,
              "#fdca26"
             ],
             [
              1,
              "#f0f921"
             ]
            ],
            "type": "histogram2d"
           }
          ],
          "histogram2dcontour": [
           {
            "colorbar": {
             "outlinewidth": 0,
             "ticks": ""
            },
            "colorscale": [
             [
              0,
              "#0d0887"
             ],
             [
              0.1111111111111111,
              "#46039f"
             ],
             [
              0.2222222222222222,
              "#7201a8"
             ],
             [
              0.3333333333333333,
              "#9c179e"
             ],
             [
              0.4444444444444444,
              "#bd3786"
             ],
             [
              0.5555555555555556,
              "#d8576b"
             ],
             [
              0.6666666666666666,
              "#ed7953"
             ],
             [
              0.7777777777777778,
              "#fb9f3a"
             ],
             [
              0.8888888888888888,
              "#fdca26"
             ],
             [
              1,
              "#f0f921"
             ]
            ],
            "type": "histogram2dcontour"
           }
          ],
          "mesh3d": [
           {
            "colorbar": {
             "outlinewidth": 0,
             "ticks": ""
            },
            "type": "mesh3d"
           }
          ],
          "parcoords": [
           {
            "line": {
             "colorbar": {
              "outlinewidth": 0,
              "ticks": ""
             }
            },
            "type": "parcoords"
           }
          ],
          "pie": [
           {
            "automargin": true,
            "type": "pie"
           }
          ],
          "scatter": [
           {
            "fillpattern": {
             "fillmode": "overlay",
             "size": 10,
             "solidity": 0.2
            },
            "type": "scatter"
           }
          ],
          "scatter3d": [
           {
            "line": {
             "colorbar": {
              "outlinewidth": 0,
              "ticks": ""
             }
            },
            "marker": {
             "colorbar": {
              "outlinewidth": 0,
              "ticks": ""
             }
            },
            "type": "scatter3d"
           }
          ],
          "scattercarpet": [
           {
            "marker": {
             "colorbar": {
              "outlinewidth": 0,
              "ticks": ""
             }
            },
            "type": "scattercarpet"
           }
          ],
          "scattergeo": [
           {
            "marker": {
             "colorbar": {
              "outlinewidth": 0,
              "ticks": ""
             }
            },
            "type": "scattergeo"
           }
          ],
          "scattergl": [
           {
            "marker": {
             "colorbar": {
              "outlinewidth": 0,
              "ticks": ""
             }
            },
            "type": "scattergl"
           }
          ],
          "scattermapbox": [
           {
            "marker": {
             "colorbar": {
              "outlinewidth": 0,
              "ticks": ""
             }
            },
            "type": "scattermapbox"
           }
          ],
          "scatterpolar": [
           {
            "marker": {
             "colorbar": {
              "outlinewidth": 0,
              "ticks": ""
             }
            },
            "type": "scatterpolar"
           }
          ],
          "scatterpolargl": [
           {
            "marker": {
             "colorbar": {
              "outlinewidth": 0,
              "ticks": ""
             }
            },
            "type": "scatterpolargl"
           }
          ],
          "scatterternary": [
           {
            "marker": {
             "colorbar": {
              "outlinewidth": 0,
              "ticks": ""
             }
            },
            "type": "scatterternary"
           }
          ],
          "surface": [
           {
            "colorbar": {
             "outlinewidth": 0,
             "ticks": ""
            },
            "colorscale": [
             [
              0,
              "#0d0887"
             ],
             [
              0.1111111111111111,
              "#46039f"
             ],
             [
              0.2222222222222222,
              "#7201a8"
             ],
             [
              0.3333333333333333,
              "#9c179e"
             ],
             [
              0.4444444444444444,
              "#bd3786"
             ],
             [
              0.5555555555555556,
              "#d8576b"
             ],
             [
              0.6666666666666666,
              "#ed7953"
             ],
             [
              0.7777777777777778,
              "#fb9f3a"
             ],
             [
              0.8888888888888888,
              "#fdca26"
             ],
             [
              1,
              "#f0f921"
             ]
            ],
            "type": "surface"
           }
          ],
          "table": [
           {
            "cells": {
             "fill": {
              "color": "#EBF0F8"
             },
             "line": {
              "color": "white"
             }
            },
            "header": {
             "fill": {
              "color": "#C8D4E3"
             },
             "line": {
              "color": "white"
             }
            },
            "type": "table"
           }
          ]
         },
         "layout": {
          "annotationdefaults": {
           "arrowcolor": "#2a3f5f",
           "arrowhead": 0,
           "arrowwidth": 1
          },
          "autotypenumbers": "strict",
          "coloraxis": {
           "colorbar": {
            "outlinewidth": 0,
            "ticks": ""
           }
          },
          "colorscale": {
           "diverging": [
            [
             0,
             "#8e0152"
            ],
            [
             0.1,
             "#c51b7d"
            ],
            [
             0.2,
             "#de77ae"
            ],
            [
             0.3,
             "#f1b6da"
            ],
            [
             0.4,
             "#fde0ef"
            ],
            [
             0.5,
             "#f7f7f7"
            ],
            [
             0.6,
             "#e6f5d0"
            ],
            [
             0.7,
             "#b8e186"
            ],
            [
             0.8,
             "#7fbc41"
            ],
            [
             0.9,
             "#4d9221"
            ],
            [
             1,
             "#276419"
            ]
           ],
           "sequential": [
            [
             0,
             "#0d0887"
            ],
            [
             0.1111111111111111,
             "#46039f"
            ],
            [
             0.2222222222222222,
             "#7201a8"
            ],
            [
             0.3333333333333333,
             "#9c179e"
            ],
            [
             0.4444444444444444,
             "#bd3786"
            ],
            [
             0.5555555555555556,
             "#d8576b"
            ],
            [
             0.6666666666666666,
             "#ed7953"
            ],
            [
             0.7777777777777778,
             "#fb9f3a"
            ],
            [
             0.8888888888888888,
             "#fdca26"
            ],
            [
             1,
             "#f0f921"
            ]
           ],
           "sequentialminus": [
            [
             0,
             "#0d0887"
            ],
            [
             0.1111111111111111,
             "#46039f"
            ],
            [
             0.2222222222222222,
             "#7201a8"
            ],
            [
             0.3333333333333333,
             "#9c179e"
            ],
            [
             0.4444444444444444,
             "#bd3786"
            ],
            [
             0.5555555555555556,
             "#d8576b"
            ],
            [
             0.6666666666666666,
             "#ed7953"
            ],
            [
             0.7777777777777778,
             "#fb9f3a"
            ],
            [
             0.8888888888888888,
             "#fdca26"
            ],
            [
             1,
             "#f0f921"
            ]
           ]
          },
          "colorway": [
           "#636efa",
           "#EF553B",
           "#00cc96",
           "#ab63fa",
           "#FFA15A",
           "#19d3f3",
           "#FF6692",
           "#B6E880",
           "#FF97FF",
           "#FECB52"
          ],
          "font": {
           "color": "#2a3f5f"
          },
          "geo": {
           "bgcolor": "white",
           "lakecolor": "white",
           "landcolor": "#E5ECF6",
           "showlakes": true,
           "showland": true,
           "subunitcolor": "white"
          },
          "hoverlabel": {
           "align": "left"
          },
          "hovermode": "closest",
          "mapbox": {
           "style": "light"
          },
          "paper_bgcolor": "white",
          "plot_bgcolor": "#E5ECF6",
          "polar": {
           "angularaxis": {
            "gridcolor": "white",
            "linecolor": "white",
            "ticks": ""
           },
           "bgcolor": "#E5ECF6",
           "radialaxis": {
            "gridcolor": "white",
            "linecolor": "white",
            "ticks": ""
           }
          },
          "scene": {
           "xaxis": {
            "backgroundcolor": "#E5ECF6",
            "gridcolor": "white",
            "gridwidth": 2,
            "linecolor": "white",
            "showbackground": true,
            "ticks": "",
            "zerolinecolor": "white"
           },
           "yaxis": {
            "backgroundcolor": "#E5ECF6",
            "gridcolor": "white",
            "gridwidth": 2,
            "linecolor": "white",
            "showbackground": true,
            "ticks": "",
            "zerolinecolor": "white"
           },
           "zaxis": {
            "backgroundcolor": "#E5ECF6",
            "gridcolor": "white",
            "gridwidth": 2,
            "linecolor": "white",
            "showbackground": true,
            "ticks": "",
            "zerolinecolor": "white"
           }
          },
          "shapedefaults": {
           "line": {
            "color": "#2a3f5f"
           }
          },
          "ternary": {
           "aaxis": {
            "gridcolor": "white",
            "linecolor": "white",
            "ticks": ""
           },
           "baxis": {
            "gridcolor": "white",
            "linecolor": "white",
            "ticks": ""
           },
           "bgcolor": "#E5ECF6",
           "caxis": {
            "gridcolor": "white",
            "linecolor": "white",
            "ticks": ""
           }
          },
          "title": {
           "x": 0.05
          },
          "xaxis": {
           "automargin": true,
           "gridcolor": "white",
           "linecolor": "white",
           "ticks": "",
           "title": {
            "standoff": 15
           },
           "zerolinecolor": "white",
           "zerolinewidth": 2
          },
          "yaxis": {
           "automargin": true,
           "gridcolor": "white",
           "linecolor": "white",
           "ticks": "",
           "title": {
            "standoff": 15
           },
           "zerolinecolor": "white",
           "zerolinewidth": 2
          }
         }
        }
       }
      }
     },
     "metadata": {},
     "output_type": "display_data"
    }
   ],
   "source": [
    "countries = data_pca.index.tolist()\n",
    "fig = px.scatter_3d(x=data_pca.PC1, y=data_pca.PC2, z=data_pca.PC3, color=data_pca.cluster_pca, opacity=0.7)\n",
    "fig.update_traces(mode=\"markers\", hovertemplate=countries)\n",
    "fig.show()"
   ]
  },
  {
   "attachments": {},
   "cell_type": "markdown",
   "metadata": {},
   "source": [
    "## Raw clusters visualisation on PCA axis values"
   ]
  },
  {
   "cell_type": "code",
   "execution_count": 13,
   "metadata": {},
   "outputs": [
    {
     "data": {
      "application/vnd.plotly.v1+json": {
       "config": {
        "plotlyServerURL": "https://plot.ly"
       },
       "data": [
        {
         "hovertemplate": [
          "Afghanistan",
          "Albania",
          "Algeria",
          "Angola",
          "Antigua and Barbuda",
          "Argentina",
          "Armenia",
          "Australia",
          "Austria",
          "Azerbaijan",
          "Bahamas",
          "Bahrain",
          "Bangladesh",
          "Barbados",
          "Belarus",
          "Belgium",
          "Belize",
          "Benin",
          "Bhutan",
          "Bolivia",
          "Bosnia and Herzegovina",
          "Botswana",
          "Brazil",
          "Brunei",
          "Bulgaria",
          "Burkina Faso",
          "Burundi",
          "Cambodia",
          "Cameroon",
          "Canada",
          "Cape Verde",
          "Central African Republic",
          "Chad",
          "Chile",
          "China",
          "Colombia",
          "Comoros",
          "Congo, Dem. Rep.",
          "Congo, Rep.",
          "Costa Rica",
          "Cote d'Ivoire",
          "Croatia",
          "Cyprus",
          "Czech Republic",
          "Denmark",
          "Dominican Republic",
          "Ecuador",
          "Egypt",
          "El Salvador",
          "Equatorial Guinea",
          "Eritrea",
          "Estonia",
          "Fiji",
          "Finland",
          "France",
          "Gabon",
          "Gambia",
          "Georgia",
          "Germany",
          "Ghana",
          "Greece",
          "Grenada",
          "Guatemala",
          "Guinea",
          "Guinea-Bissau",
          "Guyana",
          "Haiti",
          "Hungary",
          "Iceland",
          "India",
          "Indonesia",
          "Iran",
          "Iraq",
          "Ireland",
          "Israel",
          "Italy",
          "Jamaica",
          "Japan",
          "Jordan",
          "Kazakhstan",
          "Kenya",
          "Kiribati",
          "Kuwait",
          "Kyrgyz Republic",
          "Lao",
          "Latvia",
          "Lebanon",
          "Lesotho",
          "Liberia",
          "Libya",
          "Lithuania",
          "Luxembourg",
          "Macedonia, FYR",
          "Madagascar",
          "Malawi",
          "Malaysia",
          "Maldives",
          "Mali",
          "Malta",
          "Mauritania",
          "Mauritius",
          "Micronesia, Fed. Sts.",
          "Moldova",
          "Mongolia",
          "Montenegro",
          "Morocco",
          "Mozambique",
          "Myanmar",
          "Namibia",
          "Nepal",
          "Netherlands",
          "New Zealand",
          "Niger",
          "Nigeria",
          "Norway",
          "Oman",
          "Pakistan",
          "Panama",
          "Paraguay",
          "Peru",
          "Philippines",
          "Poland",
          "Portugal",
          "Qatar",
          "Romania",
          "Russia",
          "Rwanda",
          "Samoa",
          "Saudi Arabia",
          "Senegal",
          "Serbia",
          "Seychelles",
          "Sierra Leone",
          "Singapore",
          "Slovak Republic",
          "Slovenia",
          "Solomon Islands",
          "South Africa",
          "South Korea",
          "Spain",
          "Sri Lanka",
          "St. Vincent and the Grenadines",
          "Sudan",
          "Suriname",
          "Sweden",
          "Switzerland",
          "Tajikistan",
          "Tanzania",
          "Thailand",
          "Timor-Leste",
          "Togo",
          "Tonga",
          "Tunisia",
          "Turkey",
          "Turkmenistan",
          "Uganda",
          "Ukraine",
          "United Arab Emirates",
          "United Kingdom",
          "United States",
          "Uruguay",
          "Uzbekistan",
          "Vanuatu",
          "Venezuela",
          "Vietnam",
          "Yemen",
          "Zambia"
         ],
         "legendgroup": "",
         "marker": {
          "color": [
           1,
           2,
           2,
           1,
           2,
           2,
           2,
           0,
           0,
           2,
           2,
           0,
           2,
           2,
           2,
           0,
           4,
           1,
           4,
           2,
           2,
           4,
           2,
           0,
           2,
           1,
           1,
           4,
           1,
           0,
           4,
           1,
           1,
           2,
           2,
           2,
           1,
           1,
           1,
           2,
           1,
           2,
           2,
           2,
           0,
           2,
           2,
           2,
           2,
           1,
           1,
           2,
           4,
           0,
           0,
           1,
           1,
           2,
           0,
           1,
           0,
           2,
           4,
           1,
           1,
           4,
           1,
           2,
           0,
           2,
           2,
           2,
           4,
           0,
           0,
           0,
           2,
           0,
           4,
           2,
           1,
           4,
           0,
           4,
           1,
           2,
           2,
           4,
           4,
           0,
           2,
           3,
           2,
           1,
           1,
           2,
           2,
           1,
           3,
           1,
           2,
           4,
           2,
           2,
           2,
           2,
           1,
           1,
           4,
           2,
           0,
           0,
           1,
           1,
           0,
           0,
           1,
           2,
           4,
           2,
           2,
           2,
           0,
           0,
           2,
           2,
           4,
           4,
           0,
           1,
           2,
           2,
           1,
           3,
           2,
           2,
           4,
           4,
           2,
           0,
           2,
           2,
           1,
           2,
           0,
           0,
           4,
           1,
           2,
           1,
           1,
           4,
           2,
           2,
           1,
           1,
           2,
           0,
           0,
           0,
           2,
           2,
           4,
           2,
           2,
           1,
           1
          ],
          "coloraxis": "coloraxis",
          "opacity": 0.7,
          "symbol": "circle"
         },
         "mode": "markers",
         "name": "",
         "scene": "scene",
         "showlegend": false,
         "type": "scatter3d",
         "x": [
          0.13349342655683072,
          0.5596397664781391,
          0.4725663021327813,
          0.10471583847296234,
          0.5833993517998383,
          0.5337969327951693,
          0.5197067285295696,
          0.7184474527547338,
          0.7633052419128301,
          0.4923244264988796,
          0.612984986392579,
          0.6280291497862017,
          0.41018244168571705,
          0.6012286053609982,
          0.5730896151378045,
          0.7492413484818659,
          0.48984183849617535,
          0.14866055936447387,
          0.466432513555637,
          0.4025015406949723,
          0.6167504555049909,
          0.38402049621887757,
          0.5490363958949351,
          0.7069900670892085,
          0.5873600839370586,
          0.10265837084257423,
          0.12748742575191435,
          0.4091009433602893,
          0.1473076995850715,
          0.738565898566174,
          0.4662434830395307,
          0.028438525810137005,
          0.018508604640425974,
          0.6051433822764392,
          0.5404938414870798,
          0.5357502936281684,
          0.22878449296644382,
          0.08011808297649164,
          0.249903117228363,
          0.6034791824549923,
          0.1476177240094666,
          0.6195718862865445,
          0.6982506551831459,
          0.6745149268037578,
          0.7576875766466067,
          0.4758785831370743,
          0.5008472223905449,
          0.41499699062487827,
          0.5103887817329366,
          0.25223764008781635,
          0.23352945515534207,
          0.6340048742748225,
          0.45299399644469124,
          0.7167467058904953,
          0.7047391694219302,
          0.315161270065294,
          0.19500389817966057,
          0.5424872671933452,
          0.7466761037480384,
          0.2589314987529378,
          0.6831858062450732,
          0.5134937863263633,
          0.41416407474578076,
          0.13510237613206788,
          0.14539254277261693,
          0.4368127501671927,
          0,
          0.6566703093761577,
          0.7090498074725534,
          0.3746500320416959,
          0.4299888264319263,
          0.537844906020003,
          0.3526304801755937,
          0.7671977385476532,
          0.6101318379899848,
          0.7138295786044013,
          0.513527283824656,
          0.7311465169645721,
          0.4684904599622602,
          0.47679320262898534,
          0.268520467458744,
          0.32442891434215926,
          0.6931291934562578,
          0.4328641078985809,
          0.3222371086547011,
          0.6126695947161354,
          0.6147174863612197,
          0.2535162134304513,
          0.23351736572254958,
          0.5614179670845673,
          0.6223981808620285,
          1,
          0.5807898133402687,
          0.24190483606273036,
          0.14114872623984892,
          0.5845732261664611,
          0.5763277657509308,
          0.04517271821031843,
          0.7600534307126792,
          0.2308480323635095,
          0.5813125878548691,
          0.41766922830541936,
          0.5688352882007522,
          0.4342815538920421,
          0.5985090925151139,
          0.46608858667649045,
          0.12381793373229905,
          0.3513884912656663,
          0.3409752876159453,
          0.39363423687512644,
          0.7739278439510706,
          0.6657849410915881,
          0.015507738849066921,
          0.05381360743847352,
          0.8219332709264302,
          0.5718288607470385,
          0.24698276530554933,
          0.5643534873294271,
          0.48947267831231706,
          0.5048291999791337,
          0.40598316115377087,
          0.6272050612909699,
          0.6836712014537512,
          0.8297662793822096,
          0.5711646552336812,
          0.551457973478304,
          0.2872523397589607,
          0.3931417027875056,
          0.5555426921121588,
          0.2409488015386904,
          0.6023781673738939,
          0.5858082352212144,
          0.09020985706476364,
          0.9018576174710372,
          0.6666778352670001,
          0.6943049986844225,
          0.35598908681910113,
          0.3746412163477237,
          0.68810093597702,
          0.7053431879269982,
          0.4906691608216183,
          0.5069536570223186,
          0.2367846783922044,
          0.5013120854888196,
          0.7405468747894841,
          0.8444389524092208,
          0.36049823967390976,
          0.18527367309189363,
          0.5844440655075762,
          0.21527343175981284,
          0.21434826247464506,
          0.3954182158884691,
          0.5485789014785007,
          0.5531106830894448,
          0.4061714224434583,
          0.13681922887009634,
          0.5553978979478315,
          0.6927695038589521,
          0.690383534343507,
          0.7425397990559207,
          0.571579170813999,
          0.4386640031072074,
          0.38044405602905607,
          0.5048823879580171,
          0.535472305309585,
          0.28318817255571005,
          0.14765848981218338
         ],
         "y": [
          0.2950944715582716,
          0.0647848072953092,
          0.12186020682428242,
          0.4302371034386954,
          0.17517666476320143,
          0.0693119485490204,
          0.0406633909881651,
          0.2357852753445409,
          0.3097424751314736,
          0.13225252769232398,
          0.19582017453545947,
          0.2849519605174313,
          0.03777079580457915,
          0.14403184998336477,
          0.1460789880128412,
          0.4045593327763891,
          0.18421821020489954,
          0.29017218631325065,
          0.17695456924996122,
          0.1497669395026495,
          0.05725099769874373,
          0.2456102794128101,
          0.026547009500822755,
          0.3694938545081744,
          0.1296166772025893,
          0.3083595750539187,
          0.30830578760515936,
          0.20074785514230248,
          0.27126459625731764,
          0.24663373306967626,
          0.14008493003674818,
          0.30897352224592955,
          0.42961738296286645,
          0.10450765878981512,
          0.015129217540517492,
          0.020780731101414096,
          0.24353220432541844,
          0.4100662032014269,
          0.374947578232307,
          0.07811098757251297,
          0.36074307303879505,
          0.10730485570447994,
          0.23605993298929015,
          0.2343722617326873,
          0.36231062444331974,
          0.09949659166076029,
          0.09269940820062453,
          0.09829235681712012,
          0.08426471407524525,
          0.5643958375449278,
          0.13852385074611062,
          0.2382651030012965,
          0.20609299021549818,
          0.27359957867992957,
          0.22236966516888806,
          0.2705708391006241,
          0.2779245881042416,
          0.09860311306107439,
          0.2514544093414826,
          0.23631637784369305,
          0.12641937909928636,
          0.10515872284543144,
          0.1334586635287702,
          0.3161518717267255,
          0.2807009418840467,
          0.22859974841416075,
          0.398069672062208,
          0.243914803196724,
          0.3030376213353013,
          0.09614916035500395,
          0.0649279427029075,
          0.0445502882579058,
          0.2381919426723586,
          0.5010064354351316,
          0.2282221094405023,
          0.16943654818877232,
          0.09336348831884966,
          0.15098552565220558,
          0.2287125146301195,
          0.16072372862812728,
          0.18697040972852386,
          0.24781088756764216,
          0.3839216272622539,
          0.22551268585354925,
          0.20481174216388842,
          0.15079045831036098,
          0.11556199409855976,
          0.37258759540533837,
          0.35260679012152063,
          0.2225257308513764,
          0.2056683891879197,
          1,
          0.09824437945475398,
          0.21789049357485774,
          0.2810481524765566,
          0.26191667640029387,
          0.2097426551454678,
          0.3698648856683021,
          0.5382918878820072,
          0.33998777715469025,
          0.15591363642800482,
          0.2326388176099043,
          0.12012890771844613,
          0.1716754458715214,
          0.12346782931912202,
          0.11068182640063788,
          0.33105981103177473,
          0,
          0.2820347612944,
          0.06717407525944238,
          0.40683699615487023,
          0.19905971323005262,
          0.41721071806051613,
          0.31659625386292023,
          0.4592563770073351,
          0.29791097737476313,
          0.1524887615282691,
          0.26100110117516706,
          0.16556753276199498,
          0.06188494858948515,
          0.12939776930305694,
          0.11331753013961611,
          0.1315470443732979,
          0.5822107074686753,
          0.08486453852506129,
          0.07575880084607231,
          0.177319023107183,
          0.1905994093505944,
          0.2679804541142328,
          0.23933065271641685,
          0.07445946707823042,
          0.34881709133591554,
          0.34629094800216864,
          0.8199676850718465,
          0.26536569553761663,
          0.2461366958663211,
          0.2865089671201562,
          0.17445233437333976,
          0.1711582300643844,
          0.13840845995232237,
          0.020028703584531682,
          0.11231011265990565,
          0.19438170978457836,
          0.17376946483567274,
          0.32308351052853185,
          0.46675117599584615,
          0.158636113044688,
          0.23981266260616574,
          0.15260638998994872,
          0.22566102639149044,
          0.32156840502344924,
          0.15280644168209984,
          0.13707545326027165,
          0.0753077656283615,
          0.2502520265299035,
          0.2864854295269551,
          0.09358477260899689,
          0.3932307877469235,
          0.21568835732999345,
          0.25002328174063565,
          0.08257478055257875,
          0.07795521534615324,
          0.2014118352297688,
          0.09529977287841407,
          0.19960797232001543,
          0.20875013000616918,
          0.3050517587725625
         ],
         "z": [
          0.5689043450861536,
          0.4027530929062952,
          0.3503075163368559,
          0.3439456378888,
          0.3753839010104991,
          0.5399724846647369,
          0.3357829945713674,
          0.652559597634335,
          0.6333183653840637,
          0.3919340672251896,
          0.5109359246212005,
          0.33750816640122183,
          0.3587677218764771,
          0.4695837143285628,
          0.308178385543566,
          0.5524589533891129,
          0.3209464769557394,
          0.4346818347833099,
          0.32139467937003885,
          0.3740148850549776,
          0.5542004567419113,
          0.48104441990056124,
          0.5857558648154316,
          0.3320426192870711,
          0.38175604523442536,
          0.5564626820613482,
          0.7326155473435676,
          0.34319561533864734,
          0.48221426269211365,
          0.7024357060031134,
          0.3114847931180243,
          0.4694202815930929,
          0.46029976717982357,
          0.4863004249902007,
          0.3834063177146514,
          0.5121207020155111,
          0.4196146084259225,
          0.5483213544052534,
          0.2345358642523658,
          0.5845406516953582,
          0.42829262855425443,
          0.4668143103655972,
          0.39844903411281624,
          0.4140256814800507,
          0.687212410584425,
          0.4474969364694733,
          0.5028772192125364,
          0.40260058745993194,
          0.43079254702049496,
          0.36608413972332626,
          0.38733163530843734,
          0.3152682571753066,
          0.29823617520044876,
          0.596290587000222,
          0.7232943200376561,
          0.36058434993723004,
          0.4800171528498625,
          0.5160061534268292,
          0.6687798218755533,
          0.4155795041935378,
          0.6233657460132351,
          0.40324496737012727,
          0.4705935105078704,
          0.43946763083441026,
          0.6030372335304414,
          0.30868418805082376,
          0.5014234342740735,
          0.3295651048010287,
          0.5784111746212492,
          0.3714084181035926,
          0.31431947308182595,
          0.4185402895507243,
          0.5364514651167253,
          0.4604384875704952,
          0.544920010970839,
          0.6180665315147204,
          0.34277663111884193,
          0.6676477191721901,
          0.4411463452513099,
          0.3509252723293981,
          0.42969799345312265,
          0.6087061751536216,
          0.3372072573804217,
          0.3331329642690236,
          0.3566981697247439,
          0.3733192757622989,
          0.4058296092345208,
          0.5349071215320709,
          0.631396476864249,
          0.2966514492878543,
          0.3573913046367654,
          0.3627752729938341,
          0.3890719061782888,
          0.37565660938148343,
          0.5148749140504577,
          0.23013979358505227,
          0.3186865811518992,
          0.5032698071279683,
          0.1951480792762092,
          0.3576989579937989,
          0.34089531569041104,
          0.6851455816466894,
          0.5159478218557547,
          0.3293345553351014,
          0.47187267500300056,
          0.37696916025553,
          0.4479360018166527,
          0.3617225107404205,
          0.4211709317139884,
          0.413086850920253,
          0.6309936069591537,
          0.6380896493684487,
          0.5061626961631815,
          0.4744643870457205,
          0.7267540950898167,
          0.2874549435215844,
          0.36378474088653934,
          0.39228867007280055,
          0.35570790718103995,
          0.40338237235360513,
          0.3313154558512186,
          0.44267868402952176,
          0.6164183902113715,
          0.4115958507409484,
          0.38286688126420604,
          0.3946801848297521,
          0.6585510030495751,
          0.44589057345539884,
          0.3790591359996971,
          0.464065877122669,
          0.5315625988834578,
          0.14646299243139466,
          0.7824636642578942,
          0,
          0.40295765326691435,
          0.4815870883529108,
          0.44742151690636084,
          0.5541399829686763,
          0.42443358562272876,
          0.6038489375209166,
          0.31057827728813814,
          0.3319208934977617,
          0.5205440066094063,
          0.42696977352489573,
          0.6223044387786509,
          0.6943094069786888,
          0.42504157487936484,
          0.5058361217491256,
          0.23443069066915054,
          0.6589446686242204,
          0.4947199807618212,
          0.39977089946138195,
          0.35975148576106597,
          0.4793576246936747,
          0.2315336147002351,
          0.6349799272458426,
          0.40045522617911555,
          0.2917681541437921,
          0.6291358752764421,
          1,
          0.5278353368256393,
          0.4040950387570448,
          0.35950328072914106,
          0.4069513750214939,
          0.3045547025237874,
          0.4283790350163438,
          0.47524108822195305
         ]
        }
       ],
       "layout": {
        "coloraxis": {
         "colorbar": {
          "title": {
           "text": "color"
          }
         },
         "colorscale": [
          [
           0,
           "#0d0887"
          ],
          [
           0.1111111111111111,
           "#46039f"
          ],
          [
           0.2222222222222222,
           "#7201a8"
          ],
          [
           0.3333333333333333,
           "#9c179e"
          ],
          [
           0.4444444444444444,
           "#bd3786"
          ],
          [
           0.5555555555555556,
           "#d8576b"
          ],
          [
           0.6666666666666666,
           "#ed7953"
          ],
          [
           0.7777777777777778,
           "#fb9f3a"
          ],
          [
           0.8888888888888888,
           "#fdca26"
          ],
          [
           1,
           "#f0f921"
          ]
         ]
        },
        "legend": {
         "tracegroupgap": 0
        },
        "margin": {
         "t": 60
        },
        "scene": {
         "domain": {
          "x": [
           0,
           1
          ],
          "y": [
           0,
           1
          ]
         },
         "xaxis": {
          "title": {
           "text": "x"
          }
         },
         "yaxis": {
          "title": {
           "text": "y"
          }
         },
         "zaxis": {
          "title": {
           "text": "z"
          }
         }
        },
        "template": {
         "data": {
          "bar": [
           {
            "error_x": {
             "color": "#2a3f5f"
            },
            "error_y": {
             "color": "#2a3f5f"
            },
            "marker": {
             "line": {
              "color": "#E5ECF6",
              "width": 0.5
             },
             "pattern": {
              "fillmode": "overlay",
              "size": 10,
              "solidity": 0.2
             }
            },
            "type": "bar"
           }
          ],
          "barpolar": [
           {
            "marker": {
             "line": {
              "color": "#E5ECF6",
              "width": 0.5
             },
             "pattern": {
              "fillmode": "overlay",
              "size": 10,
              "solidity": 0.2
             }
            },
            "type": "barpolar"
           }
          ],
          "carpet": [
           {
            "aaxis": {
             "endlinecolor": "#2a3f5f",
             "gridcolor": "white",
             "linecolor": "white",
             "minorgridcolor": "white",
             "startlinecolor": "#2a3f5f"
            },
            "baxis": {
             "endlinecolor": "#2a3f5f",
             "gridcolor": "white",
             "linecolor": "white",
             "minorgridcolor": "white",
             "startlinecolor": "#2a3f5f"
            },
            "type": "carpet"
           }
          ],
          "choropleth": [
           {
            "colorbar": {
             "outlinewidth": 0,
             "ticks": ""
            },
            "type": "choropleth"
           }
          ],
          "contour": [
           {
            "colorbar": {
             "outlinewidth": 0,
             "ticks": ""
            },
            "colorscale": [
             [
              0,
              "#0d0887"
             ],
             [
              0.1111111111111111,
              "#46039f"
             ],
             [
              0.2222222222222222,
              "#7201a8"
             ],
             [
              0.3333333333333333,
              "#9c179e"
             ],
             [
              0.4444444444444444,
              "#bd3786"
             ],
             [
              0.5555555555555556,
              "#d8576b"
             ],
             [
              0.6666666666666666,
              "#ed7953"
             ],
             [
              0.7777777777777778,
              "#fb9f3a"
             ],
             [
              0.8888888888888888,
              "#fdca26"
             ],
             [
              1,
              "#f0f921"
             ]
            ],
            "type": "contour"
           }
          ],
          "contourcarpet": [
           {
            "colorbar": {
             "outlinewidth": 0,
             "ticks": ""
            },
            "type": "contourcarpet"
           }
          ],
          "heatmap": [
           {
            "colorbar": {
             "outlinewidth": 0,
             "ticks": ""
            },
            "colorscale": [
             [
              0,
              "#0d0887"
             ],
             [
              0.1111111111111111,
              "#46039f"
             ],
             [
              0.2222222222222222,
              "#7201a8"
             ],
             [
              0.3333333333333333,
              "#9c179e"
             ],
             [
              0.4444444444444444,
              "#bd3786"
             ],
             [
              0.5555555555555556,
              "#d8576b"
             ],
             [
              0.6666666666666666,
              "#ed7953"
             ],
             [
              0.7777777777777778,
              "#fb9f3a"
             ],
             [
              0.8888888888888888,
              "#fdca26"
             ],
             [
              1,
              "#f0f921"
             ]
            ],
            "type": "heatmap"
           }
          ],
          "heatmapgl": [
           {
            "colorbar": {
             "outlinewidth": 0,
             "ticks": ""
            },
            "colorscale": [
             [
              0,
              "#0d0887"
             ],
             [
              0.1111111111111111,
              "#46039f"
             ],
             [
              0.2222222222222222,
              "#7201a8"
             ],
             [
              0.3333333333333333,
              "#9c179e"
             ],
             [
              0.4444444444444444,
              "#bd3786"
             ],
             [
              0.5555555555555556,
              "#d8576b"
             ],
             [
              0.6666666666666666,
              "#ed7953"
             ],
             [
              0.7777777777777778,
              "#fb9f3a"
             ],
             [
              0.8888888888888888,
              "#fdca26"
             ],
             [
              1,
              "#f0f921"
             ]
            ],
            "type": "heatmapgl"
           }
          ],
          "histogram": [
           {
            "marker": {
             "pattern": {
              "fillmode": "overlay",
              "size": 10,
              "solidity": 0.2
             }
            },
            "type": "histogram"
           }
          ],
          "histogram2d": [
           {
            "colorbar": {
             "outlinewidth": 0,
             "ticks": ""
            },
            "colorscale": [
             [
              0,
              "#0d0887"
             ],
             [
              0.1111111111111111,
              "#46039f"
             ],
             [
              0.2222222222222222,
              "#7201a8"
             ],
             [
              0.3333333333333333,
              "#9c179e"
             ],
             [
              0.4444444444444444,
              "#bd3786"
             ],
             [
              0.5555555555555556,
              "#d8576b"
             ],
             [
              0.6666666666666666,
              "#ed7953"
             ],
             [
              0.7777777777777778,
              "#fb9f3a"
             ],
             [
              0.8888888888888888,
              "#fdca26"
             ],
             [
              1,
              "#f0f921"
             ]
            ],
            "type": "histogram2d"
           }
          ],
          "histogram2dcontour": [
           {
            "colorbar": {
             "outlinewidth": 0,
             "ticks": ""
            },
            "colorscale": [
             [
              0,
              "#0d0887"
             ],
             [
              0.1111111111111111,
              "#46039f"
             ],
             [
              0.2222222222222222,
              "#7201a8"
             ],
             [
              0.3333333333333333,
              "#9c179e"
             ],
             [
              0.4444444444444444,
              "#bd3786"
             ],
             [
              0.5555555555555556,
              "#d8576b"
             ],
             [
              0.6666666666666666,
              "#ed7953"
             ],
             [
              0.7777777777777778,
              "#fb9f3a"
             ],
             [
              0.8888888888888888,
              "#fdca26"
             ],
             [
              1,
              "#f0f921"
             ]
            ],
            "type": "histogram2dcontour"
           }
          ],
          "mesh3d": [
           {
            "colorbar": {
             "outlinewidth": 0,
             "ticks": ""
            },
            "type": "mesh3d"
           }
          ],
          "parcoords": [
           {
            "line": {
             "colorbar": {
              "outlinewidth": 0,
              "ticks": ""
             }
            },
            "type": "parcoords"
           }
          ],
          "pie": [
           {
            "automargin": true,
            "type": "pie"
           }
          ],
          "scatter": [
           {
            "fillpattern": {
             "fillmode": "overlay",
             "size": 10,
             "solidity": 0.2
            },
            "type": "scatter"
           }
          ],
          "scatter3d": [
           {
            "line": {
             "colorbar": {
              "outlinewidth": 0,
              "ticks": ""
             }
            },
            "marker": {
             "colorbar": {
              "outlinewidth": 0,
              "ticks": ""
             }
            },
            "type": "scatter3d"
           }
          ],
          "scattercarpet": [
           {
            "marker": {
             "colorbar": {
              "outlinewidth": 0,
              "ticks": ""
             }
            },
            "type": "scattercarpet"
           }
          ],
          "scattergeo": [
           {
            "marker": {
             "colorbar": {
              "outlinewidth": 0,
              "ticks": ""
             }
            },
            "type": "scattergeo"
           }
          ],
          "scattergl": [
           {
            "marker": {
             "colorbar": {
              "outlinewidth": 0,
              "ticks": ""
             }
            },
            "type": "scattergl"
           }
          ],
          "scattermapbox": [
           {
            "marker": {
             "colorbar": {
              "outlinewidth": 0,
              "ticks": ""
             }
            },
            "type": "scattermapbox"
           }
          ],
          "scatterpolar": [
           {
            "marker": {
             "colorbar": {
              "outlinewidth": 0,
              "ticks": ""
             }
            },
            "type": "scatterpolar"
           }
          ],
          "scatterpolargl": [
           {
            "marker": {
             "colorbar": {
              "outlinewidth": 0,
              "ticks": ""
             }
            },
            "type": "scatterpolargl"
           }
          ],
          "scatterternary": [
           {
            "marker": {
             "colorbar": {
              "outlinewidth": 0,
              "ticks": ""
             }
            },
            "type": "scatterternary"
           }
          ],
          "surface": [
           {
            "colorbar": {
             "outlinewidth": 0,
             "ticks": ""
            },
            "colorscale": [
             [
              0,
              "#0d0887"
             ],
             [
              0.1111111111111111,
              "#46039f"
             ],
             [
              0.2222222222222222,
              "#7201a8"
             ],
             [
              0.3333333333333333,
              "#9c179e"
             ],
             [
              0.4444444444444444,
              "#bd3786"
             ],
             [
              0.5555555555555556,
              "#d8576b"
             ],
             [
              0.6666666666666666,
              "#ed7953"
             ],
             [
              0.7777777777777778,
              "#fb9f3a"
             ],
             [
              0.8888888888888888,
              "#fdca26"
             ],
             [
              1,
              "#f0f921"
             ]
            ],
            "type": "surface"
           }
          ],
          "table": [
           {
            "cells": {
             "fill": {
              "color": "#EBF0F8"
             },
             "line": {
              "color": "white"
             }
            },
            "header": {
             "fill": {
              "color": "#C8D4E3"
             },
             "line": {
              "color": "white"
             }
            },
            "type": "table"
           }
          ]
         },
         "layout": {
          "annotationdefaults": {
           "arrowcolor": "#2a3f5f",
           "arrowhead": 0,
           "arrowwidth": 1
          },
          "autotypenumbers": "strict",
          "coloraxis": {
           "colorbar": {
            "outlinewidth": 0,
            "ticks": ""
           }
          },
          "colorscale": {
           "diverging": [
            [
             0,
             "#8e0152"
            ],
            [
             0.1,
             "#c51b7d"
            ],
            [
             0.2,
             "#de77ae"
            ],
            [
             0.3,
             "#f1b6da"
            ],
            [
             0.4,
             "#fde0ef"
            ],
            [
             0.5,
             "#f7f7f7"
            ],
            [
             0.6,
             "#e6f5d0"
            ],
            [
             0.7,
             "#b8e186"
            ],
            [
             0.8,
             "#7fbc41"
            ],
            [
             0.9,
             "#4d9221"
            ],
            [
             1,
             "#276419"
            ]
           ],
           "sequential": [
            [
             0,
             "#0d0887"
            ],
            [
             0.1111111111111111,
             "#46039f"
            ],
            [
             0.2222222222222222,
             "#7201a8"
            ],
            [
             0.3333333333333333,
             "#9c179e"
            ],
            [
             0.4444444444444444,
             "#bd3786"
            ],
            [
             0.5555555555555556,
             "#d8576b"
            ],
            [
             0.6666666666666666,
             "#ed7953"
            ],
            [
             0.7777777777777778,
             "#fb9f3a"
            ],
            [
             0.8888888888888888,
             "#fdca26"
            ],
            [
             1,
             "#f0f921"
            ]
           ],
           "sequentialminus": [
            [
             0,
             "#0d0887"
            ],
            [
             0.1111111111111111,
             "#46039f"
            ],
            [
             0.2222222222222222,
             "#7201a8"
            ],
            [
             0.3333333333333333,
             "#9c179e"
            ],
            [
             0.4444444444444444,
             "#bd3786"
            ],
            [
             0.5555555555555556,
             "#d8576b"
            ],
            [
             0.6666666666666666,
             "#ed7953"
            ],
            [
             0.7777777777777778,
             "#fb9f3a"
            ],
            [
             0.8888888888888888,
             "#fdca26"
            ],
            [
             1,
             "#f0f921"
            ]
           ]
          },
          "colorway": [
           "#636efa",
           "#EF553B",
           "#00cc96",
           "#ab63fa",
           "#FFA15A",
           "#19d3f3",
           "#FF6692",
           "#B6E880",
           "#FF97FF",
           "#FECB52"
          ],
          "font": {
           "color": "#2a3f5f"
          },
          "geo": {
           "bgcolor": "white",
           "lakecolor": "white",
           "landcolor": "#E5ECF6",
           "showlakes": true,
           "showland": true,
           "subunitcolor": "white"
          },
          "hoverlabel": {
           "align": "left"
          },
          "hovermode": "closest",
          "mapbox": {
           "style": "light"
          },
          "paper_bgcolor": "white",
          "plot_bgcolor": "#E5ECF6",
          "polar": {
           "angularaxis": {
            "gridcolor": "white",
            "linecolor": "white",
            "ticks": ""
           },
           "bgcolor": "#E5ECF6",
           "radialaxis": {
            "gridcolor": "white",
            "linecolor": "white",
            "ticks": ""
           }
          },
          "scene": {
           "xaxis": {
            "backgroundcolor": "#E5ECF6",
            "gridcolor": "white",
            "gridwidth": 2,
            "linecolor": "white",
            "showbackground": true,
            "ticks": "",
            "zerolinecolor": "white"
           },
           "yaxis": {
            "backgroundcolor": "#E5ECF6",
            "gridcolor": "white",
            "gridwidth": 2,
            "linecolor": "white",
            "showbackground": true,
            "ticks": "",
            "zerolinecolor": "white"
           },
           "zaxis": {
            "backgroundcolor": "#E5ECF6",
            "gridcolor": "white",
            "gridwidth": 2,
            "linecolor": "white",
            "showbackground": true,
            "ticks": "",
            "zerolinecolor": "white"
           }
          },
          "shapedefaults": {
           "line": {
            "color": "#2a3f5f"
           }
          },
          "ternary": {
           "aaxis": {
            "gridcolor": "white",
            "linecolor": "white",
            "ticks": ""
           },
           "baxis": {
            "gridcolor": "white",
            "linecolor": "white",
            "ticks": ""
           },
           "bgcolor": "#E5ECF6",
           "caxis": {
            "gridcolor": "white",
            "linecolor": "white",
            "ticks": ""
           }
          },
          "title": {
           "x": 0.05
          },
          "xaxis": {
           "automargin": true,
           "gridcolor": "white",
           "linecolor": "white",
           "ticks": "",
           "title": {
            "standoff": 15
           },
           "zerolinecolor": "white",
           "zerolinewidth": 2
          },
          "yaxis": {
           "automargin": true,
           "gridcolor": "white",
           "linecolor": "white",
           "ticks": "",
           "title": {
            "standoff": 15
           },
           "zerolinecolor": "white",
           "zerolinewidth": 2
          }
         }
        }
       }
      }
     },
     "metadata": {},
     "output_type": "display_data"
    }
   ],
   "source": [
    "data_raw[\"PC1\"] = data_pca[\"PC1\"]\n",
    "data_raw[\"PC2\"] = data_pca[\"PC2\"]\n",
    "data_raw[\"PC3\"] = data_pca[\"PC3\"]\n",
    "data_raw[\"PC4\"] = data_pca[\"PC4\"]\n",
    "countries = data_raw.index.tolist()\n",
    "fig = px.scatter_3d(x=data_raw.PC1, y=data_raw.PC2, z=data_raw.PC3, color=data_raw.cluster_raw, opacity=0.7)\n",
    "fig.update_traces(mode=\"markers\", hovertemplate=countries)\n",
    "fig.show()"
   ]
  },
  {
   "cell_type": "code",
   "execution_count": 14,
   "metadata": {},
   "outputs": [
    {
     "data": {
      "text/plain": [
       "cluster_pca  cluster_raw\n",
       "0            1              38\n",
       "4            0              22\n",
       "2            4              17\n",
       "1            0               8\n",
       "0            4               7\n",
       "2            1               3\n",
       "             0               1\n",
       "dtype: int64"
      ]
     },
     "execution_count": 14,
     "metadata": {},
     "output_type": "execute_result"
    }
   ],
   "source": [
    "subs = data_pca.merge(data_raw)\n",
    "subs = subs[[\"cluster_pca\", \"cluster_raw\"]]\n",
    "subs.index = countries\n",
    "subs2 = subs.loc[subs[\"cluster_pca\"] != subs[\"cluster_raw\"]]\n",
    "subs2.value_counts()"
   ]
  }
 ],
 "metadata": {
  "kernelspec": {
   "display_name": "stats_exam",
   "language": "python",
   "name": "python3"
  },
  "language_info": {
   "codemirror_mode": {
    "name": "ipython",
    "version": 3
   },
   "file_extension": ".py",
   "mimetype": "text/x-python",
   "name": "python",
   "nbconvert_exporter": "python",
   "pygments_lexer": "ipython3",
   "version": "3.9.4"
  },
  "orig_nbformat": 4,
  "vscode": {
   "interpreter": {
    "hash": "385d92de6db470fb2e5225f42a78c13f07bd894b7765e30051c00c9f444fadf3"
   }
  }
 },
 "nbformat": 4,
 "nbformat_minor": 2
}
