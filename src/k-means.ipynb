{
 "cells": [
  {
   "cell_type": "markdown",
   "metadata": {},
   "source": []
  },
  {
   "cell_type": "markdown",
   "metadata": {},
   "source": [
    "# K-Means Clustering"
   ]
  },
  {
   "cell_type": "markdown",
   "metadata": {},
   "source": [
    "Conventional k-means requires only a few steps. The first step is to randomly select k centroids, where k is equal to the number of clusters you choose. Centroids are data points representing the center of a cluster.\n",
    "\n",
    "The main element of the algorithm works by a two-step process called expectation-maximization. The expectation step assigns each data point to its nearest centroid. Then, the maximization step computes the mean of all the points for each cluster and sets the new centroid.\n",
    "\n",
    "The quality of the cluster assignments is determined by computing the sum of the squared error (SSE) after the centroids converge, or match the previous iteration’s assignment. The SSE is defined as the sum of the squared Euclidean distances of each point to its closest centroid. Since this is a measure of error, the objective of k-means is to try to minimize this value.\n",
    "\n",
    "After choosing a number of clusters and the initial centroids, the expectation-maximization step is repeated until the centroid positions reach convergence and are unchanged.\n",
    "\n",
    "The random initialization step causes the k-means algorithm to be nondeterministic, meaning that cluster assignments will vary if you run the same algorithm twice on the same dataset. Researchers commonly run several initializations of the entire k-means algorithm and choose the cluster assignments from the initialization with the lowest SSE. "
   ]
  },
  {
   "cell_type": "code",
   "execution_count": 97,
   "metadata": {},
   "outputs": [],
   "source": [
    "import pandas as pd  \n",
    "import matplotlib.pyplot as plt\n",
    "import seaborn as sns; sns.set()  # for plot styling\n",
    "import numpy as np\n",
    "from kneed import KneeLocator\n",
    "from sklearn.cluster import KMeans\n",
    "from sklearn.metrics import silhouette_score\n",
    "from sklearn.preprocessing import MinMaxScaler\n",
    "import scipy.cluster.hierarchy as sch\n",
    "from sklearn.cluster import AgglomerativeClustering\n",
    "import plotly.express as px\n",
    "\n",
    "\n",
    "pd.set_option('display.max_columns', None) # display all columns\n",
    "pd.set_option(\"max_colwidth\", 40) # sets a maximum column width\n",
    "pd.set_option(\"display.precision\", 7) # sets the number of decimals shown\n",
    "# pd.set_option(\"styler.format.precision\", 3) # rounds floats\n",
    "\n",
    "\n"
   ]
  },
  {
   "cell_type": "code",
   "execution_count": 98,
   "metadata": {},
   "outputs": [],
   "source": [
    "data_pca = pd.read_csv('../data/country-data-pca.csv')\n",
    "data_raw = pd.read_csv('../data/country-data.csv')\n",
    "data_raw_fin = pd.read_csv('../data/country-data.csv')\n",
    "data_raw_nfin = pd.read_csv('../data/country-data.csv')"
   ]
  },
  {
   "cell_type": "code",
   "execution_count": 80,
   "metadata": {},
   "outputs": [
    {
     "data": {
      "text/html": [
       "<div>\n",
       "<style scoped>\n",
       "    .dataframe tbody tr th:only-of-type {\n",
       "        vertical-align: middle;\n",
       "    }\n",
       "\n",
       "    .dataframe tbody tr th {\n",
       "        vertical-align: top;\n",
       "    }\n",
       "\n",
       "    .dataframe thead th {\n",
       "        text-align: right;\n",
       "    }\n",
       "</style>\n",
       "<table border=\"1\" class=\"dataframe\">\n",
       "  <thead>\n",
       "    <tr style=\"text-align: right;\">\n",
       "      <th></th>\n",
       "      <th>exports</th>\n",
       "      <th>imports</th>\n",
       "      <th>income</th>\n",
       "      <th>inflation</th>\n",
       "      <th>gdpp</th>\n",
       "    </tr>\n",
       "    <tr>\n",
       "      <th>country</th>\n",
       "      <th></th>\n",
       "      <th></th>\n",
       "      <th></th>\n",
       "      <th></th>\n",
       "      <th></th>\n",
       "    </tr>\n",
       "  </thead>\n",
       "  <tbody>\n",
       "    <tr>\n",
       "      <th>Afghanistan</th>\n",
       "      <td>0.0494820</td>\n",
       "      <td>0.2577649</td>\n",
       "      <td>0.0080472</td>\n",
       "      <td>0.1261436</td>\n",
       "      <td>0.0030734</td>\n",
       "    </tr>\n",
       "    <tr>\n",
       "      <th>Albania</th>\n",
       "      <td>0.1395310</td>\n",
       "      <td>0.2790373</td>\n",
       "      <td>0.0749331</td>\n",
       "      <td>0.0803992</td>\n",
       "      <td>0.0368334</td>\n",
       "    </tr>\n",
       "    <tr>\n",
       "      <th>Algeria</th>\n",
       "      <td>0.1915594</td>\n",
       "      <td>0.1801493</td>\n",
       "      <td>0.0988094</td>\n",
       "      <td>0.1876906</td>\n",
       "      <td>0.0403650</td>\n",
       "    </tr>\n",
       "    <tr>\n",
       "      <th>Angola</th>\n",
       "      <td>0.3111246</td>\n",
       "      <td>0.2462663</td>\n",
       "      <td>0.0425352</td>\n",
       "      <td>0.2459107</td>\n",
       "      <td>0.0314883</td>\n",
       "    </tr>\n",
       "    <tr>\n",
       "      <th>Antigua and Barbuda</th>\n",
       "      <td>0.2270788</td>\n",
       "      <td>0.3382551</td>\n",
       "      <td>0.1486522</td>\n",
       "      <td>0.0522133</td>\n",
       "      <td>0.1142418</td>\n",
       "    </tr>\n",
       "    <tr>\n",
       "      <th>...</th>\n",
       "      <td>...</td>\n",
       "      <td>...</td>\n",
       "      <td>...</td>\n",
       "      <td>...</td>\n",
       "      <td>...</td>\n",
       "    </tr>\n",
       "    <tr>\n",
       "      <th>Vanuatu</th>\n",
       "      <td>0.2325818</td>\n",
       "      <td>0.3026094</td>\n",
       "      <td>0.0188197</td>\n",
       "      <td>0.0631180</td>\n",
       "      <td>0.0261432</td>\n",
       "    </tr>\n",
       "    <tr>\n",
       "      <th>Venezuela</th>\n",
       "      <td>0.1420324</td>\n",
       "      <td>0.1008089</td>\n",
       "      <td>0.1277504</td>\n",
       "      <td>0.4630810</td>\n",
       "      <td>0.1266501</td>\n",
       "    </tr>\n",
       "    <tr>\n",
       "      <th>Vietnam</th>\n",
       "      <td>0.3596510</td>\n",
       "      <td>0.4607153</td>\n",
       "      <td>0.0312000</td>\n",
       "      <td>0.1507254</td>\n",
       "      <td>0.0102988</td>\n",
       "    </tr>\n",
       "    <tr>\n",
       "      <th>Yemen</th>\n",
       "      <td>0.1495365</td>\n",
       "      <td>0.1973972</td>\n",
       "      <td>0.0311196</td>\n",
       "      <td>0.2570003</td>\n",
       "      <td>0.0102988</td>\n",
       "    </tr>\n",
       "    <tr>\n",
       "      <th>Zambia</th>\n",
       "      <td>0.1845556</td>\n",
       "      <td>0.1772746</td>\n",
       "      <td>0.0214726</td>\n",
       "      <td>0.1682839</td>\n",
       "      <td>0.0117306</td>\n",
       "    </tr>\n",
       "  </tbody>\n",
       "</table>\n",
       "<p>167 rows × 5 columns</p>\n",
       "</div>"
      ],
      "text/plain": [
       "                       exports    imports     income  inflation       gdpp\n",
       "country                                                                   \n",
       "Afghanistan          0.0494820  0.2577649  0.0080472  0.1261436  0.0030734\n",
       "Albania              0.1395310  0.2790373  0.0749331  0.0803992  0.0368334\n",
       "Algeria              0.1915594  0.1801493  0.0988094  0.1876906  0.0403650\n",
       "Angola               0.3111246  0.2462663  0.0425352  0.2459107  0.0314883\n",
       "Antigua and Barbuda  0.2270788  0.3382551  0.1486522  0.0522133  0.1142418\n",
       "...                        ...        ...        ...        ...        ...\n",
       "Vanuatu              0.2325818  0.3026094  0.0188197  0.0631180  0.0261432\n",
       "Venezuela            0.1420324  0.1008089  0.1277504  0.4630810  0.1266501\n",
       "Vietnam              0.3596510  0.4607153  0.0312000  0.1507254  0.0102988\n",
       "Yemen                0.1495365  0.1973972  0.0311196  0.2570003  0.0102988\n",
       "Zambia               0.1845556  0.1772746  0.0214726  0.1682839  0.0117306\n",
       "\n",
       "[167 rows x 5 columns]"
      ]
     },
     "execution_count": 80,
     "metadata": {},
     "output_type": "execute_result"
    }
   ],
   "source": [
    "# indicators\n",
    "financial = ['country','exports', 'imports', 'income', 'inflation', 'gdpp']\n",
    "data_raw_fin = data_raw_fin[financial]\n",
    "\n",
    "countries = data_raw_fin.country\n",
    "data_raw_fin.drop(columns=[\"country\"], inplace=True)\n",
    "columns = data_raw_fin.columns\n",
    "scaler = MinMaxScaler()\n",
    "scaled_data_raw_fin = scaler.fit_transform(data_raw_fin) # numpy array\n",
    "data_raw_fin = pd.DataFrame(scaled_data_raw_fin, columns=columns)\n",
    "data_raw_fin.index = countries\n",
    "data_raw_fin"
   ]
  },
  {
   "cell_type": "code",
   "execution_count": 81,
   "metadata": {},
   "outputs": [
    {
     "data": {
      "text/html": [
       "<div>\n",
       "<style scoped>\n",
       "    .dataframe tbody tr th:only-of-type {\n",
       "        vertical-align: middle;\n",
       "    }\n",
       "\n",
       "    .dataframe tbody tr th {\n",
       "        vertical-align: top;\n",
       "    }\n",
       "\n",
       "    .dataframe thead th {\n",
       "        text-align: right;\n",
       "    }\n",
       "</style>\n",
       "<table border=\"1\" class=\"dataframe\">\n",
       "  <thead>\n",
       "    <tr style=\"text-align: right;\">\n",
       "      <th></th>\n",
       "      <th>child_mort</th>\n",
       "      <th>life_expec</th>\n",
       "      <th>total_fer</th>\n",
       "    </tr>\n",
       "    <tr>\n",
       "      <th>country</th>\n",
       "      <th></th>\n",
       "      <th></th>\n",
       "      <th></th>\n",
       "    </tr>\n",
       "  </thead>\n",
       "  <tbody>\n",
       "    <tr>\n",
       "      <th>Afghanistan</th>\n",
       "      <td>0.4264849</td>\n",
       "      <td>0.4753452</td>\n",
       "      <td>0.7365931</td>\n",
       "    </tr>\n",
       "    <tr>\n",
       "      <th>Albania</th>\n",
       "      <td>0.0681597</td>\n",
       "      <td>0.8717949</td>\n",
       "      <td>0.0788644</td>\n",
       "    </tr>\n",
       "    <tr>\n",
       "      <th>Algeria</th>\n",
       "      <td>0.1202532</td>\n",
       "      <td>0.8757396</td>\n",
       "      <td>0.2744479</td>\n",
       "    </tr>\n",
       "    <tr>\n",
       "      <th>Angola</th>\n",
       "      <td>0.5666991</td>\n",
       "      <td>0.5522682</td>\n",
       "      <td>0.7902208</td>\n",
       "    </tr>\n",
       "    <tr>\n",
       "      <th>Antigua and Barbuda</th>\n",
       "      <td>0.0374878</td>\n",
       "      <td>0.8816568</td>\n",
       "      <td>0.1545741</td>\n",
       "    </tr>\n",
       "    <tr>\n",
       "      <th>...</th>\n",
       "      <td>...</td>\n",
       "      <td>...</td>\n",
       "      <td>...</td>\n",
       "    </tr>\n",
       "    <tr>\n",
       "      <th>Vanuatu</th>\n",
       "      <td>0.1295034</td>\n",
       "      <td>0.6094675</td>\n",
       "      <td>0.3706625</td>\n",
       "    </tr>\n",
       "    <tr>\n",
       "      <th>Venezuela</th>\n",
       "      <td>0.0705940</td>\n",
       "      <td>0.8540434</td>\n",
       "      <td>0.2082019</td>\n",
       "    </tr>\n",
       "    <tr>\n",
       "      <th>Vietnam</th>\n",
       "      <td>0.1007790</td>\n",
       "      <td>0.8086785</td>\n",
       "      <td>0.1261830</td>\n",
       "    </tr>\n",
       "    <tr>\n",
       "      <th>Yemen</th>\n",
       "      <td>0.2614411</td>\n",
       "      <td>0.6982249</td>\n",
       "      <td>0.5552050</td>\n",
       "    </tr>\n",
       "    <tr>\n",
       "      <th>Zambia</th>\n",
       "      <td>0.3919182</td>\n",
       "      <td>0.3925049</td>\n",
       "      <td>0.6703470</td>\n",
       "    </tr>\n",
       "  </tbody>\n",
       "</table>\n",
       "<p>167 rows × 3 columns</p>\n",
       "</div>"
      ],
      "text/plain": [
       "                     child_mort  life_expec  total_fer\n",
       "country                                               \n",
       "Afghanistan           0.4264849   0.4753452  0.7365931\n",
       "Albania               0.0681597   0.8717949  0.0788644\n",
       "Algeria               0.1202532   0.8757396  0.2744479\n",
       "Angola                0.5666991   0.5522682  0.7902208\n",
       "Antigua and Barbuda   0.0374878   0.8816568  0.1545741\n",
       "...                         ...         ...        ...\n",
       "Vanuatu               0.1295034   0.6094675  0.3706625\n",
       "Venezuela             0.0705940   0.8540434  0.2082019\n",
       "Vietnam               0.1007790   0.8086785  0.1261830\n",
       "Yemen                 0.2614411   0.6982249  0.5552050\n",
       "Zambia                0.3919182   0.3925049  0.6703470\n",
       "\n",
       "[167 rows x 3 columns]"
      ]
     },
     "execution_count": 81,
     "metadata": {},
     "output_type": "execute_result"
    }
   ],
   "source": [
    "# indicators\n",
    "non_financial = ['country','child_mort', 'life_expec', 'total_fer']\n",
    "data_raw_nfin = data_raw_nfin[non_financial]\n",
    "\n",
    "countries = data_raw_nfin.country\n",
    "data_raw_nfin.drop(columns=[\"country\"], inplace=True)\n",
    "columns = data_raw_nfin.columns\n",
    "scaler = MinMaxScaler()\n",
    "scaled_data_raw_nfin = scaler.fit_transform(data_raw_nfin) # numpy array\n",
    "data_raw_nfin = pd.DataFrame(scaled_data_raw_nfin, columns=columns)\n",
    "data_raw_nfin.index = countries\n",
    "data_raw_nfin"
   ]
  },
  {
   "cell_type": "code",
   "execution_count": 51,
   "metadata": {},
   "outputs": [
    {
     "data": {
      "text/html": [
       "<div>\n",
       "<style scoped>\n",
       "    .dataframe tbody tr th:only-of-type {\n",
       "        vertical-align: middle;\n",
       "    }\n",
       "\n",
       "    .dataframe tbody tr th {\n",
       "        vertical-align: top;\n",
       "    }\n",
       "\n",
       "    .dataframe thead th {\n",
       "        text-align: right;\n",
       "    }\n",
       "</style>\n",
       "<table border=\"1\" class=\"dataframe\">\n",
       "  <thead>\n",
       "    <tr style=\"text-align: right;\">\n",
       "      <th></th>\n",
       "      <th>PC1</th>\n",
       "      <th>PC2</th>\n",
       "      <th>PC3</th>\n",
       "      <th>PC4</th>\n",
       "    </tr>\n",
       "    <tr>\n",
       "      <th>country</th>\n",
       "      <th></th>\n",
       "      <th></th>\n",
       "      <th></th>\n",
       "      <th></th>\n",
       "    </tr>\n",
       "  </thead>\n",
       "  <tbody>\n",
       "    <tr>\n",
       "      <th>Afghanistan</th>\n",
       "      <td>0.1334934</td>\n",
       "      <td>0.2950945</td>\n",
       "      <td>0.5689043</td>\n",
       "      <td>0.3967656</td>\n",
       "    </tr>\n",
       "    <tr>\n",
       "      <th>Albania</th>\n",
       "      <td>0.5596398</td>\n",
       "      <td>0.0647848</td>\n",
       "      <td>0.4027531</td>\n",
       "      <td>0.3664304</td>\n",
       "    </tr>\n",
       "    <tr>\n",
       "      <th>Algeria</th>\n",
       "      <td>0.4725663</td>\n",
       "      <td>0.1218602</td>\n",
       "      <td>0.3503075</td>\n",
       "      <td>0.5265294</td>\n",
       "    </tr>\n",
       "    <tr>\n",
       "      <th>Angola</th>\n",
       "      <td>0.1047158</td>\n",
       "      <td>0.4302371</td>\n",
       "      <td>0.3439456</td>\n",
       "      <td>0.5449733</td>\n",
       "    </tr>\n",
       "    <tr>\n",
       "      <th>Antigua and Barbuda</th>\n",
       "      <td>0.5833994</td>\n",
       "      <td>0.1751767</td>\n",
       "      <td>0.3753839</td>\n",
       "      <td>0.3856147</td>\n",
       "    </tr>\n",
       "    <tr>\n",
       "      <th>...</th>\n",
       "      <td>...</td>\n",
       "      <td>...</td>\n",
       "      <td>...</td>\n",
       "      <td>...</td>\n",
       "    </tr>\n",
       "    <tr>\n",
       "      <th>Vanuatu</th>\n",
       "      <td>0.3804441</td>\n",
       "      <td>0.2014118</td>\n",
       "      <td>0.3595033</td>\n",
       "      <td>0.3624427</td>\n",
       "    </tr>\n",
       "    <tr>\n",
       "      <th>Venezuela</th>\n",
       "      <td>0.5048824</td>\n",
       "      <td>0.0952998</td>\n",
       "      <td>0.4069514</td>\n",
       "      <td>0.6201173</td>\n",
       "    </tr>\n",
       "    <tr>\n",
       "      <th>Vietnam</th>\n",
       "      <td>0.5354723</td>\n",
       "      <td>0.1996080</td>\n",
       "      <td>0.3045547</td>\n",
       "      <td>0.2261156</td>\n",
       "    </tr>\n",
       "    <tr>\n",
       "      <th>Yemen</th>\n",
       "      <td>0.2831882</td>\n",
       "      <td>0.2087501</td>\n",
       "      <td>0.4283790</td>\n",
       "      <td>0.5033893</td>\n",
       "    </tr>\n",
       "    <tr>\n",
       "      <th>Zambia</th>\n",
       "      <td>0.1476585</td>\n",
       "      <td>0.3050518</td>\n",
       "      <td>0.4752411</td>\n",
       "      <td>0.4536091</td>\n",
       "    </tr>\n",
       "  </tbody>\n",
       "</table>\n",
       "<p>167 rows × 4 columns</p>\n",
       "</div>"
      ],
      "text/plain": [
       "                           PC1        PC2        PC3        PC4\n",
       "country                                                        \n",
       "Afghanistan          0.1334934  0.2950945  0.5689043  0.3967656\n",
       "Albania              0.5596398  0.0647848  0.4027531  0.3664304\n",
       "Algeria              0.4725663  0.1218602  0.3503075  0.5265294\n",
       "Angola               0.1047158  0.4302371  0.3439456  0.5449733\n",
       "Antigua and Barbuda  0.5833994  0.1751767  0.3753839  0.3856147\n",
       "...                        ...        ...        ...        ...\n",
       "Vanuatu              0.3804441  0.2014118  0.3595033  0.3624427\n",
       "Venezuela            0.5048824  0.0952998  0.4069514  0.6201173\n",
       "Vietnam              0.5354723  0.1996080  0.3045547  0.2261156\n",
       "Yemen                0.2831882  0.2087501  0.4283790  0.5033893\n",
       "Zambia               0.1476585  0.3050518  0.4752411  0.4536091\n",
       "\n",
       "[167 rows x 4 columns]"
      ]
     },
     "execution_count": 51,
     "metadata": {},
     "output_type": "execute_result"
    }
   ],
   "source": [
    "countries = data_pca.country\n",
    "data_pca.drop(columns=[\"country\"], inplace=True)\n",
    "columns = data_pca.columns\n",
    "scaler = MinMaxScaler()\n",
    "scaled_data_pca = scaler.fit_transform(data_pca) # numpy array\n",
    "data_pca = pd.DataFrame(scaled_data_pca, columns=columns)\n",
    "data_pca.index = countries\n",
    "data_pca"
   ]
  },
  {
   "cell_type": "code",
   "execution_count": 52,
   "metadata": {},
   "outputs": [
    {
     "data": {
      "text/html": [
       "<div>\n",
       "<style scoped>\n",
       "    .dataframe tbody tr th:only-of-type {\n",
       "        vertical-align: middle;\n",
       "    }\n",
       "\n",
       "    .dataframe tbody tr th {\n",
       "        vertical-align: top;\n",
       "    }\n",
       "\n",
       "    .dataframe thead th {\n",
       "        text-align: right;\n",
       "    }\n",
       "</style>\n",
       "<table border=\"1\" class=\"dataframe\">\n",
       "  <thead>\n",
       "    <tr style=\"text-align: right;\">\n",
       "      <th></th>\n",
       "      <th>child_mort</th>\n",
       "      <th>exports</th>\n",
       "      <th>health</th>\n",
       "      <th>imports</th>\n",
       "      <th>income</th>\n",
       "      <th>inflation</th>\n",
       "      <th>life_expec</th>\n",
       "      <th>total_fer</th>\n",
       "      <th>gdpp</th>\n",
       "    </tr>\n",
       "    <tr>\n",
       "      <th>country</th>\n",
       "      <th></th>\n",
       "      <th></th>\n",
       "      <th></th>\n",
       "      <th></th>\n",
       "      <th></th>\n",
       "      <th></th>\n",
       "      <th></th>\n",
       "      <th></th>\n",
       "      <th></th>\n",
       "    </tr>\n",
       "  </thead>\n",
       "  <tbody>\n",
       "    <tr>\n",
       "      <th>Afghanistan</th>\n",
       "      <td>0.4264849</td>\n",
       "      <td>0.0494820</td>\n",
       "      <td>0.3586078</td>\n",
       "      <td>0.2577649</td>\n",
       "      <td>0.0080472</td>\n",
       "      <td>0.1261436</td>\n",
       "      <td>0.4753452</td>\n",
       "      <td>0.7365931</td>\n",
       "      <td>0.0030734</td>\n",
       "    </tr>\n",
       "    <tr>\n",
       "      <th>Albania</th>\n",
       "      <td>0.0681597</td>\n",
       "      <td>0.1395310</td>\n",
       "      <td>0.2945929</td>\n",
       "      <td>0.2790373</td>\n",
       "      <td>0.0749331</td>\n",
       "      <td>0.0803992</td>\n",
       "      <td>0.8717949</td>\n",
       "      <td>0.0788644</td>\n",
       "      <td>0.0368334</td>\n",
       "    </tr>\n",
       "    <tr>\n",
       "      <th>Algeria</th>\n",
       "      <td>0.1202532</td>\n",
       "      <td>0.1915594</td>\n",
       "      <td>0.1466750</td>\n",
       "      <td>0.1801493</td>\n",
       "      <td>0.0988094</td>\n",
       "      <td>0.1876906</td>\n",
       "      <td>0.8757396</td>\n",
       "      <td>0.2744479</td>\n",
       "      <td>0.0403650</td>\n",
       "    </tr>\n",
       "    <tr>\n",
       "      <th>Angola</th>\n",
       "      <td>0.5666991</td>\n",
       "      <td>0.3111246</td>\n",
       "      <td>0.0646364</td>\n",
       "      <td>0.2462663</td>\n",
       "      <td>0.0425352</td>\n",
       "      <td>0.2459107</td>\n",
       "      <td>0.5522682</td>\n",
       "      <td>0.7902208</td>\n",
       "      <td>0.0314883</td>\n",
       "    </tr>\n",
       "    <tr>\n",
       "      <th>Antigua and Barbuda</th>\n",
       "      <td>0.0374878</td>\n",
       "      <td>0.2270788</td>\n",
       "      <td>0.2622747</td>\n",
       "      <td>0.3382551</td>\n",
       "      <td>0.1486522</td>\n",
       "      <td>0.0522133</td>\n",
       "      <td>0.8816568</td>\n",
       "      <td>0.1545741</td>\n",
       "      <td>0.1142418</td>\n",
       "    </tr>\n",
       "    <tr>\n",
       "      <th>...</th>\n",
       "      <td>...</td>\n",
       "      <td>...</td>\n",
       "      <td>...</td>\n",
       "      <td>...</td>\n",
       "      <td>...</td>\n",
       "      <td>...</td>\n",
       "      <td>...</td>\n",
       "      <td>...</td>\n",
       "      <td>...</td>\n",
       "    </tr>\n",
       "    <tr>\n",
       "      <th>Vanuatu</th>\n",
       "      <td>0.1295034</td>\n",
       "      <td>0.2325818</td>\n",
       "      <td>0.2137974</td>\n",
       "      <td>0.3026094</td>\n",
       "      <td>0.0188197</td>\n",
       "      <td>0.0631180</td>\n",
       "      <td>0.6094675</td>\n",
       "      <td>0.3706625</td>\n",
       "      <td>0.0261432</td>\n",
       "    </tr>\n",
       "    <tr>\n",
       "      <th>Venezuela</th>\n",
       "      <td>0.0705940</td>\n",
       "      <td>0.1420324</td>\n",
       "      <td>0.1926663</td>\n",
       "      <td>0.1008089</td>\n",
       "      <td>0.1277504</td>\n",
       "      <td>0.4630810</td>\n",
       "      <td>0.8540434</td>\n",
       "      <td>0.2082019</td>\n",
       "      <td>0.1266501</td>\n",
       "    </tr>\n",
       "    <tr>\n",
       "      <th>Vietnam</th>\n",
       "      <td>0.1007790</td>\n",
       "      <td>0.3596510</td>\n",
       "      <td>0.3126165</td>\n",
       "      <td>0.4607153</td>\n",
       "      <td>0.0312000</td>\n",
       "      <td>0.1507254</td>\n",
       "      <td>0.8086785</td>\n",
       "      <td>0.1261830</td>\n",
       "      <td>0.0102988</td>\n",
       "    </tr>\n",
       "    <tr>\n",
       "      <th>Yemen</th>\n",
       "      <td>0.2614411</td>\n",
       "      <td>0.1495365</td>\n",
       "      <td>0.2094469</td>\n",
       "      <td>0.1973972</td>\n",
       "      <td>0.0311196</td>\n",
       "      <td>0.2570003</td>\n",
       "      <td>0.6982249</td>\n",
       "      <td>0.5552050</td>\n",
       "      <td>0.0102988</td>\n",
       "    </tr>\n",
       "    <tr>\n",
       "      <th>Zambia</th>\n",
       "      <td>0.3919182</td>\n",
       "      <td>0.1845556</td>\n",
       "      <td>0.2535736</td>\n",
       "      <td>0.1772746</td>\n",
       "      <td>0.0214726</td>\n",
       "      <td>0.1682839</td>\n",
       "      <td>0.3925049</td>\n",
       "      <td>0.6703470</td>\n",
       "      <td>0.0117306</td>\n",
       "    </tr>\n",
       "  </tbody>\n",
       "</table>\n",
       "<p>167 rows × 9 columns</p>\n",
       "</div>"
      ],
      "text/plain": [
       "                     child_mort    exports     health    imports     income  \\\n",
       "country                                                                       \n",
       "Afghanistan           0.4264849  0.0494820  0.3586078  0.2577649  0.0080472   \n",
       "Albania               0.0681597  0.1395310  0.2945929  0.2790373  0.0749331   \n",
       "Algeria               0.1202532  0.1915594  0.1466750  0.1801493  0.0988094   \n",
       "Angola                0.5666991  0.3111246  0.0646364  0.2462663  0.0425352   \n",
       "Antigua and Barbuda   0.0374878  0.2270788  0.2622747  0.3382551  0.1486522   \n",
       "...                         ...        ...        ...        ...        ...   \n",
       "Vanuatu               0.1295034  0.2325818  0.2137974  0.3026094  0.0188197   \n",
       "Venezuela             0.0705940  0.1420324  0.1926663  0.1008089  0.1277504   \n",
       "Vietnam               0.1007790  0.3596510  0.3126165  0.4607153  0.0312000   \n",
       "Yemen                 0.2614411  0.1495365  0.2094469  0.1973972  0.0311196   \n",
       "Zambia                0.3919182  0.1845556  0.2535736  0.1772746  0.0214726   \n",
       "\n",
       "                     inflation  life_expec  total_fer       gdpp  \n",
       "country                                                           \n",
       "Afghanistan          0.1261436   0.4753452  0.7365931  0.0030734  \n",
       "Albania              0.0803992   0.8717949  0.0788644  0.0368334  \n",
       "Algeria              0.1876906   0.8757396  0.2744479  0.0403650  \n",
       "Angola               0.2459107   0.5522682  0.7902208  0.0314883  \n",
       "Antigua and Barbuda  0.0522133   0.8816568  0.1545741  0.1142418  \n",
       "...                        ...         ...        ...        ...  \n",
       "Vanuatu              0.0631180   0.6094675  0.3706625  0.0261432  \n",
       "Venezuela            0.4630810   0.8540434  0.2082019  0.1266501  \n",
       "Vietnam              0.1507254   0.8086785  0.1261830  0.0102988  \n",
       "Yemen                0.2570003   0.6982249  0.5552050  0.0102988  \n",
       "Zambia               0.1682839   0.3925049  0.6703470  0.0117306  \n",
       "\n",
       "[167 rows x 9 columns]"
      ]
     },
     "execution_count": 52,
     "metadata": {},
     "output_type": "execute_result"
    }
   ],
   "source": [
    "countries = data_raw.country\n",
    "data_raw.drop(columns=[\"country\"], inplace=True)\n",
    "columns = data_raw.columns\n",
    "scaler = MinMaxScaler()\n",
    "scaled_data_raw = scaler.fit_transform(data_raw) # numpy array\n",
    "data_raw = pd.DataFrame(scaled_data_raw, columns=columns)\n",
    "data_raw.index = countries\n",
    "data_raw"
   ]
  },
  {
   "cell_type": "markdown",
   "metadata": {},
   "source": [
    "init - controls the initialization technique. The standard version of the k-means algorithm is implemented by setting init \"random\". Setting this to \"k-means++\" employs an advanced trick to speed up convergence.\n",
    "\n",
    "n_clusters - sets k for the clustering step. This is the most important parameter for k-means.\n",
    "\n",
    "n_init - sets the number of initializations to perform. This is important because two runs can converge on different cluster assignments. The default behavior for the scikit-learn algorithm is to perform ten k-means runs and return the results of the one with the lowest SSE.\n",
    "\n",
    "max_iter - sets the number of maximum iterations for each initialization of the k-means algorithm.\n"
   ]
  },
  {
   "cell_type": "markdown",
   "metadata": {},
   "source": [
    "# Choosing the Appropriate Number of Clusters"
   ]
  },
  {
   "attachments": {},
   "cell_type": "markdown",
   "metadata": {},
   "source": [
    "## Data_raw"
   ]
  },
  {
   "cell_type": "code",
   "execution_count": 54,
   "metadata": {},
   "outputs": [
    {
     "name": "stderr",
     "output_type": "stream",
     "text": [
      "c:\\Users\\sutov\\anaconda3\\lib\\site-packages\\sklearn\\cluster\\_kmeans.py:1036: UserWarning:\n",
      "\n",
      "KMeans is known to have a memory leak on Windows with MKL, when there are less chunks than available threads. You can avoid it by setting the environment variable OMP_NUM_THREADS=1.\n",
      "\n"
     ]
    },
    {
     "data": {
      "image/png": "[encoded data removed]",
      "text/plain": [
       "<Figure size 432x288 with 1 Axes>"
      ]
     },
     "metadata": {},
     "output_type": "display_data"
    }
   ],
   "source": [
    "kmeans_kwargs = {\n",
    "    \"init\": \"k-means++\",\n",
    "    \"n_init\": 10,\n",
    "    \"max_iter\": 300,\n",
    "    \"random_state\": 42,\n",
    "}\n",
    "\n",
    "# A list holds the SSE values for each k\n",
    "sse = []\n",
    "for k in range(1, 11):\n",
    "    kmeans = KMeans(n_clusters=k, **kmeans_kwargs)\n",
    "    kmeans.fit(data_raw)\n",
    "    sse.append(kmeans.inertia_)\n",
    "    \n",
    "plt.style.use(\"fivethirtyeight\")\n",
    "plt.plot(range(1, 11), sse)\n",
    "plt.xticks(range(1, 11))\n",
    "plt.xlabel(\"Number of Clusters\")\n",
    "plt.ylabel(\"SSE\")\n",
    "plt.show()"
   ]
  },
  {
   "cell_type": "code",
   "execution_count": 55,
   "metadata": {},
   "outputs": [
    {
     "data": {
      "text/plain": [
       "array([2, 0, 0, 2, 0, 0, 0, 1, 1, 0, 0, 0, 0, 0, 0, 1, 0, 2, 0, 0, 0, 0,\n",
       "       0, 1, 0, 2, 2, 0, 2, 1, 0, 2, 2, 0, 0, 0, 2, 2, 2, 0, 2, 0, 1, 1,\n",
       "       1, 0, 0, 0, 0, 2, 2, 0, 0, 1, 1, 2, 2, 0, 1, 2, 1, 0, 0, 2, 2, 0,\n",
       "       2, 0, 1, 0, 0, 0, 2, 1, 1, 1, 0, 1, 0, 0, 2, 2, 1, 0, 2, 0, 0, 2,\n",
       "       2, 0, 0, 1, 0, 2, 2, 0, 0, 2, 1, 2, 0, 0, 0, 0, 0, 0, 2, 0, 2, 0,\n",
       "       1, 1, 2, 2, 1, 0, 2, 0, 0, 0, 0, 0, 1, 1, 0, 0, 2, 0, 0, 2, 0, 0,\n",
       "       2, 1, 1, 1, 2, 0, 1, 1, 0, 0, 2, 0, 1, 1, 0, 2, 0, 2, 2, 0, 0, 0,\n",
       "       0, 2, 0, 1, 1, 1, 0, 0, 0, 0, 0, 2, 2])"
      ]
     },
     "execution_count": 55,
     "metadata": {},
     "output_type": "execute_result"
    }
   ],
   "source": [
    "kmeans = KMeans(\n",
    "    init=\"random\",\n",
    "    n_clusters=3,\n",
    "    n_init=10,\n",
    "    max_iter=300)\n",
    "\n",
    "kmeans.fit(data_raw)\n",
    "kmeans.labels_"
   ]
  },
  {
   "cell_type": "markdown",
   "metadata": {},
   "source": [
    "Statistics from the initialization run with the lowest SSE are available as attributes of kmeans after calling .fit():"
   ]
  },
  {
   "cell_type": "code",
   "execution_count": 56,
   "metadata": {},
   "outputs": [
    {
     "data": {
      "text/plain": [
       "19.345118591450646"
      ]
     },
     "execution_count": 56,
     "metadata": {},
     "output_type": "execute_result"
    }
   ],
   "source": [
    "# The lowest SSE value\n",
    "kmeans.inertia_"
   ]
  },
  {
   "cell_type": "code",
   "execution_count": 57,
   "metadata": {},
   "outputs": [
    {
     "data": {
      "text/plain": [
       "array([[0.09652182, 0.20147696, 0.27380866, 0.26944838, 0.09777085,\n",
       "        0.10922302, 0.79847255, 0.18032426, 0.06193426],\n",
       "       [0.01118375, 0.29177116, 0.44172956, 0.29575955, 0.36332096,\n",
       "        0.0623325 , 0.94961961, 0.0932402 , 0.40934   ],\n",
       "       [0.44150332, 0.14597042, 0.28144675, 0.24855348, 0.02337632,\n",
       "        0.15069832, 0.5383329 , 0.62148539, 0.01398231]])"
      ]
     },
     "execution_count": 57,
     "metadata": {},
     "output_type": "execute_result"
    }
   ],
   "source": [
    "# Final locations of the centroid\n",
    "kmeans.cluster_centers_"
   ]
  },
  {
   "cell_type": "code",
   "execution_count": 36,
   "metadata": {},
   "outputs": [
    {
     "data": {
      "text/plain": [
       "7"
      ]
     },
     "execution_count": 36,
     "metadata": {},
     "output_type": "execute_result"
    }
   ],
   "source": [
    "# The number of iterations required to converge\n",
    "kmeans.n_iter_"
   ]
  },
  {
   "cell_type": "code",
   "execution_count": 58,
   "metadata": {},
   "outputs": [
    {
     "name": "stdout",
     "output_type": "stream",
     "text": [
      "                     child_mort    exports     health    imports     income  \\\n",
      "country                                                                       \n",
      "Afghanistan           0.4264849  0.0494820  0.3586078  0.2577649  0.0080472   \n",
      "Albania               0.0681597  0.1395310  0.2945929  0.2790373  0.0749331   \n",
      "Algeria               0.1202532  0.1915594  0.1466750  0.1801493  0.0988094   \n",
      "Angola                0.5666991  0.3111246  0.0646364  0.2462663  0.0425352   \n",
      "Antigua and Barbuda   0.0374878  0.2270788  0.2622747  0.3382551  0.1486522   \n",
      "...                         ...        ...        ...        ...        ...   \n",
      "Vanuatu               0.1295034  0.2325818  0.2137974  0.3026094  0.0188197   \n",
      "Venezuela             0.0705940  0.1420324  0.1926663  0.1008089  0.1277504   \n",
      "Vietnam               0.1007790  0.3596510  0.3126165  0.4607153  0.0312000   \n",
      "Yemen                 0.2614411  0.1495365  0.2094469  0.1973972  0.0311196   \n",
      "Zambia                0.3919182  0.1845556  0.2535736  0.1772746  0.0214726   \n",
      "\n",
      "                     inflation  life_expec  total_fer       gdpp  cluster_raw  \n",
      "country                                                                        \n",
      "Afghanistan          0.1261436   0.4753452  0.7365931  0.0030734            2  \n",
      "Albania              0.0803992   0.8717949  0.0788644  0.0368334            0  \n",
      "Algeria              0.1876906   0.8757396  0.2744479  0.0403650            0  \n",
      "Angola               0.2459107   0.5522682  0.7902208  0.0314883            2  \n",
      "Antigua and Barbuda  0.0522133   0.8816568  0.1545741  0.1142418            0  \n",
      "...                        ...         ...        ...        ...          ...  \n",
      "Vanuatu              0.0631180   0.6094675  0.3706625  0.0261432            0  \n",
      "Venezuela            0.4630810   0.8540434  0.2082019  0.1266501            0  \n",
      "Vietnam              0.1507254   0.8086785  0.1261830  0.0102988            0  \n",
      "Yemen                0.2570003   0.6982249  0.5552050  0.0102988            2  \n",
      "Zambia               0.1682839   0.3925049  0.6703470  0.0117306            2  \n",
      "\n",
      "[167 rows x 10 columns]\n"
     ]
    }
   ],
   "source": [
    "#append cluster assingments to original data\n",
    "data_raw['cluster_raw'] = kmeans.labels_\n",
    "\n",
    "#view updated data\n",
    "print(data_raw)"
   ]
  },
  {
   "cell_type": "code",
   "execution_count": 60,
   "metadata": {},
   "outputs": [
    {
     "data": {
      "text/html": [
       "<div>\n",
       "<style scoped>\n",
       "    .dataframe tbody tr th:only-of-type {\n",
       "        vertical-align: middle;\n",
       "    }\n",
       "\n",
       "    .dataframe tbody tr th {\n",
       "        vertical-align: top;\n",
       "    }\n",
       "\n",
       "    .dataframe thead th {\n",
       "        text-align: right;\n",
       "    }\n",
       "</style>\n",
       "<table border=\"1\" class=\"dataframe\">\n",
       "  <thead>\n",
       "    <tr style=\"text-align: right;\">\n",
       "      <th></th>\n",
       "      <th>child_mort</th>\n",
       "      <th>exports</th>\n",
       "      <th>health</th>\n",
       "      <th>imports</th>\n",
       "      <th>income</th>\n",
       "      <th>inflation</th>\n",
       "      <th>life_expec</th>\n",
       "      <th>total_fer</th>\n",
       "      <th>gdpp</th>\n",
       "      <th>cluster_raw</th>\n",
       "    </tr>\n",
       "    <tr>\n",
       "      <th>country</th>\n",
       "      <th></th>\n",
       "      <th></th>\n",
       "      <th></th>\n",
       "      <th></th>\n",
       "      <th></th>\n",
       "      <th></th>\n",
       "      <th></th>\n",
       "      <th></th>\n",
       "      <th></th>\n",
       "      <th></th>\n",
       "    </tr>\n",
       "  </thead>\n",
       "  <tbody>\n",
       "    <tr>\n",
       "      <th>Australia</th>\n",
       "      <td>0.0107108</td>\n",
       "      <td>0.0985087</td>\n",
       "      <td>0.4300808</td>\n",
       "      <td>0.1197816</td>\n",
       "      <td>0.3279257</td>\n",
       "      <td>0.0496257</td>\n",
       "      <td>0.9842209</td>\n",
       "      <td>0.1230284</td>\n",
       "      <td>0.4931707</td>\n",
       "      <td>1</td>\n",
       "    </tr>\n",
       "    <tr>\n",
       "      <th>Austria</th>\n",
       "      <td>0.0082765</td>\n",
       "      <td>0.2560946</td>\n",
       "      <td>0.5711622</td>\n",
       "      <td>0.2744378</td>\n",
       "      <td>0.3423962</td>\n",
       "      <td>0.0469735</td>\n",
       "      <td>0.9546351</td>\n",
       "      <td>0.0457413</td>\n",
       "      <td>0.4454466</td>\n",
       "      <td>1</td>\n",
       "    </tr>\n",
       "    <tr>\n",
       "      <th>Belgium</th>\n",
       "      <td>0.0092502</td>\n",
       "      <td>0.3816630</td>\n",
       "      <td>0.5525171</td>\n",
       "      <td>0.4290941</td>\n",
       "      <td>0.3255139</td>\n",
       "      <td>0.0562795</td>\n",
       "      <td>0.9447732</td>\n",
       "      <td>0.1119874</td>\n",
       "      <td>0.4215846</td>\n",
       "      <td>1</td>\n",
       "    </tr>\n",
       "    <tr>\n",
       "      <th>Brunei</th>\n",
       "      <td>0.0384615</td>\n",
       "      <td>0.3366385</td>\n",
       "      <td>0.0640149</td>\n",
       "      <td>0.1606016</td>\n",
       "      <td>0.6430610</td>\n",
       "      <td>0.1932354</td>\n",
       "      <td>0.8875740</td>\n",
       "      <td>0.1088328</td>\n",
       "      <td>0.3347269</td>\n",
       "      <td>1</td>\n",
       "    </tr>\n",
       "    <tr>\n",
       "      <th>Canada</th>\n",
       "      <td>0.0146056</td>\n",
       "      <td>0.1450340</td>\n",
       "      <td>0.5898073</td>\n",
       "      <td>0.1778495</td>\n",
       "      <td>0.3222982</td>\n",
       "      <td>0.0654283</td>\n",
       "      <td>0.9704142</td>\n",
       "      <td>0.0757098</td>\n",
       "      <td>0.4502191</td>\n",
       "      <td>1</td>\n",
       "    </tr>\n",
       "    <tr>\n",
       "      <th>Cyprus</th>\n",
       "      <td>0.0048685</td>\n",
       "      <td>0.2505916</td>\n",
       "      <td>0.2585457</td>\n",
       "      <td>0.3302061</td>\n",
       "      <td>0.2676319</td>\n",
       "      <td>0.0574808</td>\n",
       "      <td>0.9428008</td>\n",
       "      <td>0.0425868</td>\n",
       "      <td>0.2917752</td>\n",
       "      <td>1</td>\n",
       "    </tr>\n",
       "    <tr>\n",
       "      <th>Czech Republic</th>\n",
       "      <td>0.0038948</td>\n",
       "      <td>0.3296347</td>\n",
       "      <td>0.3772530</td>\n",
       "      <td>0.3612523</td>\n",
       "      <td>0.2226126</td>\n",
       "      <td>0.0256908</td>\n",
       "      <td>0.8954635</td>\n",
       "      <td>0.0567823</td>\n",
       "      <td>0.1867823</td>\n",
       "      <td>1</td>\n",
       "    </tr>\n",
       "    <tr>\n",
       "      <th>Denmark</th>\n",
       "      <td>0.0073028</td>\n",
       "      <td>0.2520924</td>\n",
       "      <td>0.5960224</td>\n",
       "      <td>0.2502908</td>\n",
       "      <td>0.3488275</td>\n",
       "      <td>0.0686628</td>\n",
       "      <td>0.9349112</td>\n",
       "      <td>0.1135647</td>\n",
       "      <td>0.5513940</td>\n",
       "      <td>1</td>\n",
       "    </tr>\n",
       "    <tr>\n",
       "      <th>Finland</th>\n",
       "      <td>0.0019474</td>\n",
       "      <td>0.1930602</td>\n",
       "      <td>0.4437539</td>\n",
       "      <td>0.2146451</td>\n",
       "      <td>0.3150630</td>\n",
       "      <td>0.0421495</td>\n",
       "      <td>0.9447732</td>\n",
       "      <td>0.1135647</td>\n",
       "      <td>0.4387653</td>\n",
       "      <td>1</td>\n",
       "    </tr>\n",
       "    <tr>\n",
       "      <th>France</th>\n",
       "      <td>0.0077897</td>\n",
       "      <td>0.1335278</td>\n",
       "      <td>0.6270976</td>\n",
       "      <td>0.1611766</td>\n",
       "      <td>0.2917494</td>\n",
       "      <td>0.0486092</td>\n",
       "      <td>0.9723866</td>\n",
       "      <td>0.1388013</td>\n",
       "      <td>0.3853144</td>\n",
       "      <td>1</td>\n",
       "    </tr>\n",
       "    <tr>\n",
       "      <th>Germany</th>\n",
       "      <td>0.0077897</td>\n",
       "      <td>0.2110700</td>\n",
       "      <td>0.6084525</td>\n",
       "      <td>0.2129203</td>\n",
       "      <td>0.3198865</td>\n",
       "      <td>0.0459107</td>\n",
       "      <td>0.9467456</td>\n",
       "      <td>0.0378549</td>\n",
       "      <td>0.3967681</td>\n",
       "      <td>1</td>\n",
       "    </tr>\n",
       "    <tr>\n",
       "      <th>Greece</th>\n",
       "      <td>0.0063291</td>\n",
       "      <td>0.1100150</td>\n",
       "      <td>0.5276569</td>\n",
       "      <td>0.1761248</td>\n",
       "      <td>0.2258282</td>\n",
       "      <td>0.0451252</td>\n",
       "      <td>0.9526627</td>\n",
       "      <td>0.0520505</td>\n",
       "      <td>0.2545505</td>\n",
       "      <td>1</td>\n",
       "    </tr>\n",
       "    <tr>\n",
       "      <th>Iceland</th>\n",
       "      <td>0.0000000</td>\n",
       "      <td>0.2666003</td>\n",
       "      <td>0.4717216</td>\n",
       "      <td>0.2485660</td>\n",
       "      <td>0.3070238</td>\n",
       "      <td>0.0894557</td>\n",
       "      <td>0.9842209</td>\n",
       "      <td>0.1656151</td>\n",
       "      <td>0.3977226</td>\n",
       "      <td>1</td>\n",
       "    </tr>\n",
       "    <tr>\n",
       "      <th>Ireland</th>\n",
       "      <td>0.0077897</td>\n",
       "      <td>0.5147355</td>\n",
       "      <td>0.4586700</td>\n",
       "      <td>0.4969359</td>\n",
       "      <td>0.3624941</td>\n",
       "      <td>0.0091489</td>\n",
       "      <td>0.9526627</td>\n",
       "      <td>0.1419558</td>\n",
       "      <td>0.4626273</td>\n",
       "      <td>1</td>\n",
       "    </tr>\n",
       "    <tr>\n",
       "      <th>Israel</th>\n",
       "      <td>0.0097371</td>\n",
       "      <td>0.1745501</td>\n",
       "      <td>0.3617154</td>\n",
       "      <td>0.1887732</td>\n",
       "      <td>0.2330635</td>\n",
       "      <td>0.0552629</td>\n",
       "      <td>0.9723866</td>\n",
       "      <td>0.2965300</td>\n",
       "      <td>0.2898663</td>\n",
       "      <td>1</td>\n",
       "    </tr>\n",
       "    <tr>\n",
       "      <th>Italy</th>\n",
       "      <td>0.0068160</td>\n",
       "      <td>0.1255234</td>\n",
       "      <td>0.4798011</td>\n",
       "      <td>0.1560022</td>\n",
       "      <td>0.2861220</td>\n",
       "      <td>0.0418538</td>\n",
       "      <td>0.9783037</td>\n",
       "      <td>0.0488959</td>\n",
       "      <td>0.3394993</td>\n",
       "      <td>1</td>\n",
       "    </tr>\n",
       "    <tr>\n",
       "      <th>Japan</th>\n",
       "      <td>0.0029211</td>\n",
       "      <td>0.0744956</td>\n",
       "      <td>0.4773151</td>\n",
       "      <td>0.0778117</td>\n",
       "      <td>0.2829063</td>\n",
       "      <td>0.0213474</td>\n",
       "      <td>1.0000000</td>\n",
       "      <td>0.0378549</td>\n",
       "      <td>0.4225391</td>\n",
       "      <td>1</td>\n",
       "    </tr>\n",
       "    <tr>\n",
       "      <th>Kuwait</th>\n",
       "      <td>0.0399221</td>\n",
       "      <td>0.3331366</td>\n",
       "      <td>0.0509633</td>\n",
       "      <td>0.1744000</td>\n",
       "      <td>0.5996495</td>\n",
       "      <td>0.1424083</td>\n",
       "      <td>0.9092702</td>\n",
       "      <td>0.1671924</td>\n",
       "      <td>0.3652703</td>\n",
       "      <td>1</td>\n",
       "    </tr>\n",
       "    <tr>\n",
       "      <th>Luxembourg</th>\n",
       "      <td>0.0009737</td>\n",
       "      <td>0.8749318</td>\n",
       "      <td>0.3704164</td>\n",
       "      <td>0.8160223</td>\n",
       "      <td>0.7322957</td>\n",
       "      <td>0.0723593</td>\n",
       "      <td>0.9704142</td>\n",
       "      <td>0.0757098</td>\n",
       "      <td>1.0000000</td>\n",
       "      <td>1</td>\n",
       "    </tr>\n",
       "    <tr>\n",
       "      <th>Malta</th>\n",
       "      <td>0.0204479</td>\n",
       "      <td>0.7648719</td>\n",
       "      <td>0.4251088</td>\n",
       "      <td>0.8850139</td>\n",
       "      <td>0.2226126</td>\n",
       "      <td>0.0743000</td>\n",
       "      <td>0.9506903</td>\n",
       "      <td>0.0331230</td>\n",
       "      <td>0.1991906</td>\n",
       "      <td>1</td>\n",
       "    </tr>\n",
       "    <tr>\n",
       "      <th>Netherlands</th>\n",
       "      <td>0.0092502</td>\n",
       "      <td>0.3596510</td>\n",
       "      <td>0.6270976</td>\n",
       "      <td>0.3652768</td>\n",
       "      <td>0.3608862</td>\n",
       "      <td>0.0467424</td>\n",
       "      <td>0.9585799</td>\n",
       "      <td>0.1009464</td>\n",
       "      <td>0.4778990</td>\n",
       "      <td>1</td>\n",
       "    </tr>\n",
       "    <tr>\n",
       "      <th>New Zealand</th>\n",
       "      <td>0.0175268</td>\n",
       "      <td>0.1510373</td>\n",
       "      <td>0.5152268</td>\n",
       "      <td>0.1606016</td>\n",
       "      <td>0.2547692</td>\n",
       "      <td>0.0733758</td>\n",
       "      <td>0.9625247</td>\n",
       "      <td>0.1608833</td>\n",
       "      <td>0.3194552</td>\n",
       "      <td>1</td>\n",
       "    </tr>\n",
       "    <tr>\n",
       "      <th>Norway</th>\n",
       "      <td>0.0029211</td>\n",
       "      <td>0.1980629</td>\n",
       "      <td>0.4766936</td>\n",
       "      <td>0.1634763</td>\n",
       "      <td>0.4959442</td>\n",
       "      <td>0.0938915</td>\n",
       "      <td>0.9644970</td>\n",
       "      <td>0.1261830</td>\n",
       "      <td>0.8358293</td>\n",
       "      <td>1</td>\n",
       "    </tr>\n",
       "    <tr>\n",
       "      <th>Portugal</th>\n",
       "      <td>0.0063291</td>\n",
       "      <td>0.1490362</td>\n",
       "      <td>0.5711622</td>\n",
       "      <td>0.2146451</td>\n",
       "      <td>0.2137695</td>\n",
       "      <td>0.0448480</td>\n",
       "      <td>0.9408284</td>\n",
       "      <td>0.0378549</td>\n",
       "      <td>0.2125533</td>\n",
       "      <td>1</td>\n",
       "    </tr>\n",
       "    <tr>\n",
       "      <th>Qatar</th>\n",
       "      <td>0.0311587</td>\n",
       "      <td>0.3111246</td>\n",
       "      <td>0.0000000</td>\n",
       "      <td>0.1364546</td>\n",
       "      <td>1.0000000</td>\n",
       "      <td>0.1034100</td>\n",
       "      <td>0.9349112</td>\n",
       "      <td>0.1451104</td>\n",
       "      <td>0.6687952</td>\n",
       "      <td>1</td>\n",
       "    </tr>\n",
       "    <tr>\n",
       "      <th>Singapore</th>\n",
       "      <td>0.0009737</td>\n",
       "      <td>1.0000000</td>\n",
       "      <td>0.1336234</td>\n",
       "      <td>1.0000000</td>\n",
       "      <td>0.5747281</td>\n",
       "      <td>0.0384807</td>\n",
       "      <td>0.9980276</td>\n",
       "      <td>0.0000000</td>\n",
       "      <td>0.4425832</td>\n",
       "      <td>1</td>\n",
       "    </tr>\n",
       "    <tr>\n",
       "      <th>Slovak Republic</th>\n",
       "      <td>0.0214216</td>\n",
       "      <td>0.3811627</td>\n",
       "      <td>0.4338098</td>\n",
       "      <td>0.4469170</td>\n",
       "      <td>0.1976912</td>\n",
       "      <td>0.0433879</td>\n",
       "      <td>0.8560158</td>\n",
       "      <td>0.0441640</td>\n",
       "      <td>0.1562390</td>\n",
       "      <td>1</td>\n",
       "    </tr>\n",
       "    <tr>\n",
       "      <th>Slovenia</th>\n",
       "      <td>0.0029211</td>\n",
       "      <td>0.3211300</td>\n",
       "      <td>0.4723431</td>\n",
       "      <td>0.3612523</td>\n",
       "      <td>0.2258282</td>\n",
       "      <td>0.0297847</td>\n",
       "      <td>0.9349112</td>\n",
       "      <td>0.0662461</td>\n",
       "      <td>0.2211437</td>\n",
       "      <td>1</td>\n",
       "    </tr>\n",
       "    <tr>\n",
       "      <th>South Korea</th>\n",
       "      <td>0.0073028</td>\n",
       "      <td>0.2465894</td>\n",
       "      <td>0.3182101</td>\n",
       "      <td>0.2652390</td>\n",
       "      <td>0.2394948</td>\n",
       "      <td>0.0681083</td>\n",
       "      <td>0.9467456</td>\n",
       "      <td>0.0126183</td>\n",
       "      <td>0.2087354</td>\n",
       "      <td>1</td>\n",
       "    </tr>\n",
       "    <tr>\n",
       "      <th>Spain</th>\n",
       "      <td>0.0058423</td>\n",
       "      <td>0.1270242</td>\n",
       "      <td>0.4804226</td>\n",
       "      <td>0.1537025</td>\n",
       "      <td>0.2563771</td>\n",
       "      <td>0.0403844</td>\n",
       "      <td>0.9822485</td>\n",
       "      <td>0.0347003</td>\n",
       "      <td>0.2908208</td>\n",
       "      <td>1</td>\n",
       "    </tr>\n",
       "    <tr>\n",
       "      <th>Sweden</th>\n",
       "      <td>0.0019474</td>\n",
       "      <td>0.2305807</td>\n",
       "      <td>0.4860162</td>\n",
       "      <td>0.2336178</td>\n",
       "      <td>0.3399844</td>\n",
       "      <td>0.0480639</td>\n",
       "      <td>0.9743590</td>\n",
       "      <td>0.1309148</td>\n",
       "      <td>0.4950797</td>\n",
       "      <td>1</td>\n",
       "    </tr>\n",
       "    <tr>\n",
       "      <th>Switzerland</th>\n",
       "      <td>0.0092502</td>\n",
       "      <td>0.3196292</td>\n",
       "      <td>0.6022374</td>\n",
       "      <td>0.3060590</td>\n",
       "      <td>0.4412779</td>\n",
       "      <td>0.0418353</td>\n",
       "      <td>0.9881657</td>\n",
       "      <td>0.0583596</td>\n",
       "      <td>0.7098378</td>\n",
       "      <td>1</td>\n",
       "    </tr>\n",
       "    <tr>\n",
       "      <th>United Arab Emirates</th>\n",
       "      <td>0.0292113</td>\n",
       "      <td>0.3881666</td>\n",
       "      <td>0.1149782</td>\n",
       "      <td>0.3652768</td>\n",
       "      <td>0.4581602</td>\n",
       "      <td>0.1544220</td>\n",
       "      <td>0.8757396</td>\n",
       "      <td>0.1135647</td>\n",
       "      <td>0.3318634</td>\n",
       "      <td>1</td>\n",
       "    </tr>\n",
       "    <tr>\n",
       "      <th>United Kingdom</th>\n",
       "      <td>0.0126582</td>\n",
       "      <td>0.1405316</td>\n",
       "      <td>0.4866377</td>\n",
       "      <td>0.1766997</td>\n",
       "      <td>0.2861220</td>\n",
       "      <td>0.0534147</td>\n",
       "      <td>0.9506903</td>\n",
       "      <td>0.1214511</td>\n",
       "      <td>0.3690882</td>\n",
       "      <td>1</td>\n",
       "    </tr>\n",
       "    <tr>\n",
       "      <th>United States</th>\n",
       "      <td>0.0228822</td>\n",
       "      <td>0.0614885</td>\n",
       "      <td>1.0000000</td>\n",
       "      <td>0.0904601</td>\n",
       "      <td>0.3922390</td>\n",
       "      <td>0.0501802</td>\n",
       "      <td>0.9191321</td>\n",
       "      <td>0.1230284</td>\n",
       "      <td>0.4597639</td>\n",
       "      <td>1</td>\n",
       "    </tr>\n",
       "  </tbody>\n",
       "</table>\n",
       "</div>"
      ],
      "text/plain": [
       "                      child_mort    exports     health    imports     income  \\\n",
       "country                                                                        \n",
       "Australia              0.0107108  0.0985087  0.4300808  0.1197816  0.3279257   \n",
       "Austria                0.0082765  0.2560946  0.5711622  0.2744378  0.3423962   \n",
       "Belgium                0.0092502  0.3816630  0.5525171  0.4290941  0.3255139   \n",
       "Brunei                 0.0384615  0.3366385  0.0640149  0.1606016  0.6430610   \n",
       "Canada                 0.0146056  0.1450340  0.5898073  0.1778495  0.3222982   \n",
       "Cyprus                 0.0048685  0.2505916  0.2585457  0.3302061  0.2676319   \n",
       "Czech Republic         0.0038948  0.3296347  0.3772530  0.3612523  0.2226126   \n",
       "Denmark                0.0073028  0.2520924  0.5960224  0.2502908  0.3488275   \n",
       "Finland                0.0019474  0.1930602  0.4437539  0.2146451  0.3150630   \n",
       "France                 0.0077897  0.1335278  0.6270976  0.1611766  0.2917494   \n",
       "Germany                0.0077897  0.2110700  0.6084525  0.2129203  0.3198865   \n",
       "Greece                 0.0063291  0.1100150  0.5276569  0.1761248  0.2258282   \n",
       "Iceland                0.0000000  0.2666003  0.4717216  0.2485660  0.3070238   \n",
       "Ireland                0.0077897  0.5147355  0.4586700  0.4969359  0.3624941   \n",
       "Israel                 0.0097371  0.1745501  0.3617154  0.1887732  0.2330635   \n",
       "Italy                  0.0068160  0.1255234  0.4798011  0.1560022  0.2861220   \n",
       "Japan                  0.0029211  0.0744956  0.4773151  0.0778117  0.2829063   \n",
       "Kuwait                 0.0399221  0.3331366  0.0509633  0.1744000  0.5996495   \n",
       "Luxembourg             0.0009737  0.8749318  0.3704164  0.8160223  0.7322957   \n",
       "Malta                  0.0204479  0.7648719  0.4251088  0.8850139  0.2226126   \n",
       "Netherlands            0.0092502  0.3596510  0.6270976  0.3652768  0.3608862   \n",
       "New Zealand            0.0175268  0.1510373  0.5152268  0.1606016  0.2547692   \n",
       "Norway                 0.0029211  0.1980629  0.4766936  0.1634763  0.4959442   \n",
       "Portugal               0.0063291  0.1490362  0.5711622  0.2146451  0.2137695   \n",
       "Qatar                  0.0311587  0.3111246  0.0000000  0.1364546  1.0000000   \n",
       "Singapore              0.0009737  1.0000000  0.1336234  1.0000000  0.5747281   \n",
       "Slovak Republic        0.0214216  0.3811627  0.4338098  0.4469170  0.1976912   \n",
       "Slovenia               0.0029211  0.3211300  0.4723431  0.3612523  0.2258282   \n",
       "South Korea            0.0073028  0.2465894  0.3182101  0.2652390  0.2394948   \n",
       "Spain                  0.0058423  0.1270242  0.4804226  0.1537025  0.2563771   \n",
       "Sweden                 0.0019474  0.2305807  0.4860162  0.2336178  0.3399844   \n",
       "Switzerland            0.0092502  0.3196292  0.6022374  0.3060590  0.4412779   \n",
       "United Arab Emirates   0.0292113  0.3881666  0.1149782  0.3652768  0.4581602   \n",
       "United Kingdom         0.0126582  0.1405316  0.4866377  0.1766997  0.2861220   \n",
       "United States          0.0228822  0.0614885  1.0000000  0.0904601  0.3922390   \n",
       "\n",
       "                      inflation  life_expec  total_fer       gdpp  cluster_raw  \n",
       "country                                                                         \n",
       "Australia             0.0496257   0.9842209  0.1230284  0.4931707            1  \n",
       "Austria               0.0469735   0.9546351  0.0457413  0.4454466            1  \n",
       "Belgium               0.0562795   0.9447732  0.1119874  0.4215846            1  \n",
       "Brunei                0.1932354   0.8875740  0.1088328  0.3347269            1  \n",
       "Canada                0.0654283   0.9704142  0.0757098  0.4502191            1  \n",
       "Cyprus                0.0574808   0.9428008  0.0425868  0.2917752            1  \n",
       "Czech Republic        0.0256908   0.8954635  0.0567823  0.1867823            1  \n",
       "Denmark               0.0686628   0.9349112  0.1135647  0.5513940            1  \n",
       "Finland               0.0421495   0.9447732  0.1135647  0.4387653            1  \n",
       "France                0.0486092   0.9723866  0.1388013  0.3853144            1  \n",
       "Germany               0.0459107   0.9467456  0.0378549  0.3967681            1  \n",
       "Greece                0.0451252   0.9526627  0.0520505  0.2545505            1  \n",
       "Iceland               0.0894557   0.9842209  0.1656151  0.3977226            1  \n",
       "Ireland               0.0091489   0.9526627  0.1419558  0.4626273            1  \n",
       "Israel                0.0552629   0.9723866  0.2965300  0.2898663            1  \n",
       "Italy                 0.0418538   0.9783037  0.0488959  0.3394993            1  \n",
       "Japan                 0.0213474   1.0000000  0.0378549  0.4225391            1  \n",
       "Kuwait                0.1424083   0.9092702  0.1671924  0.3652703            1  \n",
       "Luxembourg            0.0723593   0.9704142  0.0757098  1.0000000            1  \n",
       "Malta                 0.0743000   0.9506903  0.0331230  0.1991906            1  \n",
       "Netherlands           0.0467424   0.9585799  0.1009464  0.4778990            1  \n",
       "New Zealand           0.0733758   0.9625247  0.1608833  0.3194552            1  \n",
       "Norway                0.0938915   0.9644970  0.1261830  0.8358293            1  \n",
       "Portugal              0.0448480   0.9408284  0.0378549  0.2125533            1  \n",
       "Qatar                 0.1034100   0.9349112  0.1451104  0.6687952            1  \n",
       "Singapore             0.0384807   0.9980276  0.0000000  0.4425832            1  \n",
       "Slovak Republic       0.0433879   0.8560158  0.0441640  0.1562390            1  \n",
       "Slovenia              0.0297847   0.9349112  0.0662461  0.2211437            1  \n",
       "South Korea           0.0681083   0.9467456  0.0126183  0.2087354            1  \n",
       "Spain                 0.0403844   0.9822485  0.0347003  0.2908208            1  \n",
       "Sweden                0.0480639   0.9743590  0.1309148  0.4950797            1  \n",
       "Switzerland           0.0418353   0.9881657  0.0583596  0.7098378            1  \n",
       "United Arab Emirates  0.1544220   0.8757396  0.1135647  0.3318634            1  \n",
       "United Kingdom        0.0534147   0.9506903  0.1214511  0.3690882            1  \n",
       "United States         0.0501802   0.9191321  0.1230284  0.4597639            1  "
      ]
     },
     "execution_count": 60,
     "metadata": {},
     "output_type": "execute_result"
    }
   ],
   "source": [
    "data_raw[data_raw.cluster_raw==1]\n",
    "# data_raw[data_raw.cluster==1]\n",
    "# data_raw[data_raw.cluster==2]"
   ]
  },
  {
   "attachments": {},
   "cell_type": "markdown",
   "metadata": {},
   "source": [
    "## DATA_PCA"
   ]
  },
  {
   "cell_type": "code",
   "execution_count": 39,
   "metadata": {},
   "outputs": [
    {
     "name": "stderr",
     "output_type": "stream",
     "text": [
      "c:\\Users\\sutov\\anaconda3\\lib\\site-packages\\sklearn\\cluster\\_kmeans.py:1036: UserWarning: KMeans is known to have a memory leak on Windows with MKL, when there are less chunks than available threads. You can avoid it by setting the environment variable OMP_NUM_THREADS=1.\n",
      "  warnings.warn(\n"
     ]
    },
    {
     "data": {
      "image/png": "[encoded data removed]",
      "text/plain": [
       "<Figure size 432x288 with 1 Axes>"
      ]
     },
     "metadata": {},
     "output_type": "display_data"
    }
   ],
   "source": [
    "kmeans_kwargs = {\n",
    "    \"init\": \"k-means++\",\n",
    "    \"n_init\": 10,\n",
    "    \"max_iter\": 300,\n",
    "    \"random_state\": 42,\n",
    "}\n",
    "\n",
    "# A list holds the SSE values for each k\n",
    "sse = []\n",
    "for k in range(1, 11):\n",
    "    kmeans = KMeans(n_clusters=k, **kmeans_kwargs)\n",
    "    kmeans.fit(data_pca)\n",
    "    sse.append(kmeans.inertia_)\n",
    "    \n",
    "plt.style.use(\"fivethirtyeight\")\n",
    "plt.plot(range(1, 11), sse)\n",
    "plt.xticks(range(1, 11))\n",
    "plt.xlabel(\"Number of Clusters\")\n",
    "plt.ylabel(\"SSE\")\n",
    "plt.show()"
   ]
  },
  {
   "cell_type": "code",
   "execution_count": 40,
   "metadata": {},
   "outputs": [
    {
     "data": {
      "text/plain": [
       "array([2, 1, 1, 2, 1, 1, 1, 0, 0, 1, 1, 1, 1, 1, 1, 0, 1, 2, 1, 1, 1, 1,\n",
       "       1, 0, 1, 2, 2, 1, 2, 0, 1, 2, 2, 1, 1, 1, 2, 2, 2, 1, 2, 1, 0, 1,\n",
       "       0, 1, 1, 1, 1, 2, 2, 1, 1, 0, 0, 2, 2, 1, 0, 2, 0, 1, 1, 2, 2, 1,\n",
       "       2, 1, 0, 1, 1, 1, 2, 0, 0, 0, 1, 0, 1, 1, 2, 2, 0, 1, 1, 1, 1, 2,\n",
       "       2, 1, 1, 0, 1, 2, 2, 1, 1, 2, 0, 2, 1, 1, 1, 1, 1, 1, 2, 1, 2, 1,\n",
       "       0, 0, 2, 2, 0, 1, 2, 1, 1, 1, 1, 1, 0, 0, 1, 1, 2, 1, 1, 2, 1, 1,\n",
       "       2, 0, 1, 0, 2, 1, 1, 0, 1, 1, 2, 1, 0, 0, 1, 2, 1, 2, 2, 1, 1, 1,\n",
       "       1, 2, 1, 0, 0, 0, 1, 1, 1, 1, 1, 2, 2])"
      ]
     },
     "execution_count": 40,
     "metadata": {},
     "output_type": "execute_result"
    }
   ],
   "source": [
    "kmeans = KMeans(\n",
    "    init=\"random\",\n",
    "    n_clusters=3,\n",
    "    n_init=10,\n",
    "    max_iter=300)\n",
    "\n",
    "kmeans.fit(data_pca)\n",
    "kmeans.labels_"
   ]
  },
  {
   "attachments": {},
   "cell_type": "markdown",
   "metadata": {},
   "source": [
    "When using the sklearn.cluster.KMeans class in Python to calculate the gap statistic, the resulting value is stored in the inertia_ attribute of the KMeans object. This value represents the sum of squared distances between each point in the dataset and its closest cluster center. This value is often referred to as the \"within-cluster sum of squares\" or WCSS.\n",
    "\n",
    "The value of the inertia_ attribute can be used to interpret the results of the k-means clustering algorithm. In general, a lower WCSS value indicates that the clustering is more accurate, as it means that the points in the dataset are closer to their assigned cluster centers. Therefore, when using the KMeans class to calculate the gap statistic, a lower value of the inertia_ attribute indicates a better clustering of the data."
   ]
  },
  {
   "cell_type": "code",
   "execution_count": 41,
   "metadata": {},
   "outputs": [
    {
     "data": {
      "text/plain": [
       "8.098623432269477"
      ]
     },
     "execution_count": 41,
     "metadata": {},
     "output_type": "execute_result"
    }
   ],
   "source": [
    "kmeans.inertia_"
   ]
  },
  {
   "cell_type": "code",
   "execution_count": 42,
   "metadata": {},
   "outputs": [
    {
     "data": {
      "text/plain": [
       "11"
      ]
     },
     "execution_count": 42,
     "metadata": {},
     "output_type": "execute_result"
    }
   ],
   "source": [
    "# The number of iterations required to converge\n",
    "kmeans.n_iter_"
   ]
  },
  {
   "cell_type": "code",
   "execution_count": 43,
   "metadata": {},
   "outputs": [
    {
     "name": "stdout",
     "output_type": "stream",
     "text": [
      "                           PC1        PC2        PC3        PC4  cluster_pca\n",
      "country                                                                     \n",
      "Afghanistan          0.1334934  0.2950945  0.5689043  0.3967656            2\n",
      "Albania              0.5596398  0.0647848  0.4027531  0.3664304            1\n",
      "Algeria              0.4725663  0.1218602  0.3503075  0.5265294            1\n",
      "Angola               0.1047158  0.4302371  0.3439456  0.5449733            2\n",
      "Antigua and Barbuda  0.5833994  0.1751767  0.3753839  0.3856147            1\n",
      "...                        ...        ...        ...        ...          ...\n",
      "Vanuatu              0.3804441  0.2014118  0.3595033  0.3624427            1\n",
      "Venezuela            0.5048824  0.0952998  0.4069514  0.6201173            1\n",
      "Vietnam              0.5354723  0.1996080  0.3045547  0.2261156            1\n",
      "Yemen                0.2831882  0.2087501  0.4283790  0.5033893            2\n",
      "Zambia               0.1476585  0.3050518  0.4752411  0.4536091            2\n",
      "\n",
      "[167 rows x 5 columns]\n"
     ]
    }
   ],
   "source": [
    "#append cluster assingments to original data\n",
    "data_pca['cluster_pca'] = kmeans.labels_\n",
    "\n",
    "#view updated data\n",
    "print(data_pca)"
   ]
  },
  {
   "cell_type": "code",
   "execution_count": 47,
   "metadata": {},
   "outputs": [
    {
     "data": {
      "text/html": [
       "<div>\n",
       "<style scoped>\n",
       "    .dataframe tbody tr th:only-of-type {\n",
       "        vertical-align: middle;\n",
       "    }\n",
       "\n",
       "    .dataframe tbody tr th {\n",
       "        vertical-align: top;\n",
       "    }\n",
       "\n",
       "    .dataframe thead th {\n",
       "        text-align: right;\n",
       "    }\n",
       "</style>\n",
       "<table border=\"1\" class=\"dataframe\">\n",
       "  <thead>\n",
       "    <tr style=\"text-align: right;\">\n",
       "      <th></th>\n",
       "      <th>PC1</th>\n",
       "      <th>PC2</th>\n",
       "      <th>PC3</th>\n",
       "      <th>PC4</th>\n",
       "      <th>cluster_pca</th>\n",
       "    </tr>\n",
       "    <tr>\n",
       "      <th>country</th>\n",
       "      <th></th>\n",
       "      <th></th>\n",
       "      <th></th>\n",
       "      <th></th>\n",
       "      <th></th>\n",
       "    </tr>\n",
       "  </thead>\n",
       "  <tbody>\n",
       "    <tr>\n",
       "      <th>Albania</th>\n",
       "      <td>0.5596398</td>\n",
       "      <td>0.0647848</td>\n",
       "      <td>0.4027531</td>\n",
       "      <td>0.3664304</td>\n",
       "      <td>1</td>\n",
       "    </tr>\n",
       "    <tr>\n",
       "      <th>Algeria</th>\n",
       "      <td>0.4725663</td>\n",
       "      <td>0.1218602</td>\n",
       "      <td>0.3503075</td>\n",
       "      <td>0.5265294</td>\n",
       "      <td>1</td>\n",
       "    </tr>\n",
       "    <tr>\n",
       "      <th>Antigua and Barbuda</th>\n",
       "      <td>0.5833994</td>\n",
       "      <td>0.1751767</td>\n",
       "      <td>0.3753839</td>\n",
       "      <td>0.3856147</td>\n",
       "      <td>1</td>\n",
       "    </tr>\n",
       "    <tr>\n",
       "      <th>Argentina</th>\n",
       "      <td>0.5337969</td>\n",
       "      <td>0.0693119</td>\n",
       "      <td>0.5399725</td>\n",
       "      <td>0.5042375</td>\n",
       "      <td>1</td>\n",
       "    </tr>\n",
       "    <tr>\n",
       "      <th>Armenia</th>\n",
       "      <td>0.5197067</td>\n",
       "      <td>0.0406634</td>\n",
       "      <td>0.3357830</td>\n",
       "      <td>0.4268943</td>\n",
       "      <td>1</td>\n",
       "    </tr>\n",
       "    <tr>\n",
       "      <th>...</th>\n",
       "      <td>...</td>\n",
       "      <td>...</td>\n",
       "      <td>...</td>\n",
       "      <td>...</td>\n",
       "      <td>...</td>\n",
       "    </tr>\n",
       "    <tr>\n",
       "      <th>Uruguay</th>\n",
       "      <td>0.5715792</td>\n",
       "      <td>0.0825748</td>\n",
       "      <td>0.5278353</td>\n",
       "      <td>0.4336275</td>\n",
       "      <td>1</td>\n",
       "    </tr>\n",
       "    <tr>\n",
       "      <th>Uzbekistan</th>\n",
       "      <td>0.4386640</td>\n",
       "      <td>0.0779552</td>\n",
       "      <td>0.4040950</td>\n",
       "      <td>0.4391173</td>\n",
       "      <td>1</td>\n",
       "    </tr>\n",
       "    <tr>\n",
       "      <th>Vanuatu</th>\n",
       "      <td>0.3804441</td>\n",
       "      <td>0.2014118</td>\n",
       "      <td>0.3595033</td>\n",
       "      <td>0.3624427</td>\n",
       "      <td>1</td>\n",
       "    </tr>\n",
       "    <tr>\n",
       "      <th>Venezuela</th>\n",
       "      <td>0.5048824</td>\n",
       "      <td>0.0952998</td>\n",
       "      <td>0.4069514</td>\n",
       "      <td>0.6201173</td>\n",
       "      <td>1</td>\n",
       "    </tr>\n",
       "    <tr>\n",
       "      <th>Vietnam</th>\n",
       "      <td>0.5354723</td>\n",
       "      <td>0.1996080</td>\n",
       "      <td>0.3045547</td>\n",
       "      <td>0.2261156</td>\n",
       "      <td>1</td>\n",
       "    </tr>\n",
       "  </tbody>\n",
       "</table>\n",
       "<p>90 rows × 5 columns</p>\n",
       "</div>"
      ],
      "text/plain": [
       "                           PC1        PC2        PC3        PC4  cluster_pca\n",
       "country                                                                     \n",
       "Albania              0.5596398  0.0647848  0.4027531  0.3664304            1\n",
       "Algeria              0.4725663  0.1218602  0.3503075  0.5265294            1\n",
       "Antigua and Barbuda  0.5833994  0.1751767  0.3753839  0.3856147            1\n",
       "Argentina            0.5337969  0.0693119  0.5399725  0.5042375            1\n",
       "Armenia              0.5197067  0.0406634  0.3357830  0.4268943            1\n",
       "...                        ...        ...        ...        ...          ...\n",
       "Uruguay              0.5715792  0.0825748  0.5278353  0.4336275            1\n",
       "Uzbekistan           0.4386640  0.0779552  0.4040950  0.4391173            1\n",
       "Vanuatu              0.3804441  0.2014118  0.3595033  0.3624427            1\n",
       "Venezuela            0.5048824  0.0952998  0.4069514  0.6201173            1\n",
       "Vietnam              0.5354723  0.1996080  0.3045547  0.2261156            1\n",
       "\n",
       "[90 rows x 5 columns]"
      ]
     },
     "execution_count": 47,
     "metadata": {},
     "output_type": "execute_result"
    }
   ],
   "source": [
    "data_pca[data_pca['cluster_pca']==1]"
   ]
  },
  {
   "cell_type": "code",
   "execution_count": 45,
   "metadata": {},
   "outputs": [],
   "source": [
    "# subs = data_pca.merge(data_raw)\n",
    "# subs = subs[[\"cluster_pca\", \"cluster_raw\"]]\n",
    "# subs.index = countries\n",
    "# subs2 = subs.loc[subs[\"cluster_pca\"] != subs[\"cluster_raw\"]]\n",
    "# subs2.value_counts()"
   ]
  },
  {
   "attachments": {},
   "cell_type": "markdown",
   "metadata": {},
   "source": [
    "## PCA clusters visualisation"
   ]
  },
  {
   "cell_type": "code",
   "execution_count": 48,
   "metadata": {},
   "outputs": [
    {
     "data": {
      "application/vnd.plotly.v1+json": {
       "config": {
        "plotlyServerURL": "https://plot.ly"
       },
       "data": [
        {
         "hovertemplate": [
          "Afghanistan",
          "Albania",
          "Algeria",
          "Angola",
          "Antigua and Barbuda",
          "Argentina",
          "Armenia",
          "Australia",
          "Austria",
          "Azerbaijan",
          "Bahamas",
          "Bahrain",
          "Bangladesh",
          "Barbados",
          "Belarus",
          "Belgium",
          "Belize",
          "Benin",
          "Bhutan",
          "Bolivia",
          "Bosnia and Herzegovina",
          "Botswana",
          "Brazil",
          "Brunei",
          "Bulgaria",
          "Burkina Faso",
          "Burundi",
          "Cambodia",
          "Cameroon",
          "Canada",
          "Cape Verde",
          "Central African Republic",
          "Chad",
          "Chile",
          "China",
          "Colombia",
          "Comoros",
          "Congo, Dem. Rep.",
          "Congo, Rep.",
          "Costa Rica",
          "Cote d'Ivoire",
          "Croatia",
          "Cyprus",
          "Czech Republic",
          "Denmark",
          "Dominican Republic",
          "Ecuador",
          "Egypt",
          "El Salvador",
          "Equatorial Guinea",
          "Eritrea",
          "Estonia",
          "Fiji",
          "Finland",
          "France",
          "Gabon",
          "Gambia",
          "Georgia",
          "Germany",
          "Ghana",
          "Greece",
          "Grenada",
          "Guatemala",
          "Guinea",
          "Guinea-Bissau",
          "Guyana",
          "Haiti",
          "Hungary",
          "Iceland",
          "India",
          "Indonesia",
          "Iran",
          "Iraq",
          "Ireland",
          "Israel",
          "Italy",
          "Jamaica",
          "Japan",
          "Jordan",
          "Kazakhstan",
          "Kenya",
          "Kiribati",
          "Kuwait",
          "Kyrgyz Republic",
          "Lao",
          "Latvia",
          "Lebanon",
          "Lesotho",
          "Liberia",
          "Libya",
          "Lithuania",
          "Luxembourg",
          "Macedonia, FYR",
          "Madagascar",
          "Malawi",
          "Malaysia",
          "Maldives",
          "Mali",
          "Malta",
          "Mauritania",
          "Mauritius",
          "Micronesia, Fed. Sts.",
          "Moldova",
          "Mongolia",
          "Montenegro",
          "Morocco",
          "Mozambique",
          "Myanmar",
          "Namibia",
          "Nepal",
          "Netherlands",
          "New Zealand",
          "Niger",
          "Nigeria",
          "Norway",
          "Oman",
          "Pakistan",
          "Panama",
          "Paraguay",
          "Peru",
          "Philippines",
          "Poland",
          "Portugal",
          "Qatar",
          "Romania",
          "Russia",
          "Rwanda",
          "Samoa",
          "Saudi Arabia",
          "Senegal",
          "Serbia",
          "Seychelles",
          "Sierra Leone",
          "Singapore",
          "Slovak Republic",
          "Slovenia",
          "Solomon Islands",
          "South Africa",
          "South Korea",
          "Spain",
          "Sri Lanka",
          "St. Vincent and the Grenadines",
          "Sudan",
          "Suriname",
          "Sweden",
          "Switzerland",
          "Tajikistan",
          "Tanzania",
          "Thailand",
          "Timor-Leste",
          "Togo",
          "Tonga",
          "Tunisia",
          "Turkey",
          "Turkmenistan",
          "Uganda",
          "Ukraine",
          "United Arab Emirates",
          "United Kingdom",
          "United States",
          "Uruguay",
          "Uzbekistan",
          "Vanuatu",
          "Venezuela",
          "Vietnam",
          "Yemen",
          "Zambia"
         ],
         "legendgroup": "",
         "marker": {
          "color": [
           2,
           1,
           1,
           2,
           1,
           1,
           1,
           0,
           0,
           1,
           1,
           1,
           1,
           1,
           1,
           0,
           1,
           2,
           1,
           1,
           1,
           1,
           1,
           0,
           1,
           2,
           2,
           1,
           2,
           0,
           1,
           2,
           2,
           1,
           1,
           1,
           2,
           2,
           2,
           1,
           2,
           1,
           0,
           1,
           0,
           1,
           1,
           1,
           1,
           2,
           2,
           1,
           1,
           0,
           0,
           2,
           2,
           1,
           0,
           2,
           0,
           1,
           1,
           2,
           2,
           1,
           2,
           1,
           0,
           1,
           1,
           1,
           2,
           0,
           0,
           0,
           1,
           0,
           1,
           1,
           2,
           2,
           0,
           1,
           1,
           1,
           1,
           2,
           2,
           1,
           1,
           0,
           1,
           2,
           2,
           1,
           1,
           2,
           0,
           2,
           1,
           1,
           1,
           1,
           1,
           1,
           2,
           1,
           2,
           1,
           0,
           0,
           2,
           2,
           0,
           1,
           2,
           1,
           1,
           1,
           1,
           1,
           0,
           0,
           1,
           1,
           2,
           1,
           1,
           2,
           1,
           1,
           2,
           0,
           1,
           0,
           2,
           1,
           1,
           0,
           1,
           1,
           2,
           1,
           0,
           0,
           1,
           2,
           1,
           2,
           2,
           1,
           1,
           1,
           1,
           2,
           1,
           0,
           0,
           0,
           1,
           1,
           1,
           1,
           1,
           2,
           2
          ],
          "coloraxis": "coloraxis",
          "opacity": 0.7,
          "symbol": "circle"
         },
         "mode": "markers",
         "name": "",
         "scene": "scene",
         "showlegend": false,
         "type": "scatter3d",
         "x": [
          0.13349342655683072,
          0.5596397664781391,
          0.4725663021327813,
          0.10471583847296234,
          0.5833993517998383,
          0.5337969327951693,
          0.5197067285295696,
          0.7184474527547338,
          0.7633052419128301,
          0.4923244264988796,
          0.612984986392579,
          0.6280291497862017,
          0.41018244168571705,
          0.6012286053609982,
          0.5730896151378045,
          0.7492413484818659,
          0.48984183849617535,
          0.14866055936447387,
          0.466432513555637,
          0.4025015406949723,
          0.6167504555049909,
          0.38402049621887757,
          0.5490363958949351,
          0.7069900670892085,
          0.5873600839370586,
          0.10265837084257423,
          0.12748742575191435,
          0.4091009433602893,
          0.1473076995850715,
          0.738565898566174,
          0.4662434830395307,
          0.028438525810137005,
          0.018508604640425974,
          0.6051433822764392,
          0.5404938414870798,
          0.5357502936281684,
          0.22878449296644382,
          0.08011808297649164,
          0.249903117228363,
          0.6034791824549923,
          0.1476177240094666,
          0.6195718862865445,
          0.6982506551831459,
          0.6745149268037578,
          0.7576875766466067,
          0.4758785831370743,
          0.5008472223905449,
          0.41499699062487827,
          0.5103887817329366,
          0.25223764008781635,
          0.23352945515534207,
          0.6340048742748225,
          0.45299399644469124,
          0.7167467058904953,
          0.7047391694219302,
          0.315161270065294,
          0.19500389817966057,
          0.5424872671933452,
          0.7466761037480384,
          0.2589314987529378,
          0.6831858062450732,
          0.5134937863263633,
          0.41416407474578076,
          0.13510237613206788,
          0.14539254277261693,
          0.4368127501671927,
          0,
          0.6566703093761577,
          0.7090498074725534,
          0.3746500320416959,
          0.4299888264319263,
          0.537844906020003,
          0.3526304801755937,
          0.7671977385476532,
          0.6101318379899848,
          0.7138295786044013,
          0.513527283824656,
          0.7311465169645721,
          0.4684904599622602,
          0.47679320262898534,
          0.268520467458744,
          0.32442891434215926,
          0.6931291934562578,
          0.4328641078985809,
          0.3222371086547011,
          0.6126695947161354,
          0.6147174863612197,
          0.2535162134304513,
          0.23351736572254958,
          0.5614179670845673,
          0.6223981808620285,
          1,
          0.5807898133402687,
          0.24190483606273036,
          0.14114872623984892,
          0.5845732261664611,
          0.5763277657509308,
          0.04517271821031843,
          0.7600534307126792,
          0.2308480323635095,
          0.5813125878548691,
          0.41766922830541936,
          0.5688352882007522,
          0.4342815538920421,
          0.5985090925151139,
          0.46608858667649045,
          0.12381793373229905,
          0.3513884912656663,
          0.3409752876159453,
          0.39363423687512644,
          0.7739278439510706,
          0.6657849410915881,
          0.015507738849066921,
          0.05381360743847352,
          0.8219332709264302,
          0.5718288607470385,
          0.24698276530554933,
          0.5643534873294271,
          0.48947267831231706,
          0.5048291999791337,
          0.40598316115377087,
          0.6272050612909699,
          0.6836712014537512,
          0.8297662793822096,
          0.5711646552336812,
          0.551457973478304,
          0.2872523397589607,
          0.3931417027875056,
          0.5555426921121588,
          0.2409488015386904,
          0.6023781673738939,
          0.5858082352212144,
          0.09020985706476364,
          0.9018576174710372,
          0.6666778352670001,
          0.6943049986844225,
          0.35598908681910113,
          0.3746412163477237,
          0.68810093597702,
          0.7053431879269982,
          0.4906691608216183,
          0.5069536570223186,
          0.2367846783922044,
          0.5013120854888196,
          0.7405468747894841,
          0.8444389524092208,
          0.36049823967390976,
          0.18527367309189363,
          0.5844440655075762,
          0.21527343175981284,
          0.21434826247464506,
          0.3954182158884691,
          0.5485789014785007,
          0.5531106830894448,
          0.4061714224434583,
          0.13681922887009634,
          0.5553978979478315,
          0.6927695038589521,
          0.690383534343507,
          0.7425397990559207,
          0.571579170813999,
          0.4386640031072074,
          0.38044405602905607,
          0.5048823879580171,
          0.535472305309585,
          0.28318817255571005,
          0.14765848981218338
         ],
         "y": [
          0.2950944715582716,
          0.0647848072953092,
          0.12186020682428242,
          0.4302371034386954,
          0.17517666476320143,
          0.0693119485490204,
          0.0406633909881651,
          0.2357852753445409,
          0.3097424751314736,
          0.13225252769232398,
          0.19582017453545947,
          0.2849519605174313,
          0.03777079580457915,
          0.14403184998336477,
          0.1460789880128412,
          0.4045593327763891,
          0.18421821020489954,
          0.29017218631325065,
          0.17695456924996122,
          0.1497669395026495,
          0.05725099769874373,
          0.2456102794128101,
          0.026547009500822755,
          0.3694938545081744,
          0.1296166772025893,
          0.3083595750539187,
          0.30830578760515936,
          0.20074785514230248,
          0.27126459625731764,
          0.24663373306967626,
          0.14008493003674818,
          0.30897352224592955,
          0.42961738296286645,
          0.10450765878981512,
          0.015129217540517492,
          0.020780731101414096,
          0.24353220432541844,
          0.4100662032014269,
          0.374947578232307,
          0.07811098757251297,
          0.36074307303879505,
          0.10730485570447994,
          0.23605993298929015,
          0.2343722617326873,
          0.36231062444331974,
          0.09949659166076029,
          0.09269940820062453,
          0.09829235681712012,
          0.08426471407524525,
          0.5643958375449278,
          0.13852385074611062,
          0.2382651030012965,
          0.20609299021549818,
          0.27359957867992957,
          0.22236966516888806,
          0.2705708391006241,
          0.2779245881042416,
          0.09860311306107439,
          0.2514544093414826,
          0.23631637784369305,
          0.12641937909928636,
          0.10515872284543144,
          0.1334586635287702,
          0.3161518717267255,
          0.2807009418840467,
          0.22859974841416075,
          0.398069672062208,
          0.243914803196724,
          0.3030376213353013,
          0.09614916035500395,
          0.0649279427029075,
          0.0445502882579058,
          0.2381919426723586,
          0.5010064354351316,
          0.2282221094405023,
          0.16943654818877232,
          0.09336348831884966,
          0.15098552565220558,
          0.2287125146301195,
          0.16072372862812728,
          0.18697040972852386,
          0.24781088756764216,
          0.3839216272622539,
          0.22551268585354925,
          0.20481174216388842,
          0.15079045831036098,
          0.11556199409855976,
          0.37258759540533837,
          0.35260679012152063,
          0.2225257308513764,
          0.2056683891879197,
          1,
          0.09824437945475398,
          0.21789049357485774,
          0.2810481524765566,
          0.26191667640029387,
          0.2097426551454678,
          0.3698648856683021,
          0.5382918878820072,
          0.33998777715469025,
          0.15591363642800482,
          0.2326388176099043,
          0.12012890771844613,
          0.1716754458715214,
          0.12346782931912202,
          0.11068182640063788,
          0.33105981103177473,
          0,
          0.2820347612944,
          0.06717407525944238,
          0.40683699615487023,
          0.19905971323005262,
          0.41721071806051613,
          0.31659625386292023,
          0.4592563770073351,
          0.29791097737476313,
          0.1524887615282691,
          0.26100110117516706,
          0.16556753276199498,
          0.06188494858948515,
          0.12939776930305694,
          0.11331753013961611,
          0.1315470443732979,
          0.5822107074686753,
          0.08486453852506129,
          0.07575880084607231,
          0.177319023107183,
          0.1905994093505944,
          0.2679804541142328,
          0.23933065271641685,
          0.07445946707823042,
          0.34881709133591554,
          0.34629094800216864,
          0.8199676850718465,
          0.26536569553761663,
          0.2461366958663211,
          0.2865089671201562,
          0.17445233437333976,
          0.1711582300643844,
          0.13840845995232237,
          0.020028703584531682,
          0.11231011265990565,
          0.19438170978457836,
          0.17376946483567274,
          0.32308351052853185,
          0.46675117599584615,
          0.158636113044688,
          0.23981266260616574,
          0.15260638998994872,
          0.22566102639149044,
          0.32156840502344924,
          0.15280644168209984,
          0.13707545326027165,
          0.0753077656283615,
          0.2502520265299035,
          0.2864854295269551,
          0.09358477260899689,
          0.3932307877469235,
          0.21568835732999345,
          0.25002328174063565,
          0.08257478055257875,
          0.07795521534615324,
          0.2014118352297688,
          0.09529977287841407,
          0.19960797232001543,
          0.20875013000616918,
          0.3050517587725625
         ],
         "z": [
          0.5689043450861536,
          0.4027530929062952,
          0.3503075163368559,
          0.3439456378888,
          0.3753839010104991,
          0.5399724846647369,
          0.3357829945713674,
          0.652559597634335,
          0.6333183653840637,
          0.3919340672251896,
          0.5109359246212005,
          0.33750816640122183,
          0.3587677218764771,
          0.4695837143285628,
          0.308178385543566,
          0.5524589533891129,
          0.3209464769557394,
          0.4346818347833099,
          0.32139467937003885,
          0.3740148850549776,
          0.5542004567419113,
          0.48104441990056124,
          0.5857558648154316,
          0.3320426192870711,
          0.38175604523442536,
          0.5564626820613482,
          0.7326155473435676,
          0.34319561533864734,
          0.48221426269211365,
          0.7024357060031134,
          0.3114847931180243,
          0.4694202815930929,
          0.46029976717982357,
          0.4863004249902007,
          0.3834063177146514,
          0.5121207020155111,
          0.4196146084259225,
          0.5483213544052534,
          0.2345358642523658,
          0.5845406516953582,
          0.42829262855425443,
          0.4668143103655972,
          0.39844903411281624,
          0.4140256814800507,
          0.687212410584425,
          0.4474969364694733,
          0.5028772192125364,
          0.40260058745993194,
          0.43079254702049496,
          0.36608413972332626,
          0.38733163530843734,
          0.3152682571753066,
          0.29823617520044876,
          0.596290587000222,
          0.7232943200376561,
          0.36058434993723004,
          0.4800171528498625,
          0.5160061534268292,
          0.6687798218755533,
          0.4155795041935378,
          0.6233657460132351,
          0.40324496737012727,
          0.4705935105078704,
          0.43946763083441026,
          0.6030372335304414,
          0.30868418805082376,
          0.5014234342740735,
          0.3295651048010287,
          0.5784111746212492,
          0.3714084181035926,
          0.31431947308182595,
          0.4185402895507243,
          0.5364514651167253,
          0.4604384875704952,
          0.544920010970839,
          0.6180665315147204,
          0.34277663111884193,
          0.6676477191721901,
          0.4411463452513099,
          0.3509252723293981,
          0.42969799345312265,
          0.6087061751536216,
          0.3372072573804217,
          0.3331329642690236,
          0.3566981697247439,
          0.3733192757622989,
          0.4058296092345208,
          0.5349071215320709,
          0.631396476864249,
          0.2966514492878543,
          0.3573913046367654,
          0.3627752729938341,
          0.3890719061782888,
          0.37565660938148343,
          0.5148749140504577,
          0.23013979358505227,
          0.3186865811518992,
          0.5032698071279683,
          0.1951480792762092,
          0.3576989579937989,
          0.34089531569041104,
          0.6851455816466894,
          0.5159478218557547,
          0.3293345553351014,
          0.47187267500300056,
          0.37696916025553,
          0.4479360018166527,
          0.3617225107404205,
          0.4211709317139884,
          0.413086850920253,
          0.6309936069591537,
          0.6380896493684487,
          0.5061626961631815,
          0.4744643870457205,
          0.7267540950898167,
          0.2874549435215844,
          0.36378474088653934,
          0.39228867007280055,
          0.35570790718103995,
          0.40338237235360513,
          0.3313154558512186,
          0.44267868402952176,
          0.6164183902113715,
          0.4115958507409484,
          0.38286688126420604,
          0.3946801848297521,
          0.6585510030495751,
          0.44589057345539884,
          0.3790591359996971,
          0.464065877122669,
          0.5315625988834578,
          0.14646299243139466,
          0.7824636642578942,
          0,
          0.40295765326691435,
          0.4815870883529108,
          0.44742151690636084,
          0.5541399829686763,
          0.42443358562272876,
          0.6038489375209166,
          0.31057827728813814,
          0.3319208934977617,
          0.5205440066094063,
          0.42696977352489573,
          0.6223044387786509,
          0.6943094069786888,
          0.42504157487936484,
          0.5058361217491256,
          0.23443069066915054,
          0.6589446686242204,
          0.4947199807618212,
          0.39977089946138195,
          0.35975148576106597,
          0.4793576246936747,
          0.2315336147002351,
          0.6349799272458426,
          0.40045522617911555,
          0.2917681541437921,
          0.6291358752764421,
          1,
          0.5278353368256393,
          0.4040950387570448,
          0.35950328072914106,
          0.4069513750214939,
          0.3045547025237874,
          0.4283790350163438,
          0.47524108822195305
         ]
        }
       ],
       "layout": {
        "coloraxis": {
         "colorbar": {
          "title": {
           "text": "color"
          }
         },
         "colorscale": [
          [
           0,
           "#0d0887"
          ],
          [
           0.1111111111111111,
           "#46039f"
          ],
          [
           0.2222222222222222,
           "#7201a8"
          ],
          [
           0.3333333333333333,
           "#9c179e"
          ],
          [
           0.4444444444444444,
           "#bd3786"
          ],
          [
           0.5555555555555556,
           "#d8576b"
          ],
          [
           0.6666666666666666,
           "#ed7953"
          ],
          [
           0.7777777777777778,
           "#fb9f3a"
          ],
          [
           0.8888888888888888,
           "#fdca26"
          ],
          [
           1,
           "#f0f921"
          ]
         ]
        },
        "legend": {
         "tracegroupgap": 0
        },
        "margin": {
         "t": 60
        },
        "scene": {
         "domain": {
          "x": [
           0,
           1
          ],
          "y": [
           0,
           1
          ]
         },
         "xaxis": {
          "title": {
           "text": "x"
          }
         },
         "yaxis": {
          "title": {
           "text": "y"
          }
         },
         "zaxis": {
          "title": {
           "text": "z"
          }
         }
        },
        "template": {
         "data": {
          "bar": [
           {
            "error_x": {
             "color": "#2a3f5f"
            },
            "error_y": {
             "color": "#2a3f5f"
            },
            "marker": {
             "line": {
              "color": "#E5ECF6",
              "width": 0.5
             },
             "pattern": {
              "fillmode": "overlay",
              "size": 10,
              "solidity": 0.2
             }
            },
            "type": "bar"
           }
          ],
          "barpolar": [
           {
            "marker": {
             "line": {
              "color": "#E5ECF6",
              "width": 0.5
             },
             "pattern": {
              "fillmode": "overlay",
              "size": 10,
              "solidity": 0.2
             }
            },
            "type": "barpolar"
           }
          ],
          "carpet": [
           {
            "aaxis": {
             "endlinecolor": "#2a3f5f",
             "gridcolor": "white",
             "linecolor": "white",
             "minorgridcolor": "white",
             "startlinecolor": "#2a3f5f"
            },
            "baxis": {
             "endlinecolor": "#2a3f5f",
             "gridcolor": "white",
             "linecolor": "white",
             "minorgridcolor": "white",
             "startlinecolor": "#2a3f5f"
            },
            "type": "carpet"
           }
          ],
          "choropleth": [
           {
            "colorbar": {
             "outlinewidth": 0,
             "ticks": ""
            },
            "type": "choropleth"
           }
          ],
          "contour": [
           {
            "colorbar": {
             "outlinewidth": 0,
             "ticks": ""
            },
            "colorscale": [
             [
              0,
              "#0d0887"
             ],
             [
              0.1111111111111111,
              "#46039f"
             ],
             [
              0.2222222222222222,
              "#7201a8"
             ],
             [
              0.3333333333333333,
              "#9c179e"
             ],
             [
              0.4444444444444444,
              "#bd3786"
             ],
             [
              0.5555555555555556,
              "#d8576b"
             ],
             [
              0.6666666666666666,
              "#ed7953"
             ],
             [
              0.7777777777777778,
              "#fb9f3a"
             ],
             [
              0.8888888888888888,
              "#fdca26"
             ],
             [
              1,
              "#f0f921"
             ]
            ],
            "type": "contour"
           }
          ],
          "contourcarpet": [
           {
            "colorbar": {
             "outlinewidth": 0,
             "ticks": ""
            },
            "type": "contourcarpet"
           }
          ],
          "heatmap": [
           {
            "colorbar": {
             "outlinewidth": 0,
             "ticks": ""
            },
            "colorscale": [
             [
              0,
              "#0d0887"
             ],
             [
              0.1111111111111111,
              "#46039f"
             ],
             [
              0.2222222222222222,
              "#7201a8"
             ],
             [
              0.3333333333333333,
              "#9c179e"
             ],
             [
              0.4444444444444444,
              "#bd3786"
             ],
             [
              0.5555555555555556,
              "#d8576b"
             ],
             [
              0.6666666666666666,
              "#ed7953"
             ],
             [
              0.7777777777777778,
              "#fb9f3a"
             ],
             [
              0.8888888888888888,
              "#fdca26"
             ],
             [
              1,
              "#f0f921"
             ]
            ],
            "type": "heatmap"
           }
          ],
          "heatmapgl": [
           {
            "colorbar": {
             "outlinewidth": 0,
             "ticks": ""
            },
            "colorscale": [
             [
              0,
              "#0d0887"
             ],
             [
              0.1111111111111111,
              "#46039f"
             ],
             [
              0.2222222222222222,
              "#7201a8"
             ],
             [
              0.3333333333333333,
              "#9c179e"
             ],
             [
              0.4444444444444444,
              "#bd3786"
             ],
             [
              0.5555555555555556,
              "#d8576b"
             ],
             [
              0.6666666666666666,
              "#ed7953"
             ],
             [
              0.7777777777777778,
              "#fb9f3a"
             ],
             [
              0.8888888888888888,
              "#fdca26"
             ],
             [
              1,
              "#f0f921"
             ]
            ],
            "type": "heatmapgl"
           }
          ],
          "histogram": [
           {
            "marker": {
             "pattern": {
              "fillmode": "overlay",
              "size": 10,
              "solidity": 0.2
             }
            },
            "type": "histogram"
           }
          ],
          "histogram2d": [
           {
            "colorbar": {
             "outlinewidth": 0,
             "ticks": ""
            },
            "colorscale": [
             [
              0,
              "#0d0887"
             ],
             [
              0.1111111111111111,
              "#46039f"
             ],
             [
              0.2222222222222222,
              "#7201a8"
             ],
             [
              0.3333333333333333,
              "#9c179e"
             ],
             [
              0.4444444444444444,
              "#bd3786"
             ],
             [
              0.5555555555555556,
              "#d8576b"
             ],
             [
              0.6666666666666666,
              "#ed7953"
             ],
             [
              0.7777777777777778,
              "#fb9f3a"
             ],
             [
              0.8888888888888888,
              "#fdca26"
             ],
             [
              1,
              "#f0f921"
             ]
            ],
            "type": "histogram2d"
           }
          ],
          "histogram2dcontour": [
           {
            "colorbar": {
             "outlinewidth": 0,
             "ticks": ""
            },
            "colorscale": [
             [
              0,
              "#0d0887"
             ],
             [
              0.1111111111111111,
              "#46039f"
             ],
             [
              0.2222222222222222,
              "#7201a8"
             ],
             [
              0.3333333333333333,
              "#9c179e"
             ],
             [
              0.4444444444444444,
              "#bd3786"
             ],
             [
              0.5555555555555556,
              "#d8576b"
             ],
             [
              0.6666666666666666,
              "#ed7953"
             ],
             [
              0.7777777777777778,
              "#fb9f3a"
             ],
             [
              0.8888888888888888,
              "#fdca26"
             ],
             [
              1,
              "#f0f921"
             ]
            ],
            "type": "histogram2dcontour"
           }
          ],
          "mesh3d": [
           {
            "colorbar": {
             "outlinewidth": 0,
             "ticks": ""
            },
            "type": "mesh3d"
           }
          ],
          "parcoords": [
           {
            "line": {
             "colorbar": {
              "outlinewidth": 0,
              "ticks": ""
             }
            },
            "type": "parcoords"
           }
          ],
          "pie": [
           {
            "automargin": true,
            "type": "pie"
           }
          ],
          "scatter": [
           {
            "marker": {
             "colorbar": {
              "outlinewidth": 0,
              "ticks": ""
             }
            },
            "type": "scatter"
           }
          ],
          "scatter3d": [
           {
            "line": {
             "colorbar": {
              "outlinewidth": 0,
              "ticks": ""
             }
            },
            "marker": {
             "colorbar": {
              "outlinewidth": 0,
              "ticks": ""
             }
            },
            "type": "scatter3d"
           }
          ],
          "scattercarpet": [
           {
            "marker": {
             "colorbar": {
              "outlinewidth": 0,
              "ticks": ""
             }
            },
            "type": "scattercarpet"
           }
          ],
          "scattergeo": [
           {
            "marker": {
             "colorbar": {
              "outlinewidth": 0,
              "ticks": ""
             }
            },
            "type": "scattergeo"
           }
          ],
          "scattergl": [
           {
            "marker": {
             "colorbar": {
              "outlinewidth": 0,
              "ticks": ""
             }
            },
            "type": "scattergl"
           }
          ],
          "scattermapbox": [
           {
            "marker": {
             "colorbar": {
              "outlinewidth": 0,
              "ticks": ""
             }
            },
            "type": "scattermapbox"
           }
          ],
          "scatterpolar": [
           {
            "marker": {
             "colorbar": {
              "outlinewidth": 0,
              "ticks": ""
             }
            },
            "type": "scatterpolar"
           }
          ],
          "scatterpolargl": [
           {
            "marker": {
             "colorbar": {
              "outlinewidth": 0,
              "ticks": ""
             }
            },
            "type": "scatterpolargl"
           }
          ],
          "scatterternary": [
           {
            "marker": {
             "colorbar": {
              "outlinewidth": 0,
              "ticks": ""
             }
            },
            "type": "scatterternary"
           }
          ],
          "surface": [
           {
            "colorbar": {
             "outlinewidth": 0,
             "ticks": ""
            },
            "colorscale": [
             [
              0,
              "#0d0887"
             ],
             [
              0.1111111111111111,
              "#46039f"
             ],
             [
              0.2222222222222222,
              "#7201a8"
             ],
             [
              0.3333333333333333,
              "#9c179e"
             ],
             [
              0.4444444444444444,
              "#bd3786"
             ],
             [
              0.5555555555555556,
              "#d8576b"
             ],
             [
              0.6666666666666666,
              "#ed7953"
             ],
             [
              0.7777777777777778,
              "#fb9f3a"
             ],
             [
              0.8888888888888888,
              "#fdca26"
             ],
             [
              1,
              "#f0f921"
             ]
            ],
            "type": "surface"
           }
          ],
          "table": [
           {
            "cells": {
             "fill": {
              "color": "#EBF0F8"
             },
             "line": {
              "color": "white"
             }
            },
            "header": {
             "fill": {
              "color": "#C8D4E3"
             },
             "line": {
              "color": "white"
             }
            },
            "type": "table"
           }
          ]
         },
         "layout": {
          "annotationdefaults": {
           "arrowcolor": "#2a3f5f",
           "arrowhead": 0,
           "arrowwidth": 1
          },
          "autotypenumbers": "strict",
          "coloraxis": {
           "colorbar": {
            "outlinewidth": 0,
            "ticks": ""
           }
          },
          "colorscale": {
           "diverging": [
            [
             0,
             "#8e0152"
            ],
            [
             0.1,
             "#c51b7d"
            ],
            [
             0.2,
             "#de77ae"
            ],
            [
             0.3,
             "#f1b6da"
            ],
            [
             0.4,
             "#fde0ef"
            ],
            [
             0.5,
             "#f7f7f7"
            ],
            [
             0.6,
             "#e6f5d0"
            ],
            [
             0.7,
             "#b8e186"
            ],
            [
             0.8,
             "#7fbc41"
            ],
            [
             0.9,
             "#4d9221"
            ],
            [
             1,
             "#276419"
            ]
           ],
           "sequential": [
            [
             0,
             "#0d0887"
            ],
            [
             0.1111111111111111,
             "#46039f"
            ],
            [
             0.2222222222222222,
             "#7201a8"
            ],
            [
             0.3333333333333333,
             "#9c179e"
            ],
            [
             0.4444444444444444,
             "#bd3786"
            ],
            [
             0.5555555555555556,
             "#d8576b"
            ],
            [
             0.6666666666666666,
             "#ed7953"
            ],
            [
             0.7777777777777778,
             "#fb9f3a"
            ],
            [
             0.8888888888888888,
             "#fdca26"
            ],
            [
             1,
             "#f0f921"
            ]
           ],
           "sequentialminus": [
            [
             0,
             "#0d0887"
            ],
            [
             0.1111111111111111,
             "#46039f"
            ],
            [
             0.2222222222222222,
             "#7201a8"
            ],
            [
             0.3333333333333333,
             "#9c179e"
            ],
            [
             0.4444444444444444,
             "#bd3786"
            ],
            [
             0.5555555555555556,
             "#d8576b"
            ],
            [
             0.6666666666666666,
             "#ed7953"
            ],
            [
             0.7777777777777778,
             "#fb9f3a"
            ],
            [
             0.8888888888888888,
             "#fdca26"
            ],
            [
             1,
             "#f0f921"
            ]
           ]
          },
          "colorway": [
           "#636efa",
           "#EF553B",
           "#00cc96",
           "#ab63fa",
           "#FFA15A",
           "#19d3f3",
           "#FF6692",
           "#B6E880",
           "#FF97FF",
           "#FECB52"
          ],
          "font": {
           "color": "#2a3f5f"
          },
          "geo": {
           "bgcolor": "white",
           "lakecolor": "white",
           "landcolor": "#E5ECF6",
           "showlakes": true,
           "showland": true,
           "subunitcolor": "white"
          },
          "hoverlabel": {
           "align": "left"
          },
          "hovermode": "closest",
          "mapbox": {
           "style": "light"
          },
          "paper_bgcolor": "white",
          "plot_bgcolor": "#E5ECF6",
          "polar": {
           "angularaxis": {
            "gridcolor": "white",
            "linecolor": "white",
            "ticks": ""
           },
           "bgcolor": "#E5ECF6",
           "radialaxis": {
            "gridcolor": "white",
            "linecolor": "white",
            "ticks": ""
           }
          },
          "scene": {
           "xaxis": {
            "backgroundcolor": "#E5ECF6",
            "gridcolor": "white",
            "gridwidth": 2,
            "linecolor": "white",
            "showbackground": true,
            "ticks": "",
            "zerolinecolor": "white"
           },
           "yaxis": {
            "backgroundcolor": "#E5ECF6",
            "gridcolor": "white",
            "gridwidth": 2,
            "linecolor": "white",
            "showbackground": true,
            "ticks": "",
            "zerolinecolor": "white"
           },
           "zaxis": {
            "backgroundcolor": "#E5ECF6",
            "gridcolor": "white",
            "gridwidth": 2,
            "linecolor": "white",
            "showbackground": true,
            "ticks": "",
            "zerolinecolor": "white"
           }
          },
          "shapedefaults": {
           "line": {
            "color": "#2a3f5f"
           }
          },
          "ternary": {
           "aaxis": {
            "gridcolor": "white",
            "linecolor": "white",
            "ticks": ""
           },
           "baxis": {
            "gridcolor": "white",
            "linecolor": "white",
            "ticks": ""
           },
           "bgcolor": "#E5ECF6",
           "caxis": {
            "gridcolor": "white",
            "linecolor": "white",
            "ticks": ""
           }
          },
          "title": {
           "x": 0.05
          },
          "xaxis": {
           "automargin": true,
           "gridcolor": "white",
           "linecolor": "white",
           "ticks": "",
           "title": {
            "standoff": 15
           },
           "zerolinecolor": "white",
           "zerolinewidth": 2
          },
          "yaxis": {
           "automargin": true,
           "gridcolor": "white",
           "linecolor": "white",
           "ticks": "",
           "title": {
            "standoff": 15
           },
           "zerolinecolor": "white",
           "zerolinewidth": 2
          }
         }
        }
       }
      }
     },
     "metadata": {},
     "output_type": "display_data"
    }
   ],
   "source": [
    "countries = data_pca.index.tolist()\n",
    "fig = px.scatter_3d(x=data_pca.PC1, y=data_pca.PC2, z=data_pca.PC3, color=data_pca.cluster_pca, opacity=0.7)\n",
    "fig.update_traces(mode=\"m5arkers\", hovertemplate=countries)\n",
    "fig.show()"
   ]
  },
  {
   "cell_type": "code",
   "execution_count": 61,
   "metadata": {},
   "outputs": [
    {
     "data": {
      "text/plain": [
       "Index(['child_mort', 'exports', 'health', 'imports', 'income', 'inflation',\n",
       "       'life_expec', 'total_fer', 'gdpp', 'cluster_raw'],\n",
       "      dtype='object')"
      ]
     },
     "execution_count": 61,
     "metadata": {},
     "output_type": "execute_result"
    }
   ],
   "source": [
    "data_raw.columns"
   ]
  },
  {
   "attachments": {},
   "cell_type": "markdown",
   "metadata": {},
   "source": [
    "## Data_raw_fin"
   ]
  },
  {
   "cell_type": "code",
   "execution_count": 84,
   "metadata": {},
   "outputs": [
    {
     "name": "stderr",
     "output_type": "stream",
     "text": [
      "c:\\Users\\sutov\\anaconda3\\lib\\site-packages\\sklearn\\cluster\\_kmeans.py:1036: UserWarning:\n",
      "\n",
      "KMeans is known to have a memory leak on Windows with MKL, when there are less chunks than available threads. You can avoid it by setting the environment variable OMP_NUM_THREADS=1.\n",
      "\n"
     ]
    },
    {
     "data": {
      "image/png": "[encoded data removed]",
      "text/plain": [
       "<Figure size 432x288 with 1 Axes>"
      ]
     },
     "metadata": {},
     "output_type": "display_data"
    }
   ],
   "source": [
    "kmeans_kwargs = {\n",
    "    \"init\": \"k-means++\",\n",
    "    \"n_init\": 10,\n",
    "    \"max_iter\": 300,\n",
    "    \"random_state\": 42,\n",
    "}\n",
    "\n",
    "# A list holds the SSE values for each k\n",
    "sse = []\n",
    "for k in range(1, 11):\n",
    "    kmeans = KMeans(n_clusters=k, **kmeans_kwargs)\n",
    "    kmeans.fit(data_raw_fin)\n",
    "    sse.append(kmeans.inertia_)\n",
    "    \n",
    "plt.style.use(\"fivethirtyeight\")\n",
    "plt.plot(range(1, 11), sse)\n",
    "plt.xticks(range(1, 11))\n",
    "plt.xlabel(\"Number of Clusters\")\n",
    "plt.ylabel(\"SSE\")\n",
    "plt.show()"
   ]
  },
  {
   "attachments": {},
   "cell_type": "markdown",
   "metadata": {},
   "source": [
    "If the elbow method does not show clear results, it means that there is no obvious \"elbow\" in the plot of WCSS against the number of clusters. This can happen for a few different reasons. For example, it could be that the data does not have a clear structure, and so it is not possible to identify an optimal number of clusters. Alternatively, it could be that the data has multiple clusters with similar WCSS values, which can make it difficult to identify the \"elbow\" in the plot.\n",
    "\n",
    "In cases where the elbow method does not show clear results, it can be helpful to try using other methods for determining the optimal number of clusters. For example, you could try using the gap statistic, or you could try using a different clustering algorithm that may be better suited to the structure of your data. Ultimately, the best approach will depend on the specific characteristics of your dataset."
   ]
  },
  {
   "attachments": {},
   "cell_type": "markdown",
   "metadata": {},
   "source": [
    "## Data_raw_nfin"
   ]
  },
  {
   "cell_type": "code",
   "execution_count": 96,
   "metadata": {},
   "outputs": [
    {
     "ename": "ValueError",
     "evalue": "could not convert string to float: 'Afghanistan'",
     "output_type": "error",
     "traceback": [
      "\u001b[1;31m---------------------------------------------------------------------------\u001b[0m",
      "\u001b[1;31mValueError\u001b[0m                                Traceback (most recent call last)",
      "\u001b[1;32mc:\\Users\\sutov\\OneDrive\\Stalinis kompiuteris\\ITU\\GitHub\\Kattis\\modelling-countries-need-for-humanitarian-aid\\src\\k-means.ipynb Cell 37\u001b[0m in \u001b[0;36m<cell line: 10>\u001b[1;34m()\u001b[0m\n\u001b[0;32m     <a href='vscode-notebook-cell:/c%3A/Users/sutov/OneDrive/Stalinis%20kompiuteris/ITU/GitHub/Kattis/modelling-countries-need-for-humanitarian-aid/src/k-means.ipynb#X56sZmlsZQ%3D%3D?line=9'>10</a>\u001b[0m \u001b[39mfor\u001b[39;00m k \u001b[39min\u001b[39;00m \u001b[39mrange\u001b[39m(\u001b[39m1\u001b[39m, \u001b[39m11\u001b[39m):\n\u001b[0;32m     <a href='vscode-notebook-cell:/c%3A/Users/sutov/OneDrive/Stalinis%20kompiuteris/ITU/GitHub/Kattis/modelling-countries-need-for-humanitarian-aid/src/k-means.ipynb#X56sZmlsZQ%3D%3D?line=10'>11</a>\u001b[0m     kmeans \u001b[39m=\u001b[39m KMeans(n_clusters\u001b[39m=\u001b[39mk, \u001b[39m*\u001b[39m\u001b[39m*\u001b[39mkmeans_kwargs)\n\u001b[1;32m---> <a href='vscode-notebook-cell:/c%3A/Users/sutov/OneDrive/Stalinis%20kompiuteris/ITU/GitHub/Kattis/modelling-countries-need-for-humanitarian-aid/src/k-means.ipynb#X56sZmlsZQ%3D%3D?line=11'>12</a>\u001b[0m     kmeans\u001b[39m.\u001b[39;49mfit(data_raw_nfin)\n\u001b[0;32m     <a href='vscode-notebook-cell:/c%3A/Users/sutov/OneDrive/Stalinis%20kompiuteris/ITU/GitHub/Kattis/modelling-countries-need-for-humanitarian-aid/src/k-means.ipynb#X56sZmlsZQ%3D%3D?line=12'>13</a>\u001b[0m     sse\u001b[39m.\u001b[39mappend(kmeans\u001b[39m.\u001b[39minertia_)\n\u001b[0;32m     <a href='vscode-notebook-cell:/c%3A/Users/sutov/OneDrive/Stalinis%20kompiuteris/ITU/GitHub/Kattis/modelling-countries-need-for-humanitarian-aid/src/k-means.ipynb#X56sZmlsZQ%3D%3D?line=14'>15</a>\u001b[0m plt\u001b[39m.\u001b[39mstyle\u001b[39m.\u001b[39muse(\u001b[39m\"\u001b[39m\u001b[39mfivethirtyeight\u001b[39m\u001b[39m\"\u001b[39m)\n",
      "File \u001b[1;32mc:\\Users\\sutov\\anaconda3\\lib\\site-packages\\sklearn\\cluster\\_kmeans.py:1137\u001b[0m, in \u001b[0;36mKMeans.fit\u001b[1;34m(self, X, y, sample_weight)\u001b[0m\n\u001b[0;32m   1111\u001b[0m \u001b[39mdef\u001b[39;00m \u001b[39mfit\u001b[39m(\u001b[39mself\u001b[39m, X, y\u001b[39m=\u001b[39m\u001b[39mNone\u001b[39;00m, sample_weight\u001b[39m=\u001b[39m\u001b[39mNone\u001b[39;00m):\n\u001b[0;32m   1112\u001b[0m     \u001b[39m\"\"\"Compute k-means clustering.\u001b[39;00m\n\u001b[0;32m   1113\u001b[0m \n\u001b[0;32m   1114\u001b[0m \u001b[39m    Parameters\u001b[39;00m\n\u001b[1;32m   (...)\u001b[0m\n\u001b[0;32m   1135\u001b[0m \u001b[39m        Fitted estimator.\u001b[39;00m\n\u001b[0;32m   1136\u001b[0m \u001b[39m    \"\"\"\u001b[39;00m\n\u001b[1;32m-> 1137\u001b[0m     X \u001b[39m=\u001b[39m \u001b[39mself\u001b[39;49m\u001b[39m.\u001b[39;49m_validate_data(\n\u001b[0;32m   1138\u001b[0m         X,\n\u001b[0;32m   1139\u001b[0m         accept_sparse\u001b[39m=\u001b[39;49m\u001b[39m\"\u001b[39;49m\u001b[39mcsr\u001b[39;49m\u001b[39m\"\u001b[39;49m,\n\u001b[0;32m   1140\u001b[0m         dtype\u001b[39m=\u001b[39;49m[np\u001b[39m.\u001b[39;49mfloat64, np\u001b[39m.\u001b[39;49mfloat32],\n\u001b[0;32m   1141\u001b[0m         order\u001b[39m=\u001b[39;49m\u001b[39m\"\u001b[39;49m\u001b[39mC\u001b[39;49m\u001b[39m\"\u001b[39;49m,\n\u001b[0;32m   1142\u001b[0m         copy\u001b[39m=\u001b[39;49m\u001b[39mself\u001b[39;49m\u001b[39m.\u001b[39;49mcopy_x,\n\u001b[0;32m   1143\u001b[0m         accept_large_sparse\u001b[39m=\u001b[39;49m\u001b[39mFalse\u001b[39;49;00m,\n\u001b[0;32m   1144\u001b[0m     )\n\u001b[0;32m   1146\u001b[0m     \u001b[39mself\u001b[39m\u001b[39m.\u001b[39m_check_params(X)\n\u001b[0;32m   1147\u001b[0m     random_state \u001b[39m=\u001b[39m check_random_state(\u001b[39mself\u001b[39m\u001b[39m.\u001b[39mrandom_state)\n",
      "File \u001b[1;32mc:\\Users\\sutov\\anaconda3\\lib\\site-packages\\sklearn\\base.py:566\u001b[0m, in \u001b[0;36mBaseEstimator._validate_data\u001b[1;34m(self, X, y, reset, validate_separately, **check_params)\u001b[0m\n\u001b[0;32m    564\u001b[0m     \u001b[39mraise\u001b[39;00m \u001b[39mValueError\u001b[39;00m(\u001b[39m\"\u001b[39m\u001b[39mValidation should be done on X, y or both.\u001b[39m\u001b[39m\"\u001b[39m)\n\u001b[0;32m    565\u001b[0m \u001b[39melif\u001b[39;00m \u001b[39mnot\u001b[39;00m no_val_X \u001b[39mand\u001b[39;00m no_val_y:\n\u001b[1;32m--> 566\u001b[0m     X \u001b[39m=\u001b[39m check_array(X, \u001b[39m*\u001b[39m\u001b[39m*\u001b[39mcheck_params)\n\u001b[0;32m    567\u001b[0m     out \u001b[39m=\u001b[39m X\n\u001b[0;32m    568\u001b[0m \u001b[39melif\u001b[39;00m no_val_X \u001b[39mand\u001b[39;00m \u001b[39mnot\u001b[39;00m no_val_y:\n",
      "File \u001b[1;32mc:\\Users\\sutov\\anaconda3\\lib\\site-packages\\sklearn\\utils\\validation.py:746\u001b[0m, in \u001b[0;36mcheck_array\u001b[1;34m(array, accept_sparse, accept_large_sparse, dtype, order, copy, force_all_finite, ensure_2d, allow_nd, ensure_min_samples, ensure_min_features, estimator)\u001b[0m\n\u001b[0;32m    744\u001b[0m         array \u001b[39m=\u001b[39m array\u001b[39m.\u001b[39mastype(dtype, casting\u001b[39m=\u001b[39m\u001b[39m\"\u001b[39m\u001b[39munsafe\u001b[39m\u001b[39m\"\u001b[39m, copy\u001b[39m=\u001b[39m\u001b[39mFalse\u001b[39;00m)\n\u001b[0;32m    745\u001b[0m     \u001b[39melse\u001b[39;00m:\n\u001b[1;32m--> 746\u001b[0m         array \u001b[39m=\u001b[39m np\u001b[39m.\u001b[39;49masarray(array, order\u001b[39m=\u001b[39;49morder, dtype\u001b[39m=\u001b[39;49mdtype)\n\u001b[0;32m    747\u001b[0m \u001b[39mexcept\u001b[39;00m ComplexWarning \u001b[39mas\u001b[39;00m complex_warning:\n\u001b[0;32m    748\u001b[0m     \u001b[39mraise\u001b[39;00m \u001b[39mValueError\u001b[39;00m(\n\u001b[0;32m    749\u001b[0m         \u001b[39m\"\u001b[39m\u001b[39mComplex data not supported\u001b[39m\u001b[39m\\n\u001b[39;00m\u001b[39m{}\u001b[39;00m\u001b[39m\\n\u001b[39;00m\u001b[39m\"\u001b[39m\u001b[39m.\u001b[39mformat(array)\n\u001b[0;32m    750\u001b[0m     ) \u001b[39mfrom\u001b[39;00m \u001b[39mcomplex_warning\u001b[39;00m\n",
      "File \u001b[1;32mc:\\Users\\sutov\\anaconda3\\lib\\site-packages\\pandas\\core\\generic.py:1993\u001b[0m, in \u001b[0;36mNDFrame.__array__\u001b[1;34m(self, dtype)\u001b[0m\n\u001b[0;32m   1992\u001b[0m \u001b[39mdef\u001b[39;00m \u001b[39m__array__\u001b[39m(\u001b[39mself\u001b[39m, dtype: NpDtype \u001b[39m|\u001b[39m \u001b[39mNone\u001b[39;00m \u001b[39m=\u001b[39m \u001b[39mNone\u001b[39;00m) \u001b[39m-\u001b[39m\u001b[39m>\u001b[39m np\u001b[39m.\u001b[39mndarray:\n\u001b[1;32m-> 1993\u001b[0m     \u001b[39mreturn\u001b[39;00m np\u001b[39m.\u001b[39;49masarray(\u001b[39mself\u001b[39;49m\u001b[39m.\u001b[39;49m_values, dtype\u001b[39m=\u001b[39;49mdtype)\n",
      "\u001b[1;31mValueError\u001b[0m: could not convert string to float: 'Afghanistan'"
     ]
    }
   ],
   "source": [
    "kmeans_kwargs = {\n",
    "    \"init\": \"k-means++\",\n",
    "    \"n_init\": 10,\n",
    "    \"max_iter\": 300,\n",
    "    \"random_state\": 42,\n",
    "}\n",
    "\n",
    "# A list holds the SSE values for each k\n",
    "sse = []\n",
    "for k in range(1, 11):\n",
    "    kmeans = KMeans(n_clusters=k, **kmeans_kwargs)\n",
    "    kmeans.fit(data_raw_nfin)\n",
    "    sse.append(kmeans.inertia_)\n",
    "    \n",
    "plt.style.use(\"fivethirtyeight\")\n",
    "plt.plot(range(1, 11), sse)\n",
    "plt.xticks(range(1, 11))\n",
    "plt.xlabel(\"Number of Clusters\")\n",
    "plt.ylabel(\"SSE\")\n",
    "plt.show()"
   ]
  },
  {
   "attachments": {},
   "cell_type": "markdown",
   "metadata": {},
   "source": []
  },
  {
   "cell_type": "code",
   "execution_count": 102,
   "metadata": {},
   "outputs": [
    {
     "data": {
      "application/vnd.plotly.v1+json": {
       "config": {
        "plotlyServerURL": "https://plot.ly"
       },
       "data": [
        {
         "hovertemplate": "x=%{x}<br>y=%{y}<br>z=%{z}<extra></extra>",
         "legendgroup": "",
         "marker": {
          "color": "#636efa",
          "opacity": 0.7,
          "symbol": "circle"
         },
         "mode": "markers",
         "name": "",
         "scene": "scene",
         "showlegend": false,
         "type": "scatter3d",
         "x": [
          90.2,
          16.6,
          27.3,
          119,
          10.3,
          14.5,
          18.1,
          4.8,
          4.3,
          39.2,
          13.8,
          8.6,
          49.4,
          14.2,
          5.5,
          4.5,
          18.8,
          111,
          42.7,
          46.6,
          6.9,
          52.5,
          19.8,
          10.5,
          10.8,
          116,
          93.6,
          44.4,
          108,
          5.6,
          26.5,
          149,
          150,
          8.7,
          15.7,
          18.6,
          88.2,
          116,
          63.9,
          10.2,
          111,
          5.5,
          3.6,
          3.4,
          4.1,
          34.4,
          25.1,
          29.1,
          19.2,
          111,
          55.2,
          4.5,
          24.1,
          3,
          4.2,
          63.7,
          80.3,
          16.5,
          4.2,
          74.7,
          3.9,
          14.6,
          35.4,
          109,
          114,
          37.6,
          208,
          6,
          2.6,
          58.8,
          33.3,
          19.3,
          36.9,
          4.2,
          4.6,
          4,
          18.1,
          3.2,
          21.1,
          21.5,
          62.2,
          62.7,
          10.8,
          29.6,
          78.9,
          7.8,
          10.3,
          99.7,
          89.3,
          16.6,
          6.1,
          2.8,
          10.4,
          62.2,
          90.5,
          7.9,
          13.2,
          137,
          6.8,
          97.4,
          15,
          40,
          17.2,
          26.1,
          6.8,
          33.5,
          101,
          64.4,
          56,
          47,
          4.5,
          6.2,
          123,
          130,
          3.2,
          11.7,
          92.1,
          19.7,
          24.1,
          20.3,
          31.9,
          6,
          3.9,
          9,
          11.5,
          10,
          63.6,
          18.9,
          15.7,
          66.8,
          7.6,
          14.4,
          160,
          2.8,
          7,
          3.2,
          28.1,
          53.7,
          4.1,
          3.8,
          11.2,
          20.7,
          76.7,
          24.1,
          3,
          4.5,
          52.4,
          71.9,
          14.9,
          62.6,
          90.3,
          17.4,
          17.4,
          19.1,
          62,
          81,
          11.7,
          8.6,
          5.2,
          7.3,
          10.6,
          36.3,
          29.2,
          17.1,
          23.3,
          56.3,
          83.1
         ],
         "y": [
          56.2,
          76.3,
          76.5,
          60.1,
          76.8,
          75.8,
          73.3,
          82,
          80.5,
          69.1,
          73.8,
          76,
          70.4,
          76.7,
          70.4,
          80,
          71.4,
          61.8,
          72.1,
          71.6,
          76.8,
          57.1,
          74.2,
          77.1,
          73.9,
          57.9,
          57.7,
          66.1,
          57.3,
          81.3,
          72.5,
          47.5,
          56.5,
          79.1,
          74.6,
          76.4,
          65.9,
          57.5,
          60.4,
          80.4,
          56.3,
          76.3,
          79.9,
          77.5,
          79.5,
          74.6,
          76.7,
          70.5,
          74.1,
          60.9,
          61.7,
          76,
          65.3,
          80,
          81.4,
          62.9,
          65.5,
          72.8,
          80.1,
          62.2,
          80.4,
          71.3,
          71.3,
          58,
          55.6,
          65.5,
          32.1,
          74.5,
          82,
          66.2,
          69.9,
          74.5,
          67.2,
          80.4,
          81.4,
          81.7,
          74.7,
          82.8,
          75.8,
          68.4,
          62.8,
          60.7,
          78.2,
          68.5,
          63.8,
          73.1,
          79.8,
          46.5,
          60.8,
          76.1,
          73.2,
          81.3,
          74,
          60.8,
          53.1,
          74.5,
          77.9,
          59.5,
          80.3,
          68.2,
          73.4,
          65.4,
          69.7,
          66.2,
          76.4,
          73.5,
          54.5,
          66.8,
          58.6,
          68.3,
          80.7,
          80.9,
          58.8,
          60.5,
          81,
          76.1,
          65.3,
          77.8,
          74.1,
          77.9,
          69,
          76.3,
          79.8,
          79.5,
          73.7,
          69.2,
          64.6,
          71.5,
          75.1,
          64,
          74.7,
          73.4,
          55,
          82.7,
          75.5,
          79.5,
          61.7,
          54.3,
          80.1,
          81.9,
          74.4,
          71.6,
          66.3,
          70.3,
          81.5,
          82.2,
          69.6,
          59.3,
          76.6,
          71.1,
          58.7,
          69.9,
          76.9,
          78.2,
          67.9,
          56.8,
          70.4,
          76.5,
          80.3,
          78.7,
          76.4,
          68.8,
          63,
          75.4,
          73.1,
          67.5,
          52
         ],
         "z": [
          5.82,
          1.65,
          2.89,
          6.16,
          2.13,
          2.37,
          1.69,
          1.93,
          1.44,
          1.92,
          1.86,
          2.16,
          2.33,
          1.78,
          1.49,
          1.86,
          2.71,
          5.36,
          2.38,
          3.2,
          1.31,
          2.88,
          1.8,
          1.84,
          1.57,
          5.87,
          6.26,
          2.88,
          5.11,
          1.63,
          2.67,
          5.21,
          6.59,
          1.88,
          1.59,
          2.01,
          4.75,
          6.54,
          4.95,
          1.92,
          5.27,
          1.55,
          1.42,
          1.51,
          1.87,
          2.6,
          2.66,
          3.19,
          2.27,
          5.21,
          4.61,
          1.72,
          2.67,
          1.87,
          2.03,
          4.08,
          5.71,
          1.92,
          1.39,
          4.27,
          1.48,
          2.24,
          3.38,
          5.34,
          5.05,
          2.65,
          3.33,
          1.25,
          2.2,
          2.6,
          2.48,
          1.76,
          4.56,
          2.05,
          3.03,
          1.46,
          2.17,
          1.39,
          3.66,
          2.6,
          4.37,
          3.84,
          2.21,
          3.1,
          3.15,
          1.36,
          1.61,
          3.3,
          5.02,
          2.41,
          1.5,
          1.63,
          1.47,
          4.6,
          5.31,
          2.15,
          2.23,
          6.55,
          1.36,
          4.98,
          1.57,
          3.46,
          1.27,
          2.64,
          1.77,
          2.58,
          5.56,
          2.41,
          3.6,
          2.61,
          1.79,
          2.17,
          7.49,
          5.84,
          1.95,
          2.9,
          3.85,
          2.62,
          2.73,
          2.54,
          3.16,
          1.41,
          1.39,
          2.07,
          1.59,
          1.57,
          4.51,
          4.34,
          2.96,
          5.06,
          1.4,
          2.17,
          5.2,
          1.15,
          1.43,
          1.57,
          4.24,
          2.59,
          1.23,
          1.37,
          2.2,
          2.07,
          4.88,
          2.52,
          1.98,
          1.52,
          3.51,
          5.43,
          1.55,
          6.23,
          4.87,
          3.91,
          2.14,
          2.15,
          2.83,
          6.15,
          1.44,
          1.87,
          1.92,
          1.93,
          2.08,
          2.34,
          3.5,
          2.47,
          1.95,
          4.67,
          5.4
         ]
        }
       ],
       "layout": {
        "legend": {
         "tracegroupgap": 0
        },
        "margin": {
         "t": 60
        },
        "scene": {
         "domain": {
          "x": [
           0,
           1
          ],
          "y": [
           0,
           1
          ]
         },
         "xaxis": {
          "title": {
           "text": "x"
          }
         },
         "yaxis": {
          "title": {
           "text": "y"
          }
         },
         "zaxis": {
          "title": {
           "text": "z"
          }
         }
        },
        "template": {
         "data": {
          "bar": [
           {
            "error_x": {
             "color": "#2a3f5f"
            },
            "error_y": {
             "color": "#2a3f5f"
            },
            "marker": {
             "line": {
              "color": "#E5ECF6",
              "width": 0.5
             },
             "pattern": {
              "fillmode": "overlay",
              "size": 10,
              "solidity": 0.2
             }
            },
            "type": "bar"
           }
          ],
          "barpolar": [
           {
            "marker": {
             "line": {
              "color": "#E5ECF6",
              "width": 0.5
             },
             "pattern": {
              "fillmode": "overlay",
              "size": 10,
              "solidity": 0.2
             }
            },
            "type": "barpolar"
           }
          ],
          "carpet": [
           {
            "aaxis": {
             "endlinecolor": "#2a3f5f",
             "gridcolor": "white",
             "linecolor": "white",
             "minorgridcolor": "white",
             "startlinecolor": "#2a3f5f"
            },
            "baxis": {
             "endlinecolor": "#2a3f5f",
             "gridcolor": "white",
             "linecolor": "white",
             "minorgridcolor": "white",
             "startlinecolor": "#2a3f5f"
            },
            "type": "carpet"
           }
          ],
          "choropleth": [
           {
            "colorbar": {
             "outlinewidth": 0,
             "ticks": ""
            },
            "type": "choropleth"
           }
          ],
          "contour": [
           {
            "colorbar": {
             "outlinewidth": 0,
             "ticks": ""
            },
            "colorscale": [
             [
              0,
              "#0d0887"
             ],
             [
              0.1111111111111111,
              "#46039f"
             ],
             [
              0.2222222222222222,
              "#7201a8"
             ],
             [
              0.3333333333333333,
              "#9c179e"
             ],
             [
              0.4444444444444444,
              "#bd3786"
             ],
             [
              0.5555555555555556,
              "#d8576b"
             ],
             [
              0.6666666666666666,
              "#ed7953"
             ],
             [
              0.7777777777777778,
              "#fb9f3a"
             ],
             [
              0.8888888888888888,
              "#fdca26"
             ],
             [
              1,
              "#f0f921"
             ]
            ],
            "type": "contour"
           }
          ],
          "contourcarpet": [
           {
            "colorbar": {
             "outlinewidth": 0,
             "ticks": ""
            },
            "type": "contourcarpet"
           }
          ],
          "heatmap": [
           {
            "colorbar": {
             "outlinewidth": 0,
             "ticks": ""
            },
            "colorscale": [
             [
              0,
              "#0d0887"
             ],
             [
              0.1111111111111111,
              "#46039f"
             ],
             [
              0.2222222222222222,
              "#7201a8"
             ],
             [
              0.3333333333333333,
              "#9c179e"
             ],
             [
              0.4444444444444444,
              "#bd3786"
             ],
             [
              0.5555555555555556,
              "#d8576b"
             ],
             [
              0.6666666666666666,
              "#ed7953"
             ],
             [
              0.7777777777777778,
              "#fb9f3a"
             ],
             [
              0.8888888888888888,
              "#fdca26"
             ],
             [
              1,
              "#f0f921"
             ]
            ],
            "type": "heatmap"
           }
          ],
          "heatmapgl": [
           {
            "colorbar": {
             "outlinewidth": 0,
             "ticks": ""
            },
            "colorscale": [
             [
              0,
              "#0d0887"
             ],
             [
              0.1111111111111111,
              "#46039f"
             ],
             [
              0.2222222222222222,
              "#7201a8"
             ],
             [
              0.3333333333333333,
              "#9c179e"
             ],
             [
              0.4444444444444444,
              "#bd3786"
             ],
             [
              0.5555555555555556,
              "#d8576b"
             ],
             [
              0.6666666666666666,
              "#ed7953"
             ],
             [
              0.7777777777777778,
              "#fb9f3a"
             ],
             [
              0.8888888888888888,
              "#fdca26"
             ],
             [
              1,
              "#f0f921"
             ]
            ],
            "type": "heatmapgl"
           }
          ],
          "histogram": [
           {
            "marker": {
             "pattern": {
              "fillmode": "overlay",
              "size": 10,
              "solidity": 0.2
             }
            },
            "type": "histogram"
           }
          ],
          "histogram2d": [
           {
            "colorbar": {
             "outlinewidth": 0,
             "ticks": ""
            },
            "colorscale": [
             [
              0,
              "#0d0887"
             ],
             [
              0.1111111111111111,
              "#46039f"
             ],
             [
              0.2222222222222222,
              "#7201a8"
             ],
             [
              0.3333333333333333,
              "#9c179e"
             ],
             [
              0.4444444444444444,
              "#bd3786"
             ],
             [
              0.5555555555555556,
              "#d8576b"
             ],
             [
              0.6666666666666666,
              "#ed7953"
             ],
             [
              0.7777777777777778,
              "#fb9f3a"
             ],
             [
              0.8888888888888888,
              "#fdca26"
             ],
             [
              1,
              "#f0f921"
             ]
            ],
            "type": "histogram2d"
           }
          ],
          "histogram2dcontour": [
           {
            "colorbar": {
             "outlinewidth": 0,
             "ticks": ""
            },
            "colorscale": [
             [
              0,
              "#0d0887"
             ],
             [
              0.1111111111111111,
              "#46039f"
             ],
             [
              0.2222222222222222,
              "#7201a8"
             ],
             [
              0.3333333333333333,
              "#9c179e"
             ],
             [
              0.4444444444444444,
              "#bd3786"
             ],
             [
              0.5555555555555556,
              "#d8576b"
             ],
             [
              0.6666666666666666,
              "#ed7953"
             ],
             [
              0.7777777777777778,
              "#fb9f3a"
             ],
             [
              0.8888888888888888,
              "#fdca26"
             ],
             [
              1,
              "#f0f921"
             ]
            ],
            "type": "histogram2dcontour"
           }
          ],
          "mesh3d": [
           {
            "colorbar": {
             "outlinewidth": 0,
             "ticks": ""
            },
            "type": "mesh3d"
           }
          ],
          "parcoords": [
           {
            "line": {
             "colorbar": {
              "outlinewidth": 0,
              "ticks": ""
             }
            },
            "type": "parcoords"
           }
          ],
          "pie": [
           {
            "automargin": true,
            "type": "pie"
           }
          ],
          "scatter": [
           {
            "marker": {
             "colorbar": {
              "outlinewidth": 0,
              "ticks": ""
             }
            },
            "type": "scatter"
           }
          ],
          "scatter3d": [
           {
            "line": {
             "colorbar": {
              "outlinewidth": 0,
              "ticks": ""
             }
            },
            "marker": {
             "colorbar": {
              "outlinewidth": 0,
              "ticks": ""
             }
            },
            "type": "scatter3d"
           }
          ],
          "scattercarpet": [
           {
            "marker": {
             "colorbar": {
              "outlinewidth": 0,
              "ticks": ""
             }
            },
            "type": "scattercarpet"
           }
          ],
          "scattergeo": [
           {
            "marker": {
             "colorbar": {
              "outlinewidth": 0,
              "ticks": ""
             }
            },
            "type": "scattergeo"
           }
          ],
          "scattergl": [
           {
            "marker": {
             "colorbar": {
              "outlinewidth": 0,
              "ticks": ""
             }
            },
            "type": "scattergl"
           }
          ],
          "scattermapbox": [
           {
            "marker": {
             "colorbar": {
              "outlinewidth": 0,
              "ticks": ""
             }
            },
            "type": "scattermapbox"
           }
          ],
          "scatterpolar": [
           {
            "marker": {
             "colorbar": {
              "outlinewidth": 0,
              "ticks": ""
             }
            },
            "type": "scatterpolar"
           }
          ],
          "scatterpolargl": [
           {
            "marker": {
             "colorbar": {
              "outlinewidth": 0,
              "ticks": ""
             }
            },
            "type": "scatterpolargl"
           }
          ],
          "scatterternary": [
           {
            "marker": {
             "colorbar": {
              "outlinewidth": 0,
              "ticks": ""
             }
            },
            "type": "scatterternary"
           }
          ],
          "surface": [
           {
            "colorbar": {
             "outlinewidth": 0,
             "ticks": ""
            },
            "colorscale": [
             [
              0,
              "#0d0887"
             ],
             [
              0.1111111111111111,
              "#46039f"
             ],
             [
              0.2222222222222222,
              "#7201a8"
             ],
             [
              0.3333333333333333,
              "#9c179e"
             ],
             [
              0.4444444444444444,
              "#bd3786"
             ],
             [
              0.5555555555555556,
              "#d8576b"
             ],
             [
              0.6666666666666666,
              "#ed7953"
             ],
             [
              0.7777777777777778,
              "#fb9f3a"
             ],
             [
              0.8888888888888888,
              "#fdca26"
             ],
             [
              1,
              "#f0f921"
             ]
            ],
            "type": "surface"
           }
          ],
          "table": [
           {
            "cells": {
             "fill": {
              "color": "#EBF0F8"
             },
             "line": {
              "color": "white"
             }
            },
            "header": {
             "fill": {
              "color": "#C8D4E3"
             },
             "line": {
              "color": "white"
             }
            },
            "type": "table"
           }
          ]
         },
         "layout": {
          "annotationdefaults": {
           "arrowcolor": "#2a3f5f",
           "arrowhead": 0,
           "arrowwidth": 1
          },
          "autotypenumbers": "strict",
          "coloraxis": {
           "colorbar": {
            "outlinewidth": 0,
            "ticks": ""
           }
          },
          "colorscale": {
           "diverging": [
            [
             0,
             "#8e0152"
            ],
            [
             0.1,
             "#c51b7d"
            ],
            [
             0.2,
             "#de77ae"
            ],
            [
             0.3,
             "#f1b6da"
            ],
            [
             0.4,
             "#fde0ef"
            ],
            [
             0.5,
             "#f7f7f7"
            ],
            [
             0.6,
             "#e6f5d0"
            ],
            [
             0.7,
             "#b8e186"
            ],
            [
             0.8,
             "#7fbc41"
            ],
            [
             0.9,
             "#4d9221"
            ],
            [
             1,
             "#276419"
            ]
           ],
           "sequential": [
            [
             0,
             "#0d0887"
            ],
            [
             0.1111111111111111,
             "#46039f"
            ],
            [
             0.2222222222222222,
             "#7201a8"
            ],
            [
             0.3333333333333333,
             "#9c179e"
            ],
            [
             0.4444444444444444,
             "#bd3786"
            ],
            [
             0.5555555555555556,
             "#d8576b"
            ],
            [
             0.6666666666666666,
             "#ed7953"
            ],
            [
             0.7777777777777778,
             "#fb9f3a"
            ],
            [
             0.8888888888888888,
             "#fdca26"
            ],
            [
             1,
             "#f0f921"
            ]
           ],
           "sequentialminus": [
            [
             0,
             "#0d0887"
            ],
            [
             0.1111111111111111,
             "#46039f"
            ],
            [
             0.2222222222222222,
             "#7201a8"
            ],
            [
             0.3333333333333333,
             "#9c179e"
            ],
            [
             0.4444444444444444,
             "#bd3786"
            ],
            [
             0.5555555555555556,
             "#d8576b"
            ],
            [
             0.6666666666666666,
             "#ed7953"
            ],
            [
             0.7777777777777778,
             "#fb9f3a"
            ],
            [
             0.8888888888888888,
             "#fdca26"
            ],
            [
             1,
             "#f0f921"
            ]
           ]
          },
          "colorway": [
           "#636efa",
           "#EF553B",
           "#00cc96",
           "#ab63fa",
           "#FFA15A",
           "#19d3f3",
           "#FF6692",
           "#B6E880",
           "#FF97FF",
           "#FECB52"
          ],
          "font": {
           "color": "#2a3f5f"
          },
          "geo": {
           "bgcolor": "white",
           "lakecolor": "white",
           "landcolor": "#E5ECF6",
           "showlakes": true,
           "showland": true,
           "subunitcolor": "white"
          },
          "hoverlabel": {
           "align": "left"
          },
          "hovermode": "closest",
          "mapbox": {
           "style": "light"
          },
          "paper_bgcolor": "white",
          "plot_bgcolor": "#E5ECF6",
          "polar": {
           "angularaxis": {
            "gridcolor": "white",
            "linecolor": "white",
            "ticks": ""
           },
           "bgcolor": "#E5ECF6",
           "radialaxis": {
            "gridcolor": "white",
            "linecolor": "white",
            "ticks": ""
           }
          },
          "scene": {
           "xaxis": {
            "backgroundcolor": "#E5ECF6",
            "gridcolor": "white",
            "gridwidth": 2,
            "linecolor": "white",
            "showbackground": true,
            "ticks": "",
            "zerolinecolor": "white"
           },
           "yaxis": {
            "backgroundcolor": "#E5ECF6",
            "gridcolor": "white",
            "gridwidth": 2,
            "linecolor": "white",
            "showbackground": true,
            "ticks": "",
            "zerolinecolor": "white"
           },
           "zaxis": {
            "backgroundcolor": "#E5ECF6",
            "gridcolor": "white",
            "gridwidth": 2,
            "linecolor": "white",
            "showbackground": true,
            "ticks": "",
            "zerolinecolor": "white"
           }
          },
          "shapedefaults": {
           "line": {
            "color": "#2a3f5f"
           }
          },
          "ternary": {
           "aaxis": {
            "gridcolor": "white",
            "linecolor": "white",
            "ticks": ""
           },
           "baxis": {
            "gridcolor": "white",
            "linecolor": "white",
            "ticks": ""
           },
           "bgcolor": "#E5ECF6",
           "caxis": {
            "gridcolor": "white",
            "linecolor": "white",
            "ticks": ""
           }
          },
          "title": {
           "x": 0.05
          },
          "xaxis": {
           "automargin": true,
           "gridcolor": "white",
           "linecolor": "white",
           "ticks": "",
           "title": {
            "standoff": 15
           },
           "zerolinecolor": "white",
           "zerolinewidth": 2
          },
          "yaxis": {
           "automargin": true,
           "gridcolor": "white",
           "linecolor": "white",
           "ticks": "",
           "title": {
            "standoff": 15
           },
           "zerolinecolor": "white",
           "zerolinewidth": 2
          }
         }
        }
       }
      }
     },
     "metadata": {},
     "output_type": "display_data"
    }
   ],
   "source": [
    "# plot the data to see if there are obvious clusters\n",
    "# countries = data_raw_nfin.index.tolist()\n",
    "fig = px.scatter_3d(x=data_raw_nfin.child_mort, y=data_raw_nfin.life_expec, z=data_raw_nfin.total_fer, opacity=0.7)\n",
    "# fig.update_traces(mode=\"m5arkers\", hovertemplate=data_raw_nfin.country)\n",
    "fig.show()"
   ]
  },
  {
   "cell_type": "code",
   "execution_count": 87,
   "metadata": {},
   "outputs": [
    {
     "data": {
      "text/plain": [
       "array([1, 0, 0, 1, 0, 0, 0, 0, 0, 0, 0, 0, 0, 0, 0, 0, 0, 1, 0, 0, 0, 1,\n",
       "       0, 0, 0, 1, 1, 0, 1, 0, 0, 1, 1, 0, 0, 0, 1, 1, 1, 0, 1, 0, 0, 0,\n",
       "       0, 0, 0, 0, 0, 1, 1, 0, 0, 0, 0, 1, 1, 0, 0, 1, 0, 0, 0, 1, 1, 0,\n",
       "       1, 0, 0, 0, 0, 0, 1, 0, 0, 0, 0, 0, 0, 0, 1, 1, 0, 0, 1, 0, 0, 1,\n",
       "       1, 0, 0, 0, 0, 1, 1, 0, 0, 1, 0, 1, 0, 0, 0, 0, 0, 0, 1, 0, 1, 0,\n",
       "       0, 0, 1, 1, 0, 0, 1, 0, 0, 0, 0, 0, 0, 0, 0, 0, 1, 0, 0, 1, 0, 0,\n",
       "       1, 0, 0, 0, 1, 1, 0, 0, 0, 0, 1, 0, 0, 0, 0, 1, 0, 1, 1, 0, 0, 0,\n",
       "       0, 1, 0, 0, 0, 0, 0, 0, 0, 0, 0, 1, 1])"
      ]
     },
     "execution_count": 87,
     "metadata": {},
     "output_type": "execute_result"
    }
   ],
   "source": [
    "kmeans = KMeans(\n",
    "    init=\"random\",\n",
    "    n_clusters=2,\n",
    "    n_init=10,\n",
    "    max_iter=300)\n",
    "\n",
    "kmeans.fit(data_raw_nfin)\n",
    "kmeans.labels_"
   ]
  }
 ],
 "metadata": {
  "kernelspec": {
   "display_name": "Python 3.9.12 ('base')",
   "language": "python",
   "name": "python3"
  },
  "language_info": {
   "codemirror_mode": {
    "name": "ipython",
    "version": 3
   },
   "file_extension": ".py",
   "mimetype": "text/x-python",
   "name": "python",
   "nbconvert_exporter": "python",
   "pygments_lexer": "ipython3",
   "version": "3.9.12"
  },
  "orig_nbformat": 4,
  "vscode": {
   "interpreter": {
    "hash": "a36494622a8f2f0a56170d0f1e35b8a40e9093374f981681f8a8a0865413df63"
   }
  }
 },
 "nbformat": 4,
 "nbformat_minor": 2
}
