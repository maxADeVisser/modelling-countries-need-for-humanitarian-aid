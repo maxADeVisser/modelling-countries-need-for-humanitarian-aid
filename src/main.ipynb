{
 "cells": [
  {
   "cell_type": "markdown",
   "metadata": {},
   "source": [
    "# Analysis Notebook"
   ]
  },
  {
   "cell_type": "code",
   "execution_count": 111,
   "metadata": {},
   "outputs": [],
   "source": [
    "import pandas as pd  \n",
    "import matplotlib.pyplot as plt\n",
    "import seaborn as sns\n",
    "import numpy as np\n",
    " \n",
    "pd.set_option('display.max_columns', None) # display all columns\n",
    "pd.set_option(\"max_colwidth\", 40) # sets a maximum column width\n",
    "pd.set_option(\"display.precision\", 7) # sets the number of decimals shown\n",
    "pd.set_option(\"styler.format.precision\", 3) # rounds floats\n",
    "\n",
    "df = pd.read_csv('../data/country-data.csv')"
   ]
  },
  {
   "cell_type": "code",
   "execution_count": null,
   "metadata": {},
   "outputs": [],
   "source": [
    "def style_df(df):\n",
    "    \"\"\"Style dataframe\"\"\"\n",
    "    cell_hover = {\n",
    "        'selector': 'td:hover',\n",
    "        'props': [('background-color', '#ffffb3')]\n",
    "    }\n",
    "    row_hover = {\n",
    "        'selector': 'tr:hover',\n",
    "        'props': [('background-color', '#ffffb3')]\n",
    "    }\n",
    "    \n",
    "    numeric_columns = df.select_dtypes(include=['int8','int16','int32','int64', 'float16', 'float32', 'float64']).columns\n",
    "    styler = df.style\n",
    "    \n",
    "    styler\\\n",
    "        .set_caption(\"INSERT CAPTION\")\\\n",
    "        .background_gradient(axis=\"rows\", cmap=\"Blues\", subset=['child_mort', 'exports', 'health', 'imports', 'income', 'life_expec', 'total_fer', 'gdpp'])\\\n",
    "        .set_table_styles([cell_hover, row_hover])\\\n",
    "        .format({\n",
    "            \"exports\": \"{:}%\",\n",
    "            \"health\": \"{:}%\",\n",
    "            \"imports\": \"{:}%\",\n",
    "            })\\\n",
    "        .highlight_max(color=\"red\", subset=numeric_columns)\\\n",
    "        .highlight_min(color=\"lightgreen\", subset=numeric_columns)\\\n",
    "        .bar(subset=[\"inflation\"], align=\"zero\", color=[\"red\", \"lightgreen\"]) # bar chart\n",
    "        #.highlight_quantile(q_left=0.25, q_right=0.75, subset=\"imports\", color=\"red\") # highlight quantiles\n",
    "        #.highlight_between(left=70, right=80, subset=\"life_expec\", color=\"yellow\") # highlight range of values\n",
    "\n",
    "    return styler\n",
    "\n",
    "style_df(df)"
   ]
  },
  {
   "cell_type": "markdown",
   "metadata": {},
   "source": [
    "# DBSCAN Clustering algorithm"
   ]
  },
  {
   "cell_type": "code",
   "execution_count": 107,
   "metadata": {},
   "outputs": [],
   "source": [
    "from sklearn.cluster import DBSCAN\n",
    "from sklearn.neighbors import NearestNeighbors\n",
    "from collections import Counter"
   ]
  },
  {
   "cell_type": "code",
   "execution_count": 117,
   "metadata": {},
   "outputs": [],
   "source": [
    "def DBSCAN_clustering(df: pd.DataFrame, eps: float):\n",
    "    # determine epsilon with NearstNeighbors\n",
    "    min_samples = df.shape[1]*2\n",
    "    nbrs = NearestNeighbors(n_neighbors=min_samples).fit(df)\n",
    "    neigh_dist, neigh_ind = nbrs.kneighbors(df)\n",
    "    sort_neigh_dist = np.sort(neigh_dist, axis=0)\n",
    "    \n",
    "    k_dist = sort_neigh_dist[:, 4]\n",
    "    plt.plot(k_dist)\n",
    "    plt.axhline(y=2.5, linewidth=1, linestyle='dashed', color='k')\n",
    "    plt.ylabel(\"k-NN distance\")\n",
    "    plt.xlabel(\"Sorted observations (4th NN)\")\n",
    "    plt.show()\n",
    "    \n",
    "    clusters = DBSCAN(eps=eps, min_samples=min_samples).fit(df)\n",
    "    labels = clusters.labels_\n",
    "    print(set(labels)) # see unique labels\n",
    "    print(labels) # -1 value represents noisy points could not assigned to any cluster\n",
    "    \n",
    "    print(Counter(labels))\n",
    "    \n",
    "    # Visualise clusters\n",
    "    # p = sns.scatterplot(data=df, x=\"t-SNE-1\", y=\"t-SNE-2\", hue=clusters.labels_, legend=\"full\", palette=\"deep\")\n",
    "    # sns.move_legend(p, \"upper right\", bbox_to_anchor=(1.17, 1.2), title='Clusters')\n",
    "    # plt.show()"
   ]
  },
  {
   "cell_type": "code",
   "execution_count": 119,
   "metadata": {},
   "outputs": [
    {
     "data": {
      "image/png": "[encoded data removed]",
      "text/plain": [
       "<Figure size 640x480 with 1 Axes>"
      ]
     },
     "metadata": {},
     "output_type": "display_data"
    },
    {
     "name": "stdout",
     "output_type": "stream",
     "text": [
      "{0, -1}\n",
      "[ 0  0  0  0  0  0  0 -1 -1  0 -1 -1  0  0  0 -1  0  0  0  0  0  0  0 -1\n",
      "  0  0  0  0  0 -1  0  0  0  0  0  0  0  0  0  0  0  0 -1 -1 -1  0  0  0\n",
      "  0 -1  0  0  0 -1 -1  0  0  0 -1  0 -1  0  0  0  0  0  0  0 -1  0  0  0\n",
      "  0 -1 -1 -1  0 -1  0  0  0  0 -1  0  0  0  0  0  0  0  0 -1  0  0  0  0\n",
      "  0  0 -1  0  0  0  0  0  0  0  0  0  0  0 -1 -1  0  0 -1 -1  0  0  0  0\n",
      "  0  0 -1 -1  0  0  0  0 -1  0  0  0  0 -1  0 -1  0  0 -1 -1  0  0  0  0\n",
      " -1 -1  0  0  0  0  0  0  0  0  0  0  0 -1 -1 -1  0  0  0  0  0  0  0]\n",
      "Counter({0: 128, -1: 39})\n"
     ]
    }
   ],
   "source": [
    "# only cluster on numeric columns\n",
    "numeric_columns = df.select_dtypes(include=['int8','int16','int32','int64', 'float16', 'float32', 'float64'])\n",
    "\n",
    "DBSCAN_clustering(numeric_columns, 7000)\n",
    "\n",
    "#DBSCAN_clustering(df[['child_mort', 'health']], 4)"
   ]
  }
 ],
 "metadata": {
  "kernelspec": {
   "display_name": "Python 3.9.4 64-bit ('stats_exam')",
   "language": "python",
   "name": "python3"
  },
  "language_info": {
   "codemirror_mode": {
    "name": "ipython",
    "version": 3
   },
   "file_extension": ".py",
   "mimetype": "text/x-python",
   "name": "python",
   "nbconvert_exporter": "python",
   "pygments_lexer": "ipython3",
   "version": "3.9.4"
  },
  "orig_nbformat": 4,
  "vscode": {
   "interpreter": {
    "hash": "385d92de6db470fb2e5225f42a78c13f07bd894b7765e30051c00c9f444fadf3"
   }
  }
 },
 "nbformat": 4,
 "nbformat_minor": 2
}
